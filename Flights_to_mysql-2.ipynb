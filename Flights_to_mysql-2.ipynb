{
 "cells": [
  {
   "cell_type": "code",
   "execution_count": 3,
   "id": "7246a57e-88f8-4309-87fe-80ef7247cdf2",
   "metadata": {
    "tags": []
   },
   "outputs": [],
   "source": [
    "import pandas as pd\n",
    "import requests\n",
    "from datetime import datetime, date, timedelta\n",
    "from pytz import timezone"
   ]
  },
  {
   "cell_type": "code",
   "execution_count": 5,
   "id": "f3d2f7ea-4ab8-448e-b856-5b12f44d0fef",
   "metadata": {},
   "outputs": [],
   "source": [
    "host = '127.0.0.1'\n",
    "schema = 'gans_local'\n",
    "user = 'root'\n",
    "password = 'Mysql_key'\n",
    "port = 3306\n",
    "con = f'mysql+pymysql://{user}:{password}@{host}:{port}/{schema}'"
   ]
  },
  {
   "cell_type": "code",
   "execution_count": 24,
   "id": "d93ee1d3-b4f5-4dbd-b08a-11aed0e70867",
   "metadata": {
    "tags": []
   },
   "outputs": [
    {
     "data": {
      "text/html": [
       "<div>\n",
       "<style scoped>\n",
       "    .dataframe tbody tr th:only-of-type {\n",
       "        vertical-align: middle;\n",
       "    }\n",
       "\n",
       "    .dataframe tbody tr th {\n",
       "        vertical-align: top;\n",
       "    }\n",
       "\n",
       "    .dataframe thead th {\n",
       "        text-align: right;\n",
       "    }\n",
       "</style>\n",
       "<table border=\"1\" class=\"dataframe\">\n",
       "  <thead>\n",
       "    <tr style=\"text-align: right;\">\n",
       "      <th></th>\n",
       "      <th>icao</th>\n",
       "      <th>iata</th>\n",
       "      <th>name</th>\n",
       "      <th>shortName</th>\n",
       "      <th>municipalityName</th>\n",
       "      <th>countryCode</th>\n",
       "    </tr>\n",
       "  </thead>\n",
       "  <tbody>\n",
       "    <tr>\n",
       "      <th>0</th>\n",
       "      <td>EDDB</td>\n",
       "      <td>BER</td>\n",
       "      <td>Berlin Brandenburg</td>\n",
       "      <td>Brandenburg</td>\n",
       "      <td>Berlin</td>\n",
       "      <td>DE</td>\n",
       "    </tr>\n",
       "    <tr>\n",
       "      <th>1</th>\n",
       "      <td>EDDH</td>\n",
       "      <td>HAM</td>\n",
       "      <td>Hamburg</td>\n",
       "      <td>Hamburg</td>\n",
       "      <td>Hamburg</td>\n",
       "      <td>DE</td>\n",
       "    </tr>\n",
       "    <tr>\n",
       "      <th>2</th>\n",
       "      <td>EDDW</td>\n",
       "      <td>BRE</td>\n",
       "      <td>Bremen</td>\n",
       "      <td>Bremen</td>\n",
       "      <td>Bremen</td>\n",
       "      <td>DE</td>\n",
       "    </tr>\n",
       "    <tr>\n",
       "      <th>3</th>\n",
       "      <td>EDDM</td>\n",
       "      <td>MUC</td>\n",
       "      <td>Munich</td>\n",
       "      <td>Munich</td>\n",
       "      <td>Munich</td>\n",
       "      <td>DE</td>\n",
       "    </tr>\n",
       "    <tr>\n",
       "      <th>4</th>\n",
       "      <td>EDDK</td>\n",
       "      <td>CGN</td>\n",
       "      <td>Cologne Bonn</td>\n",
       "      <td>Bonn</td>\n",
       "      <td>Cologne</td>\n",
       "      <td>DE</td>\n",
       "    </tr>\n",
       "    <tr>\n",
       "      <th>5</th>\n",
       "      <td>EDDL</td>\n",
       "      <td>DUS</td>\n",
       "      <td>Duesseldorf Düsseldorf</td>\n",
       "      <td>Düsseldorf</td>\n",
       "      <td>Duesseldorf</td>\n",
       "      <td>DE</td>\n",
       "    </tr>\n",
       "    <tr>\n",
       "      <th>6</th>\n",
       "      <td>EDLW</td>\n",
       "      <td>DTM</td>\n",
       "      <td>Dortmund</td>\n",
       "      <td>Dortmund</td>\n",
       "      <td>Dortmund</td>\n",
       "      <td>DE</td>\n",
       "    </tr>\n",
       "    <tr>\n",
       "      <th>7</th>\n",
       "      <td>EDLV</td>\n",
       "      <td>NRN</td>\n",
       "      <td>Weeze Niederrhein</td>\n",
       "      <td>Niederrhein</td>\n",
       "      <td>Weeze</td>\n",
       "      <td>DE</td>\n",
       "    </tr>\n",
       "    <tr>\n",
       "      <th>8</th>\n",
       "      <td>EDDF</td>\n",
       "      <td>FRA</td>\n",
       "      <td>Frankfurt-am-Main</td>\n",
       "      <td>Frankfurt-am-Main</td>\n",
       "      <td>Frankfurt-am-Main</td>\n",
       "      <td>DE</td>\n",
       "    </tr>\n",
       "  </tbody>\n",
       "</table>\n",
       "</div>"
      ],
      "text/plain": [
       "   icao iata                    name          shortName   municipalityName  \\\n",
       "0  EDDB  BER      Berlin Brandenburg        Brandenburg             Berlin   \n",
       "1  EDDH  HAM                Hamburg             Hamburg            Hamburg   \n",
       "2  EDDW  BRE                 Bremen              Bremen             Bremen   \n",
       "3  EDDM  MUC                 Munich              Munich             Munich   \n",
       "4  EDDK  CGN            Cologne Bonn               Bonn            Cologne   \n",
       "5  EDDL  DUS  Duesseldorf Düsseldorf         Düsseldorf        Duesseldorf   \n",
       "6  EDLW  DTM               Dortmund            Dortmund           Dortmund   \n",
       "7  EDLV  NRN       Weeze Niederrhein        Niederrhein              Weeze   \n",
       "8  EDDF  FRA      Frankfurt-am-Main   Frankfurt-am-Main  Frankfurt-am-Main   \n",
       "\n",
       "  countryCode  \n",
       "0          DE  \n",
       "1          DE  \n",
       "2          DE  \n",
       "3          DE  \n",
       "4          DE  \n",
       "5          DE  \n",
       "6          DE  \n",
       "7          DE  \n",
       "8          DE  "
      ]
     },
     "execution_count": 24,
     "metadata": {},
     "output_type": "execute_result"
    }
   ],
   "source": [
    "airports_df = pd.read_csv(\"airport_list.csv\")\n",
    "airports_df"
   ]
  },
  {
   "cell_type": "code",
   "execution_count": 12,
   "id": "5307e788-bf1b-42a3-89af-beaf2df7cdee",
   "metadata": {
    "tags": []
   },
   "outputs": [],
   "source": [
    "querystring = {\"withLeg\":\"false\",\"direction\":\"Arrival\",\"withCancelled\":\"false\",\"withCodeshared\":\"false\",\"withCargo\":\"false\",\"withPrivate\":\"false\",\"withLocation\":\"true\"}\n",
    "headers = {\n",
    "\t\"X-RapidAPI-Key\": \"flights_key\",\n",
    "\t\"X-RapidAPI-Host\": \"aerodatabox.p.rapidapi.com\"\n",
    "}"
   ]
  },
  {
   "cell_type": "code",
   "execution_count": 18,
   "id": "fd08cb57-824f-4be1-8cf3-20ee23667b5c",
   "metadata": {
    "tags": []
   },
   "outputs": [],
   "source": [
    "today = datetime.now().astimezone(timezone('Europe/Berlin')).date()\n",
    "tomorrow = (today + timedelta(days=1))"
   ]
  },
  {
   "cell_type": "code",
   "execution_count": 19,
   "id": "2405a829-159b-425b-89d0-e2e6a5b48c7d",
   "metadata": {
    "tags": []
   },
   "outputs": [],
   "source": [
    "times = [[\"00:00\",\"11:59\"],[\"12:00\",\"23:59\"]]"
   ]
  },
  {
   "cell_type": "code",
   "execution_count": 25,
   "id": "c4474b70-d988-49b9-86b1-0dce55313e92",
   "metadata": {
    "tags": []
   },
   "outputs": [],
   "source": [
    "icao_list = airports_df['icao'].to_list()"
   ]
  },
  {
   "cell_type": "code",
   "execution_count": 26,
   "id": "88156d33-9e84-4ded-b4aa-70e706ebeff9",
   "metadata": {
    "tags": []
   },
   "outputs": [
    {
     "data": {
      "text/plain": [
       "['EDDB', 'EDDH', 'EDDW', 'EDDM', 'EDDK', 'EDDL', 'EDLW', 'EDLV', 'EDDF']"
      ]
     },
     "execution_count": 26,
     "metadata": {},
     "output_type": "execute_result"
    }
   ],
   "source": [
    "icao_list"
   ]
  },
  {
   "cell_type": "code",
   "execution_count": 6,
   "id": "7b1b2b6d-a235-4b0d-a548-79425fce41a3",
   "metadata": {
    "tags": []
   },
   "outputs": [],
   "source": [
    "# Flight Funtion"
   ]
  },
  {
   "cell_type": "code",
   "execution_count": null,
   "id": "2f14908e-5490-4551-ad1c-00c3452b8a71",
   "metadata": {},
   "outputs": [],
   "source": [
    "def flight_function(times, icao_list, tomorrow, headers, querystring, flights_df):\n",
    "    # First loop\n",
    "    for time in times:\n",
    "        for icao in icao_list[1:2]:\n",
    "            url = f\"https://aerodatabox.p.rapidapi.com/flights/airports/icao/{icao}/{tomorrow}T{time[0]}/{tomorrow}T{time[1]}\"\n",
    "            response = requests.request(\"GET\", url, headers=headers, params=querystring)\n",
    "            print(response)\n",
    "            flight_json = response.json()\n",
    "    \n",
    "    # Second loop\n",
    "    for time in times:\n",
    "        for icao in icao_list:\n",
    "            url = f\"https://aerodatabox.p.rapidapi.com/flights/airports/icao/{icao}/{tomorrow}T{time[0]}/{tomorrow}T{time[1]}\"\n",
    "            response = requests.request(\"GET\", url, headers=headers, params=querystring)\n",
    "            print(response)\n",
    "            flight_json = response.json()\n",
    "\n",
    "            for flight in flight_json['flights']:  # Assuming the key 'flights' holds the list of flights in the json response\n",
    "                flights_df['icao_id'].append(icao)\n",
    "                flights_df['arrival_terminal'].append(flight['arrival'].get('terminal'))\n",
    "                scheduled_time = flight['arrival']['scheduledTime'].get('local', None)\n",
    "                revised_time = flight['arrival'].get('revisedTime', {}).get('local', scheduled_time)\n",
    "                flights_df['arrival_local_time'].append(revised_time)\n",
    "                flights_df['arrival_from_where'].append(flight['departure']['airport'].get('name', None))\n",
    "                flights_df[\"flight_number\"].append(flight.get(\"number\", None))\n",
    "                flights_df[\"flight_status\"].append(flight.get(\"status\", None))\n",
    "                aircraft_model = flight.get('aircraft', {}).get('model', None)\n",
    "                flights_df[\"airplane_model\"].append(aircraft_model)\n",
    "                flights_df[\"airline_name\"].append(flight['airline'].get(\"name\", None))\n",
    "                depart_icao = flight['departure']['airport'].get('icao', None)\n",
    "                flights_df[\"depart_icao\"].append(depart_icao)\n",
    "\n",
    "    return flights_df\n",
    "\n",
    "# Usage example:\n",
    "# Assuming all required variables like 'times', 'icao_list', etc. are defined\n",
    "# flights_df = flight_function(times, icao_list, tomorrow, headers, querystring, flights_df)\n"
   ]
  },
  {
   "cell_type": "code",
   "execution_count": 14,
   "id": "a85dfece-7dcf-4d11-874d-f8105387bd4a",
   "metadata": {
    "tags": []
   },
   "outputs": [
    {
     "data": {
      "text/plain": [
       "{'icao_id': [],\n",
       " 'arrival_terminal': [],\n",
       " 'arrival_local_time': [],\n",
       " 'arrival_from_where': [],\n",
       " 'flight_number': [],\n",
       " 'flight_status': [],\n",
       " 'airplane_model': [],\n",
       " 'airline_name': [],\n",
       " 'depart_icao': []}"
      ]
     },
     "execution_count": 14,
     "metadata": {},
     "output_type": "execute_result"
    }
   ],
   "source": [
    "flights_df"
   ]
  },
  {
   "cell_type": "code",
   "execution_count": 15,
   "id": "52ffec72-07f5-4361-b709-a48e5b1c540f",
   "metadata": {
    "collapsed": true,
    "jupyter": {
     "outputs_hidden": true
    },
    "tags": []
   },
   "outputs": [
    {
     "ename": "NameError",
     "evalue": "name 'flights_dict' is not defined",
     "output_type": "error",
     "traceback": [
      "\u001b[0;31m---------------------------------------------------------------------------\u001b[0m",
      "\u001b[0;31mNameError\u001b[0m                                 Traceback (most recent call last)",
      "Cell \u001b[0;32mIn[15], line 1\u001b[0m\n\u001b[0;32m----> 1\u001b[0m flights_df \u001b[38;5;241m=\u001b[39m pd\u001b[38;5;241m.\u001b[39mDataFrame(flights_dict)\n",
      "\u001b[0;31mNameError\u001b[0m: name 'flights_dict' is not defined"
     ]
    }
   ],
   "source": [
    "flights_df = pd.DataFrame(flights_dict)"
   ]
  },
  {
   "cell_type": "code",
   "execution_count": 23,
   "id": "00768d79-55eb-429f-b948-447eb1b06a0c",
   "metadata": {},
   "outputs": [
    {
     "name": "stdout",
     "output_type": "stream",
     "text": [
      "<class 'pandas.core.frame.DataFrame'>\n",
      "RangeIndex: 371 entries, 0 to 370\n",
      "Data columns (total 3 columns):\n",
      " #   Column             Non-Null Count  Dtype \n",
      "---  ------             --------------  ----- \n",
      " 0   ICAO               371 non-null    object\n",
      " 1   departure_airport  371 non-null    object\n",
      " 2   local_time         371 non-null    object\n",
      "dtypes: object(3)\n",
      "memory usage: 8.8+ KB\n"
     ]
    }
   ],
   "source": [
    "flights_df.info()"
   ]
  },
  {
   "cell_type": "code",
   "execution_count": 24,
   "id": "8fa73739-0870-4597-b089-e980c4817cc6",
   "metadata": {},
   "outputs": [],
   "source": [
    "flights_df['local_time'] = pd.to_datetime(flights_df['local_time'])"
   ]
  },
  {
   "cell_type": "code",
   "execution_count": 27,
   "id": "397c155e-7a5e-43ad-af4e-9d3ef369f3cd",
   "metadata": {},
   "outputs": [
    {
     "data": {
      "text/html": [
       "<div>\n",
       "<style scoped>\n",
       "    .dataframe tbody tr th:only-of-type {\n",
       "        vertical-align: middle;\n",
       "    }\n",
       "\n",
       "    .dataframe tbody tr th {\n",
       "        vertical-align: top;\n",
       "    }\n",
       "\n",
       "    .dataframe thead th {\n",
       "        text-align: right;\n",
       "    }\n",
       "</style>\n",
       "<table border=\"1\" class=\"dataframe\">\n",
       "  <thead>\n",
       "    <tr style=\"text-align: right;\">\n",
       "      <th></th>\n",
       "      <th>flight_id</th>\n",
       "      <th>ICAO</th>\n",
       "      <th>departure_airport</th>\n",
       "      <th>local_time</th>\n",
       "    </tr>\n",
       "  </thead>\n",
       "  <tbody>\n",
       "    <tr>\n",
       "      <th>0</th>\n",
       "      <td>1</td>\n",
       "      <td>EGKK</td>\n",
       "      <td>LTAI</td>\n",
       "      <td>2023-10-06 00:55:00</td>\n",
       "    </tr>\n",
       "    <tr>\n",
       "      <th>1</th>\n",
       "      <td>2</td>\n",
       "      <td>EGKK</td>\n",
       "      <td>GCRR</td>\n",
       "      <td>2023-10-06 00:45:00</td>\n",
       "    </tr>\n",
       "    <tr>\n",
       "      <th>2</th>\n",
       "      <td>3</td>\n",
       "      <td>EGKK</td>\n",
       "      <td>LEAL</td>\n",
       "      <td>2023-10-06 00:10:00</td>\n",
       "    </tr>\n",
       "    <tr>\n",
       "      <th>3</th>\n",
       "      <td>4</td>\n",
       "      <td>EGKK</td>\n",
       "      <td>LGKO</td>\n",
       "      <td>2023-10-06 00:05:00</td>\n",
       "    </tr>\n",
       "    <tr>\n",
       "      <th>4</th>\n",
       "      <td>5</td>\n",
       "      <td>EGKK</td>\n",
       "      <td>LTBS</td>\n",
       "      <td>2023-10-06 00:40:00</td>\n",
       "    </tr>\n",
       "    <tr>\n",
       "      <th>...</th>\n",
       "      <td>...</td>\n",
       "      <td>...</td>\n",
       "      <td>...</td>\n",
       "      <td>...</td>\n",
       "    </tr>\n",
       "    <tr>\n",
       "      <th>366</th>\n",
       "      <td>367</td>\n",
       "      <td>EGKK</td>\n",
       "      <td>LEPA</td>\n",
       "      <td>2023-10-06 21:20:00</td>\n",
       "    </tr>\n",
       "    <tr>\n",
       "      <th>367</th>\n",
       "      <td>368</td>\n",
       "      <td>EGKK</td>\n",
       "      <td>LEBL</td>\n",
       "      <td>2023-10-06 21:05:00</td>\n",
       "    </tr>\n",
       "    <tr>\n",
       "      <th>368</th>\n",
       "      <td>369</td>\n",
       "      <td>EGKK</td>\n",
       "      <td>LCLK</td>\n",
       "      <td>2023-10-06 21:15:00</td>\n",
       "    </tr>\n",
       "    <tr>\n",
       "      <th>369</th>\n",
       "      <td>370</td>\n",
       "      <td>EGKK</td>\n",
       "      <td>LEMG</td>\n",
       "      <td>2023-10-06 21:55:00</td>\n",
       "    </tr>\n",
       "    <tr>\n",
       "      <th>370</th>\n",
       "      <td>371</td>\n",
       "      <td>EGKK</td>\n",
       "      <td>unknown</td>\n",
       "      <td>2023-10-06 22:00:00</td>\n",
       "    </tr>\n",
       "  </tbody>\n",
       "</table>\n",
       "<p>371 rows × 4 columns</p>\n",
       "</div>"
      ],
      "text/plain": [
       "     flight_id  ICAO departure_airport          local_time\n",
       "0            1  EGKK              LTAI 2023-10-06 00:55:00\n",
       "1            2  EGKK              GCRR 2023-10-06 00:45:00\n",
       "2            3  EGKK              LEAL 2023-10-06 00:10:00\n",
       "3            4  EGKK              LGKO 2023-10-06 00:05:00\n",
       "4            5  EGKK              LTBS 2023-10-06 00:40:00\n",
       "..         ...   ...               ...                 ...\n",
       "366        367  EGKK              LEPA 2023-10-06 21:20:00\n",
       "367        368  EGKK              LEBL 2023-10-06 21:05:00\n",
       "368        369  EGKK              LCLK 2023-10-06 21:15:00\n",
       "369        370  EGKK              LEMG 2023-10-06 21:55:00\n",
       "370        371  EGKK           unknown 2023-10-06 22:00:00\n",
       "\n",
       "[371 rows x 4 columns]"
      ]
     },
     "execution_count": 27,
     "metadata": {},
     "output_type": "execute_result"
    }
   ],
   "source": [
    "flights_check = pd.read_sql('flights',con=con)\n",
    "flights_check"
   ]
  },
  {
   "cell_type": "code",
   "execution_count": 25,
   "id": "7830ed61-2a9f-4eee-a323-eaf8d2321718",
   "metadata": {},
   "outputs": [
    {
     "name": "stdout",
     "output_type": "stream",
     "text": [
      "<class 'pandas.core.frame.DataFrame'>\n",
      "RangeIndex: 371 entries, 0 to 370\n",
      "Data columns (total 3 columns):\n",
      " #   Column             Non-Null Count  Dtype                               \n",
      "---  ------             --------------  -----                               \n",
      " 0   ICAO               371 non-null    object                              \n",
      " 1   departure_airport  371 non-null    object                              \n",
      " 2   local_time         371 non-null    datetime64[ns, pytz.FixedOffset(60)]\n",
      "dtypes: datetime64[ns, pytz.FixedOffset(60)](1), object(2)\n",
      "memory usage: 8.8+ KB\n"
     ]
    }
   ],
   "source": [
    "flights_df.info()"
   ]
  },
  {
   "cell_type": "code",
   "execution_count": 26,
   "id": "6c815a98-8132-4ba5-b424-49299dc9b337",
   "metadata": {},
   "outputs": [
    {
     "data": {
      "text/plain": [
       "371"
      ]
     },
     "execution_count": 26,
     "metadata": {},
     "output_type": "execute_result"
    }
   ],
   "source": [
    "flights_df.to_sql('flights',con=con,if_exists='append',index=False)"
   ]
  },
  {
   "cell_type": "code",
   "execution_count": 35,
   "id": "6d4d77cb-ec2f-48f9-8473-7093a576da8f",
   "metadata": {
    "collapsed": true,
    "jupyter": {
     "outputs_hidden": true
    },
    "tags": []
   },
   "outputs": [
    {
     "ename": "SyntaxError",
     "evalue": "incomplete input (2630712801.py, line 49)",
     "output_type": "error",
     "traceback": [
      "\u001b[0;36m  Cell \u001b[0;32mIn[35], line 49\u001b[0;36m\u001b[0m\n\u001b[0;31m    flights_df[\"depart_icao\"].append(depart_icao)\u001b[0m\n\u001b[0m                                                 ^\u001b[0m\n\u001b[0;31mSyntaxError\u001b[0m\u001b[0;31m:\u001b[0m incomplete input\n"
     ]
    }
   ],
   "source": [
    "import requests\n",
    "from datetime import datetime, timedelta\n",
    "from pytz import timezone\n",
    "\n",
    "# settings\n",
    "today = datetime.now().astimezone(timezone('Europe/Berlin')).date()\n",
    "tomorrow = (today + timedelta(days=1))\n",
    "times = [[\"00:00\",\"11:59\"],[\"12:00\",\"23:59\"]]\n",
    "\n",
    "# flights_df initialization\n",
    "flights_df = {\n",
    "    'icao_id': [],\n",
    "    'arrival_terminal': [],\n",
    "    'arrival_local_time': [],\n",
    "    'arrival_from_where': [],\n",
    "    'flight_number': [],\n",
    "    'flight_status': [],\n",
    "    'airplane_model': [],\n",
    "    'airline_name': [],\n",
    "    'depart_icao': []\n",
    "}\n",
    "\n",
    "# Looping through times and icao_list\n",
    "for time in times:\n",
    "    for icao in icao_list:\n",
    "        url = f\"https://aerodatabox.p.rapidapi.com/flights/airports/icao/{icao}/{tomorrow}T{time[0]}/{tomorrow}T{time[1]}\"\n",
    "        try:\n",
    "            response = requests.request(\"GET\", url, headers=headers, params=querystring)\n",
    "            response.raise_for_status()  # will raise an HTTPError if the HTTP request returned an unsuccessful status code\n",
    "            flight_json = response.json()\n",
    "            \n",
    "            # Extract flights from flight_json\n",
    "            flights = flight_json.get('data', [])\n",
    "            \n",
    "            # Looping through flights to populate flights_df\n",
    "            for flight in flights:\n",
    "                flights_df['icao_id'].append(icao)\n",
    "                flights_df['arrival_terminal'].append(flight['arrival'].get('terminal'))\n",
    "                scheduled_time = flight['arrival']['scheduledTime'].get('local', None)\n",
    "                revised_time = flight['arrival'].get('revisedTime', {}).get('local', scheduled_time)\n",
    "                flights_df['arrival_local_time'].append(revised_time)\n",
    "                flights_df['arrival_from_where'].append(flight['departure']['airport'].get('name', None))\n",
    "                flights_df[\"flight_number\"].append(flight.get(\"number\", None))\n",
    "                flights_df[\"flight_status\"].append(flight.get(\"status\", None))\n",
    "                aircraft_model = flight.get('aircraft', {}).get('model', None)\n",
    "                flights_df[\"airplane_model\"].append(aircraft_model)\n",
    "                flights_df[\"airline_name\"].append(flight['airline'].get(\"name\", None))\n",
    "                depart_icao = flight['departure']['airport'].get('icao', None)\n",
    "                flights_df[\"depart_icao\"].append(depart_icao)"
   ]
  }
 ],
 "metadata": {
  "kernelspec": {
   "display_name": "Python 3 (ipykernel)",
   "language": "python",
   "name": "python3"
  },
  "language_info": {
   "codemirror_mode": {
    "name": "ipython",
    "version": 3
   },
   "file_extension": ".py",
   "mimetype": "text/x-python",
   "name": "python",
   "nbconvert_exporter": "python",
   "pygments_lexer": "ipython3",
   "version": "3.11.4"
  }
 },
 "nbformat": 4,
 "nbformat_minor": 5
}
