{
 "cells": [
  {
   "cell_type": "code",
   "execution_count": 2,
   "id": "my_id",
   "metadata": {
    "tags": []
   },
   "outputs": [],
   "source": [
    "import pandas as pd\n",
    "import requests\n",
    "from IPython.display import JSON\n",
    "import json\n",
    "import numpy.ma.mrecords as mrecords"
   ]
  },
  {
   "cell_type": "code",
   "execution_count": 3,
   "id": "5f5b0180-b909-4bf2-a790-47f631e18dbf",
   "metadata": {
    "tags": []
   },
   "outputs": [
    {
     "data": {
      "text/html": [
       "<div>\n",
       "<style scoped>\n",
       "    .dataframe tbody tr th:only-of-type {\n",
       "        vertical-align: middle;\n",
       "    }\n",
       "\n",
       "    .dataframe tbody tr th {\n",
       "        vertical-align: top;\n",
       "    }\n",
       "\n",
       "    .dataframe thead th {\n",
       "        text-align: right;\n",
       "    }\n",
       "</style>\n",
       "<table border=\"1\" class=\"dataframe\">\n",
       "  <thead>\n",
       "    <tr style=\"text-align: right;\">\n",
       "      <th></th>\n",
       "      <th>name</th>\n",
       "      <th>latitude</th>\n",
       "      <th>longitude</th>\n",
       "      <th>country</th>\n",
       "      <th>population</th>\n",
       "    </tr>\n",
       "  </thead>\n",
       "  <tbody>\n",
       "    <tr>\n",
       "      <th>0</th>\n",
       "      <td>Berlin</td>\n",
       "      <td>52.5167</td>\n",
       "      <td>13.3833</td>\n",
       "      <td>DE</td>\n",
       "      <td>3644826</td>\n",
       "    </tr>\n",
       "    <tr>\n",
       "      <th>1</th>\n",
       "      <td>Hamburg</td>\n",
       "      <td>53.5500</td>\n",
       "      <td>10.0000</td>\n",
       "      <td>DE</td>\n",
       "      <td>1841179</td>\n",
       "    </tr>\n",
       "    <tr>\n",
       "      <th>2</th>\n",
       "      <td>Munich</td>\n",
       "      <td>48.1372</td>\n",
       "      <td>11.5755</td>\n",
       "      <td>DE</td>\n",
       "      <td>1471508</td>\n",
       "    </tr>\n",
       "    <tr>\n",
       "      <th>3</th>\n",
       "      <td>Cologne</td>\n",
       "      <td>50.9422</td>\n",
       "      <td>6.9578</td>\n",
       "      <td>DE</td>\n",
       "      <td>1085664</td>\n",
       "    </tr>\n",
       "    <tr>\n",
       "      <th>4</th>\n",
       "      <td>Frankfurt</td>\n",
       "      <td>50.1136</td>\n",
       "      <td>8.6797</td>\n",
       "      <td>DE</td>\n",
       "      <td>753056</td>\n",
       "    </tr>\n",
       "  </tbody>\n",
       "</table>\n",
       "</div>"
      ],
      "text/plain": [
       "        name  latitude  longitude country  population\n",
       "0     Berlin   52.5167    13.3833      DE     3644826\n",
       "1    Hamburg   53.5500    10.0000      DE     1841179\n",
       "2     Munich   48.1372    11.5755      DE     1471508\n",
       "3    Cologne   50.9422     6.9578      DE     1085664\n",
       "4  Frankfurt   50.1136     8.6797      DE      753056"
      ]
     },
     "execution_count": 3,
     "metadata": {},
     "output_type": "execute_result"
    }
   ],
   "source": [
    "# Some sample cities. Use your own if you want to\n",
    "cities_df = pd.read_csv('cities.csv')\n",
    "cities_df"
   ]
  },
  {
   "cell_type": "code",
   "execution_count": 4,
   "id": "07074831-13bd-4a6a-b2b1-9015c0b8f626",
   "metadata": {
    "tags": []
   },
   "outputs": [
    {
     "name": "stdout",
     "output_type": "stream",
     "text": [
      "<class 'pandas.core.frame.DataFrame'>\n",
      "RangeIndex: 5 entries, 0 to 4\n",
      "Data columns (total 5 columns):\n",
      " #   Column      Non-Null Count  Dtype  \n",
      "---  ------      --------------  -----  \n",
      " 0   name        5 non-null      object \n",
      " 1   latitude    5 non-null      float64\n",
      " 2   longitude   5 non-null      float64\n",
      " 3   country     5 non-null      object \n",
      " 4   population  5 non-null      int64  \n",
      "dtypes: float64(2), int64(1), object(2)\n",
      "memory usage: 332.0+ bytes\n"
     ]
    }
   ],
   "source": [
    "cities_df.info()"
   ]
  },
  {
   "cell_type": "code",
   "execution_count": 5,
   "id": "6ac53d1f-d8b5-4d79-93b2-3d087fd6a437",
   "metadata": {
    "tags": []
   },
   "outputs": [
    {
     "data": {
      "text/html": [
       "<div>\n",
       "<style scoped>\n",
       "    .dataframe tbody tr th:only-of-type {\n",
       "        vertical-align: middle;\n",
       "    }\n",
       "\n",
       "    .dataframe tbody tr th {\n",
       "        vertical-align: top;\n",
       "    }\n",
       "\n",
       "    .dataframe thead th {\n",
       "        text-align: right;\n",
       "    }\n",
       "</style>\n",
       "<table border=\"1\" class=\"dataframe\">\n",
       "  <thead>\n",
       "    <tr style=\"text-align: right;\">\n",
       "      <th></th>\n",
       "      <th>name</th>\n",
       "      <th>latitude</th>\n",
       "      <th>longitude</th>\n",
       "      <th>country</th>\n",
       "      <th>population</th>\n",
       "      <th>city_id</th>\n",
       "    </tr>\n",
       "  </thead>\n",
       "  <tbody>\n",
       "    <tr>\n",
       "      <th>0</th>\n",
       "      <td>Berlin</td>\n",
       "      <td>52.5167</td>\n",
       "      <td>13.3833</td>\n",
       "      <td>DE</td>\n",
       "      <td>3644826</td>\n",
       "      <td>0</td>\n",
       "    </tr>\n",
       "    <tr>\n",
       "      <th>1</th>\n",
       "      <td>Hamburg</td>\n",
       "      <td>53.5500</td>\n",
       "      <td>10.0000</td>\n",
       "      <td>DE</td>\n",
       "      <td>1841179</td>\n",
       "      <td>1</td>\n",
       "    </tr>\n",
       "    <tr>\n",
       "      <th>2</th>\n",
       "      <td>Munich</td>\n",
       "      <td>48.1372</td>\n",
       "      <td>11.5755</td>\n",
       "      <td>DE</td>\n",
       "      <td>1471508</td>\n",
       "      <td>2</td>\n",
       "    </tr>\n",
       "    <tr>\n",
       "      <th>3</th>\n",
       "      <td>Cologne</td>\n",
       "      <td>50.9422</td>\n",
       "      <td>6.9578</td>\n",
       "      <td>DE</td>\n",
       "      <td>1085664</td>\n",
       "      <td>3</td>\n",
       "    </tr>\n",
       "    <tr>\n",
       "      <th>4</th>\n",
       "      <td>Frankfurt</td>\n",
       "      <td>50.1136</td>\n",
       "      <td>8.6797</td>\n",
       "      <td>DE</td>\n",
       "      <td>753056</td>\n",
       "      <td>4</td>\n",
       "    </tr>\n",
       "  </tbody>\n",
       "</table>\n",
       "</div>"
      ],
      "text/plain": [
       "        name  latitude  longitude country  population  city_id\n",
       "0     Berlin   52.5167    13.3833      DE     3644826        0\n",
       "1    Hamburg   53.5500    10.0000      DE     1841179        1\n",
       "2     Munich   48.1372    11.5755      DE     1471508        2\n",
       "3    Cologne   50.9422     6.9578      DE     1085664        3\n",
       "4  Frankfurt   50.1136     8.6797      DE      753056        4"
      ]
     },
     "execution_count": 5,
     "metadata": {},
     "output_type": "execute_result"
    }
   ],
   "source": [
    "cities_df['city_id'] = cities_df.index\n",
    "cities_df"
   ]
  },
  {
   "cell_type": "markdown",
   "id": "047734a3-042d-4d2c-a7dc-5a6508cb8e26",
   "metadata": {},
   "source": [
    "## Get data for one city first"
   ]
  },
  {
   "cell_type": "markdown",
   "id": "ceb7ca03-d707-4a48-bcf5-1c91c629c166",
   "metadata": {
    "tags": []
   },
   "source": [
    "##### If you don't want to expose your api key in the notebook you can create a \".py\" file where you can have your key(s) stored in a variable(s). Then one can just import it in the notebook and use it without reviealing it. For this notebook the \".py\" file is named \"Keys\" and the variable which contains the OpenWeather api key is called \"OW_API_key\". Then one can just import it in the notebook and use it without reviealing it.\n"
   ]
  },
  {
   "cell_type": "code",
   "execution_count": 6,
   "id": "7bce2a7b-0d87-4f9f-b551-51ed196f38b1",
   "metadata": {
    "tags": []
   },
   "outputs": [],
   "source": [
    "from key import wheather_key as wkey"
   ]
  },
  {
   "cell_type": "code",
   "execution_count": 7,
   "id": "53e2d55b-9b53-4369-92cd-670fd4e37213",
   "metadata": {
    "tags": []
   },
   "outputs": [
    {
     "data": {
      "text/plain": [
       "52.5167"
      ]
     },
     "execution_count": 7,
     "metadata": {},
     "output_type": "execute_result"
    }
   ],
   "source": [
    "cities_df.loc[0, 'latitude']"
   ]
  },
  {
   "cell_type": "markdown",
   "id": "22c9b071-9186-470a-be30-183ea806dc84",
   "metadata": {},
   "source": [
    "#### Using the lat & long in the url"
   ]
  },
  {
   "cell_type": "code",
   "execution_count": 8,
   "id": "f3cc4597-5898-46a9-b3e5-01a82a7173c5",
   "metadata": {
    "tags": []
   },
   "outputs": [],
   "source": [
    "url = f\"http://api.openweathermap.org/data/2.5/forecast?lat={cities_df.loc[0,'latitude']}&lon={cities_df.loc[0,'longitude']}&appid={wkey}&units=metric\""
   ]
  },
  {
   "cell_type": "code",
   "execution_count": 9,
   "id": "8fdf4284-5a7e-4c62-8ac7-6e031ecac837",
   "metadata": {
    "tags": []
   },
   "outputs": [
    {
     "data": {
      "text/plain": [
       "<Response [200]>"
      ]
     },
     "execution_count": 9,
     "metadata": {},
     "output_type": "execute_result"
    }
   ],
   "source": [
    "response = requests.get(url)\n",
    "response"
   ]
  },
  {
   "cell_type": "code",
   "execution_count": 10,
   "id": "62313a08-1bcd-46e7-b1a2-660781dbc046",
   "metadata": {
    "tags": []
   },
   "outputs": [],
   "source": [
    "weather_json = response.json()"
   ]
  },
  {
   "cell_type": "code",
   "execution_count": 11,
   "id": "3effc578-411b-4641-b25b-7566048989ec",
   "metadata": {
    "collapsed": true,
    "jupyter": {
     "outputs_hidden": true
    },
    "tags": []
   },
   "outputs": [
    {
     "data": {
      "text/plain": [
       "{'cod': '200',\n",
       " 'message': 0,\n",
       " 'cnt': 40,\n",
       " 'list': [{'dt': 1696507200,\n",
       "   'main': {'temp': 15.86,\n",
       "    'feels_like': 15.43,\n",
       "    'temp_min': 15.07,\n",
       "    'temp_max': 15.86,\n",
       "    'pressure': 1011,\n",
       "    'sea_level': 1011,\n",
       "    'grnd_level': 1016,\n",
       "    'humidity': 74,\n",
       "    'temp_kf': 0.79},\n",
       "   'weather': [{'id': 500,\n",
       "     'main': 'Rain',\n",
       "     'description': 'light rain',\n",
       "     'icon': '10d'}],\n",
       "   'clouds': {'all': 78},\n",
       "   'wind': {'speed': 4.76, 'deg': 289, 'gust': 10.37},\n",
       "   'visibility': 10000,\n",
       "   'pop': 0.27,\n",
       "   'rain': {'3h': 0.38},\n",
       "   'sys': {'pod': 'd'},\n",
       "   'dt_txt': '2023-10-05 12:00:00'},\n",
       "  {'dt': 1696518000,\n",
       "   'main': {'temp': 15.83,\n",
       "    'feels_like': 15.43,\n",
       "    'temp_min': 15.61,\n",
       "    'temp_max': 15.83,\n",
       "    'pressure': 1016,\n",
       "    'sea_level': 1016,\n",
       "    'grnd_level': 1017,\n",
       "    'humidity': 75,\n",
       "    'temp_kf': 0.22},\n",
       "   'weather': [{'id': 500,\n",
       "     'main': 'Rain',\n",
       "     'description': 'light rain',\n",
       "     'icon': '10d'}],\n",
       "   'clouds': {'all': 91},\n",
       "   'wind': {'speed': 5.37, 'deg': 281, 'gust': 9.36},\n",
       "   'visibility': 10000,\n",
       "   'pop': 0.54,\n",
       "   'rain': {'3h': 0.69},\n",
       "   'sys': {'pod': 'd'},\n",
       "   'dt_txt': '2023-10-05 15:00:00'},\n",
       "  {'dt': 1696528800,\n",
       "   'main': {'temp': 14.54,\n",
       "    'feels_like': 14.03,\n",
       "    'temp_min': 14.54,\n",
       "    'temp_max': 14.54,\n",
       "    'pressure': 1022,\n",
       "    'sea_level': 1022,\n",
       "    'grnd_level': 1018,\n",
       "    'humidity': 76,\n",
       "    'temp_kf': 0},\n",
       "   'weather': [{'id': 500,\n",
       "     'main': 'Rain',\n",
       "     'description': 'light rain',\n",
       "     'icon': '10n'}],\n",
       "   'clouds': {'all': 98},\n",
       "   'wind': {'speed': 3.78, 'deg': 268, 'gust': 8.21},\n",
       "   'visibility': 10000,\n",
       "   'pop': 0.32,\n",
       "   'rain': {'3h': 0.15},\n",
       "   'sys': {'pod': 'n'},\n",
       "   'dt_txt': '2023-10-05 18:00:00'},\n",
       "  {'dt': 1696539600,\n",
       "   'main': {'temp': 13.11,\n",
       "    'feels_like': 12.83,\n",
       "    'temp_min': 13.11,\n",
       "    'temp_max': 13.11,\n",
       "    'pressure': 1023,\n",
       "    'sea_level': 1023,\n",
       "    'grnd_level': 1019,\n",
       "    'humidity': 90,\n",
       "    'temp_kf': 0},\n",
       "   'weather': [{'id': 804,\n",
       "     'main': 'Clouds',\n",
       "     'description': 'overcast clouds',\n",
       "     'icon': '04n'}],\n",
       "   'clouds': {'all': 100},\n",
       "   'wind': {'speed': 2.86, 'deg': 258, 'gust': 7.53},\n",
       "   'visibility': 10000,\n",
       "   'pop': 0.19,\n",
       "   'sys': {'pod': 'n'},\n",
       "   'dt_txt': '2023-10-05 21:00:00'},\n",
       "  {'dt': 1696550400,\n",
       "   'main': {'temp': 12.87,\n",
       "    'feels_like': 12.64,\n",
       "    'temp_min': 12.87,\n",
       "    'temp_max': 12.87,\n",
       "    'pressure': 1024,\n",
       "    'sea_level': 1024,\n",
       "    'grnd_level': 1019,\n",
       "    'humidity': 93,\n",
       "    'temp_kf': 0},\n",
       "   'weather': [{'id': 804,\n",
       "     'main': 'Clouds',\n",
       "     'description': 'overcast clouds',\n",
       "     'icon': '04n'}],\n",
       "   'clouds': {'all': 100},\n",
       "   'wind': {'speed': 2.7, 'deg': 257, 'gust': 7.16},\n",
       "   'visibility': 10000,\n",
       "   'pop': 0.09,\n",
       "   'sys': {'pod': 'n'},\n",
       "   'dt_txt': '2023-10-06 00:00:00'},\n",
       "  {'dt': 1696561200,\n",
       "   'main': {'temp': 12.96,\n",
       "    'feels_like': 12.66,\n",
       "    'temp_min': 12.96,\n",
       "    'temp_max': 12.96,\n",
       "    'pressure': 1024,\n",
       "    'sea_level': 1024,\n",
       "    'grnd_level': 1019,\n",
       "    'humidity': 90,\n",
       "    'temp_kf': 0},\n",
       "   'weather': [{'id': 804,\n",
       "     'main': 'Clouds',\n",
       "     'description': 'overcast clouds',\n",
       "     'icon': '04n'}],\n",
       "   'clouds': {'all': 100},\n",
       "   'wind': {'speed': 2.67, 'deg': 246, 'gust': 7.48},\n",
       "   'visibility': 10000,\n",
       "   'pop': 0,\n",
       "   'sys': {'pod': 'n'},\n",
       "   'dt_txt': '2023-10-06 03:00:00'},\n",
       "  {'dt': 1696572000,\n",
       "   'main': {'temp': 12.33,\n",
       "    'feels_like': 11.92,\n",
       "    'temp_min': 12.33,\n",
       "    'temp_max': 12.33,\n",
       "    'pressure': 1024,\n",
       "    'sea_level': 1024,\n",
       "    'grnd_level': 1020,\n",
       "    'humidity': 88,\n",
       "    'temp_kf': 0},\n",
       "   'weather': [{'id': 804,\n",
       "     'main': 'Clouds',\n",
       "     'description': 'overcast clouds',\n",
       "     'icon': '04d'}],\n",
       "   'clouds': {'all': 88},\n",
       "   'wind': {'speed': 3.03, 'deg': 237, 'gust': 8.14},\n",
       "   'visibility': 10000,\n",
       "   'pop': 0,\n",
       "   'sys': {'pod': 'd'},\n",
       "   'dt_txt': '2023-10-06 06:00:00'},\n",
       "  {'dt': 1696582800,\n",
       "   'main': {'temp': 16.7,\n",
       "    'feels_like': 16.02,\n",
       "    'temp_min': 16.7,\n",
       "    'temp_max': 16.7,\n",
       "    'pressure': 1024,\n",
       "    'sea_level': 1024,\n",
       "    'grnd_level': 1019,\n",
       "    'humidity': 61,\n",
       "    'temp_kf': 0},\n",
       "   'weather': [{'id': 803,\n",
       "     'main': 'Clouds',\n",
       "     'description': 'broken clouds',\n",
       "     'icon': '04d'}],\n",
       "   'clouds': {'all': 67},\n",
       "   'wind': {'speed': 5, 'deg': 233, 'gust': 8.87},\n",
       "   'visibility': 10000,\n",
       "   'pop': 0,\n",
       "   'sys': {'pod': 'd'},\n",
       "   'dt_txt': '2023-10-06 09:00:00'},\n",
       "  {'dt': 1696593600,\n",
       "   'main': {'temp': 19.73,\n",
       "    'feels_like': 18.96,\n",
       "    'temp_min': 19.73,\n",
       "    'temp_max': 19.73,\n",
       "    'pressure': 1022,\n",
       "    'sea_level': 1022,\n",
       "    'grnd_level': 1017,\n",
       "    'humidity': 46,\n",
       "    'temp_kf': 0},\n",
       "   'weather': [{'id': 803,\n",
       "     'main': 'Clouds',\n",
       "     'description': 'broken clouds',\n",
       "     'icon': '04d'}],\n",
       "   'clouds': {'all': 74},\n",
       "   'wind': {'speed': 5.91, 'deg': 242, 'gust': 8.56},\n",
       "   'visibility': 10000,\n",
       "   'pop': 0,\n",
       "   'sys': {'pod': 'd'},\n",
       "   'dt_txt': '2023-10-06 12:00:00'},\n",
       "  {'dt': 1696604400,\n",
       "   'main': {'temp': 18.28,\n",
       "    'feels_like': 17.52,\n",
       "    'temp_min': 18.28,\n",
       "    'temp_max': 18.28,\n",
       "    'pressure': 1020,\n",
       "    'sea_level': 1020,\n",
       "    'grnd_level': 1016,\n",
       "    'humidity': 52,\n",
       "    'temp_kf': 0},\n",
       "   'weather': [{'id': 804,\n",
       "     'main': 'Clouds',\n",
       "     'description': 'overcast clouds',\n",
       "     'icon': '04d'}],\n",
       "   'clouds': {'all': 100},\n",
       "   'wind': {'speed': 5.38, 'deg': 258, 'gust': 10.71},\n",
       "   'visibility': 10000,\n",
       "   'pop': 0,\n",
       "   'sys': {'pod': 'd'},\n",
       "   'dt_txt': '2023-10-06 15:00:00'},\n",
       "  {'dt': 1696615200,\n",
       "   'main': {'temp': 17.57,\n",
       "    'feels_like': 16.82,\n",
       "    'temp_min': 17.57,\n",
       "    'temp_max': 17.57,\n",
       "    'pressure': 1019,\n",
       "    'sea_level': 1019,\n",
       "    'grnd_level': 1014,\n",
       "    'humidity': 55,\n",
       "    'temp_kf': 0},\n",
       "   'weather': [{'id': 804,\n",
       "     'main': 'Clouds',\n",
       "     'description': 'overcast clouds',\n",
       "     'icon': '04n'}],\n",
       "   'clouds': {'all': 100},\n",
       "   'wind': {'speed': 5.61, 'deg': 240, 'gust': 12.8},\n",
       "   'visibility': 10000,\n",
       "   'pop': 0,\n",
       "   'sys': {'pod': 'n'},\n",
       "   'dt_txt': '2023-10-06 18:00:00'},\n",
       "  {'dt': 1696626000,\n",
       "   'main': {'temp': 16.39,\n",
       "    'feels_like': 15.7,\n",
       "    'temp_min': 16.39,\n",
       "    'temp_max': 16.39,\n",
       "    'pressure': 1018,\n",
       "    'sea_level': 1018,\n",
       "    'grnd_level': 1013,\n",
       "    'humidity': 62,\n",
       "    'temp_kf': 0},\n",
       "   'weather': [{'id': 500,\n",
       "     'main': 'Rain',\n",
       "     'description': 'light rain',\n",
       "     'icon': '10n'}],\n",
       "   'clouds': {'all': 100},\n",
       "   'wind': {'speed': 5.8, 'deg': 248, 'gust': 14.55},\n",
       "   'visibility': 10000,\n",
       "   'pop': 0.61,\n",
       "   'rain': {'3h': 0.48},\n",
       "   'sys': {'pod': 'n'},\n",
       "   'dt_txt': '2023-10-06 21:00:00'},\n",
       "  {'dt': 1696636800,\n",
       "   'main': {'temp': 16.76,\n",
       "    'feels_like': 16.03,\n",
       "    'temp_min': 16.76,\n",
       "    'temp_max': 16.76,\n",
       "    'pressure': 1016,\n",
       "    'sea_level': 1016,\n",
       "    'grnd_level': 1012,\n",
       "    'humidity': 59,\n",
       "    'temp_kf': 0},\n",
       "   'weather': [{'id': 804,\n",
       "     'main': 'Clouds',\n",
       "     'description': 'overcast clouds',\n",
       "     'icon': '04n'}],\n",
       "   'clouds': {'all': 100},\n",
       "   'wind': {'speed': 6.51, 'deg': 249, 'gust': 14.75},\n",
       "   'visibility': 10000,\n",
       "   'pop': 0.31,\n",
       "   'sys': {'pod': 'n'},\n",
       "   'dt_txt': '2023-10-07 00:00:00'},\n",
       "  {'dt': 1696647600,\n",
       "   'main': {'temp': 16.53,\n",
       "    'feels_like': 15.86,\n",
       "    'temp_min': 16.53,\n",
       "    'temp_max': 16.53,\n",
       "    'pressure': 1014,\n",
       "    'sea_level': 1014,\n",
       "    'grnd_level': 1010,\n",
       "    'humidity': 62,\n",
       "    'temp_kf': 0},\n",
       "   'weather': [{'id': 804,\n",
       "     'main': 'Clouds',\n",
       "     'description': 'overcast clouds',\n",
       "     'icon': '04n'}],\n",
       "   'clouds': {'all': 100},\n",
       "   'wind': {'speed': 7.25, 'deg': 249, 'gust': 16.34},\n",
       "   'visibility': 10000,\n",
       "   'pop': 0,\n",
       "   'sys': {'pod': 'n'},\n",
       "   'dt_txt': '2023-10-07 03:00:00'},\n",
       "  {'dt': 1696658400,\n",
       "   'main': {'temp': 16.6,\n",
       "    'feels_like': 16.04,\n",
       "    'temp_min': 16.6,\n",
       "    'temp_max': 16.6,\n",
       "    'pressure': 1013,\n",
       "    'sea_level': 1013,\n",
       "    'grnd_level': 1009,\n",
       "    'humidity': 66,\n",
       "    'temp_kf': 0},\n",
       "   'weather': [{'id': 804,\n",
       "     'main': 'Clouds',\n",
       "     'description': 'overcast clouds',\n",
       "     'icon': '04d'}],\n",
       "   'clouds': {'all': 100},\n",
       "   'wind': {'speed': 7.14, 'deg': 254, 'gust': 16.58},\n",
       "   'visibility': 10000,\n",
       "   'pop': 0,\n",
       "   'sys': {'pod': 'd'},\n",
       "   'dt_txt': '2023-10-07 06:00:00'},\n",
       "  {'dt': 1696669200,\n",
       "   'main': {'temp': 16.8,\n",
       "    'feels_like': 16.13,\n",
       "    'temp_min': 16.8,\n",
       "    'temp_max': 16.8,\n",
       "    'pressure': 1013,\n",
       "    'sea_level': 1013,\n",
       "    'grnd_level': 1009,\n",
       "    'humidity': 61,\n",
       "    'temp_kf': 0},\n",
       "   'weather': [{'id': 500,\n",
       "     'main': 'Rain',\n",
       "     'description': 'light rain',\n",
       "     'icon': '10d'}],\n",
       "   'clouds': {'all': 100},\n",
       "   'wind': {'speed': 7.23, 'deg': 258, 'gust': 14.4},\n",
       "   'visibility': 10000,\n",
       "   'pop': 0.2,\n",
       "   'rain': {'3h': 0.13},\n",
       "   'sys': {'pod': 'd'},\n",
       "   'dt_txt': '2023-10-07 09:00:00'},\n",
       "  {'dt': 1696680000,\n",
       "   'main': {'temp': 17.88,\n",
       "    'feels_like': 17.39,\n",
       "    'temp_min': 17.88,\n",
       "    'temp_max': 17.88,\n",
       "    'pressure': 1012,\n",
       "    'sea_level': 1012,\n",
       "    'grnd_level': 1008,\n",
       "    'humidity': 64,\n",
       "    'temp_kf': 0},\n",
       "   'weather': [{'id': 804,\n",
       "     'main': 'Clouds',\n",
       "     'description': 'overcast clouds',\n",
       "     'icon': '04d'}],\n",
       "   'clouds': {'all': 100},\n",
       "   'wind': {'speed': 7.7, 'deg': 262, 'gust': 13.38},\n",
       "   'visibility': 10000,\n",
       "   'pop': 0,\n",
       "   'sys': {'pod': 'd'},\n",
       "   'dt_txt': '2023-10-07 12:00:00'},\n",
       "  {'dt': 1696690800,\n",
       "   'main': {'temp': 16.75,\n",
       "    'feels_like': 16.36,\n",
       "    'temp_min': 16.75,\n",
       "    'temp_max': 16.75,\n",
       "    'pressure': 1012,\n",
       "    'sea_level': 1012,\n",
       "    'grnd_level': 1007,\n",
       "    'humidity': 72,\n",
       "    'temp_kf': 0},\n",
       "   'weather': [{'id': 804,\n",
       "     'main': 'Clouds',\n",
       "     'description': 'overcast clouds',\n",
       "     'icon': '04d'}],\n",
       "   'clouds': {'all': 100},\n",
       "   'wind': {'speed': 7.69, 'deg': 261, 'gust': 15.39},\n",
       "   'visibility': 10000,\n",
       "   'pop': 0.01,\n",
       "   'sys': {'pod': 'd'},\n",
       "   'dt_txt': '2023-10-07 15:00:00'},\n",
       "  {'dt': 1696701600,\n",
       "   'main': {'temp': 16.58,\n",
       "    'feels_like': 16.51,\n",
       "    'temp_min': 16.58,\n",
       "    'temp_max': 16.58,\n",
       "    'pressure': 1010,\n",
       "    'sea_level': 1010,\n",
       "    'grnd_level': 1005,\n",
       "    'humidity': 85,\n",
       "    'temp_kf': 0},\n",
       "   'weather': [{'id': 500,\n",
       "     'main': 'Rain',\n",
       "     'description': 'light rain',\n",
       "     'icon': '10n'}],\n",
       "   'clouds': {'all': 100},\n",
       "   'wind': {'speed': 5.91, 'deg': 289, 'gust': 14.02},\n",
       "   'visibility': 6581,\n",
       "   'pop': 0.61,\n",
       "   'rain': {'3h': 1.44},\n",
       "   'sys': {'pod': 'n'},\n",
       "   'dt_txt': '2023-10-07 18:00:00'},\n",
       "  {'dt': 1696712400,\n",
       "   'main': {'temp': 11.47,\n",
       "    'feels_like': 10.89,\n",
       "    'temp_min': 11.47,\n",
       "    'temp_max': 11.47,\n",
       "    'pressure': 1013,\n",
       "    'sea_level': 1013,\n",
       "    'grnd_level': 1009,\n",
       "    'humidity': 85,\n",
       "    'temp_kf': 0},\n",
       "   'weather': [{'id': 501,\n",
       "     'main': 'Rain',\n",
       "     'description': 'moderate rain',\n",
       "     'icon': '10n'}],\n",
       "   'clouds': {'all': 100},\n",
       "   'wind': {'speed': 5.47, 'deg': 321, 'gust': 11.34},\n",
       "   'visibility': 10000,\n",
       "   'pop': 1,\n",
       "   'rain': {'3h': 5.73},\n",
       "   'sys': {'pod': 'n'},\n",
       "   'dt_txt': '2023-10-07 21:00:00'},\n",
       "  {'dt': 1696723200,\n",
       "   'main': {'temp': 10.47,\n",
       "    'feels_like': 9.69,\n",
       "    'temp_min': 10.47,\n",
       "    'temp_max': 10.47,\n",
       "    'pressure': 1016,\n",
       "    'sea_level': 1016,\n",
       "    'grnd_level': 1011,\n",
       "    'humidity': 81,\n",
       "    'temp_kf': 0},\n",
       "   'weather': [{'id': 500,\n",
       "     'main': 'Rain',\n",
       "     'description': 'light rain',\n",
       "     'icon': '10n'}],\n",
       "   'clouds': {'all': 100},\n",
       "   'wind': {'speed': 6.16, 'deg': 299, 'gust': 12.65},\n",
       "   'visibility': 10000,\n",
       "   'pop': 1,\n",
       "   'rain': {'3h': 1.28},\n",
       "   'sys': {'pod': 'n'},\n",
       "   'dt_txt': '2023-10-08 00:00:00'},\n",
       "  {'dt': 1696734000,\n",
       "   'main': {'temp': 8.5,\n",
       "    'feels_like': 5.17,\n",
       "    'temp_min': 8.5,\n",
       "    'temp_max': 8.5,\n",
       "    'pressure': 1019,\n",
       "    'sea_level': 1019,\n",
       "    'grnd_level': 1014,\n",
       "    'humidity': 73,\n",
       "    'temp_kf': 0},\n",
       "   'weather': [{'id': 802,\n",
       "     'main': 'Clouds',\n",
       "     'description': 'scattered clouds',\n",
       "     'icon': '03n'}],\n",
       "   'clouds': {'all': 42},\n",
       "   'wind': {'speed': 6.51, 'deg': 299, 'gust': 12.44},\n",
       "   'visibility': 10000,\n",
       "   'pop': 0,\n",
       "   'sys': {'pod': 'n'},\n",
       "   'dt_txt': '2023-10-08 03:00:00'},\n",
       "  {'dt': 1696744800,\n",
       "   'main': {'temp': 7.79,\n",
       "    'feels_like': 5.05,\n",
       "    'temp_min': 7.79,\n",
       "    'temp_max': 7.79,\n",
       "    'pressure': 1023,\n",
       "    'sea_level': 1023,\n",
       "    'grnd_level': 1018,\n",
       "    'humidity': 78,\n",
       "    'temp_kf': 0},\n",
       "   'weather': [{'id': 500,\n",
       "     'main': 'Rain',\n",
       "     'description': 'light rain',\n",
       "     'icon': '10d'}],\n",
       "   'clouds': {'all': 55},\n",
       "   'wind': {'speed': 4.5, 'deg': 308, 'gust': 8.93},\n",
       "   'visibility': 10000,\n",
       "   'pop': 0.2,\n",
       "   'rain': {'3h': 0.12},\n",
       "   'sys': {'pod': 'd'},\n",
       "   'dt_txt': '2023-10-08 06:00:00'},\n",
       "  {'dt': 1696755600,\n",
       "   'main': {'temp': 11.23,\n",
       "    'feels_like': 9.61,\n",
       "    'temp_min': 11.23,\n",
       "    'temp_max': 11.23,\n",
       "    'pressure': 1026,\n",
       "    'sea_level': 1026,\n",
       "    'grnd_level': 1022,\n",
       "    'humidity': 46,\n",
       "    'temp_kf': 0},\n",
       "   'weather': [{'id': 800,\n",
       "     'main': 'Clear',\n",
       "     'description': 'clear sky',\n",
       "     'icon': '01d'}],\n",
       "   'clouds': {'all': 3},\n",
       "   'wind': {'speed': 4.86, 'deg': 331, 'gust': 8.08},\n",
       "   'visibility': 10000,\n",
       "   'pop': 0,\n",
       "   'sys': {'pod': 'd'},\n",
       "   'dt_txt': '2023-10-08 09:00:00'},\n",
       "  {'dt': 1696766400,\n",
       "   'main': {'temp': 13.29,\n",
       "    'feels_like': 11.61,\n",
       "    'temp_min': 13.29,\n",
       "    'temp_max': 13.29,\n",
       "    'pressure': 1028,\n",
       "    'sea_level': 1028,\n",
       "    'grnd_level': 1023,\n",
       "    'humidity': 36,\n",
       "    'temp_kf': 0},\n",
       "   'weather': [{'id': 801,\n",
       "     'main': 'Clouds',\n",
       "     'description': 'few clouds',\n",
       "     'icon': '02d'}],\n",
       "   'clouds': {'all': 19},\n",
       "   'wind': {'speed': 4.64, 'deg': 321, 'gust': 7.31},\n",
       "   'visibility': 10000,\n",
       "   'pop': 0,\n",
       "   'sys': {'pod': 'd'},\n",
       "   'dt_txt': '2023-10-08 12:00:00'},\n",
       "  {'dt': 1696777200,\n",
       "   'main': {'temp': 12.6,\n",
       "    'feels_like': 11.06,\n",
       "    'temp_min': 12.6,\n",
       "    'temp_max': 12.6,\n",
       "    'pressure': 1029,\n",
       "    'sea_level': 1029,\n",
       "    'grnd_level': 1024,\n",
       "    'humidity': 44,\n",
       "    'temp_kf': 0},\n",
       "   'weather': [{'id': 804,\n",
       "     'main': 'Clouds',\n",
       "     'description': 'overcast clouds',\n",
       "     'icon': '04d'}],\n",
       "   'clouds': {'all': 92},\n",
       "   'wind': {'speed': 4.09, 'deg': 305, 'gust': 6.39},\n",
       "   'visibility': 10000,\n",
       "   'pop': 0,\n",
       "   'sys': {'pod': 'd'},\n",
       "   'dt_txt': '2023-10-08 15:00:00'},\n",
       "  {'dt': 1696788000,\n",
       "   'main': {'temp': 10.62,\n",
       "    'feels_like': 9.07,\n",
       "    'temp_min': 10.62,\n",
       "    'temp_max': 10.62,\n",
       "    'pressure': 1029,\n",
       "    'sea_level': 1029,\n",
       "    'grnd_level': 1025,\n",
       "    'humidity': 51,\n",
       "    'temp_kf': 0},\n",
       "   'weather': [{'id': 804,\n",
       "     'main': 'Clouds',\n",
       "     'description': 'overcast clouds',\n",
       "     'icon': '04n'}],\n",
       "   'clouds': {'all': 86},\n",
       "   'wind': {'speed': 1.86, 'deg': 298, 'gust': 4.48},\n",
       "   'visibility': 10000,\n",
       "   'pop': 0,\n",
       "   'sys': {'pod': 'n'},\n",
       "   'dt_txt': '2023-10-08 18:00:00'},\n",
       "  {'dt': 1696798800,\n",
       "   'main': {'temp': 8.89,\n",
       "    'feels_like': 8.09,\n",
       "    'temp_min': 8.89,\n",
       "    'temp_max': 8.89,\n",
       "    'pressure': 1030,\n",
       "    'sea_level': 1030,\n",
       "    'grnd_level': 1026,\n",
       "    'humidity': 54,\n",
       "    'temp_kf': 0},\n",
       "   'weather': [{'id': 802,\n",
       "     'main': 'Clouds',\n",
       "     'description': 'scattered clouds',\n",
       "     'icon': '03n'}],\n",
       "   'clouds': {'all': 45},\n",
       "   'wind': {'speed': 1.79, 'deg': 321, 'gust': 2.9},\n",
       "   'visibility': 10000,\n",
       "   'pop': 0,\n",
       "   'sys': {'pod': 'n'},\n",
       "   'dt_txt': '2023-10-08 21:00:00'},\n",
       "  {'dt': 1696809600,\n",
       "   'main': {'temp': 7.91,\n",
       "    'feels_like': 6.82,\n",
       "    'temp_min': 7.91,\n",
       "    'temp_max': 7.91,\n",
       "    'pressure': 1030,\n",
       "    'sea_level': 1030,\n",
       "    'grnd_level': 1025,\n",
       "    'humidity': 56,\n",
       "    'temp_kf': 0},\n",
       "   'weather': [{'id': 802,\n",
       "     'main': 'Clouds',\n",
       "     'description': 'scattered clouds',\n",
       "     'icon': '03n'}],\n",
       "   'clouds': {'all': 27},\n",
       "   'wind': {'speed': 1.93, 'deg': 262, 'gust': 3.12},\n",
       "   'visibility': 10000,\n",
       "   'pop': 0,\n",
       "   'sys': {'pod': 'n'},\n",
       "   'dt_txt': '2023-10-09 00:00:00'},\n",
       "  {'dt': 1696820400,\n",
       "   'main': {'temp': 6.45,\n",
       "    'feels_like': 4.19,\n",
       "    'temp_min': 6.45,\n",
       "    'temp_max': 6.45,\n",
       "    'pressure': 1029,\n",
       "    'sea_level': 1029,\n",
       "    'grnd_level': 1025,\n",
       "    'humidity': 69,\n",
       "    'temp_kf': 0},\n",
       "   'weather': [{'id': 802,\n",
       "     'main': 'Clouds',\n",
       "     'description': 'scattered clouds',\n",
       "     'icon': '03n'}],\n",
       "   'clouds': {'all': 40},\n",
       "   'wind': {'speed': 3.08, 'deg': 274, 'gust': 6.89},\n",
       "   'visibility': 10000,\n",
       "   'pop': 0,\n",
       "   'sys': {'pod': 'n'},\n",
       "   'dt_txt': '2023-10-09 03:00:00'},\n",
       "  {'dt': 1696831200,\n",
       "   'main': {'temp': 6.5,\n",
       "    'feels_like': 4.38,\n",
       "    'temp_min': 6.5,\n",
       "    'temp_max': 6.5,\n",
       "    'pressure': 1028,\n",
       "    'sea_level': 1028,\n",
       "    'grnd_level': 1024,\n",
       "    'humidity': 71,\n",
       "    'temp_kf': 0},\n",
       "   'weather': [{'id': 803,\n",
       "     'main': 'Clouds',\n",
       "     'description': 'broken clouds',\n",
       "     'icon': '04d'}],\n",
       "   'clouds': {'all': 70},\n",
       "   'wind': {'speed': 2.89, 'deg': 260, 'gust': 6.29},\n",
       "   'visibility': 10000,\n",
       "   'pop': 0,\n",
       "   'sys': {'pod': 'd'},\n",
       "   'dt_txt': '2023-10-09 06:00:00'},\n",
       "  {'dt': 1696842000,\n",
       "   'main': {'temp': 10.15,\n",
       "    'feels_like': 8.71,\n",
       "    'temp_min': 10.15,\n",
       "    'temp_max': 10.15,\n",
       "    'pressure': 1028,\n",
       "    'sea_level': 1028,\n",
       "    'grnd_level': 1023,\n",
       "    'humidity': 57,\n",
       "    'temp_kf': 0},\n",
       "   'weather': [{'id': 804,\n",
       "     'main': 'Clouds',\n",
       "     'description': 'overcast clouds',\n",
       "     'icon': '04d'}],\n",
       "   'clouds': {'all': 100},\n",
       "   'wind': {'speed': 4.17, 'deg': 261, 'gust': 7.83},\n",
       "   'visibility': 10000,\n",
       "   'pop': 0,\n",
       "   'sys': {'pod': 'd'},\n",
       "   'dt_txt': '2023-10-09 09:00:00'},\n",
       "  {'dt': 1696852800,\n",
       "   'main': {'temp': 12.54,\n",
       "    'feels_like': 11.13,\n",
       "    'temp_min': 12.54,\n",
       "    'temp_max': 12.54,\n",
       "    'pressure': 1026,\n",
       "    'sea_level': 1026,\n",
       "    'grnd_level': 1021,\n",
       "    'humidity': 49,\n",
       "    'temp_kf': 0},\n",
       "   'weather': [{'id': 804,\n",
       "     'main': 'Clouds',\n",
       "     'description': 'overcast clouds',\n",
       "     'icon': '04d'}],\n",
       "   'clouds': {'all': 100},\n",
       "   'wind': {'speed': 4.32, 'deg': 257, 'gust': 5.78},\n",
       "   'visibility': 10000,\n",
       "   'pop': 0,\n",
       "   'sys': {'pod': 'd'},\n",
       "   'dt_txt': '2023-10-09 12:00:00'},\n",
       "  {'dt': 1696863600,\n",
       "   'main': {'temp': 12,\n",
       "    'feels_like': 10.56,\n",
       "    'temp_min': 12,\n",
       "    'temp_max': 12,\n",
       "    'pressure': 1023,\n",
       "    'sea_level': 1023,\n",
       "    'grnd_level': 1018,\n",
       "    'humidity': 50,\n",
       "    'temp_kf': 0},\n",
       "   'weather': [{'id': 804,\n",
       "     'main': 'Clouds',\n",
       "     'description': 'overcast clouds',\n",
       "     'icon': '04d'}],\n",
       "   'clouds': {'all': 100},\n",
       "   'wind': {'speed': 3.55, 'deg': 248, 'gust': 6.35},\n",
       "   'visibility': 10000,\n",
       "   'pop': 0,\n",
       "   'sys': {'pod': 'd'},\n",
       "   'dt_txt': '2023-10-09 15:00:00'},\n",
       "  {'dt': 1696874400,\n",
       "   'main': {'temp': 10.79,\n",
       "    'feels_like': 9.33,\n",
       "    'temp_min': 10.79,\n",
       "    'temp_max': 10.79,\n",
       "    'pressure': 1021,\n",
       "    'sea_level': 1021,\n",
       "    'grnd_level': 1016,\n",
       "    'humidity': 54,\n",
       "    'temp_kf': 0},\n",
       "   'weather': [{'id': 804,\n",
       "     'main': 'Clouds',\n",
       "     'description': 'overcast clouds',\n",
       "     'icon': '04n'}],\n",
       "   'clouds': {'all': 100},\n",
       "   'wind': {'speed': 4.57, 'deg': 239, 'gust': 8.33},\n",
       "   'visibility': 10000,\n",
       "   'pop': 0,\n",
       "   'sys': {'pod': 'n'},\n",
       "   'dt_txt': '2023-10-09 18:00:00'},\n",
       "  {'dt': 1696885200,\n",
       "   'main': {'temp': 8.73,\n",
       "    'feels_like': 5.98,\n",
       "    'temp_min': 8.73,\n",
       "    'temp_max': 8.73,\n",
       "    'pressure': 1018,\n",
       "    'sea_level': 1018,\n",
       "    'grnd_level': 1014,\n",
       "    'humidity': 89,\n",
       "    'temp_kf': 0},\n",
       "   'weather': [{'id': 500,\n",
       "     'main': 'Rain',\n",
       "     'description': 'light rain',\n",
       "     'icon': '10n'}],\n",
       "   'clouds': {'all': 100},\n",
       "   'wind': {'speed': 5.05, 'deg': 222, 'gust': 12.82},\n",
       "   'visibility': 5596,\n",
       "   'pop': 0.98,\n",
       "   'rain': {'3h': 2.55},\n",
       "   'sys': {'pod': 'n'},\n",
       "   'dt_txt': '2023-10-09 21:00:00'},\n",
       "  {'dt': 1696896000,\n",
       "   'main': {'temp': 9.94,\n",
       "    'feels_like': 7.54,\n",
       "    'temp_min': 9.94,\n",
       "    'temp_max': 9.94,\n",
       "    'pressure': 1015,\n",
       "    'sea_level': 1015,\n",
       "    'grnd_level': 1010,\n",
       "    'humidity': 90,\n",
       "    'temp_kf': 0},\n",
       "   'weather': [{'id': 501,\n",
       "     'main': 'Rain',\n",
       "     'description': 'moderate rain',\n",
       "     'icon': '10n'}],\n",
       "   'clouds': {'all': 100},\n",
       "   'wind': {'speed': 4.92, 'deg': 232, 'gust': 13.57},\n",
       "   'visibility': 10000,\n",
       "   'pop': 1,\n",
       "   'rain': {'3h': 4.5},\n",
       "   'sys': {'pod': 'n'},\n",
       "   'dt_txt': '2023-10-10 00:00:00'},\n",
       "  {'dt': 1696906800,\n",
       "   'main': {'temp': 12.12,\n",
       "    'feels_like': 11.74,\n",
       "    'temp_min': 12.12,\n",
       "    'temp_max': 12.12,\n",
       "    'pressure': 1013,\n",
       "    'sea_level': 1013,\n",
       "    'grnd_level': 1009,\n",
       "    'humidity': 90,\n",
       "    'temp_kf': 0},\n",
       "   'weather': [{'id': 500,\n",
       "     'main': 'Rain',\n",
       "     'description': 'light rain',\n",
       "     'icon': '10n'}],\n",
       "   'clouds': {'all': 100},\n",
       "   'wind': {'speed': 5.39, 'deg': 259, 'gust': 13.43},\n",
       "   'visibility': 10000,\n",
       "   'pop': 0.99,\n",
       "   'rain': {'3h': 2.95},\n",
       "   'sys': {'pod': 'n'},\n",
       "   'dt_txt': '2023-10-10 03:00:00'},\n",
       "  {'dt': 1696917600,\n",
       "   'main': {'temp': 12.93,\n",
       "    'feels_like': 12.73,\n",
       "    'temp_min': 12.93,\n",
       "    'temp_max': 12.93,\n",
       "    'pressure': 1012,\n",
       "    'sea_level': 1012,\n",
       "    'grnd_level': 1008,\n",
       "    'humidity': 94,\n",
       "    'temp_kf': 0},\n",
       "   'weather': [{'id': 500,\n",
       "     'main': 'Rain',\n",
       "     'description': 'light rain',\n",
       "     'icon': '10d'}],\n",
       "   'clouds': {'all': 100},\n",
       "   'wind': {'speed': 5.1, 'deg': 260, 'gust': 13.12},\n",
       "   'visibility': 10000,\n",
       "   'pop': 0.99,\n",
       "   'rain': {'3h': 0.63},\n",
       "   'sys': {'pod': 'd'},\n",
       "   'dt_txt': '2023-10-10 06:00:00'},\n",
       "  {'dt': 1696928400,\n",
       "   'main': {'temp': 14.02,\n",
       "    'feels_like': 13.91,\n",
       "    'temp_min': 14.02,\n",
       "    'temp_max': 14.02,\n",
       "    'pressure': 1012,\n",
       "    'sea_level': 1012,\n",
       "    'grnd_level': 1008,\n",
       "    'humidity': 93,\n",
       "    'temp_kf': 0},\n",
       "   'weather': [{'id': 500,\n",
       "     'main': 'Rain',\n",
       "     'description': 'light rain',\n",
       "     'icon': '10d'}],\n",
       "   'clouds': {'all': 100},\n",
       "   'wind': {'speed': 5.59, 'deg': 268, 'gust': 12.8},\n",
       "   'visibility': 10000,\n",
       "   'pop': 0.97,\n",
       "   'rain': {'3h': 1.01},\n",
       "   'sys': {'pod': 'd'},\n",
       "   'dt_txt': '2023-10-10 09:00:00'}],\n",
       " 'city': {'id': 2822234,\n",
       "  'name': 'Tiergarten',\n",
       "  'coord': {'lat': 52.5167, 'lon': 13.3833},\n",
       "  'country': 'DE',\n",
       "  'population': 0,\n",
       "  'timezone': 7200,\n",
       "  'sunrise': 1696482809,\n",
       "  'sunset': 1696523780}}"
      ]
     },
     "execution_count": 11,
     "metadata": {},
     "output_type": "execute_result"
    }
   ],
   "source": [
    "weather_json"
   ]
  },
  {
   "cell_type": "code",
   "execution_count": 12,
   "id": "403d5166-58f7-4404-819c-db395e007beb",
   "metadata": {
    "tags": []
   },
   "outputs": [
    {
     "data": {
      "application/json": {
       "city": {
        "coord": {
         "lat": 52.5167,
         "lon": 13.3833
        },
        "country": "DE",
        "id": 2822234,
        "name": "Tiergarten",
        "population": 0,
        "sunrise": 1696482809,
        "sunset": 1696523780,
        "timezone": 7200
       },
       "cnt": 40,
       "cod": "200",
       "list": [
        {
         "clouds": {
          "all": 78
         },
         "dt": 1696507200,
         "dt_txt": "2023-10-05 12:00:00",
         "main": {
          "feels_like": 15.43,
          "grnd_level": 1016,
          "humidity": 74,
          "pressure": 1011,
          "sea_level": 1011,
          "temp": 15.86,
          "temp_kf": 0.79,
          "temp_max": 15.86,
          "temp_min": 15.07
         },
         "pop": 0.27,
         "rain": {
          "3h": 0.38
         },
         "sys": {
          "pod": "d"
         },
         "visibility": 10000,
         "weather": [
          {
           "description": "light rain",
           "icon": "10d",
           "id": 500,
           "main": "Rain"
          }
         ],
         "wind": {
          "deg": 289,
          "gust": 10.37,
          "speed": 4.76
         }
        },
        {
         "clouds": {
          "all": 91
         },
         "dt": 1696518000,
         "dt_txt": "2023-10-05 15:00:00",
         "main": {
          "feels_like": 15.43,
          "grnd_level": 1017,
          "humidity": 75,
          "pressure": 1016,
          "sea_level": 1016,
          "temp": 15.83,
          "temp_kf": 0.22,
          "temp_max": 15.83,
          "temp_min": 15.61
         },
         "pop": 0.54,
         "rain": {
          "3h": 0.69
         },
         "sys": {
          "pod": "d"
         },
         "visibility": 10000,
         "weather": [
          {
           "description": "light rain",
           "icon": "10d",
           "id": 500,
           "main": "Rain"
          }
         ],
         "wind": {
          "deg": 281,
          "gust": 9.36,
          "speed": 5.37
         }
        },
        {
         "clouds": {
          "all": 98
         },
         "dt": 1696528800,
         "dt_txt": "2023-10-05 18:00:00",
         "main": {
          "feels_like": 14.03,
          "grnd_level": 1018,
          "humidity": 76,
          "pressure": 1022,
          "sea_level": 1022,
          "temp": 14.54,
          "temp_kf": 0,
          "temp_max": 14.54,
          "temp_min": 14.54
         },
         "pop": 0.32,
         "rain": {
          "3h": 0.15
         },
         "sys": {
          "pod": "n"
         },
         "visibility": 10000,
         "weather": [
          {
           "description": "light rain",
           "icon": "10n",
           "id": 500,
           "main": "Rain"
          }
         ],
         "wind": {
          "deg": 268,
          "gust": 8.21,
          "speed": 3.78
         }
        },
        {
         "clouds": {
          "all": 100
         },
         "dt": 1696539600,
         "dt_txt": "2023-10-05 21:00:00",
         "main": {
          "feels_like": 12.83,
          "grnd_level": 1019,
          "humidity": 90,
          "pressure": 1023,
          "sea_level": 1023,
          "temp": 13.11,
          "temp_kf": 0,
          "temp_max": 13.11,
          "temp_min": 13.11
         },
         "pop": 0.19,
         "sys": {
          "pod": "n"
         },
         "visibility": 10000,
         "weather": [
          {
           "description": "overcast clouds",
           "icon": "04n",
           "id": 804,
           "main": "Clouds"
          }
         ],
         "wind": {
          "deg": 258,
          "gust": 7.53,
          "speed": 2.86
         }
        },
        {
         "clouds": {
          "all": 100
         },
         "dt": 1696550400,
         "dt_txt": "2023-10-06 00:00:00",
         "main": {
          "feels_like": 12.64,
          "grnd_level": 1019,
          "humidity": 93,
          "pressure": 1024,
          "sea_level": 1024,
          "temp": 12.87,
          "temp_kf": 0,
          "temp_max": 12.87,
          "temp_min": 12.87
         },
         "pop": 0.09,
         "sys": {
          "pod": "n"
         },
         "visibility": 10000,
         "weather": [
          {
           "description": "overcast clouds",
           "icon": "04n",
           "id": 804,
           "main": "Clouds"
          }
         ],
         "wind": {
          "deg": 257,
          "gust": 7.16,
          "speed": 2.7
         }
        },
        {
         "clouds": {
          "all": 100
         },
         "dt": 1696561200,
         "dt_txt": "2023-10-06 03:00:00",
         "main": {
          "feels_like": 12.66,
          "grnd_level": 1019,
          "humidity": 90,
          "pressure": 1024,
          "sea_level": 1024,
          "temp": 12.96,
          "temp_kf": 0,
          "temp_max": 12.96,
          "temp_min": 12.96
         },
         "pop": 0,
         "sys": {
          "pod": "n"
         },
         "visibility": 10000,
         "weather": [
          {
           "description": "overcast clouds",
           "icon": "04n",
           "id": 804,
           "main": "Clouds"
          }
         ],
         "wind": {
          "deg": 246,
          "gust": 7.48,
          "speed": 2.67
         }
        },
        {
         "clouds": {
          "all": 88
         },
         "dt": 1696572000,
         "dt_txt": "2023-10-06 06:00:00",
         "main": {
          "feels_like": 11.92,
          "grnd_level": 1020,
          "humidity": 88,
          "pressure": 1024,
          "sea_level": 1024,
          "temp": 12.33,
          "temp_kf": 0,
          "temp_max": 12.33,
          "temp_min": 12.33
         },
         "pop": 0,
         "sys": {
          "pod": "d"
         },
         "visibility": 10000,
         "weather": [
          {
           "description": "overcast clouds",
           "icon": "04d",
           "id": 804,
           "main": "Clouds"
          }
         ],
         "wind": {
          "deg": 237,
          "gust": 8.14,
          "speed": 3.03
         }
        },
        {
         "clouds": {
          "all": 67
         },
         "dt": 1696582800,
         "dt_txt": "2023-10-06 09:00:00",
         "main": {
          "feels_like": 16.02,
          "grnd_level": 1019,
          "humidity": 61,
          "pressure": 1024,
          "sea_level": 1024,
          "temp": 16.7,
          "temp_kf": 0,
          "temp_max": 16.7,
          "temp_min": 16.7
         },
         "pop": 0,
         "sys": {
          "pod": "d"
         },
         "visibility": 10000,
         "weather": [
          {
           "description": "broken clouds",
           "icon": "04d",
           "id": 803,
           "main": "Clouds"
          }
         ],
         "wind": {
          "deg": 233,
          "gust": 8.87,
          "speed": 5
         }
        },
        {
         "clouds": {
          "all": 74
         },
         "dt": 1696593600,
         "dt_txt": "2023-10-06 12:00:00",
         "main": {
          "feels_like": 18.96,
          "grnd_level": 1017,
          "humidity": 46,
          "pressure": 1022,
          "sea_level": 1022,
          "temp": 19.73,
          "temp_kf": 0,
          "temp_max": 19.73,
          "temp_min": 19.73
         },
         "pop": 0,
         "sys": {
          "pod": "d"
         },
         "visibility": 10000,
         "weather": [
          {
           "description": "broken clouds",
           "icon": "04d",
           "id": 803,
           "main": "Clouds"
          }
         ],
         "wind": {
          "deg": 242,
          "gust": 8.56,
          "speed": 5.91
         }
        },
        {
         "clouds": {
          "all": 100
         },
         "dt": 1696604400,
         "dt_txt": "2023-10-06 15:00:00",
         "main": {
          "feels_like": 17.52,
          "grnd_level": 1016,
          "humidity": 52,
          "pressure": 1020,
          "sea_level": 1020,
          "temp": 18.28,
          "temp_kf": 0,
          "temp_max": 18.28,
          "temp_min": 18.28
         },
         "pop": 0,
         "sys": {
          "pod": "d"
         },
         "visibility": 10000,
         "weather": [
          {
           "description": "overcast clouds",
           "icon": "04d",
           "id": 804,
           "main": "Clouds"
          }
         ],
         "wind": {
          "deg": 258,
          "gust": 10.71,
          "speed": 5.38
         }
        },
        {
         "clouds": {
          "all": 100
         },
         "dt": 1696615200,
         "dt_txt": "2023-10-06 18:00:00",
         "main": {
          "feels_like": 16.82,
          "grnd_level": 1014,
          "humidity": 55,
          "pressure": 1019,
          "sea_level": 1019,
          "temp": 17.57,
          "temp_kf": 0,
          "temp_max": 17.57,
          "temp_min": 17.57
         },
         "pop": 0,
         "sys": {
          "pod": "n"
         },
         "visibility": 10000,
         "weather": [
          {
           "description": "overcast clouds",
           "icon": "04n",
           "id": 804,
           "main": "Clouds"
          }
         ],
         "wind": {
          "deg": 240,
          "gust": 12.8,
          "speed": 5.61
         }
        },
        {
         "clouds": {
          "all": 100
         },
         "dt": 1696626000,
         "dt_txt": "2023-10-06 21:00:00",
         "main": {
          "feels_like": 15.7,
          "grnd_level": 1013,
          "humidity": 62,
          "pressure": 1018,
          "sea_level": 1018,
          "temp": 16.39,
          "temp_kf": 0,
          "temp_max": 16.39,
          "temp_min": 16.39
         },
         "pop": 0.61,
         "rain": {
          "3h": 0.48
         },
         "sys": {
          "pod": "n"
         },
         "visibility": 10000,
         "weather": [
          {
           "description": "light rain",
           "icon": "10n",
           "id": 500,
           "main": "Rain"
          }
         ],
         "wind": {
          "deg": 248,
          "gust": 14.55,
          "speed": 5.8
         }
        },
        {
         "clouds": {
          "all": 100
         },
         "dt": 1696636800,
         "dt_txt": "2023-10-07 00:00:00",
         "main": {
          "feels_like": 16.03,
          "grnd_level": 1012,
          "humidity": 59,
          "pressure": 1016,
          "sea_level": 1016,
          "temp": 16.76,
          "temp_kf": 0,
          "temp_max": 16.76,
          "temp_min": 16.76
         },
         "pop": 0.31,
         "sys": {
          "pod": "n"
         },
         "visibility": 10000,
         "weather": [
          {
           "description": "overcast clouds",
           "icon": "04n",
           "id": 804,
           "main": "Clouds"
          }
         ],
         "wind": {
          "deg": 249,
          "gust": 14.75,
          "speed": 6.51
         }
        },
        {
         "clouds": {
          "all": 100
         },
         "dt": 1696647600,
         "dt_txt": "2023-10-07 03:00:00",
         "main": {
          "feels_like": 15.86,
          "grnd_level": 1010,
          "humidity": 62,
          "pressure": 1014,
          "sea_level": 1014,
          "temp": 16.53,
          "temp_kf": 0,
          "temp_max": 16.53,
          "temp_min": 16.53
         },
         "pop": 0,
         "sys": {
          "pod": "n"
         },
         "visibility": 10000,
         "weather": [
          {
           "description": "overcast clouds",
           "icon": "04n",
           "id": 804,
           "main": "Clouds"
          }
         ],
         "wind": {
          "deg": 249,
          "gust": 16.34,
          "speed": 7.25
         }
        },
        {
         "clouds": {
          "all": 100
         },
         "dt": 1696658400,
         "dt_txt": "2023-10-07 06:00:00",
         "main": {
          "feels_like": 16.04,
          "grnd_level": 1009,
          "humidity": 66,
          "pressure": 1013,
          "sea_level": 1013,
          "temp": 16.6,
          "temp_kf": 0,
          "temp_max": 16.6,
          "temp_min": 16.6
         },
         "pop": 0,
         "sys": {
          "pod": "d"
         },
         "visibility": 10000,
         "weather": [
          {
           "description": "overcast clouds",
           "icon": "04d",
           "id": 804,
           "main": "Clouds"
          }
         ],
         "wind": {
          "deg": 254,
          "gust": 16.58,
          "speed": 7.14
         }
        },
        {
         "clouds": {
          "all": 100
         },
         "dt": 1696669200,
         "dt_txt": "2023-10-07 09:00:00",
         "main": {
          "feels_like": 16.13,
          "grnd_level": 1009,
          "humidity": 61,
          "pressure": 1013,
          "sea_level": 1013,
          "temp": 16.8,
          "temp_kf": 0,
          "temp_max": 16.8,
          "temp_min": 16.8
         },
         "pop": 0.2,
         "rain": {
          "3h": 0.13
         },
         "sys": {
          "pod": "d"
         },
         "visibility": 10000,
         "weather": [
          {
           "description": "light rain",
           "icon": "10d",
           "id": 500,
           "main": "Rain"
          }
         ],
         "wind": {
          "deg": 258,
          "gust": 14.4,
          "speed": 7.23
         }
        },
        {
         "clouds": {
          "all": 100
         },
         "dt": 1696680000,
         "dt_txt": "2023-10-07 12:00:00",
         "main": {
          "feels_like": 17.39,
          "grnd_level": 1008,
          "humidity": 64,
          "pressure": 1012,
          "sea_level": 1012,
          "temp": 17.88,
          "temp_kf": 0,
          "temp_max": 17.88,
          "temp_min": 17.88
         },
         "pop": 0,
         "sys": {
          "pod": "d"
         },
         "visibility": 10000,
         "weather": [
          {
           "description": "overcast clouds",
           "icon": "04d",
           "id": 804,
           "main": "Clouds"
          }
         ],
         "wind": {
          "deg": 262,
          "gust": 13.38,
          "speed": 7.7
         }
        },
        {
         "clouds": {
          "all": 100
         },
         "dt": 1696690800,
         "dt_txt": "2023-10-07 15:00:00",
         "main": {
          "feels_like": 16.36,
          "grnd_level": 1007,
          "humidity": 72,
          "pressure": 1012,
          "sea_level": 1012,
          "temp": 16.75,
          "temp_kf": 0,
          "temp_max": 16.75,
          "temp_min": 16.75
         },
         "pop": 0.01,
         "sys": {
          "pod": "d"
         },
         "visibility": 10000,
         "weather": [
          {
           "description": "overcast clouds",
           "icon": "04d",
           "id": 804,
           "main": "Clouds"
          }
         ],
         "wind": {
          "deg": 261,
          "gust": 15.39,
          "speed": 7.69
         }
        },
        {
         "clouds": {
          "all": 100
         },
         "dt": 1696701600,
         "dt_txt": "2023-10-07 18:00:00",
         "main": {
          "feels_like": 16.51,
          "grnd_level": 1005,
          "humidity": 85,
          "pressure": 1010,
          "sea_level": 1010,
          "temp": 16.58,
          "temp_kf": 0,
          "temp_max": 16.58,
          "temp_min": 16.58
         },
         "pop": 0.61,
         "rain": {
          "3h": 1.44
         },
         "sys": {
          "pod": "n"
         },
         "visibility": 6581,
         "weather": [
          {
           "description": "light rain",
           "icon": "10n",
           "id": 500,
           "main": "Rain"
          }
         ],
         "wind": {
          "deg": 289,
          "gust": 14.02,
          "speed": 5.91
         }
        },
        {
         "clouds": {
          "all": 100
         },
         "dt": 1696712400,
         "dt_txt": "2023-10-07 21:00:00",
         "main": {
          "feels_like": 10.89,
          "grnd_level": 1009,
          "humidity": 85,
          "pressure": 1013,
          "sea_level": 1013,
          "temp": 11.47,
          "temp_kf": 0,
          "temp_max": 11.47,
          "temp_min": 11.47
         },
         "pop": 1,
         "rain": {
          "3h": 5.73
         },
         "sys": {
          "pod": "n"
         },
         "visibility": 10000,
         "weather": [
          {
           "description": "moderate rain",
           "icon": "10n",
           "id": 501,
           "main": "Rain"
          }
         ],
         "wind": {
          "deg": 321,
          "gust": 11.34,
          "speed": 5.47
         }
        },
        {
         "clouds": {
          "all": 100
         },
         "dt": 1696723200,
         "dt_txt": "2023-10-08 00:00:00",
         "main": {
          "feels_like": 9.69,
          "grnd_level": 1011,
          "humidity": 81,
          "pressure": 1016,
          "sea_level": 1016,
          "temp": 10.47,
          "temp_kf": 0,
          "temp_max": 10.47,
          "temp_min": 10.47
         },
         "pop": 1,
         "rain": {
          "3h": 1.28
         },
         "sys": {
          "pod": "n"
         },
         "visibility": 10000,
         "weather": [
          {
           "description": "light rain",
           "icon": "10n",
           "id": 500,
           "main": "Rain"
          }
         ],
         "wind": {
          "deg": 299,
          "gust": 12.65,
          "speed": 6.16
         }
        },
        {
         "clouds": {
          "all": 42
         },
         "dt": 1696734000,
         "dt_txt": "2023-10-08 03:00:00",
         "main": {
          "feels_like": 5.17,
          "grnd_level": 1014,
          "humidity": 73,
          "pressure": 1019,
          "sea_level": 1019,
          "temp": 8.5,
          "temp_kf": 0,
          "temp_max": 8.5,
          "temp_min": 8.5
         },
         "pop": 0,
         "sys": {
          "pod": "n"
         },
         "visibility": 10000,
         "weather": [
          {
           "description": "scattered clouds",
           "icon": "03n",
           "id": 802,
           "main": "Clouds"
          }
         ],
         "wind": {
          "deg": 299,
          "gust": 12.44,
          "speed": 6.51
         }
        },
        {
         "clouds": {
          "all": 55
         },
         "dt": 1696744800,
         "dt_txt": "2023-10-08 06:00:00",
         "main": {
          "feels_like": 5.05,
          "grnd_level": 1018,
          "humidity": 78,
          "pressure": 1023,
          "sea_level": 1023,
          "temp": 7.79,
          "temp_kf": 0,
          "temp_max": 7.79,
          "temp_min": 7.79
         },
         "pop": 0.2,
         "rain": {
          "3h": 0.12
         },
         "sys": {
          "pod": "d"
         },
         "visibility": 10000,
         "weather": [
          {
           "description": "light rain",
           "icon": "10d",
           "id": 500,
           "main": "Rain"
          }
         ],
         "wind": {
          "deg": 308,
          "gust": 8.93,
          "speed": 4.5
         }
        },
        {
         "clouds": {
          "all": 3
         },
         "dt": 1696755600,
         "dt_txt": "2023-10-08 09:00:00",
         "main": {
          "feels_like": 9.61,
          "grnd_level": 1022,
          "humidity": 46,
          "pressure": 1026,
          "sea_level": 1026,
          "temp": 11.23,
          "temp_kf": 0,
          "temp_max": 11.23,
          "temp_min": 11.23
         },
         "pop": 0,
         "sys": {
          "pod": "d"
         },
         "visibility": 10000,
         "weather": [
          {
           "description": "clear sky",
           "icon": "01d",
           "id": 800,
           "main": "Clear"
          }
         ],
         "wind": {
          "deg": 331,
          "gust": 8.08,
          "speed": 4.86
         }
        },
        {
         "clouds": {
          "all": 19
         },
         "dt": 1696766400,
         "dt_txt": "2023-10-08 12:00:00",
         "main": {
          "feels_like": 11.61,
          "grnd_level": 1023,
          "humidity": 36,
          "pressure": 1028,
          "sea_level": 1028,
          "temp": 13.29,
          "temp_kf": 0,
          "temp_max": 13.29,
          "temp_min": 13.29
         },
         "pop": 0,
         "sys": {
          "pod": "d"
         },
         "visibility": 10000,
         "weather": [
          {
           "description": "few clouds",
           "icon": "02d",
           "id": 801,
           "main": "Clouds"
          }
         ],
         "wind": {
          "deg": 321,
          "gust": 7.31,
          "speed": 4.64
         }
        },
        {
         "clouds": {
          "all": 92
         },
         "dt": 1696777200,
         "dt_txt": "2023-10-08 15:00:00",
         "main": {
          "feels_like": 11.06,
          "grnd_level": 1024,
          "humidity": 44,
          "pressure": 1029,
          "sea_level": 1029,
          "temp": 12.6,
          "temp_kf": 0,
          "temp_max": 12.6,
          "temp_min": 12.6
         },
         "pop": 0,
         "sys": {
          "pod": "d"
         },
         "visibility": 10000,
         "weather": [
          {
           "description": "overcast clouds",
           "icon": "04d",
           "id": 804,
           "main": "Clouds"
          }
         ],
         "wind": {
          "deg": 305,
          "gust": 6.39,
          "speed": 4.09
         }
        },
        {
         "clouds": {
          "all": 86
         },
         "dt": 1696788000,
         "dt_txt": "2023-10-08 18:00:00",
         "main": {
          "feels_like": 9.07,
          "grnd_level": 1025,
          "humidity": 51,
          "pressure": 1029,
          "sea_level": 1029,
          "temp": 10.62,
          "temp_kf": 0,
          "temp_max": 10.62,
          "temp_min": 10.62
         },
         "pop": 0,
         "sys": {
          "pod": "n"
         },
         "visibility": 10000,
         "weather": [
          {
           "description": "overcast clouds",
           "icon": "04n",
           "id": 804,
           "main": "Clouds"
          }
         ],
         "wind": {
          "deg": 298,
          "gust": 4.48,
          "speed": 1.86
         }
        },
        {
         "clouds": {
          "all": 45
         },
         "dt": 1696798800,
         "dt_txt": "2023-10-08 21:00:00",
         "main": {
          "feels_like": 8.09,
          "grnd_level": 1026,
          "humidity": 54,
          "pressure": 1030,
          "sea_level": 1030,
          "temp": 8.89,
          "temp_kf": 0,
          "temp_max": 8.89,
          "temp_min": 8.89
         },
         "pop": 0,
         "sys": {
          "pod": "n"
         },
         "visibility": 10000,
         "weather": [
          {
           "description": "scattered clouds",
           "icon": "03n",
           "id": 802,
           "main": "Clouds"
          }
         ],
         "wind": {
          "deg": 321,
          "gust": 2.9,
          "speed": 1.79
         }
        },
        {
         "clouds": {
          "all": 27
         },
         "dt": 1696809600,
         "dt_txt": "2023-10-09 00:00:00",
         "main": {
          "feels_like": 6.82,
          "grnd_level": 1025,
          "humidity": 56,
          "pressure": 1030,
          "sea_level": 1030,
          "temp": 7.91,
          "temp_kf": 0,
          "temp_max": 7.91,
          "temp_min": 7.91
         },
         "pop": 0,
         "sys": {
          "pod": "n"
         },
         "visibility": 10000,
         "weather": [
          {
           "description": "scattered clouds",
           "icon": "03n",
           "id": 802,
           "main": "Clouds"
          }
         ],
         "wind": {
          "deg": 262,
          "gust": 3.12,
          "speed": 1.93
         }
        },
        {
         "clouds": {
          "all": 40
         },
         "dt": 1696820400,
         "dt_txt": "2023-10-09 03:00:00",
         "main": {
          "feels_like": 4.19,
          "grnd_level": 1025,
          "humidity": 69,
          "pressure": 1029,
          "sea_level": 1029,
          "temp": 6.45,
          "temp_kf": 0,
          "temp_max": 6.45,
          "temp_min": 6.45
         },
         "pop": 0,
         "sys": {
          "pod": "n"
         },
         "visibility": 10000,
         "weather": [
          {
           "description": "scattered clouds",
           "icon": "03n",
           "id": 802,
           "main": "Clouds"
          }
         ],
         "wind": {
          "deg": 274,
          "gust": 6.89,
          "speed": 3.08
         }
        },
        {
         "clouds": {
          "all": 70
         },
         "dt": 1696831200,
         "dt_txt": "2023-10-09 06:00:00",
         "main": {
          "feels_like": 4.38,
          "grnd_level": 1024,
          "humidity": 71,
          "pressure": 1028,
          "sea_level": 1028,
          "temp": 6.5,
          "temp_kf": 0,
          "temp_max": 6.5,
          "temp_min": 6.5
         },
         "pop": 0,
         "sys": {
          "pod": "d"
         },
         "visibility": 10000,
         "weather": [
          {
           "description": "broken clouds",
           "icon": "04d",
           "id": 803,
           "main": "Clouds"
          }
         ],
         "wind": {
          "deg": 260,
          "gust": 6.29,
          "speed": 2.89
         }
        },
        {
         "clouds": {
          "all": 100
         },
         "dt": 1696842000,
         "dt_txt": "2023-10-09 09:00:00",
         "main": {
          "feels_like": 8.71,
          "grnd_level": 1023,
          "humidity": 57,
          "pressure": 1028,
          "sea_level": 1028,
          "temp": 10.15,
          "temp_kf": 0,
          "temp_max": 10.15,
          "temp_min": 10.15
         },
         "pop": 0,
         "sys": {
          "pod": "d"
         },
         "visibility": 10000,
         "weather": [
          {
           "description": "overcast clouds",
           "icon": "04d",
           "id": 804,
           "main": "Clouds"
          }
         ],
         "wind": {
          "deg": 261,
          "gust": 7.83,
          "speed": 4.17
         }
        },
        {
         "clouds": {
          "all": 100
         },
         "dt": 1696852800,
         "dt_txt": "2023-10-09 12:00:00",
         "main": {
          "feels_like": 11.13,
          "grnd_level": 1021,
          "humidity": 49,
          "pressure": 1026,
          "sea_level": 1026,
          "temp": 12.54,
          "temp_kf": 0,
          "temp_max": 12.54,
          "temp_min": 12.54
         },
         "pop": 0,
         "sys": {
          "pod": "d"
         },
         "visibility": 10000,
         "weather": [
          {
           "description": "overcast clouds",
           "icon": "04d",
           "id": 804,
           "main": "Clouds"
          }
         ],
         "wind": {
          "deg": 257,
          "gust": 5.78,
          "speed": 4.32
         }
        },
        {
         "clouds": {
          "all": 100
         },
         "dt": 1696863600,
         "dt_txt": "2023-10-09 15:00:00",
         "main": {
          "feels_like": 10.56,
          "grnd_level": 1018,
          "humidity": 50,
          "pressure": 1023,
          "sea_level": 1023,
          "temp": 12,
          "temp_kf": 0,
          "temp_max": 12,
          "temp_min": 12
         },
         "pop": 0,
         "sys": {
          "pod": "d"
         },
         "visibility": 10000,
         "weather": [
          {
           "description": "overcast clouds",
           "icon": "04d",
           "id": 804,
           "main": "Clouds"
          }
         ],
         "wind": {
          "deg": 248,
          "gust": 6.35,
          "speed": 3.55
         }
        },
        {
         "clouds": {
          "all": 100
         },
         "dt": 1696874400,
         "dt_txt": "2023-10-09 18:00:00",
         "main": {
          "feels_like": 9.33,
          "grnd_level": 1016,
          "humidity": 54,
          "pressure": 1021,
          "sea_level": 1021,
          "temp": 10.79,
          "temp_kf": 0,
          "temp_max": 10.79,
          "temp_min": 10.79
         },
         "pop": 0,
         "sys": {
          "pod": "n"
         },
         "visibility": 10000,
         "weather": [
          {
           "description": "overcast clouds",
           "icon": "04n",
           "id": 804,
           "main": "Clouds"
          }
         ],
         "wind": {
          "deg": 239,
          "gust": 8.33,
          "speed": 4.57
         }
        },
        {
         "clouds": {
          "all": 100
         },
         "dt": 1696885200,
         "dt_txt": "2023-10-09 21:00:00",
         "main": {
          "feels_like": 5.98,
          "grnd_level": 1014,
          "humidity": 89,
          "pressure": 1018,
          "sea_level": 1018,
          "temp": 8.73,
          "temp_kf": 0,
          "temp_max": 8.73,
          "temp_min": 8.73
         },
         "pop": 0.98,
         "rain": {
          "3h": 2.55
         },
         "sys": {
          "pod": "n"
         },
         "visibility": 5596,
         "weather": [
          {
           "description": "light rain",
           "icon": "10n",
           "id": 500,
           "main": "Rain"
          }
         ],
         "wind": {
          "deg": 222,
          "gust": 12.82,
          "speed": 5.05
         }
        },
        {
         "clouds": {
          "all": 100
         },
         "dt": 1696896000,
         "dt_txt": "2023-10-10 00:00:00",
         "main": {
          "feels_like": 7.54,
          "grnd_level": 1010,
          "humidity": 90,
          "pressure": 1015,
          "sea_level": 1015,
          "temp": 9.94,
          "temp_kf": 0,
          "temp_max": 9.94,
          "temp_min": 9.94
         },
         "pop": 1,
         "rain": {
          "3h": 4.5
         },
         "sys": {
          "pod": "n"
         },
         "visibility": 10000,
         "weather": [
          {
           "description": "moderate rain",
           "icon": "10n",
           "id": 501,
           "main": "Rain"
          }
         ],
         "wind": {
          "deg": 232,
          "gust": 13.57,
          "speed": 4.92
         }
        },
        {
         "clouds": {
          "all": 100
         },
         "dt": 1696906800,
         "dt_txt": "2023-10-10 03:00:00",
         "main": {
          "feels_like": 11.74,
          "grnd_level": 1009,
          "humidity": 90,
          "pressure": 1013,
          "sea_level": 1013,
          "temp": 12.12,
          "temp_kf": 0,
          "temp_max": 12.12,
          "temp_min": 12.12
         },
         "pop": 0.99,
         "rain": {
          "3h": 2.95
         },
         "sys": {
          "pod": "n"
         },
         "visibility": 10000,
         "weather": [
          {
           "description": "light rain",
           "icon": "10n",
           "id": 500,
           "main": "Rain"
          }
         ],
         "wind": {
          "deg": 259,
          "gust": 13.43,
          "speed": 5.39
         }
        },
        {
         "clouds": {
          "all": 100
         },
         "dt": 1696917600,
         "dt_txt": "2023-10-10 06:00:00",
         "main": {
          "feels_like": 12.73,
          "grnd_level": 1008,
          "humidity": 94,
          "pressure": 1012,
          "sea_level": 1012,
          "temp": 12.93,
          "temp_kf": 0,
          "temp_max": 12.93,
          "temp_min": 12.93
         },
         "pop": 0.99,
         "rain": {
          "3h": 0.63
         },
         "sys": {
          "pod": "d"
         },
         "visibility": 10000,
         "weather": [
          {
           "description": "light rain",
           "icon": "10d",
           "id": 500,
           "main": "Rain"
          }
         ],
         "wind": {
          "deg": 260,
          "gust": 13.12,
          "speed": 5.1
         }
        },
        {
         "clouds": {
          "all": 100
         },
         "dt": 1696928400,
         "dt_txt": "2023-10-10 09:00:00",
         "main": {
          "feels_like": 13.91,
          "grnd_level": 1008,
          "humidity": 93,
          "pressure": 1012,
          "sea_level": 1012,
          "temp": 14.02,
          "temp_kf": 0,
          "temp_max": 14.02,
          "temp_min": 14.02
         },
         "pop": 0.97,
         "rain": {
          "3h": 1.01
         },
         "sys": {
          "pod": "d"
         },
         "visibility": 10000,
         "weather": [
          {
           "description": "light rain",
           "icon": "10d",
           "id": 500,
           "main": "Rain"
          }
         ],
         "wind": {
          "deg": 268,
          "gust": 12.8,
          "speed": 5.59
         }
        }
       ],
       "message": 0
      },
      "text/plain": [
       "<IPython.core.display.JSON object>"
      ]
     },
     "execution_count": 12,
     "metadata": {
      "application/json": {
       "expanded": false,
       "root": "root"
      }
     },
     "output_type": "execute_result"
    }
   ],
   "source": [
    "# Only works offline :-(\n",
    "JSON(weather_json)"
   ]
  },
  {
   "cell_type": "code",
   "execution_count": 13,
   "id": "7ef89551-b925-4480-b367-41998c57fab6",
   "metadata": {
    "tags": []
   },
   "outputs": [
    {
     "data": {
      "text/plain": [
       "14.02"
      ]
     },
     "execution_count": 13,
     "metadata": {},
     "output_type": "execute_result"
    }
   ],
   "source": [
    "weather_json['list'][39]['main']['temp']"
   ]
  },
  {
   "cell_type": "code",
   "execution_count": 14,
   "id": "223cb769-14eb-4ba6-b788-3bbfd5d9e731",
   "metadata": {
    "tags": []
   },
   "outputs": [
    {
     "data": {
      "text/plain": [
       "1012"
      ]
     },
     "execution_count": 14,
     "metadata": {},
     "output_type": "execute_result"
    }
   ],
   "source": [
    "weather_json['list'][39]['main']['pressure']"
   ]
  },
  {
   "cell_type": "code",
   "execution_count": 15,
   "id": "4fd7df9a-912f-4166-917a-158461bca985",
   "metadata": {
    "tags": []
   },
   "outputs": [
    {
     "data": {
      "text/plain": [
       "5.59"
      ]
     },
     "execution_count": 15,
     "metadata": {},
     "output_type": "execute_result"
    }
   ],
   "source": [
    "weather_json['list'][39]['wind']['speed']"
   ]
  },
  {
   "cell_type": "code",
   "execution_count": 16,
   "id": "0b6358ef-d6b3-4ca8-b1a7-a7a78749e657",
   "metadata": {
    "tags": []
   },
   "outputs": [
    {
     "data": {
      "text/plain": [
       "'2023-10-10 09:00:00'"
      ]
     },
     "execution_count": 16,
     "metadata": {},
     "output_type": "execute_result"
    }
   ],
   "source": [
    "weather_json['list'][39]['dt_txt']"
   ]
  },
  {
   "cell_type": "code",
   "execution_count": 17,
   "id": "dbad1884-c4ce-4fe5-9739-d58a088169c1",
   "metadata": {
    "tags": []
   },
   "outputs": [
    {
     "data": {
      "text/plain": [
       "'Rain'"
      ]
     },
     "execution_count": 17,
     "metadata": {},
     "output_type": "execute_result"
    }
   ],
   "source": [
    "weather_json['list'][39]['weather'][0]['main']"
   ]
  },
  {
   "cell_type": "code",
   "execution_count": 18,
   "id": "055d564d-5efc-4bf9-8082-6dff3c995cb8",
   "metadata": {
    "tags": []
   },
   "outputs": [
    {
     "data": {
      "text/html": [
       "<div>\n",
       "<style scoped>\n",
       "    .dataframe tbody tr th:only-of-type {\n",
       "        vertical-align: middle;\n",
       "    }\n",
       "\n",
       "    .dataframe tbody tr th {\n",
       "        vertical-align: top;\n",
       "    }\n",
       "\n",
       "    .dataframe thead th {\n",
       "        text-align: right;\n",
       "    }\n",
       "</style>\n",
       "<table border=\"1\" class=\"dataframe\">\n",
       "  <thead>\n",
       "    <tr style=\"text-align: right;\">\n",
       "      <th></th>\n",
       "      <th>name</th>\n",
       "      <th>latitude</th>\n",
       "      <th>longitude</th>\n",
       "      <th>country</th>\n",
       "      <th>population</th>\n",
       "      <th>city_id</th>\n",
       "    </tr>\n",
       "  </thead>\n",
       "  <tbody>\n",
       "    <tr>\n",
       "      <th>0</th>\n",
       "      <td>Berlin</td>\n",
       "      <td>52.5167</td>\n",
       "      <td>13.3833</td>\n",
       "      <td>DE</td>\n",
       "      <td>3644826</td>\n",
       "      <td>0</td>\n",
       "    </tr>\n",
       "    <tr>\n",
       "      <th>1</th>\n",
       "      <td>Hamburg</td>\n",
       "      <td>53.5500</td>\n",
       "      <td>10.0000</td>\n",
       "      <td>DE</td>\n",
       "      <td>1841179</td>\n",
       "      <td>1</td>\n",
       "    </tr>\n",
       "    <tr>\n",
       "      <th>2</th>\n",
       "      <td>Munich</td>\n",
       "      <td>48.1372</td>\n",
       "      <td>11.5755</td>\n",
       "      <td>DE</td>\n",
       "      <td>1471508</td>\n",
       "      <td>2</td>\n",
       "    </tr>\n",
       "    <tr>\n",
       "      <th>3</th>\n",
       "      <td>Cologne</td>\n",
       "      <td>50.9422</td>\n",
       "      <td>6.9578</td>\n",
       "      <td>DE</td>\n",
       "      <td>1085664</td>\n",
       "      <td>3</td>\n",
       "    </tr>\n",
       "    <tr>\n",
       "      <th>4</th>\n",
       "      <td>Frankfurt</td>\n",
       "      <td>50.1136</td>\n",
       "      <td>8.6797</td>\n",
       "      <td>DE</td>\n",
       "      <td>753056</td>\n",
       "      <td>4</td>\n",
       "    </tr>\n",
       "  </tbody>\n",
       "</table>\n",
       "</div>"
      ],
      "text/plain": [
       "        name  latitude  longitude country  population  city_id\n",
       "0     Berlin   52.5167    13.3833      DE     3644826        0\n",
       "1    Hamburg   53.5500    10.0000      DE     1841179        1\n",
       "2     Munich   48.1372    11.5755      DE     1471508        2\n",
       "3    Cologne   50.9422     6.9578      DE     1085664        3\n",
       "4  Frankfurt   50.1136     8.6797      DE      753056        4"
      ]
     },
     "execution_count": 18,
     "metadata": {},
     "output_type": "execute_result"
    }
   ],
   "source": [
    "cities_df"
   ]
  },
  {
   "cell_type": "markdown",
   "id": "b565941b-8b41-40c3-9f7b-ebd21dfd3f42",
   "metadata": {},
   "source": [
    "#### Using the city name in the url"
   ]
  },
  {
   "cell_type": "code",
   "execution_count": 19,
   "id": "a4fe090d-52ce-41f5-9426-ed344b403fcb",
   "metadata": {
    "tags": []
   },
   "outputs": [],
   "source": [
    "url = f\"http://api.openweathermap.org/data/2.5/forecast?q={cities_df.loc[0,'name']}&appid={wkey}&units=metric\"\n"
   ]
  },
  {
   "cell_type": "code",
   "execution_count": 20,
   "id": "07682ddf-b14a-4410-ae72-79160b41ffde",
   "metadata": {
    "tags": []
   },
   "outputs": [],
   "source": [
    "response_city = requests.get(url)"
   ]
  },
  {
   "cell_type": "code",
   "execution_count": 21,
   "id": "1195a9ee-1aeb-42fc-af0a-fb572875d3bf",
   "metadata": {
    "tags": []
   },
   "outputs": [],
   "source": [
    "weather_json_city = response_city.json()"
   ]
  },
  {
   "cell_type": "code",
   "execution_count": 22,
   "id": "c6ef6ace-2256-45d4-9ff3-ce702aa3f03a",
   "metadata": {
    "tags": []
   },
   "outputs": [
    {
     "data": {
      "application/json": {
       "city": {
        "coord": {
         "lat": 52.5244,
         "lon": 13.4105
        },
        "country": "DE",
        "id": 2950159,
        "name": "Berlin",
        "population": 1000000,
        "sunrise": 1696482803,
        "sunset": 1696523773,
        "timezone": 7200
       },
       "cnt": 40,
       "cod": "200",
       "list": [
        {
         "clouds": {
          "all": 78
         },
         "dt": 1696507200,
         "dt_txt": "2023-10-05 12:00:00",
         "main": {
          "feels_like": 15.33,
          "grnd_level": 1015,
          "humidity": 74,
          "pressure": 1012,
          "sea_level": 1012,
          "temp": 15.77,
          "temp_kf": 0.77,
          "temp_max": 15.77,
          "temp_min": 15
         },
         "pop": 0.27,
         "rain": {
          "3h": 0.38
         },
         "sys": {
          "pod": "d"
         },
         "visibility": 10000,
         "weather": [
          {
           "description": "light rain",
           "icon": "10d",
           "id": 500,
           "main": "Rain"
          }
         ],
         "wind": {
          "deg": 288,
          "gust": 10.41,
          "speed": 4.79
         }
        },
        {
         "clouds": {
          "all": 91
         },
         "dt": 1696518000,
         "dt_txt": "2023-10-05 15:00:00",
         "main": {
          "feels_like": 15.37,
          "grnd_level": 1016,
          "humidity": 75,
          "pressure": 1017,
          "sea_level": 1017,
          "temp": 15.78,
          "temp_kf": 0.19,
          "temp_max": 15.78,
          "temp_min": 15.59
         },
         "pop": 0.54,
         "rain": {
          "3h": 0.69
         },
         "sys": {
          "pod": "d"
         },
         "visibility": 10000,
         "weather": [
          {
           "description": "light rain",
           "icon": "10d",
           "id": 500,
           "main": "Rain"
          }
         ],
         "wind": {
          "deg": 282,
          "gust": 9.37,
          "speed": 5.36
         }
        },
        {
         "clouds": {
          "all": 98
         },
         "dt": 1696528800,
         "dt_txt": "2023-10-05 18:00:00",
         "main": {
          "feels_like": 13.96,
          "grnd_level": 1017,
          "humidity": 76,
          "pressure": 1022,
          "sea_level": 1022,
          "temp": 14.47,
          "temp_kf": 0,
          "temp_max": 14.47,
          "temp_min": 14.47
         },
         "pop": 0.32,
         "rain": {
          "3h": 0.15
         },
         "sys": {
          "pod": "n"
         },
         "visibility": 10000,
         "weather": [
          {
           "description": "light rain",
           "icon": "10n",
           "id": 500,
           "main": "Rain"
          }
         ],
         "wind": {
          "deg": 268,
          "gust": 8.28,
          "speed": 3.8
         }
        },
        {
         "clouds": {
          "all": 100
         },
         "dt": 1696539600,
         "dt_txt": "2023-10-05 21:00:00",
         "main": {
          "feels_like": 12.77,
          "grnd_level": 1018,
          "humidity": 90,
          "pressure": 1023,
          "sea_level": 1023,
          "temp": 13.06,
          "temp_kf": 0,
          "temp_max": 13.06,
          "temp_min": 13.06
         },
         "pop": 0.18,
         "sys": {
          "pod": "n"
         },
         "visibility": 10000,
         "weather": [
          {
           "description": "overcast clouds",
           "icon": "04n",
           "id": 804,
           "main": "Clouds"
          }
         ],
         "wind": {
          "deg": 258,
          "gust": 7.45,
          "speed": 2.87
         }
        },
        {
         "clouds": {
          "all": 100
         },
         "dt": 1696550400,
         "dt_txt": "2023-10-06 00:00:00",
         "main": {
          "feels_like": 12.6,
          "grnd_level": 1019,
          "humidity": 93,
          "pressure": 1024,
          "sea_level": 1024,
          "temp": 12.83,
          "temp_kf": 0,
          "temp_max": 12.83,
          "temp_min": 12.83
         },
         "pop": 0.09,
         "sys": {
          "pod": "n"
         },
         "visibility": 10000,
         "weather": [
          {
           "description": "overcast clouds",
           "icon": "04n",
           "id": 804,
           "main": "Clouds"
          }
         ],
         "wind": {
          "deg": 257,
          "gust": 7.1,
          "speed": 2.7
         }
        },
        {
         "clouds": {
          "all": 100
         },
         "dt": 1696561200,
         "dt_txt": "2023-10-06 03:00:00",
         "main": {
          "feels_like": 12.61,
          "grnd_level": 1018,
          "humidity": 90,
          "pressure": 1024,
          "sea_level": 1024,
          "temp": 12.91,
          "temp_kf": 0,
          "temp_max": 12.91,
          "temp_min": 12.91
         },
         "pop": 0,
         "sys": {
          "pod": "n"
         },
         "visibility": 10000,
         "weather": [
          {
           "description": "overcast clouds",
           "icon": "04n",
           "id": 804,
           "main": "Clouds"
          }
         ],
         "wind": {
          "deg": 245,
          "gust": 7.37,
          "speed": 2.64
         }
        },
        {
         "clouds": {
          "all": 90
         },
         "dt": 1696572000,
         "dt_txt": "2023-10-06 06:00:00",
         "main": {
          "feels_like": 11.94,
          "grnd_level": 1019,
          "humidity": 88,
          "pressure": 1024,
          "sea_level": 1024,
          "temp": 12.35,
          "temp_kf": 0,
          "temp_max": 12.35,
          "temp_min": 12.35
         },
         "pop": 0,
         "sys": {
          "pod": "d"
         },
         "visibility": 10000,
         "weather": [
          {
           "description": "overcast clouds",
           "icon": "04d",
           "id": 804,
           "main": "Clouds"
          }
         ],
         "wind": {
          "deg": 238,
          "gust": 8.14,
          "speed": 3.06
         }
        },
        {
         "clouds": {
          "all": 70
         },
         "dt": 1696582800,
         "dt_txt": "2023-10-06 09:00:00",
         "main": {
          "feels_like": 15.97,
          "grnd_level": 1019,
          "humidity": 61,
          "pressure": 1024,
          "sea_level": 1024,
          "temp": 16.66,
          "temp_kf": 0,
          "temp_max": 16.66,
          "temp_min": 16.66
         },
         "pop": 0,
         "sys": {
          "pod": "d"
         },
         "visibility": 10000,
         "weather": [
          {
           "description": "broken clouds",
           "icon": "04d",
           "id": 803,
           "main": "Clouds"
          }
         ],
         "wind": {
          "deg": 233,
          "gust": 8.91,
          "speed": 5.05
         }
        },
        {
         "clouds": {
          "all": 76
         },
         "dt": 1696593600,
         "dt_txt": "2023-10-06 12:00:00",
         "main": {
          "feels_like": 18.88,
          "grnd_level": 1017,
          "humidity": 46,
          "pressure": 1022,
          "sea_level": 1022,
          "temp": 19.66,
          "temp_kf": 0,
          "temp_max": 19.66,
          "temp_min": 19.66
         },
         "pop": 0,
         "sys": {
          "pod": "d"
         },
         "visibility": 10000,
         "weather": [
          {
           "description": "broken clouds",
           "icon": "04d",
           "id": 803,
           "main": "Clouds"
          }
         ],
         "wind": {
          "deg": 241,
          "gust": 8.56,
          "speed": 5.94
         }
        },
        {
         "clouds": {
          "all": 100
         },
         "dt": 1696604400,
         "dt_txt": "2023-10-06 15:00:00",
         "main": {
          "feels_like": 17.5,
          "grnd_level": 1015,
          "humidity": 52,
          "pressure": 1020,
          "sea_level": 1020,
          "temp": 18.26,
          "temp_kf": 0,
          "temp_max": 18.26,
          "temp_min": 18.26
         },
         "pop": 0,
         "sys": {
          "pod": "d"
         },
         "visibility": 10000,
         "weather": [
          {
           "description": "overcast clouds",
           "icon": "04d",
           "id": 804,
           "main": "Clouds"
          }
         ],
         "wind": {
          "deg": 258,
          "gust": 10.72,
          "speed": 5.37
         }
        },
        {
         "clouds": {
          "all": 100
         },
         "dt": 1696615200,
         "dt_txt": "2023-10-06 18:00:00",
         "main": {
          "feels_like": 16.81,
          "grnd_level": 1014,
          "humidity": 55,
          "pressure": 1019,
          "sea_level": 1019,
          "temp": 17.56,
          "temp_kf": 0,
          "temp_max": 17.56,
          "temp_min": 17.56
         },
         "pop": 0,
         "sys": {
          "pod": "n"
         },
         "visibility": 10000,
         "weather": [
          {
           "description": "overcast clouds",
           "icon": "04n",
           "id": 804,
           "main": "Clouds"
          }
         ],
         "wind": {
          "deg": 240,
          "gust": 12.8,
          "speed": 5.64
         }
        },
        {
         "clouds": {
          "all": 100
         },
         "dt": 1696626000,
         "dt_txt": "2023-10-06 21:00:00",
         "main": {
          "feels_like": 15.62,
          "grnd_level": 1013,
          "humidity": 63,
          "pressure": 1018,
          "sea_level": 1018,
          "temp": 16.29,
          "temp_kf": 0,
          "temp_max": 16.29,
          "temp_min": 16.29
         },
         "pop": 0.62,
         "rain": {
          "3h": 0.48
         },
         "sys": {
          "pod": "n"
         },
         "visibility": 10000,
         "weather": [
          {
           "description": "light rain",
           "icon": "10n",
           "id": 500,
           "main": "Rain"
          }
         ],
         "wind": {
          "deg": 248,
          "gust": 14.6,
          "speed": 5.8
         }
        },
        {
         "clouds": {
          "all": 100
         },
         "dt": 1696636800,
         "dt_txt": "2023-10-07 00:00:00",
         "main": {
          "feels_like": 16.01,
          "grnd_level": 1011,
          "humidity": 59,
          "pressure": 1016,
          "sea_level": 1016,
          "temp": 16.74,
          "temp_kf": 0,
          "temp_max": 16.74,
          "temp_min": 16.74
         },
         "pop": 0.3,
         "sys": {
          "pod": "n"
         },
         "visibility": 10000,
         "weather": [
          {
           "description": "overcast clouds",
           "icon": "04n",
           "id": 804,
           "main": "Clouds"
          }
         ],
         "wind": {
          "deg": 249,
          "gust": 14.74,
          "speed": 6.53
         }
        },
        {
         "clouds": {
          "all": 100
         },
         "dt": 1696647600,
         "dt_txt": "2023-10-07 03:00:00",
         "main": {
          "feels_like": 15.81,
          "grnd_level": 1009,
          "humidity": 62,
          "pressure": 1014,
          "sea_level": 1014,
          "temp": 16.49,
          "temp_kf": 0,
          "temp_max": 16.49,
          "temp_min": 16.49
         },
         "pop": 0,
         "sys": {
          "pod": "n"
         },
         "visibility": 10000,
         "weather": [
          {
           "description": "overcast clouds",
           "icon": "04n",
           "id": 804,
           "main": "Clouds"
          }
         ],
         "wind": {
          "deg": 249,
          "gust": 16.39,
          "speed": 7.29
         }
        },
        {
         "clouds": {
          "all": 100
         },
         "dt": 1696658400,
         "dt_txt": "2023-10-07 06:00:00",
         "main": {
          "feels_like": 16.03,
          "grnd_level": 1008,
          "humidity": 66,
          "pressure": 1013,
          "sea_level": 1013,
          "temp": 16.59,
          "temp_kf": 0,
          "temp_max": 16.59,
          "temp_min": 16.59
         },
         "pop": 0,
         "sys": {
          "pod": "d"
         },
         "visibility": 10000,
         "weather": [
          {
           "description": "overcast clouds",
           "icon": "04d",
           "id": 804,
           "main": "Clouds"
          }
         ],
         "wind": {
          "deg": 253,
          "gust": 16.69,
          "speed": 7.17
         }
        },
        {
         "clouds": {
          "all": 100
         },
         "dt": 1696669200,
         "dt_txt": "2023-10-07 09:00:00",
         "main": {
          "feels_like": 16.07,
          "grnd_level": 1008,
          "humidity": 61,
          "pressure": 1013,
          "sea_level": 1013,
          "temp": 16.75,
          "temp_kf": 0,
          "temp_max": 16.75,
          "temp_min": 16.75
         },
         "pop": 0.2,
         "rain": {
          "3h": 0.13
         },
         "sys": {
          "pod": "d"
         },
         "visibility": 10000,
         "weather": [
          {
           "description": "light rain",
           "icon": "10d",
           "id": 500,
           "main": "Rain"
          }
         ],
         "wind": {
          "deg": 258,
          "gust": 14.45,
          "speed": 7.24
         }
        },
        {
         "clouds": {
          "all": 100
         },
         "dt": 1696680000,
         "dt_txt": "2023-10-07 12:00:00",
         "main": {
          "feels_like": 17.38,
          "grnd_level": 1007,
          "humidity": 64,
          "pressure": 1012,
          "sea_level": 1012,
          "temp": 17.87,
          "temp_kf": 0,
          "temp_max": 17.87,
          "temp_min": 17.87
         },
         "pop": 0,
         "sys": {
          "pod": "d"
         },
         "visibility": 10000,
         "weather": [
          {
           "description": "overcast clouds",
           "icon": "04d",
           "id": 804,
           "main": "Clouds"
          }
         ],
         "wind": {
          "deg": 262,
          "gust": 13.38,
          "speed": 7.68
         }
        },
        {
         "clouds": {
          "all": 100
         },
         "dt": 1696690800,
         "dt_txt": "2023-10-07 15:00:00",
         "main": {
          "feels_like": 16.34,
          "grnd_level": 1006,
          "humidity": 73,
          "pressure": 1012,
          "sea_level": 1012,
          "temp": 16.71,
          "temp_kf": 0,
          "temp_max": 16.71,
          "temp_min": 16.71
         },
         "pop": 0.02,
         "sys": {
          "pod": "d"
         },
         "visibility": 10000,
         "weather": [
          {
           "description": "overcast clouds",
           "icon": "04d",
           "id": 804,
           "main": "Clouds"
          }
         ],
         "wind": {
          "deg": 261,
          "gust": 15.36,
          "speed": 7.72
         }
        },
        {
         "clouds": {
          "all": 100
         },
         "dt": 1696701600,
         "dt_txt": "2023-10-07 18:00:00",
         "main": {
          "feels_like": 16.35,
          "grnd_level": 1005,
          "humidity": 86,
          "pressure": 1010,
          "sea_level": 1010,
          "temp": 16.41,
          "temp_kf": 0,
          "temp_max": 16.41,
          "temp_min": 16.41
         },
         "pop": 0.62,
         "rain": {
          "3h": 1.46
         },
         "sys": {
          "pod": "n"
         },
         "visibility": 6646,
         "weather": [
          {
           "description": "light rain",
           "icon": "10n",
           "id": 500,
           "main": "Rain"
          }
         ],
         "wind": {
          "deg": 290,
          "gust": 13.81,
          "speed": 5.8
         }
        },
        {
         "clouds": {
          "all": 100
         },
         "dt": 1696712400,
         "dt_txt": "2023-10-07 21:00:00",
         "main": {
          "feels_like": 10.85,
          "grnd_level": 1008,
          "humidity": 85,
          "pressure": 1013,
          "sea_level": 1013,
          "temp": 11.43,
          "temp_kf": 0,
          "temp_max": 11.43,
          "temp_min": 11.43
         },
         "pop": 1,
         "rain": {
          "3h": 5.7
         },
         "sys": {
          "pod": "n"
         },
         "visibility": 10000,
         "weather": [
          {
           "description": "moderate rain",
           "icon": "10n",
           "id": 501,
           "main": "Rain"
          }
         ],
         "wind": {
          "deg": 321,
          "gust": 11.29,
          "speed": 5.48
         }
        },
        {
         "clouds": {
          "all": 100
         },
         "dt": 1696723200,
         "dt_txt": "2023-10-08 00:00:00",
         "main": {
          "feels_like": 9.64,
          "grnd_level": 1011,
          "humidity": 81,
          "pressure": 1016,
          "sea_level": 1016,
          "temp": 10.43,
          "temp_kf": 0,
          "temp_max": 10.43,
          "temp_min": 10.43
         },
         "pop": 1,
         "rain": {
          "3h": 1.28
         },
         "sys": {
          "pod": "n"
         },
         "visibility": 10000,
         "weather": [
          {
           "description": "light rain",
           "icon": "10n",
           "id": 500,
           "main": "Rain"
          }
         ],
         "wind": {
          "deg": 299,
          "gust": 12.7,
          "speed": 6.18
         }
        },
        {
         "clouds": {
          "all": 43
         },
         "dt": 1696734000,
         "dt_txt": "2023-10-08 03:00:00",
         "main": {
          "feels_like": 5.12,
          "grnd_level": 1013,
          "humidity": 74,
          "pressure": 1019,
          "sea_level": 1019,
          "temp": 8.47,
          "temp_kf": 0,
          "temp_max": 8.47,
          "temp_min": 8.47
         },
         "pop": 0,
         "sys": {
          "pod": "n"
         },
         "visibility": 10000,
         "weather": [
          {
           "description": "scattered clouds",
           "icon": "03n",
           "id": 802,
           "main": "Clouds"
          }
         ],
         "wind": {
          "deg": 299,
          "gust": 12.46,
          "speed": 6.52
         }
        },
        {
         "clouds": {
          "all": 55
         },
         "dt": 1696744800,
         "dt_txt": "2023-10-08 06:00:00",
         "main": {
          "feels_like": 5.02,
          "grnd_level": 1017,
          "humidity": 78,
          "pressure": 1023,
          "sea_level": 1023,
          "temp": 7.76,
          "temp_kf": 0,
          "temp_max": 7.76,
          "temp_min": 7.76
         },
         "pop": 0.2,
         "rain": {
          "3h": 0.12
         },
         "sys": {
          "pod": "d"
         },
         "visibility": 10000,
         "weather": [
          {
           "description": "light rain",
           "icon": "10d",
           "id": 500,
           "main": "Rain"
          }
         ],
         "wind": {
          "deg": 308,
          "gust": 8.9,
          "speed": 4.47
         }
        },
        {
         "clouds": {
          "all": 3
         },
         "dt": 1696755600,
         "dt_txt": "2023-10-08 09:00:00",
         "main": {
          "feels_like": 9.55,
          "grnd_level": 1021,
          "humidity": 46,
          "pressure": 1026,
          "sea_level": 1026,
          "temp": 11.18,
          "temp_kf": 0,
          "temp_max": 11.18,
          "temp_min": 11.18
         },
         "pop": 0,
         "sys": {
          "pod": "d"
         },
         "visibility": 10000,
         "weather": [
          {
           "description": "clear sky",
           "icon": "01d",
           "id": 800,
           "main": "Clear"
          }
         ],
         "wind": {
          "deg": 331,
          "gust": 8.16,
          "speed": 4.91
         }
        },
        {
         "clouds": {
          "all": 19
         },
         "dt": 1696766400,
         "dt_txt": "2023-10-08 12:00:00",
         "main": {
          "feels_like": 11.58,
          "grnd_level": 1022,
          "humidity": 36,
          "pressure": 1028,
          "sea_level": 1028,
          "temp": 13.26,
          "temp_kf": 0,
          "temp_max": 13.26,
          "temp_min": 13.26
         },
         "pop": 0,
         "sys": {
          "pod": "d"
         },
         "visibility": 10000,
         "weather": [
          {
           "description": "few clouds",
           "icon": "02d",
           "id": 801,
           "main": "Clouds"
          }
         ],
         "wind": {
          "deg": 321,
          "gust": 7.42,
          "speed": 4.68
         }
        },
        {
         "clouds": {
          "all": 90
         },
         "dt": 1696777200,
         "dt_txt": "2023-10-08 15:00:00",
         "main": {
          "feels_like": 11.03,
          "grnd_level": 1023,
          "humidity": 44,
          "pressure": 1029,
          "sea_level": 1029,
          "temp": 12.57,
          "temp_kf": 0,
          "temp_max": 12.57,
          "temp_min": 12.57
         },
         "pop": 0,
         "sys": {
          "pod": "d"
         },
         "visibility": 10000,
         "weather": [
          {
           "description": "overcast clouds",
           "icon": "04d",
           "id": 804,
           "main": "Clouds"
          }
         ],
         "wind": {
          "deg": 305,
          "gust": 6.4,
          "speed": 4.19
         }
        },
        {
         "clouds": {
          "all": 83
         },
         "dt": 1696788000,
         "dt_txt": "2023-10-08 18:00:00",
         "main": {
          "feels_like": 9,
          "grnd_level": 1024,
          "humidity": 52,
          "pressure": 1029,
          "sea_level": 1029,
          "temp": 10.53,
          "temp_kf": 0,
          "temp_max": 10.53,
          "temp_min": 10.53
         },
         "pop": 0,
         "sys": {
          "pod": "n"
         },
         "visibility": 10000,
         "weather": [
          {
           "description": "broken clouds",
           "icon": "04n",
           "id": 803,
           "main": "Clouds"
          }
         ],
         "wind": {
          "deg": 300,
          "gust": 4.57,
          "speed": 1.9
         }
        },
        {
         "clouds": {
          "all": 44
         },
         "dt": 1696798800,
         "dt_txt": "2023-10-08 21:00:00",
         "main": {
          "feels_like": 7.99,
          "grnd_level": 1025,
          "humidity": 54,
          "pressure": 1030,
          "sea_level": 1030,
          "temp": 8.84,
          "temp_kf": 0,
          "temp_max": 8.84,
          "temp_min": 8.84
         },
         "pop": 0,
         "sys": {
          "pod": "n"
         },
         "visibility": 10000,
         "weather": [
          {
           "description": "scattered clouds",
           "icon": "03n",
           "id": 802,
           "main": "Clouds"
          }
         ],
         "wind": {
          "deg": 321,
          "gust": 2.94,
          "speed": 1.83
         }
        },
        {
         "clouds": {
          "all": 26
         },
         "dt": 1696809600,
         "dt_txt": "2023-10-09 00:00:00",
         "main": {
          "feels_like": 6.81,
          "grnd_level": 1024,
          "humidity": 56,
          "pressure": 1030,
          "sea_level": 1030,
          "temp": 7.88,
          "temp_kf": 0,
          "temp_max": 7.88,
          "temp_min": 7.88
         },
         "pop": 0,
         "sys": {
          "pod": "n"
         },
         "visibility": 10000,
         "weather": [
          {
           "description": "scattered clouds",
           "icon": "03n",
           "id": 802,
           "main": "Clouds"
          }
         ],
         "wind": {
          "deg": 261,
          "gust": 3.1,
          "speed": 1.91
         }
        },
        {
         "clouds": {
          "all": 42
         },
         "dt": 1696820400,
         "dt_txt": "2023-10-09 03:00:00",
         "main": {
          "feels_like": 4.24,
          "grnd_level": 1024,
          "humidity": 68,
          "pressure": 1029,
          "sea_level": 1029,
          "temp": 6.48,
          "temp_kf": 0,
          "temp_max": 6.48,
          "temp_min": 6.48
         },
         "pop": 0,
         "sys": {
          "pod": "n"
         },
         "visibility": 10000,
         "weather": [
          {
           "description": "scattered clouds",
           "icon": "03n",
           "id": 802,
           "main": "Clouds"
          }
         ],
         "wind": {
          "deg": 273,
          "gust": 6.89,
          "speed": 3.07
         }
        },
        {
         "clouds": {
          "all": 71
         },
         "dt": 1696831200,
         "dt_txt": "2023-10-09 06:00:00",
         "main": {
          "feels_like": 4.33,
          "grnd_level": 1023,
          "humidity": 71,
          "pressure": 1028,
          "sea_level": 1028,
          "temp": 6.48,
          "temp_kf": 0,
          "temp_max": 6.48,
          "temp_min": 6.48
         },
         "pop": 0,
         "sys": {
          "pod": "d"
         },
         "visibility": 10000,
         "weather": [
          {
           "description": "broken clouds",
           "icon": "04d",
           "id": 803,
           "main": "Clouds"
          }
         ],
         "wind": {
          "deg": 261,
          "gust": 6.35,
          "speed": 2.93
         }
        },
        {
         "clouds": {
          "all": 100
         },
         "dt": 1696842000,
         "dt_txt": "2023-10-09 09:00:00",
         "main": {
          "feels_like": 8.72,
          "grnd_level": 1023,
          "humidity": 57,
          "pressure": 1028,
          "sea_level": 1028,
          "temp": 10.16,
          "temp_kf": 0,
          "temp_max": 10.16,
          "temp_min": 10.16
         },
         "pop": 0,
         "sys": {
          "pod": "d"
         },
         "visibility": 10000,
         "weather": [
          {
           "description": "overcast clouds",
           "icon": "04d",
           "id": 804,
           "main": "Clouds"
          }
         ],
         "wind": {
          "deg": 261,
          "gust": 7.81,
          "speed": 4.2
         }
        },
        {
         "clouds": {
          "all": 100
         },
         "dt": 1696852800,
         "dt_txt": "2023-10-09 12:00:00",
         "main": {
          "feels_like": 11.07,
          "grnd_level": 1020,
          "humidity": 49,
          "pressure": 1026,
          "sea_level": 1026,
          "temp": 12.49,
          "temp_kf": 0,
          "temp_max": 12.49,
          "temp_min": 12.49
         },
         "pop": 0,
         "sys": {
          "pod": "d"
         },
         "visibility": 10000,
         "weather": [
          {
           "description": "overcast clouds",
           "icon": "04d",
           "id": 804,
           "main": "Clouds"
          }
         ],
         "wind": {
          "deg": 258,
          "gust": 5.83,
          "speed": 4.35
         }
        },
        {
         "clouds": {
          "all": 100
         },
         "dt": 1696863600,
         "dt_txt": "2023-10-09 15:00:00",
         "main": {
          "feels_like": 10.54,
          "grnd_level": 1018,
          "humidity": 50,
          "pressure": 1023,
          "sea_level": 1023,
          "temp": 11.98,
          "temp_kf": 0,
          "temp_max": 11.98,
          "temp_min": 11.98
         },
         "pop": 0,
         "sys": {
          "pod": "d"
         },
         "visibility": 10000,
         "weather": [
          {
           "description": "overcast clouds",
           "icon": "04d",
           "id": 804,
           "main": "Clouds"
          }
         ],
         "wind": {
          "deg": 248,
          "gust": 6.4,
          "speed": 3.6
         }
        },
        {
         "clouds": {
          "all": 100
         },
         "dt": 1696874400,
         "dt_txt": "2023-10-09 18:00:00",
         "main": {
          "feels_like": 9.33,
          "grnd_level": 1015,
          "humidity": 54,
          "pressure": 1021,
          "sea_level": 1021,
          "temp": 10.79,
          "temp_kf": 0,
          "temp_max": 10.79,
          "temp_min": 10.79
         },
         "pop": 0,
         "sys": {
          "pod": "n"
         },
         "visibility": 10000,
         "weather": [
          {
           "description": "overcast clouds",
           "icon": "04n",
           "id": 804,
           "main": "Clouds"
          }
         ],
         "wind": {
          "deg": 239,
          "gust": 8.31,
          "speed": 4.57
         }
        },
        {
         "clouds": {
          "all": 100
         },
         "dt": 1696885200,
         "dt_txt": "2023-10-09 21:00:00",
         "main": {
          "feels_like": 5.92,
          "grnd_level": 1013,
          "humidity": 89,
          "pressure": 1018,
          "sea_level": 1018,
          "temp": 8.69,
          "temp_kf": 0,
          "temp_max": 8.69,
          "temp_min": 8.69
         },
         "pop": 0.98,
         "rain": {
          "3h": 2.51
         },
         "sys": {
          "pod": "n"
         },
         "visibility": 5468,
         "weather": [
          {
           "description": "light rain",
           "icon": "10n",
           "id": 500,
           "main": "Rain"
          }
         ],
         "wind": {
          "deg": 222,
          "gust": 12.8,
          "speed": 5.08
         }
        },
        {
         "clouds": {
          "all": 100
         },
         "dt": 1696896000,
         "dt_txt": "2023-10-10 00:00:00",
         "main": {
          "feels_like": 7.44,
          "grnd_level": 1010,
          "humidity": 90,
          "pressure": 1015,
          "sea_level": 1015,
          "temp": 9.86,
          "temp_kf": 0,
          "temp_max": 9.86,
          "temp_min": 9.86
         },
         "pop": 1,
         "rain": {
          "3h": 4.57
         },
         "sys": {
          "pod": "n"
         },
         "visibility": 10000,
         "weather": [
          {
           "description": "moderate rain",
           "icon": "10n",
           "id": 501,
           "main": "Rain"
          }
         ],
         "wind": {
          "deg": 232,
          "gust": 13.52,
          "speed": 4.94
         }
        },
        {
         "clouds": {
          "all": 100
         },
         "dt": 1696906800,
         "dt_txt": "2023-10-10 03:00:00",
         "main": {
          "feels_like": 11.71,
          "grnd_level": 1008,
          "humidity": 91,
          "pressure": 1013,
          "sea_level": 1013,
          "temp": 12.07,
          "temp_kf": 0,
          "temp_max": 12.07,
          "temp_min": 12.07
         },
         "pop": 0.98,
         "rain": {
          "3h": 2.96
         },
         "sys": {
          "pod": "n"
         },
         "visibility": 10000,
         "weather": [
          {
           "description": "light rain",
           "icon": "10n",
           "id": 500,
           "main": "Rain"
          }
         ],
         "wind": {
          "deg": 259,
          "gust": 13.45,
          "speed": 5.42
         }
        },
        {
         "clouds": {
          "all": 100
         },
         "dt": 1696917600,
         "dt_txt": "2023-10-10 06:00:00",
         "main": {
          "feels_like": 12.67,
          "grnd_level": 1007,
          "humidity": 94,
          "pressure": 1012,
          "sea_level": 1012,
          "temp": 12.87,
          "temp_kf": 0,
          "temp_max": 12.87,
          "temp_min": 12.87
         },
         "pop": 0.98,
         "rain": {
          "3h": 0.65
         },
         "sys": {
          "pod": "d"
         },
         "visibility": 10000,
         "weather": [
          {
           "description": "light rain",
           "icon": "10d",
           "id": 500,
           "main": "Rain"
          }
         ],
         "wind": {
          "deg": 260,
          "gust": 13.1,
          "speed": 5.09
         }
        },
        {
         "clouds": {
          "all": 100
         },
         "dt": 1696928400,
         "dt_txt": "2023-10-10 09:00:00",
         "main": {
          "feels_like": 13.83,
          "grnd_level": 1007,
          "humidity": 93,
          "pressure": 1012,
          "sea_level": 1012,
          "temp": 13.95,
          "temp_kf": 0,
          "temp_max": 13.95,
          "temp_min": 13.95
         },
         "pop": 0.96,
         "rain": {
          "3h": 0.99
         },
         "sys": {
          "pod": "d"
         },
         "visibility": 10000,
         "weather": [
          {
           "description": "light rain",
           "icon": "10d",
           "id": 500,
           "main": "Rain"
          }
         ],
         "wind": {
          "deg": 268,
          "gust": 12.8,
          "speed": 5.55
         }
        }
       ],
       "message": 0
      },
      "text/plain": [
       "<IPython.core.display.JSON object>"
      ]
     },
     "execution_count": 22,
     "metadata": {
      "application/json": {
       "expanded": false,
       "root": "root"
      }
     },
     "output_type": "execute_result"
    }
   ],
   "source": [
    "JSON(weather_json_city)"
   ]
  },
  {
   "cell_type": "code",
   "execution_count": 23,
   "id": "33ae350c-a8d5-41c4-b308-203bbe8f2458",
   "metadata": {
    "tags": []
   },
   "outputs": [
    {
     "data": {
      "text/plain": [
       "{'id': 2950159,\n",
       " 'name': 'Berlin',\n",
       " 'coord': {'lat': 52.5244, 'lon': 13.4105},\n",
       " 'country': 'DE',\n",
       " 'population': 1000000,\n",
       " 'timezone': 7200,\n",
       " 'sunrise': 1696482803,\n",
       " 'sunset': 1696523773}"
      ]
     },
     "execution_count": 23,
     "metadata": {},
     "output_type": "execute_result"
    }
   ],
   "source": [
    "weather_json_city['city']"
   ]
  },
  {
   "cell_type": "markdown",
   "id": "836f2167-9fc5-4223-8a1d-30aca1dc185b",
   "metadata": {
    "tags": []
   },
   "source": [
    "# My_weather_city_df"
   ]
  },
  {
   "cell_type": "code",
   "execution_count": 24,
   "id": "90b3f467-3839-4084-9e8f-5bc9873b48ee",
   "metadata": {
    "tags": []
   },
   "outputs": [
    {
     "name": "stdout",
     "output_type": "stream",
     "text": [
      "<class 'pandas.core.frame.DataFrame'>\n",
      "RangeIndex: 5 entries, 0 to 4\n",
      "Data columns (total 6 columns):\n",
      " #   Column      Non-Null Count  Dtype  \n",
      "---  ------      --------------  -----  \n",
      " 0   name        5 non-null      object \n",
      " 1   latitude    5 non-null      float64\n",
      " 2   longitude   5 non-null      float64\n",
      " 3   country     5 non-null      object \n",
      " 4   population  5 non-null      int64  \n",
      " 5   city_id     5 non-null      int64  \n",
      "dtypes: float64(2), int64(2), object(2)\n",
      "memory usage: 372.0+ bytes\n"
     ]
    }
   ],
   "source": [
    "cities_df.info()"
   ]
  },
  {
   "cell_type": "code",
   "execution_count": 25,
   "id": "85ca13c1-504d-45e2-b525-3890759b427c",
   "metadata": {
    "tags": []
   },
   "outputs": [],
   "source": [
    "weather_dict = {'city_id':[],\n",
    "                'time':[],\n",
    "                'current_temp':[],\n",
    "                'forecast_temp':[],\n",
    "                'feels_like':[],\n",
    "                'humidity_level':[],\n",
    "               }"
   ]
  },
  {
   "cell_type": "code",
   "execution_count": 26,
   "id": "39d74c14-1801-4c6b-8604-1f0875138fa2",
   "metadata": {
    "tags": []
   },
   "outputs": [
    {
     "data": {
      "text/plain": [
       "{'city_id': [],\n",
       " 'time': [],\n",
       " 'current_temp': [],\n",
       " 'forecast_temp': [],\n",
       " 'feels_like': [],\n",
       " 'humidity_level': []}"
      ]
     },
     "execution_count": 26,
     "metadata": {},
     "output_type": "execute_result"
    }
   ],
   "source": [
    "weather_dict"
   ]
  },
  {
   "cell_type": "code",
   "execution_count": 27,
   "id": "b25a4d63-7c57-4474-846e-602d9359f1fa",
   "metadata": {
    "tags": []
   },
   "outputs": [
    {
     "data": {
      "application/json": {
       "city": {
        "coord": {
         "lat": 52.5244,
         "lon": 13.4105
        },
        "country": "DE",
        "id": 2950159,
        "name": "Berlin",
        "population": 1000000,
        "sunrise": 1696482803,
        "sunset": 1696523773,
        "timezone": 7200
       },
       "cnt": 40,
       "cod": "200",
       "list": [
        {
         "clouds": {
          "all": 78
         },
         "dt": 1696507200,
         "dt_txt": "2023-10-05 12:00:00",
         "main": {
          "feels_like": 15.33,
          "grnd_level": 1015,
          "humidity": 74,
          "pressure": 1012,
          "sea_level": 1012,
          "temp": 15.77,
          "temp_kf": 0.77,
          "temp_max": 15.77,
          "temp_min": 15
         },
         "pop": 0.27,
         "rain": {
          "3h": 0.38
         },
         "sys": {
          "pod": "d"
         },
         "visibility": 10000,
         "weather": [
          {
           "description": "light rain",
           "icon": "10d",
           "id": 500,
           "main": "Rain"
          }
         ],
         "wind": {
          "deg": 288,
          "gust": 10.41,
          "speed": 4.79
         }
        },
        {
         "clouds": {
          "all": 91
         },
         "dt": 1696518000,
         "dt_txt": "2023-10-05 15:00:00",
         "main": {
          "feels_like": 15.37,
          "grnd_level": 1016,
          "humidity": 75,
          "pressure": 1017,
          "sea_level": 1017,
          "temp": 15.78,
          "temp_kf": 0.19,
          "temp_max": 15.78,
          "temp_min": 15.59
         },
         "pop": 0.54,
         "rain": {
          "3h": 0.69
         },
         "sys": {
          "pod": "d"
         },
         "visibility": 10000,
         "weather": [
          {
           "description": "light rain",
           "icon": "10d",
           "id": 500,
           "main": "Rain"
          }
         ],
         "wind": {
          "deg": 282,
          "gust": 9.37,
          "speed": 5.36
         }
        },
        {
         "clouds": {
          "all": 98
         },
         "dt": 1696528800,
         "dt_txt": "2023-10-05 18:00:00",
         "main": {
          "feels_like": 13.96,
          "grnd_level": 1017,
          "humidity": 76,
          "pressure": 1022,
          "sea_level": 1022,
          "temp": 14.47,
          "temp_kf": 0,
          "temp_max": 14.47,
          "temp_min": 14.47
         },
         "pop": 0.32,
         "rain": {
          "3h": 0.15
         },
         "sys": {
          "pod": "n"
         },
         "visibility": 10000,
         "weather": [
          {
           "description": "light rain",
           "icon": "10n",
           "id": 500,
           "main": "Rain"
          }
         ],
         "wind": {
          "deg": 268,
          "gust": 8.28,
          "speed": 3.8
         }
        },
        {
         "clouds": {
          "all": 100
         },
         "dt": 1696539600,
         "dt_txt": "2023-10-05 21:00:00",
         "main": {
          "feels_like": 12.77,
          "grnd_level": 1018,
          "humidity": 90,
          "pressure": 1023,
          "sea_level": 1023,
          "temp": 13.06,
          "temp_kf": 0,
          "temp_max": 13.06,
          "temp_min": 13.06
         },
         "pop": 0.18,
         "sys": {
          "pod": "n"
         },
         "visibility": 10000,
         "weather": [
          {
           "description": "overcast clouds",
           "icon": "04n",
           "id": 804,
           "main": "Clouds"
          }
         ],
         "wind": {
          "deg": 258,
          "gust": 7.45,
          "speed": 2.87
         }
        },
        {
         "clouds": {
          "all": 100
         },
         "dt": 1696550400,
         "dt_txt": "2023-10-06 00:00:00",
         "main": {
          "feels_like": 12.6,
          "grnd_level": 1019,
          "humidity": 93,
          "pressure": 1024,
          "sea_level": 1024,
          "temp": 12.83,
          "temp_kf": 0,
          "temp_max": 12.83,
          "temp_min": 12.83
         },
         "pop": 0.09,
         "sys": {
          "pod": "n"
         },
         "visibility": 10000,
         "weather": [
          {
           "description": "overcast clouds",
           "icon": "04n",
           "id": 804,
           "main": "Clouds"
          }
         ],
         "wind": {
          "deg": 257,
          "gust": 7.1,
          "speed": 2.7
         }
        },
        {
         "clouds": {
          "all": 100
         },
         "dt": 1696561200,
         "dt_txt": "2023-10-06 03:00:00",
         "main": {
          "feels_like": 12.61,
          "grnd_level": 1018,
          "humidity": 90,
          "pressure": 1024,
          "sea_level": 1024,
          "temp": 12.91,
          "temp_kf": 0,
          "temp_max": 12.91,
          "temp_min": 12.91
         },
         "pop": 0,
         "sys": {
          "pod": "n"
         },
         "visibility": 10000,
         "weather": [
          {
           "description": "overcast clouds",
           "icon": "04n",
           "id": 804,
           "main": "Clouds"
          }
         ],
         "wind": {
          "deg": 245,
          "gust": 7.37,
          "speed": 2.64
         }
        },
        {
         "clouds": {
          "all": 90
         },
         "dt": 1696572000,
         "dt_txt": "2023-10-06 06:00:00",
         "main": {
          "feels_like": 11.94,
          "grnd_level": 1019,
          "humidity": 88,
          "pressure": 1024,
          "sea_level": 1024,
          "temp": 12.35,
          "temp_kf": 0,
          "temp_max": 12.35,
          "temp_min": 12.35
         },
         "pop": 0,
         "sys": {
          "pod": "d"
         },
         "visibility": 10000,
         "weather": [
          {
           "description": "overcast clouds",
           "icon": "04d",
           "id": 804,
           "main": "Clouds"
          }
         ],
         "wind": {
          "deg": 238,
          "gust": 8.14,
          "speed": 3.06
         }
        },
        {
         "clouds": {
          "all": 70
         },
         "dt": 1696582800,
         "dt_txt": "2023-10-06 09:00:00",
         "main": {
          "feels_like": 15.97,
          "grnd_level": 1019,
          "humidity": 61,
          "pressure": 1024,
          "sea_level": 1024,
          "temp": 16.66,
          "temp_kf": 0,
          "temp_max": 16.66,
          "temp_min": 16.66
         },
         "pop": 0,
         "sys": {
          "pod": "d"
         },
         "visibility": 10000,
         "weather": [
          {
           "description": "broken clouds",
           "icon": "04d",
           "id": 803,
           "main": "Clouds"
          }
         ],
         "wind": {
          "deg": 233,
          "gust": 8.91,
          "speed": 5.05
         }
        },
        {
         "clouds": {
          "all": 76
         },
         "dt": 1696593600,
         "dt_txt": "2023-10-06 12:00:00",
         "main": {
          "feels_like": 18.88,
          "grnd_level": 1017,
          "humidity": 46,
          "pressure": 1022,
          "sea_level": 1022,
          "temp": 19.66,
          "temp_kf": 0,
          "temp_max": 19.66,
          "temp_min": 19.66
         },
         "pop": 0,
         "sys": {
          "pod": "d"
         },
         "visibility": 10000,
         "weather": [
          {
           "description": "broken clouds",
           "icon": "04d",
           "id": 803,
           "main": "Clouds"
          }
         ],
         "wind": {
          "deg": 241,
          "gust": 8.56,
          "speed": 5.94
         }
        },
        {
         "clouds": {
          "all": 100
         },
         "dt": 1696604400,
         "dt_txt": "2023-10-06 15:00:00",
         "main": {
          "feels_like": 17.5,
          "grnd_level": 1015,
          "humidity": 52,
          "pressure": 1020,
          "sea_level": 1020,
          "temp": 18.26,
          "temp_kf": 0,
          "temp_max": 18.26,
          "temp_min": 18.26
         },
         "pop": 0,
         "sys": {
          "pod": "d"
         },
         "visibility": 10000,
         "weather": [
          {
           "description": "overcast clouds",
           "icon": "04d",
           "id": 804,
           "main": "Clouds"
          }
         ],
         "wind": {
          "deg": 258,
          "gust": 10.72,
          "speed": 5.37
         }
        },
        {
         "clouds": {
          "all": 100
         },
         "dt": 1696615200,
         "dt_txt": "2023-10-06 18:00:00",
         "main": {
          "feels_like": 16.81,
          "grnd_level": 1014,
          "humidity": 55,
          "pressure": 1019,
          "sea_level": 1019,
          "temp": 17.56,
          "temp_kf": 0,
          "temp_max": 17.56,
          "temp_min": 17.56
         },
         "pop": 0,
         "sys": {
          "pod": "n"
         },
         "visibility": 10000,
         "weather": [
          {
           "description": "overcast clouds",
           "icon": "04n",
           "id": 804,
           "main": "Clouds"
          }
         ],
         "wind": {
          "deg": 240,
          "gust": 12.8,
          "speed": 5.64
         }
        },
        {
         "clouds": {
          "all": 100
         },
         "dt": 1696626000,
         "dt_txt": "2023-10-06 21:00:00",
         "main": {
          "feels_like": 15.62,
          "grnd_level": 1013,
          "humidity": 63,
          "pressure": 1018,
          "sea_level": 1018,
          "temp": 16.29,
          "temp_kf": 0,
          "temp_max": 16.29,
          "temp_min": 16.29
         },
         "pop": 0.62,
         "rain": {
          "3h": 0.48
         },
         "sys": {
          "pod": "n"
         },
         "visibility": 10000,
         "weather": [
          {
           "description": "light rain",
           "icon": "10n",
           "id": 500,
           "main": "Rain"
          }
         ],
         "wind": {
          "deg": 248,
          "gust": 14.6,
          "speed": 5.8
         }
        },
        {
         "clouds": {
          "all": 100
         },
         "dt": 1696636800,
         "dt_txt": "2023-10-07 00:00:00",
         "main": {
          "feels_like": 16.01,
          "grnd_level": 1011,
          "humidity": 59,
          "pressure": 1016,
          "sea_level": 1016,
          "temp": 16.74,
          "temp_kf": 0,
          "temp_max": 16.74,
          "temp_min": 16.74
         },
         "pop": 0.3,
         "sys": {
          "pod": "n"
         },
         "visibility": 10000,
         "weather": [
          {
           "description": "overcast clouds",
           "icon": "04n",
           "id": 804,
           "main": "Clouds"
          }
         ],
         "wind": {
          "deg": 249,
          "gust": 14.74,
          "speed": 6.53
         }
        },
        {
         "clouds": {
          "all": 100
         },
         "dt": 1696647600,
         "dt_txt": "2023-10-07 03:00:00",
         "main": {
          "feels_like": 15.81,
          "grnd_level": 1009,
          "humidity": 62,
          "pressure": 1014,
          "sea_level": 1014,
          "temp": 16.49,
          "temp_kf": 0,
          "temp_max": 16.49,
          "temp_min": 16.49
         },
         "pop": 0,
         "sys": {
          "pod": "n"
         },
         "visibility": 10000,
         "weather": [
          {
           "description": "overcast clouds",
           "icon": "04n",
           "id": 804,
           "main": "Clouds"
          }
         ],
         "wind": {
          "deg": 249,
          "gust": 16.39,
          "speed": 7.29
         }
        },
        {
         "clouds": {
          "all": 100
         },
         "dt": 1696658400,
         "dt_txt": "2023-10-07 06:00:00",
         "main": {
          "feels_like": 16.03,
          "grnd_level": 1008,
          "humidity": 66,
          "pressure": 1013,
          "sea_level": 1013,
          "temp": 16.59,
          "temp_kf": 0,
          "temp_max": 16.59,
          "temp_min": 16.59
         },
         "pop": 0,
         "sys": {
          "pod": "d"
         },
         "visibility": 10000,
         "weather": [
          {
           "description": "overcast clouds",
           "icon": "04d",
           "id": 804,
           "main": "Clouds"
          }
         ],
         "wind": {
          "deg": 253,
          "gust": 16.69,
          "speed": 7.17
         }
        },
        {
         "clouds": {
          "all": 100
         },
         "dt": 1696669200,
         "dt_txt": "2023-10-07 09:00:00",
         "main": {
          "feels_like": 16.07,
          "grnd_level": 1008,
          "humidity": 61,
          "pressure": 1013,
          "sea_level": 1013,
          "temp": 16.75,
          "temp_kf": 0,
          "temp_max": 16.75,
          "temp_min": 16.75
         },
         "pop": 0.2,
         "rain": {
          "3h": 0.13
         },
         "sys": {
          "pod": "d"
         },
         "visibility": 10000,
         "weather": [
          {
           "description": "light rain",
           "icon": "10d",
           "id": 500,
           "main": "Rain"
          }
         ],
         "wind": {
          "deg": 258,
          "gust": 14.45,
          "speed": 7.24
         }
        },
        {
         "clouds": {
          "all": 100
         },
         "dt": 1696680000,
         "dt_txt": "2023-10-07 12:00:00",
         "main": {
          "feels_like": 17.38,
          "grnd_level": 1007,
          "humidity": 64,
          "pressure": 1012,
          "sea_level": 1012,
          "temp": 17.87,
          "temp_kf": 0,
          "temp_max": 17.87,
          "temp_min": 17.87
         },
         "pop": 0,
         "sys": {
          "pod": "d"
         },
         "visibility": 10000,
         "weather": [
          {
           "description": "overcast clouds",
           "icon": "04d",
           "id": 804,
           "main": "Clouds"
          }
         ],
         "wind": {
          "deg": 262,
          "gust": 13.38,
          "speed": 7.68
         }
        },
        {
         "clouds": {
          "all": 100
         },
         "dt": 1696690800,
         "dt_txt": "2023-10-07 15:00:00",
         "main": {
          "feels_like": 16.34,
          "grnd_level": 1006,
          "humidity": 73,
          "pressure": 1012,
          "sea_level": 1012,
          "temp": 16.71,
          "temp_kf": 0,
          "temp_max": 16.71,
          "temp_min": 16.71
         },
         "pop": 0.02,
         "sys": {
          "pod": "d"
         },
         "visibility": 10000,
         "weather": [
          {
           "description": "overcast clouds",
           "icon": "04d",
           "id": 804,
           "main": "Clouds"
          }
         ],
         "wind": {
          "deg": 261,
          "gust": 15.36,
          "speed": 7.72
         }
        },
        {
         "clouds": {
          "all": 100
         },
         "dt": 1696701600,
         "dt_txt": "2023-10-07 18:00:00",
         "main": {
          "feels_like": 16.35,
          "grnd_level": 1005,
          "humidity": 86,
          "pressure": 1010,
          "sea_level": 1010,
          "temp": 16.41,
          "temp_kf": 0,
          "temp_max": 16.41,
          "temp_min": 16.41
         },
         "pop": 0.62,
         "rain": {
          "3h": 1.46
         },
         "sys": {
          "pod": "n"
         },
         "visibility": 6646,
         "weather": [
          {
           "description": "light rain",
           "icon": "10n",
           "id": 500,
           "main": "Rain"
          }
         ],
         "wind": {
          "deg": 290,
          "gust": 13.81,
          "speed": 5.8
         }
        },
        {
         "clouds": {
          "all": 100
         },
         "dt": 1696712400,
         "dt_txt": "2023-10-07 21:00:00",
         "main": {
          "feels_like": 10.85,
          "grnd_level": 1008,
          "humidity": 85,
          "pressure": 1013,
          "sea_level": 1013,
          "temp": 11.43,
          "temp_kf": 0,
          "temp_max": 11.43,
          "temp_min": 11.43
         },
         "pop": 1,
         "rain": {
          "3h": 5.7
         },
         "sys": {
          "pod": "n"
         },
         "visibility": 10000,
         "weather": [
          {
           "description": "moderate rain",
           "icon": "10n",
           "id": 501,
           "main": "Rain"
          }
         ],
         "wind": {
          "deg": 321,
          "gust": 11.29,
          "speed": 5.48
         }
        },
        {
         "clouds": {
          "all": 100
         },
         "dt": 1696723200,
         "dt_txt": "2023-10-08 00:00:00",
         "main": {
          "feels_like": 9.64,
          "grnd_level": 1011,
          "humidity": 81,
          "pressure": 1016,
          "sea_level": 1016,
          "temp": 10.43,
          "temp_kf": 0,
          "temp_max": 10.43,
          "temp_min": 10.43
         },
         "pop": 1,
         "rain": {
          "3h": 1.28
         },
         "sys": {
          "pod": "n"
         },
         "visibility": 10000,
         "weather": [
          {
           "description": "light rain",
           "icon": "10n",
           "id": 500,
           "main": "Rain"
          }
         ],
         "wind": {
          "deg": 299,
          "gust": 12.7,
          "speed": 6.18
         }
        },
        {
         "clouds": {
          "all": 43
         },
         "dt": 1696734000,
         "dt_txt": "2023-10-08 03:00:00",
         "main": {
          "feels_like": 5.12,
          "grnd_level": 1013,
          "humidity": 74,
          "pressure": 1019,
          "sea_level": 1019,
          "temp": 8.47,
          "temp_kf": 0,
          "temp_max": 8.47,
          "temp_min": 8.47
         },
         "pop": 0,
         "sys": {
          "pod": "n"
         },
         "visibility": 10000,
         "weather": [
          {
           "description": "scattered clouds",
           "icon": "03n",
           "id": 802,
           "main": "Clouds"
          }
         ],
         "wind": {
          "deg": 299,
          "gust": 12.46,
          "speed": 6.52
         }
        },
        {
         "clouds": {
          "all": 55
         },
         "dt": 1696744800,
         "dt_txt": "2023-10-08 06:00:00",
         "main": {
          "feels_like": 5.02,
          "grnd_level": 1017,
          "humidity": 78,
          "pressure": 1023,
          "sea_level": 1023,
          "temp": 7.76,
          "temp_kf": 0,
          "temp_max": 7.76,
          "temp_min": 7.76
         },
         "pop": 0.2,
         "rain": {
          "3h": 0.12
         },
         "sys": {
          "pod": "d"
         },
         "visibility": 10000,
         "weather": [
          {
           "description": "light rain",
           "icon": "10d",
           "id": 500,
           "main": "Rain"
          }
         ],
         "wind": {
          "deg": 308,
          "gust": 8.9,
          "speed": 4.47
         }
        },
        {
         "clouds": {
          "all": 3
         },
         "dt": 1696755600,
         "dt_txt": "2023-10-08 09:00:00",
         "main": {
          "feels_like": 9.55,
          "grnd_level": 1021,
          "humidity": 46,
          "pressure": 1026,
          "sea_level": 1026,
          "temp": 11.18,
          "temp_kf": 0,
          "temp_max": 11.18,
          "temp_min": 11.18
         },
         "pop": 0,
         "sys": {
          "pod": "d"
         },
         "visibility": 10000,
         "weather": [
          {
           "description": "clear sky",
           "icon": "01d",
           "id": 800,
           "main": "Clear"
          }
         ],
         "wind": {
          "deg": 331,
          "gust": 8.16,
          "speed": 4.91
         }
        },
        {
         "clouds": {
          "all": 19
         },
         "dt": 1696766400,
         "dt_txt": "2023-10-08 12:00:00",
         "main": {
          "feels_like": 11.58,
          "grnd_level": 1022,
          "humidity": 36,
          "pressure": 1028,
          "sea_level": 1028,
          "temp": 13.26,
          "temp_kf": 0,
          "temp_max": 13.26,
          "temp_min": 13.26
         },
         "pop": 0,
         "sys": {
          "pod": "d"
         },
         "visibility": 10000,
         "weather": [
          {
           "description": "few clouds",
           "icon": "02d",
           "id": 801,
           "main": "Clouds"
          }
         ],
         "wind": {
          "deg": 321,
          "gust": 7.42,
          "speed": 4.68
         }
        },
        {
         "clouds": {
          "all": 90
         },
         "dt": 1696777200,
         "dt_txt": "2023-10-08 15:00:00",
         "main": {
          "feels_like": 11.03,
          "grnd_level": 1023,
          "humidity": 44,
          "pressure": 1029,
          "sea_level": 1029,
          "temp": 12.57,
          "temp_kf": 0,
          "temp_max": 12.57,
          "temp_min": 12.57
         },
         "pop": 0,
         "sys": {
          "pod": "d"
         },
         "visibility": 10000,
         "weather": [
          {
           "description": "overcast clouds",
           "icon": "04d",
           "id": 804,
           "main": "Clouds"
          }
         ],
         "wind": {
          "deg": 305,
          "gust": 6.4,
          "speed": 4.19
         }
        },
        {
         "clouds": {
          "all": 83
         },
         "dt": 1696788000,
         "dt_txt": "2023-10-08 18:00:00",
         "main": {
          "feels_like": 9,
          "grnd_level": 1024,
          "humidity": 52,
          "pressure": 1029,
          "sea_level": 1029,
          "temp": 10.53,
          "temp_kf": 0,
          "temp_max": 10.53,
          "temp_min": 10.53
         },
         "pop": 0,
         "sys": {
          "pod": "n"
         },
         "visibility": 10000,
         "weather": [
          {
           "description": "broken clouds",
           "icon": "04n",
           "id": 803,
           "main": "Clouds"
          }
         ],
         "wind": {
          "deg": 300,
          "gust": 4.57,
          "speed": 1.9
         }
        },
        {
         "clouds": {
          "all": 44
         },
         "dt": 1696798800,
         "dt_txt": "2023-10-08 21:00:00",
         "main": {
          "feels_like": 7.99,
          "grnd_level": 1025,
          "humidity": 54,
          "pressure": 1030,
          "sea_level": 1030,
          "temp": 8.84,
          "temp_kf": 0,
          "temp_max": 8.84,
          "temp_min": 8.84
         },
         "pop": 0,
         "sys": {
          "pod": "n"
         },
         "visibility": 10000,
         "weather": [
          {
           "description": "scattered clouds",
           "icon": "03n",
           "id": 802,
           "main": "Clouds"
          }
         ],
         "wind": {
          "deg": 321,
          "gust": 2.94,
          "speed": 1.83
         }
        },
        {
         "clouds": {
          "all": 26
         },
         "dt": 1696809600,
         "dt_txt": "2023-10-09 00:00:00",
         "main": {
          "feels_like": 6.81,
          "grnd_level": 1024,
          "humidity": 56,
          "pressure": 1030,
          "sea_level": 1030,
          "temp": 7.88,
          "temp_kf": 0,
          "temp_max": 7.88,
          "temp_min": 7.88
         },
         "pop": 0,
         "sys": {
          "pod": "n"
         },
         "visibility": 10000,
         "weather": [
          {
           "description": "scattered clouds",
           "icon": "03n",
           "id": 802,
           "main": "Clouds"
          }
         ],
         "wind": {
          "deg": 261,
          "gust": 3.1,
          "speed": 1.91
         }
        },
        {
         "clouds": {
          "all": 42
         },
         "dt": 1696820400,
         "dt_txt": "2023-10-09 03:00:00",
         "main": {
          "feels_like": 4.24,
          "grnd_level": 1024,
          "humidity": 68,
          "pressure": 1029,
          "sea_level": 1029,
          "temp": 6.48,
          "temp_kf": 0,
          "temp_max": 6.48,
          "temp_min": 6.48
         },
         "pop": 0,
         "sys": {
          "pod": "n"
         },
         "visibility": 10000,
         "weather": [
          {
           "description": "scattered clouds",
           "icon": "03n",
           "id": 802,
           "main": "Clouds"
          }
         ],
         "wind": {
          "deg": 273,
          "gust": 6.89,
          "speed": 3.07
         }
        },
        {
         "clouds": {
          "all": 71
         },
         "dt": 1696831200,
         "dt_txt": "2023-10-09 06:00:00",
         "main": {
          "feels_like": 4.33,
          "grnd_level": 1023,
          "humidity": 71,
          "pressure": 1028,
          "sea_level": 1028,
          "temp": 6.48,
          "temp_kf": 0,
          "temp_max": 6.48,
          "temp_min": 6.48
         },
         "pop": 0,
         "sys": {
          "pod": "d"
         },
         "visibility": 10000,
         "weather": [
          {
           "description": "broken clouds",
           "icon": "04d",
           "id": 803,
           "main": "Clouds"
          }
         ],
         "wind": {
          "deg": 261,
          "gust": 6.35,
          "speed": 2.93
         }
        },
        {
         "clouds": {
          "all": 100
         },
         "dt": 1696842000,
         "dt_txt": "2023-10-09 09:00:00",
         "main": {
          "feels_like": 8.72,
          "grnd_level": 1023,
          "humidity": 57,
          "pressure": 1028,
          "sea_level": 1028,
          "temp": 10.16,
          "temp_kf": 0,
          "temp_max": 10.16,
          "temp_min": 10.16
         },
         "pop": 0,
         "sys": {
          "pod": "d"
         },
         "visibility": 10000,
         "weather": [
          {
           "description": "overcast clouds",
           "icon": "04d",
           "id": 804,
           "main": "Clouds"
          }
         ],
         "wind": {
          "deg": 261,
          "gust": 7.81,
          "speed": 4.2
         }
        },
        {
         "clouds": {
          "all": 100
         },
         "dt": 1696852800,
         "dt_txt": "2023-10-09 12:00:00",
         "main": {
          "feels_like": 11.07,
          "grnd_level": 1020,
          "humidity": 49,
          "pressure": 1026,
          "sea_level": 1026,
          "temp": 12.49,
          "temp_kf": 0,
          "temp_max": 12.49,
          "temp_min": 12.49
         },
         "pop": 0,
         "sys": {
          "pod": "d"
         },
         "visibility": 10000,
         "weather": [
          {
           "description": "overcast clouds",
           "icon": "04d",
           "id": 804,
           "main": "Clouds"
          }
         ],
         "wind": {
          "deg": 258,
          "gust": 5.83,
          "speed": 4.35
         }
        },
        {
         "clouds": {
          "all": 100
         },
         "dt": 1696863600,
         "dt_txt": "2023-10-09 15:00:00",
         "main": {
          "feels_like": 10.54,
          "grnd_level": 1018,
          "humidity": 50,
          "pressure": 1023,
          "sea_level": 1023,
          "temp": 11.98,
          "temp_kf": 0,
          "temp_max": 11.98,
          "temp_min": 11.98
         },
         "pop": 0,
         "sys": {
          "pod": "d"
         },
         "visibility": 10000,
         "weather": [
          {
           "description": "overcast clouds",
           "icon": "04d",
           "id": 804,
           "main": "Clouds"
          }
         ],
         "wind": {
          "deg": 248,
          "gust": 6.4,
          "speed": 3.6
         }
        },
        {
         "clouds": {
          "all": 100
         },
         "dt": 1696874400,
         "dt_txt": "2023-10-09 18:00:00",
         "main": {
          "feels_like": 9.33,
          "grnd_level": 1015,
          "humidity": 54,
          "pressure": 1021,
          "sea_level": 1021,
          "temp": 10.79,
          "temp_kf": 0,
          "temp_max": 10.79,
          "temp_min": 10.79
         },
         "pop": 0,
         "sys": {
          "pod": "n"
         },
         "visibility": 10000,
         "weather": [
          {
           "description": "overcast clouds",
           "icon": "04n",
           "id": 804,
           "main": "Clouds"
          }
         ],
         "wind": {
          "deg": 239,
          "gust": 8.31,
          "speed": 4.57
         }
        },
        {
         "clouds": {
          "all": 100
         },
         "dt": 1696885200,
         "dt_txt": "2023-10-09 21:00:00",
         "main": {
          "feels_like": 5.92,
          "grnd_level": 1013,
          "humidity": 89,
          "pressure": 1018,
          "sea_level": 1018,
          "temp": 8.69,
          "temp_kf": 0,
          "temp_max": 8.69,
          "temp_min": 8.69
         },
         "pop": 0.98,
         "rain": {
          "3h": 2.51
         },
         "sys": {
          "pod": "n"
         },
         "visibility": 5468,
         "weather": [
          {
           "description": "light rain",
           "icon": "10n",
           "id": 500,
           "main": "Rain"
          }
         ],
         "wind": {
          "deg": 222,
          "gust": 12.8,
          "speed": 5.08
         }
        },
        {
         "clouds": {
          "all": 100
         },
         "dt": 1696896000,
         "dt_txt": "2023-10-10 00:00:00",
         "main": {
          "feels_like": 7.44,
          "grnd_level": 1010,
          "humidity": 90,
          "pressure": 1015,
          "sea_level": 1015,
          "temp": 9.86,
          "temp_kf": 0,
          "temp_max": 9.86,
          "temp_min": 9.86
         },
         "pop": 1,
         "rain": {
          "3h": 4.57
         },
         "sys": {
          "pod": "n"
         },
         "visibility": 10000,
         "weather": [
          {
           "description": "moderate rain",
           "icon": "10n",
           "id": 501,
           "main": "Rain"
          }
         ],
         "wind": {
          "deg": 232,
          "gust": 13.52,
          "speed": 4.94
         }
        },
        {
         "clouds": {
          "all": 100
         },
         "dt": 1696906800,
         "dt_txt": "2023-10-10 03:00:00",
         "main": {
          "feels_like": 11.71,
          "grnd_level": 1008,
          "humidity": 91,
          "pressure": 1013,
          "sea_level": 1013,
          "temp": 12.07,
          "temp_kf": 0,
          "temp_max": 12.07,
          "temp_min": 12.07
         },
         "pop": 0.98,
         "rain": {
          "3h": 2.96
         },
         "sys": {
          "pod": "n"
         },
         "visibility": 10000,
         "weather": [
          {
           "description": "light rain",
           "icon": "10n",
           "id": 500,
           "main": "Rain"
          }
         ],
         "wind": {
          "deg": 259,
          "gust": 13.45,
          "speed": 5.42
         }
        },
        {
         "clouds": {
          "all": 100
         },
         "dt": 1696917600,
         "dt_txt": "2023-10-10 06:00:00",
         "main": {
          "feels_like": 12.67,
          "grnd_level": 1007,
          "humidity": 94,
          "pressure": 1012,
          "sea_level": 1012,
          "temp": 12.87,
          "temp_kf": 0,
          "temp_max": 12.87,
          "temp_min": 12.87
         },
         "pop": 0.98,
         "rain": {
          "3h": 0.65
         },
         "sys": {
          "pod": "d"
         },
         "visibility": 10000,
         "weather": [
          {
           "description": "light rain",
           "icon": "10d",
           "id": 500,
           "main": "Rain"
          }
         ],
         "wind": {
          "deg": 260,
          "gust": 13.1,
          "speed": 5.09
         }
        },
        {
         "clouds": {
          "all": 100
         },
         "dt": 1696928400,
         "dt_txt": "2023-10-10 09:00:00",
         "main": {
          "feels_like": 13.83,
          "grnd_level": 1007,
          "humidity": 93,
          "pressure": 1012,
          "sea_level": 1012,
          "temp": 13.95,
          "temp_kf": 0,
          "temp_max": 13.95,
          "temp_min": 13.95
         },
         "pop": 0.96,
         "rain": {
          "3h": 0.99
         },
         "sys": {
          "pod": "d"
         },
         "visibility": 10000,
         "weather": [
          {
           "description": "light rain",
           "icon": "10d",
           "id": 500,
           "main": "Rain"
          }
         ],
         "wind": {
          "deg": 268,
          "gust": 12.8,
          "speed": 5.55
         }
        }
       ],
       "message": 0
      },
      "text/plain": [
       "<IPython.core.display.JSON object>"
      ]
     },
     "execution_count": 27,
     "metadata": {
      "application/json": {
       "expanded": false,
       "root": "root"
      }
     },
     "output_type": "execute_result"
    }
   ],
   "source": [
    "JSON(weather_json_city)"
   ]
  },
  {
   "cell_type": "code",
   "execution_count": 28,
   "id": "ef53412e-6a55-46dc-8aea-68f59f3be5a0",
   "metadata": {
    "tags": []
   },
   "outputs": [],
   "source": [
    "for i, city in enumerate(cities_df['city_id']):\n",
    "    url = f\"http://api.openweathermap.org/data/2.5/forecast?q={cities_df.iloc[i]['city_id']}&appid={wkey}&units=metric\"\n",
    "    response = requests.get(url)\n",
    "    weather_json = response.json()\n",
    "    \n",
    "    for time in weather_json_city['list']:\n",
    "        weather_dict['city_id'].append(city)\n",
    "        weather_dict['time'].append(time['dt_txt'])\n",
    "        weather_dict['current_temp'].append(time['main']['temp'])\n",
    "        weather_dict['forecast_temp'].append(time['weather'][0]['main'])\n",
    "        weather_dict['feels_like'].append(time['main']['feels_like'])\n",
    "        weather_dict['humidity_level'].append(time['main']['humidity']) "
   ]
  },
  {
   "cell_type": "code",
   "execution_count": 29,
   "id": "2f6a14fc-1e80-4a4b-ba65-306aacb7c907",
   "metadata": {
    "collapsed": true,
    "jupyter": {
     "outputs_hidden": true
    },
    "tags": []
   },
   "outputs": [
    {
     "data": {
      "text/plain": [
       "{'city_id': [0,\n",
       "  0,\n",
       "  0,\n",
       "  0,\n",
       "  0,\n",
       "  0,\n",
       "  0,\n",
       "  0,\n",
       "  0,\n",
       "  0,\n",
       "  0,\n",
       "  0,\n",
       "  0,\n",
       "  0,\n",
       "  0,\n",
       "  0,\n",
       "  0,\n",
       "  0,\n",
       "  0,\n",
       "  0,\n",
       "  0,\n",
       "  0,\n",
       "  0,\n",
       "  0,\n",
       "  0,\n",
       "  0,\n",
       "  0,\n",
       "  0,\n",
       "  0,\n",
       "  0,\n",
       "  0,\n",
       "  0,\n",
       "  0,\n",
       "  0,\n",
       "  0,\n",
       "  0,\n",
       "  0,\n",
       "  0,\n",
       "  0,\n",
       "  0,\n",
       "  1,\n",
       "  1,\n",
       "  1,\n",
       "  1,\n",
       "  1,\n",
       "  1,\n",
       "  1,\n",
       "  1,\n",
       "  1,\n",
       "  1,\n",
       "  1,\n",
       "  1,\n",
       "  1,\n",
       "  1,\n",
       "  1,\n",
       "  1,\n",
       "  1,\n",
       "  1,\n",
       "  1,\n",
       "  1,\n",
       "  1,\n",
       "  1,\n",
       "  1,\n",
       "  1,\n",
       "  1,\n",
       "  1,\n",
       "  1,\n",
       "  1,\n",
       "  1,\n",
       "  1,\n",
       "  1,\n",
       "  1,\n",
       "  1,\n",
       "  1,\n",
       "  1,\n",
       "  1,\n",
       "  1,\n",
       "  1,\n",
       "  1,\n",
       "  1,\n",
       "  2,\n",
       "  2,\n",
       "  2,\n",
       "  2,\n",
       "  2,\n",
       "  2,\n",
       "  2,\n",
       "  2,\n",
       "  2,\n",
       "  2,\n",
       "  2,\n",
       "  2,\n",
       "  2,\n",
       "  2,\n",
       "  2,\n",
       "  2,\n",
       "  2,\n",
       "  2,\n",
       "  2,\n",
       "  2,\n",
       "  2,\n",
       "  2,\n",
       "  2,\n",
       "  2,\n",
       "  2,\n",
       "  2,\n",
       "  2,\n",
       "  2,\n",
       "  2,\n",
       "  2,\n",
       "  2,\n",
       "  2,\n",
       "  2,\n",
       "  2,\n",
       "  2,\n",
       "  2,\n",
       "  2,\n",
       "  2,\n",
       "  2,\n",
       "  2,\n",
       "  3,\n",
       "  3,\n",
       "  3,\n",
       "  3,\n",
       "  3,\n",
       "  3,\n",
       "  3,\n",
       "  3,\n",
       "  3,\n",
       "  3,\n",
       "  3,\n",
       "  3,\n",
       "  3,\n",
       "  3,\n",
       "  3,\n",
       "  3,\n",
       "  3,\n",
       "  3,\n",
       "  3,\n",
       "  3,\n",
       "  3,\n",
       "  3,\n",
       "  3,\n",
       "  3,\n",
       "  3,\n",
       "  3,\n",
       "  3,\n",
       "  3,\n",
       "  3,\n",
       "  3,\n",
       "  3,\n",
       "  3,\n",
       "  3,\n",
       "  3,\n",
       "  3,\n",
       "  3,\n",
       "  3,\n",
       "  3,\n",
       "  3,\n",
       "  3,\n",
       "  4,\n",
       "  4,\n",
       "  4,\n",
       "  4,\n",
       "  4,\n",
       "  4,\n",
       "  4,\n",
       "  4,\n",
       "  4,\n",
       "  4,\n",
       "  4,\n",
       "  4,\n",
       "  4,\n",
       "  4,\n",
       "  4,\n",
       "  4,\n",
       "  4,\n",
       "  4,\n",
       "  4,\n",
       "  4,\n",
       "  4,\n",
       "  4,\n",
       "  4,\n",
       "  4,\n",
       "  4,\n",
       "  4,\n",
       "  4,\n",
       "  4,\n",
       "  4,\n",
       "  4,\n",
       "  4,\n",
       "  4,\n",
       "  4,\n",
       "  4,\n",
       "  4,\n",
       "  4,\n",
       "  4,\n",
       "  4,\n",
       "  4,\n",
       "  4],\n",
       " 'time': ['2023-10-05 12:00:00',\n",
       "  '2023-10-05 15:00:00',\n",
       "  '2023-10-05 18:00:00',\n",
       "  '2023-10-05 21:00:00',\n",
       "  '2023-10-06 00:00:00',\n",
       "  '2023-10-06 03:00:00',\n",
       "  '2023-10-06 06:00:00',\n",
       "  '2023-10-06 09:00:00',\n",
       "  '2023-10-06 12:00:00',\n",
       "  '2023-10-06 15:00:00',\n",
       "  '2023-10-06 18:00:00',\n",
       "  '2023-10-06 21:00:00',\n",
       "  '2023-10-07 00:00:00',\n",
       "  '2023-10-07 03:00:00',\n",
       "  '2023-10-07 06:00:00',\n",
       "  '2023-10-07 09:00:00',\n",
       "  '2023-10-07 12:00:00',\n",
       "  '2023-10-07 15:00:00',\n",
       "  '2023-10-07 18:00:00',\n",
       "  '2023-10-07 21:00:00',\n",
       "  '2023-10-08 00:00:00',\n",
       "  '2023-10-08 03:00:00',\n",
       "  '2023-10-08 06:00:00',\n",
       "  '2023-10-08 09:00:00',\n",
       "  '2023-10-08 12:00:00',\n",
       "  '2023-10-08 15:00:00',\n",
       "  '2023-10-08 18:00:00',\n",
       "  '2023-10-08 21:00:00',\n",
       "  '2023-10-09 00:00:00',\n",
       "  '2023-10-09 03:00:00',\n",
       "  '2023-10-09 06:00:00',\n",
       "  '2023-10-09 09:00:00',\n",
       "  '2023-10-09 12:00:00',\n",
       "  '2023-10-09 15:00:00',\n",
       "  '2023-10-09 18:00:00',\n",
       "  '2023-10-09 21:00:00',\n",
       "  '2023-10-10 00:00:00',\n",
       "  '2023-10-10 03:00:00',\n",
       "  '2023-10-10 06:00:00',\n",
       "  '2023-10-10 09:00:00',\n",
       "  '2023-10-05 12:00:00',\n",
       "  '2023-10-05 15:00:00',\n",
       "  '2023-10-05 18:00:00',\n",
       "  '2023-10-05 21:00:00',\n",
       "  '2023-10-06 00:00:00',\n",
       "  '2023-10-06 03:00:00',\n",
       "  '2023-10-06 06:00:00',\n",
       "  '2023-10-06 09:00:00',\n",
       "  '2023-10-06 12:00:00',\n",
       "  '2023-10-06 15:00:00',\n",
       "  '2023-10-06 18:00:00',\n",
       "  '2023-10-06 21:00:00',\n",
       "  '2023-10-07 00:00:00',\n",
       "  '2023-10-07 03:00:00',\n",
       "  '2023-10-07 06:00:00',\n",
       "  '2023-10-07 09:00:00',\n",
       "  '2023-10-07 12:00:00',\n",
       "  '2023-10-07 15:00:00',\n",
       "  '2023-10-07 18:00:00',\n",
       "  '2023-10-07 21:00:00',\n",
       "  '2023-10-08 00:00:00',\n",
       "  '2023-10-08 03:00:00',\n",
       "  '2023-10-08 06:00:00',\n",
       "  '2023-10-08 09:00:00',\n",
       "  '2023-10-08 12:00:00',\n",
       "  '2023-10-08 15:00:00',\n",
       "  '2023-10-08 18:00:00',\n",
       "  '2023-10-08 21:00:00',\n",
       "  '2023-10-09 00:00:00',\n",
       "  '2023-10-09 03:00:00',\n",
       "  '2023-10-09 06:00:00',\n",
       "  '2023-10-09 09:00:00',\n",
       "  '2023-10-09 12:00:00',\n",
       "  '2023-10-09 15:00:00',\n",
       "  '2023-10-09 18:00:00',\n",
       "  '2023-10-09 21:00:00',\n",
       "  '2023-10-10 00:00:00',\n",
       "  '2023-10-10 03:00:00',\n",
       "  '2023-10-10 06:00:00',\n",
       "  '2023-10-10 09:00:00',\n",
       "  '2023-10-05 12:00:00',\n",
       "  '2023-10-05 15:00:00',\n",
       "  '2023-10-05 18:00:00',\n",
       "  '2023-10-05 21:00:00',\n",
       "  '2023-10-06 00:00:00',\n",
       "  '2023-10-06 03:00:00',\n",
       "  '2023-10-06 06:00:00',\n",
       "  '2023-10-06 09:00:00',\n",
       "  '2023-10-06 12:00:00',\n",
       "  '2023-10-06 15:00:00',\n",
       "  '2023-10-06 18:00:00',\n",
       "  '2023-10-06 21:00:00',\n",
       "  '2023-10-07 00:00:00',\n",
       "  '2023-10-07 03:00:00',\n",
       "  '2023-10-07 06:00:00',\n",
       "  '2023-10-07 09:00:00',\n",
       "  '2023-10-07 12:00:00',\n",
       "  '2023-10-07 15:00:00',\n",
       "  '2023-10-07 18:00:00',\n",
       "  '2023-10-07 21:00:00',\n",
       "  '2023-10-08 00:00:00',\n",
       "  '2023-10-08 03:00:00',\n",
       "  '2023-10-08 06:00:00',\n",
       "  '2023-10-08 09:00:00',\n",
       "  '2023-10-08 12:00:00',\n",
       "  '2023-10-08 15:00:00',\n",
       "  '2023-10-08 18:00:00',\n",
       "  '2023-10-08 21:00:00',\n",
       "  '2023-10-09 00:00:00',\n",
       "  '2023-10-09 03:00:00',\n",
       "  '2023-10-09 06:00:00',\n",
       "  '2023-10-09 09:00:00',\n",
       "  '2023-10-09 12:00:00',\n",
       "  '2023-10-09 15:00:00',\n",
       "  '2023-10-09 18:00:00',\n",
       "  '2023-10-09 21:00:00',\n",
       "  '2023-10-10 00:00:00',\n",
       "  '2023-10-10 03:00:00',\n",
       "  '2023-10-10 06:00:00',\n",
       "  '2023-10-10 09:00:00',\n",
       "  '2023-10-05 12:00:00',\n",
       "  '2023-10-05 15:00:00',\n",
       "  '2023-10-05 18:00:00',\n",
       "  '2023-10-05 21:00:00',\n",
       "  '2023-10-06 00:00:00',\n",
       "  '2023-10-06 03:00:00',\n",
       "  '2023-10-06 06:00:00',\n",
       "  '2023-10-06 09:00:00',\n",
       "  '2023-10-06 12:00:00',\n",
       "  '2023-10-06 15:00:00',\n",
       "  '2023-10-06 18:00:00',\n",
       "  '2023-10-06 21:00:00',\n",
       "  '2023-10-07 00:00:00',\n",
       "  '2023-10-07 03:00:00',\n",
       "  '2023-10-07 06:00:00',\n",
       "  '2023-10-07 09:00:00',\n",
       "  '2023-10-07 12:00:00',\n",
       "  '2023-10-07 15:00:00',\n",
       "  '2023-10-07 18:00:00',\n",
       "  '2023-10-07 21:00:00',\n",
       "  '2023-10-08 00:00:00',\n",
       "  '2023-10-08 03:00:00',\n",
       "  '2023-10-08 06:00:00',\n",
       "  '2023-10-08 09:00:00',\n",
       "  '2023-10-08 12:00:00',\n",
       "  '2023-10-08 15:00:00',\n",
       "  '2023-10-08 18:00:00',\n",
       "  '2023-10-08 21:00:00',\n",
       "  '2023-10-09 00:00:00',\n",
       "  '2023-10-09 03:00:00',\n",
       "  '2023-10-09 06:00:00',\n",
       "  '2023-10-09 09:00:00',\n",
       "  '2023-10-09 12:00:00',\n",
       "  '2023-10-09 15:00:00',\n",
       "  '2023-10-09 18:00:00',\n",
       "  '2023-10-09 21:00:00',\n",
       "  '2023-10-10 00:00:00',\n",
       "  '2023-10-10 03:00:00',\n",
       "  '2023-10-10 06:00:00',\n",
       "  '2023-10-10 09:00:00',\n",
       "  '2023-10-05 12:00:00',\n",
       "  '2023-10-05 15:00:00',\n",
       "  '2023-10-05 18:00:00',\n",
       "  '2023-10-05 21:00:00',\n",
       "  '2023-10-06 00:00:00',\n",
       "  '2023-10-06 03:00:00',\n",
       "  '2023-10-06 06:00:00',\n",
       "  '2023-10-06 09:00:00',\n",
       "  '2023-10-06 12:00:00',\n",
       "  '2023-10-06 15:00:00',\n",
       "  '2023-10-06 18:00:00',\n",
       "  '2023-10-06 21:00:00',\n",
       "  '2023-10-07 00:00:00',\n",
       "  '2023-10-07 03:00:00',\n",
       "  '2023-10-07 06:00:00',\n",
       "  '2023-10-07 09:00:00',\n",
       "  '2023-10-07 12:00:00',\n",
       "  '2023-10-07 15:00:00',\n",
       "  '2023-10-07 18:00:00',\n",
       "  '2023-10-07 21:00:00',\n",
       "  '2023-10-08 00:00:00',\n",
       "  '2023-10-08 03:00:00',\n",
       "  '2023-10-08 06:00:00',\n",
       "  '2023-10-08 09:00:00',\n",
       "  '2023-10-08 12:00:00',\n",
       "  '2023-10-08 15:00:00',\n",
       "  '2023-10-08 18:00:00',\n",
       "  '2023-10-08 21:00:00',\n",
       "  '2023-10-09 00:00:00',\n",
       "  '2023-10-09 03:00:00',\n",
       "  '2023-10-09 06:00:00',\n",
       "  '2023-10-09 09:00:00',\n",
       "  '2023-10-09 12:00:00',\n",
       "  '2023-10-09 15:00:00',\n",
       "  '2023-10-09 18:00:00',\n",
       "  '2023-10-09 21:00:00',\n",
       "  '2023-10-10 00:00:00',\n",
       "  '2023-10-10 03:00:00',\n",
       "  '2023-10-10 06:00:00',\n",
       "  '2023-10-10 09:00:00'],\n",
       " 'current_temp': [15.77,\n",
       "  15.78,\n",
       "  14.47,\n",
       "  13.06,\n",
       "  12.83,\n",
       "  12.91,\n",
       "  12.35,\n",
       "  16.66,\n",
       "  19.66,\n",
       "  18.26,\n",
       "  17.56,\n",
       "  16.29,\n",
       "  16.74,\n",
       "  16.49,\n",
       "  16.59,\n",
       "  16.75,\n",
       "  17.87,\n",
       "  16.71,\n",
       "  16.41,\n",
       "  11.43,\n",
       "  10.43,\n",
       "  8.47,\n",
       "  7.76,\n",
       "  11.18,\n",
       "  13.26,\n",
       "  12.57,\n",
       "  10.53,\n",
       "  8.84,\n",
       "  7.88,\n",
       "  6.48,\n",
       "  6.48,\n",
       "  10.16,\n",
       "  12.49,\n",
       "  11.98,\n",
       "  10.79,\n",
       "  8.69,\n",
       "  9.86,\n",
       "  12.07,\n",
       "  12.87,\n",
       "  13.95,\n",
       "  15.77,\n",
       "  15.78,\n",
       "  14.47,\n",
       "  13.06,\n",
       "  12.83,\n",
       "  12.91,\n",
       "  12.35,\n",
       "  16.66,\n",
       "  19.66,\n",
       "  18.26,\n",
       "  17.56,\n",
       "  16.29,\n",
       "  16.74,\n",
       "  16.49,\n",
       "  16.59,\n",
       "  16.75,\n",
       "  17.87,\n",
       "  16.71,\n",
       "  16.41,\n",
       "  11.43,\n",
       "  10.43,\n",
       "  8.47,\n",
       "  7.76,\n",
       "  11.18,\n",
       "  13.26,\n",
       "  12.57,\n",
       "  10.53,\n",
       "  8.84,\n",
       "  7.88,\n",
       "  6.48,\n",
       "  6.48,\n",
       "  10.16,\n",
       "  12.49,\n",
       "  11.98,\n",
       "  10.79,\n",
       "  8.69,\n",
       "  9.86,\n",
       "  12.07,\n",
       "  12.87,\n",
       "  13.95,\n",
       "  15.77,\n",
       "  15.78,\n",
       "  14.47,\n",
       "  13.06,\n",
       "  12.83,\n",
       "  12.91,\n",
       "  12.35,\n",
       "  16.66,\n",
       "  19.66,\n",
       "  18.26,\n",
       "  17.56,\n",
       "  16.29,\n",
       "  16.74,\n",
       "  16.49,\n",
       "  16.59,\n",
       "  16.75,\n",
       "  17.87,\n",
       "  16.71,\n",
       "  16.41,\n",
       "  11.43,\n",
       "  10.43,\n",
       "  8.47,\n",
       "  7.76,\n",
       "  11.18,\n",
       "  13.26,\n",
       "  12.57,\n",
       "  10.53,\n",
       "  8.84,\n",
       "  7.88,\n",
       "  6.48,\n",
       "  6.48,\n",
       "  10.16,\n",
       "  12.49,\n",
       "  11.98,\n",
       "  10.79,\n",
       "  8.69,\n",
       "  9.86,\n",
       "  12.07,\n",
       "  12.87,\n",
       "  13.95,\n",
       "  15.77,\n",
       "  15.78,\n",
       "  14.47,\n",
       "  13.06,\n",
       "  12.83,\n",
       "  12.91,\n",
       "  12.35,\n",
       "  16.66,\n",
       "  19.66,\n",
       "  18.26,\n",
       "  17.56,\n",
       "  16.29,\n",
       "  16.74,\n",
       "  16.49,\n",
       "  16.59,\n",
       "  16.75,\n",
       "  17.87,\n",
       "  16.71,\n",
       "  16.41,\n",
       "  11.43,\n",
       "  10.43,\n",
       "  8.47,\n",
       "  7.76,\n",
       "  11.18,\n",
       "  13.26,\n",
       "  12.57,\n",
       "  10.53,\n",
       "  8.84,\n",
       "  7.88,\n",
       "  6.48,\n",
       "  6.48,\n",
       "  10.16,\n",
       "  12.49,\n",
       "  11.98,\n",
       "  10.79,\n",
       "  8.69,\n",
       "  9.86,\n",
       "  12.07,\n",
       "  12.87,\n",
       "  13.95,\n",
       "  15.77,\n",
       "  15.78,\n",
       "  14.47,\n",
       "  13.06,\n",
       "  12.83,\n",
       "  12.91,\n",
       "  12.35,\n",
       "  16.66,\n",
       "  19.66,\n",
       "  18.26,\n",
       "  17.56,\n",
       "  16.29,\n",
       "  16.74,\n",
       "  16.49,\n",
       "  16.59,\n",
       "  16.75,\n",
       "  17.87,\n",
       "  16.71,\n",
       "  16.41,\n",
       "  11.43,\n",
       "  10.43,\n",
       "  8.47,\n",
       "  7.76,\n",
       "  11.18,\n",
       "  13.26,\n",
       "  12.57,\n",
       "  10.53,\n",
       "  8.84,\n",
       "  7.88,\n",
       "  6.48,\n",
       "  6.48,\n",
       "  10.16,\n",
       "  12.49,\n",
       "  11.98,\n",
       "  10.79,\n",
       "  8.69,\n",
       "  9.86,\n",
       "  12.07,\n",
       "  12.87,\n",
       "  13.95],\n",
       " 'forecast_temp': ['Rain',\n",
       "  'Rain',\n",
       "  'Rain',\n",
       "  'Clouds',\n",
       "  'Clouds',\n",
       "  'Clouds',\n",
       "  'Clouds',\n",
       "  'Clouds',\n",
       "  'Clouds',\n",
       "  'Clouds',\n",
       "  'Clouds',\n",
       "  'Rain',\n",
       "  'Clouds',\n",
       "  'Clouds',\n",
       "  'Clouds',\n",
       "  'Rain',\n",
       "  'Clouds',\n",
       "  'Clouds',\n",
       "  'Rain',\n",
       "  'Rain',\n",
       "  'Rain',\n",
       "  'Clouds',\n",
       "  'Rain',\n",
       "  'Clear',\n",
       "  'Clouds',\n",
       "  'Clouds',\n",
       "  'Clouds',\n",
       "  'Clouds',\n",
       "  'Clouds',\n",
       "  'Clouds',\n",
       "  'Clouds',\n",
       "  'Clouds',\n",
       "  'Clouds',\n",
       "  'Clouds',\n",
       "  'Clouds',\n",
       "  'Rain',\n",
       "  'Rain',\n",
       "  'Rain',\n",
       "  'Rain',\n",
       "  'Rain',\n",
       "  'Rain',\n",
       "  'Rain',\n",
       "  'Rain',\n",
       "  'Clouds',\n",
       "  'Clouds',\n",
       "  'Clouds',\n",
       "  'Clouds',\n",
       "  'Clouds',\n",
       "  'Clouds',\n",
       "  'Clouds',\n",
       "  'Clouds',\n",
       "  'Rain',\n",
       "  'Clouds',\n",
       "  'Clouds',\n",
       "  'Clouds',\n",
       "  'Rain',\n",
       "  'Clouds',\n",
       "  'Clouds',\n",
       "  'Rain',\n",
       "  'Rain',\n",
       "  'Rain',\n",
       "  'Clouds',\n",
       "  'Rain',\n",
       "  'Clear',\n",
       "  'Clouds',\n",
       "  'Clouds',\n",
       "  'Clouds',\n",
       "  'Clouds',\n",
       "  'Clouds',\n",
       "  'Clouds',\n",
       "  'Clouds',\n",
       "  'Clouds',\n",
       "  'Clouds',\n",
       "  'Clouds',\n",
       "  'Clouds',\n",
       "  'Rain',\n",
       "  'Rain',\n",
       "  'Rain',\n",
       "  'Rain',\n",
       "  'Rain',\n",
       "  'Rain',\n",
       "  'Rain',\n",
       "  'Rain',\n",
       "  'Clouds',\n",
       "  'Clouds',\n",
       "  'Clouds',\n",
       "  'Clouds',\n",
       "  'Clouds',\n",
       "  'Clouds',\n",
       "  'Clouds',\n",
       "  'Clouds',\n",
       "  'Rain',\n",
       "  'Clouds',\n",
       "  'Clouds',\n",
       "  'Clouds',\n",
       "  'Rain',\n",
       "  'Clouds',\n",
       "  'Clouds',\n",
       "  'Rain',\n",
       "  'Rain',\n",
       "  'Rain',\n",
       "  'Clouds',\n",
       "  'Rain',\n",
       "  'Clear',\n",
       "  'Clouds',\n",
       "  'Clouds',\n",
       "  'Clouds',\n",
       "  'Clouds',\n",
       "  'Clouds',\n",
       "  'Clouds',\n",
       "  'Clouds',\n",
       "  'Clouds',\n",
       "  'Clouds',\n",
       "  'Clouds',\n",
       "  'Clouds',\n",
       "  'Rain',\n",
       "  'Rain',\n",
       "  'Rain',\n",
       "  'Rain',\n",
       "  'Rain',\n",
       "  'Rain',\n",
       "  'Rain',\n",
       "  'Rain',\n",
       "  'Clouds',\n",
       "  'Clouds',\n",
       "  'Clouds',\n",
       "  'Clouds',\n",
       "  'Clouds',\n",
       "  'Clouds',\n",
       "  'Clouds',\n",
       "  'Clouds',\n",
       "  'Rain',\n",
       "  'Clouds',\n",
       "  'Clouds',\n",
       "  'Clouds',\n",
       "  'Rain',\n",
       "  'Clouds',\n",
       "  'Clouds',\n",
       "  'Rain',\n",
       "  'Rain',\n",
       "  'Rain',\n",
       "  'Clouds',\n",
       "  'Rain',\n",
       "  'Clear',\n",
       "  'Clouds',\n",
       "  'Clouds',\n",
       "  'Clouds',\n",
       "  'Clouds',\n",
       "  'Clouds',\n",
       "  'Clouds',\n",
       "  'Clouds',\n",
       "  'Clouds',\n",
       "  'Clouds',\n",
       "  'Clouds',\n",
       "  'Clouds',\n",
       "  'Rain',\n",
       "  'Rain',\n",
       "  'Rain',\n",
       "  'Rain',\n",
       "  'Rain',\n",
       "  'Rain',\n",
       "  'Rain',\n",
       "  'Rain',\n",
       "  'Clouds',\n",
       "  'Clouds',\n",
       "  'Clouds',\n",
       "  'Clouds',\n",
       "  'Clouds',\n",
       "  'Clouds',\n",
       "  'Clouds',\n",
       "  'Clouds',\n",
       "  'Rain',\n",
       "  'Clouds',\n",
       "  'Clouds',\n",
       "  'Clouds',\n",
       "  'Rain',\n",
       "  'Clouds',\n",
       "  'Clouds',\n",
       "  'Rain',\n",
       "  'Rain',\n",
       "  'Rain',\n",
       "  'Clouds',\n",
       "  'Rain',\n",
       "  'Clear',\n",
       "  'Clouds',\n",
       "  'Clouds',\n",
       "  'Clouds',\n",
       "  'Clouds',\n",
       "  'Clouds',\n",
       "  'Clouds',\n",
       "  'Clouds',\n",
       "  'Clouds',\n",
       "  'Clouds',\n",
       "  'Clouds',\n",
       "  'Clouds',\n",
       "  'Rain',\n",
       "  'Rain',\n",
       "  'Rain',\n",
       "  'Rain',\n",
       "  'Rain'],\n",
       " 'feels_like': [15.33,\n",
       "  15.37,\n",
       "  13.96,\n",
       "  12.77,\n",
       "  12.6,\n",
       "  12.61,\n",
       "  11.94,\n",
       "  15.97,\n",
       "  18.88,\n",
       "  17.5,\n",
       "  16.81,\n",
       "  15.62,\n",
       "  16.01,\n",
       "  15.81,\n",
       "  16.03,\n",
       "  16.07,\n",
       "  17.38,\n",
       "  16.34,\n",
       "  16.35,\n",
       "  10.85,\n",
       "  9.64,\n",
       "  5.12,\n",
       "  5.02,\n",
       "  9.55,\n",
       "  11.58,\n",
       "  11.03,\n",
       "  9,\n",
       "  7.99,\n",
       "  6.81,\n",
       "  4.24,\n",
       "  4.33,\n",
       "  8.72,\n",
       "  11.07,\n",
       "  10.54,\n",
       "  9.33,\n",
       "  5.92,\n",
       "  7.44,\n",
       "  11.71,\n",
       "  12.67,\n",
       "  13.83,\n",
       "  15.33,\n",
       "  15.37,\n",
       "  13.96,\n",
       "  12.77,\n",
       "  12.6,\n",
       "  12.61,\n",
       "  11.94,\n",
       "  15.97,\n",
       "  18.88,\n",
       "  17.5,\n",
       "  16.81,\n",
       "  15.62,\n",
       "  16.01,\n",
       "  15.81,\n",
       "  16.03,\n",
       "  16.07,\n",
       "  17.38,\n",
       "  16.34,\n",
       "  16.35,\n",
       "  10.85,\n",
       "  9.64,\n",
       "  5.12,\n",
       "  5.02,\n",
       "  9.55,\n",
       "  11.58,\n",
       "  11.03,\n",
       "  9,\n",
       "  7.99,\n",
       "  6.81,\n",
       "  4.24,\n",
       "  4.33,\n",
       "  8.72,\n",
       "  11.07,\n",
       "  10.54,\n",
       "  9.33,\n",
       "  5.92,\n",
       "  7.44,\n",
       "  11.71,\n",
       "  12.67,\n",
       "  13.83,\n",
       "  15.33,\n",
       "  15.37,\n",
       "  13.96,\n",
       "  12.77,\n",
       "  12.6,\n",
       "  12.61,\n",
       "  11.94,\n",
       "  15.97,\n",
       "  18.88,\n",
       "  17.5,\n",
       "  16.81,\n",
       "  15.62,\n",
       "  16.01,\n",
       "  15.81,\n",
       "  16.03,\n",
       "  16.07,\n",
       "  17.38,\n",
       "  16.34,\n",
       "  16.35,\n",
       "  10.85,\n",
       "  9.64,\n",
       "  5.12,\n",
       "  5.02,\n",
       "  9.55,\n",
       "  11.58,\n",
       "  11.03,\n",
       "  9,\n",
       "  7.99,\n",
       "  6.81,\n",
       "  4.24,\n",
       "  4.33,\n",
       "  8.72,\n",
       "  11.07,\n",
       "  10.54,\n",
       "  9.33,\n",
       "  5.92,\n",
       "  7.44,\n",
       "  11.71,\n",
       "  12.67,\n",
       "  13.83,\n",
       "  15.33,\n",
       "  15.37,\n",
       "  13.96,\n",
       "  12.77,\n",
       "  12.6,\n",
       "  12.61,\n",
       "  11.94,\n",
       "  15.97,\n",
       "  18.88,\n",
       "  17.5,\n",
       "  16.81,\n",
       "  15.62,\n",
       "  16.01,\n",
       "  15.81,\n",
       "  16.03,\n",
       "  16.07,\n",
       "  17.38,\n",
       "  16.34,\n",
       "  16.35,\n",
       "  10.85,\n",
       "  9.64,\n",
       "  5.12,\n",
       "  5.02,\n",
       "  9.55,\n",
       "  11.58,\n",
       "  11.03,\n",
       "  9,\n",
       "  7.99,\n",
       "  6.81,\n",
       "  4.24,\n",
       "  4.33,\n",
       "  8.72,\n",
       "  11.07,\n",
       "  10.54,\n",
       "  9.33,\n",
       "  5.92,\n",
       "  7.44,\n",
       "  11.71,\n",
       "  12.67,\n",
       "  13.83,\n",
       "  15.33,\n",
       "  15.37,\n",
       "  13.96,\n",
       "  12.77,\n",
       "  12.6,\n",
       "  12.61,\n",
       "  11.94,\n",
       "  15.97,\n",
       "  18.88,\n",
       "  17.5,\n",
       "  16.81,\n",
       "  15.62,\n",
       "  16.01,\n",
       "  15.81,\n",
       "  16.03,\n",
       "  16.07,\n",
       "  17.38,\n",
       "  16.34,\n",
       "  16.35,\n",
       "  10.85,\n",
       "  9.64,\n",
       "  5.12,\n",
       "  5.02,\n",
       "  9.55,\n",
       "  11.58,\n",
       "  11.03,\n",
       "  9,\n",
       "  7.99,\n",
       "  6.81,\n",
       "  4.24,\n",
       "  4.33,\n",
       "  8.72,\n",
       "  11.07,\n",
       "  10.54,\n",
       "  9.33,\n",
       "  5.92,\n",
       "  7.44,\n",
       "  11.71,\n",
       "  12.67,\n",
       "  13.83],\n",
       " 'humidity_level': [74,\n",
       "  75,\n",
       "  76,\n",
       "  90,\n",
       "  93,\n",
       "  90,\n",
       "  88,\n",
       "  61,\n",
       "  46,\n",
       "  52,\n",
       "  55,\n",
       "  63,\n",
       "  59,\n",
       "  62,\n",
       "  66,\n",
       "  61,\n",
       "  64,\n",
       "  73,\n",
       "  86,\n",
       "  85,\n",
       "  81,\n",
       "  74,\n",
       "  78,\n",
       "  46,\n",
       "  36,\n",
       "  44,\n",
       "  52,\n",
       "  54,\n",
       "  56,\n",
       "  68,\n",
       "  71,\n",
       "  57,\n",
       "  49,\n",
       "  50,\n",
       "  54,\n",
       "  89,\n",
       "  90,\n",
       "  91,\n",
       "  94,\n",
       "  93,\n",
       "  74,\n",
       "  75,\n",
       "  76,\n",
       "  90,\n",
       "  93,\n",
       "  90,\n",
       "  88,\n",
       "  61,\n",
       "  46,\n",
       "  52,\n",
       "  55,\n",
       "  63,\n",
       "  59,\n",
       "  62,\n",
       "  66,\n",
       "  61,\n",
       "  64,\n",
       "  73,\n",
       "  86,\n",
       "  85,\n",
       "  81,\n",
       "  74,\n",
       "  78,\n",
       "  46,\n",
       "  36,\n",
       "  44,\n",
       "  52,\n",
       "  54,\n",
       "  56,\n",
       "  68,\n",
       "  71,\n",
       "  57,\n",
       "  49,\n",
       "  50,\n",
       "  54,\n",
       "  89,\n",
       "  90,\n",
       "  91,\n",
       "  94,\n",
       "  93,\n",
       "  74,\n",
       "  75,\n",
       "  76,\n",
       "  90,\n",
       "  93,\n",
       "  90,\n",
       "  88,\n",
       "  61,\n",
       "  46,\n",
       "  52,\n",
       "  55,\n",
       "  63,\n",
       "  59,\n",
       "  62,\n",
       "  66,\n",
       "  61,\n",
       "  64,\n",
       "  73,\n",
       "  86,\n",
       "  85,\n",
       "  81,\n",
       "  74,\n",
       "  78,\n",
       "  46,\n",
       "  36,\n",
       "  44,\n",
       "  52,\n",
       "  54,\n",
       "  56,\n",
       "  68,\n",
       "  71,\n",
       "  57,\n",
       "  49,\n",
       "  50,\n",
       "  54,\n",
       "  89,\n",
       "  90,\n",
       "  91,\n",
       "  94,\n",
       "  93,\n",
       "  74,\n",
       "  75,\n",
       "  76,\n",
       "  90,\n",
       "  93,\n",
       "  90,\n",
       "  88,\n",
       "  61,\n",
       "  46,\n",
       "  52,\n",
       "  55,\n",
       "  63,\n",
       "  59,\n",
       "  62,\n",
       "  66,\n",
       "  61,\n",
       "  64,\n",
       "  73,\n",
       "  86,\n",
       "  85,\n",
       "  81,\n",
       "  74,\n",
       "  78,\n",
       "  46,\n",
       "  36,\n",
       "  44,\n",
       "  52,\n",
       "  54,\n",
       "  56,\n",
       "  68,\n",
       "  71,\n",
       "  57,\n",
       "  49,\n",
       "  50,\n",
       "  54,\n",
       "  89,\n",
       "  90,\n",
       "  91,\n",
       "  94,\n",
       "  93,\n",
       "  74,\n",
       "  75,\n",
       "  76,\n",
       "  90,\n",
       "  93,\n",
       "  90,\n",
       "  88,\n",
       "  61,\n",
       "  46,\n",
       "  52,\n",
       "  55,\n",
       "  63,\n",
       "  59,\n",
       "  62,\n",
       "  66,\n",
       "  61,\n",
       "  64,\n",
       "  73,\n",
       "  86,\n",
       "  85,\n",
       "  81,\n",
       "  74,\n",
       "  78,\n",
       "  46,\n",
       "  36,\n",
       "  44,\n",
       "  52,\n",
       "  54,\n",
       "  56,\n",
       "  68,\n",
       "  71,\n",
       "  57,\n",
       "  49,\n",
       "  50,\n",
       "  54,\n",
       "  89,\n",
       "  90,\n",
       "  91,\n",
       "  94,\n",
       "  93]}"
      ]
     },
     "execution_count": 29,
     "metadata": {},
     "output_type": "execute_result"
    }
   ],
   "source": [
    "weather_dict"
   ]
  },
  {
   "cell_type": "code",
   "execution_count": 31,
   "id": "c0f4db54-b6c0-4b7e-ad53-dc9916223cc8",
   "metadata": {
    "tags": []
   },
   "outputs": [],
   "source": [
    "weather_final_all = pd.DataFrame(weather_dict)"
   ]
  },
  {
   "cell_type": "code",
   "execution_count": 37,
   "id": "7de97039-7898-441a-a8c0-0e0b2779f918",
   "metadata": {
    "tags": []
   },
   "outputs": [
    {
     "data": {
      "text/html": [
       "<div>\n",
       "<style scoped>\n",
       "    .dataframe tbody tr th:only-of-type {\n",
       "        vertical-align: middle;\n",
       "    }\n",
       "\n",
       "    .dataframe tbody tr th {\n",
       "        vertical-align: top;\n",
       "    }\n",
       "\n",
       "    .dataframe thead th {\n",
       "        text-align: right;\n",
       "    }\n",
       "</style>\n",
       "<table border=\"1\" class=\"dataframe\">\n",
       "  <thead>\n",
       "    <tr style=\"text-align: right;\">\n",
       "      <th></th>\n",
       "      <th>city_id</th>\n",
       "      <th>time</th>\n",
       "      <th>current_temp</th>\n",
       "      <th>forecast_temp</th>\n",
       "      <th>feels_like</th>\n",
       "      <th>humidity_level</th>\n",
       "    </tr>\n",
       "  </thead>\n",
       "  <tbody>\n",
       "    <tr>\n",
       "      <th>0</th>\n",
       "      <td>0</td>\n",
       "      <td>2023-10-05 12:00:00</td>\n",
       "      <td>15.77</td>\n",
       "      <td>Rain</td>\n",
       "      <td>15.33</td>\n",
       "      <td>74</td>\n",
       "    </tr>\n",
       "    <tr>\n",
       "      <th>1</th>\n",
       "      <td>0</td>\n",
       "      <td>2023-10-05 15:00:00</td>\n",
       "      <td>15.78</td>\n",
       "      <td>Rain</td>\n",
       "      <td>15.37</td>\n",
       "      <td>75</td>\n",
       "    </tr>\n",
       "    <tr>\n",
       "      <th>2</th>\n",
       "      <td>0</td>\n",
       "      <td>2023-10-05 18:00:00</td>\n",
       "      <td>14.47</td>\n",
       "      <td>Rain</td>\n",
       "      <td>13.96</td>\n",
       "      <td>76</td>\n",
       "    </tr>\n",
       "    <tr>\n",
       "      <th>3</th>\n",
       "      <td>0</td>\n",
       "      <td>2023-10-05 21:00:00</td>\n",
       "      <td>13.06</td>\n",
       "      <td>Clouds</td>\n",
       "      <td>12.77</td>\n",
       "      <td>90</td>\n",
       "    </tr>\n",
       "    <tr>\n",
       "      <th>4</th>\n",
       "      <td>0</td>\n",
       "      <td>2023-10-06 00:00:00</td>\n",
       "      <td>12.83</td>\n",
       "      <td>Clouds</td>\n",
       "      <td>12.60</td>\n",
       "      <td>93</td>\n",
       "    </tr>\n",
       "    <tr>\n",
       "      <th>...</th>\n",
       "      <td>...</td>\n",
       "      <td>...</td>\n",
       "      <td>...</td>\n",
       "      <td>...</td>\n",
       "      <td>...</td>\n",
       "      <td>...</td>\n",
       "    </tr>\n",
       "    <tr>\n",
       "      <th>195</th>\n",
       "      <td>4</td>\n",
       "      <td>2023-10-09 21:00:00</td>\n",
       "      <td>8.69</td>\n",
       "      <td>Rain</td>\n",
       "      <td>5.92</td>\n",
       "      <td>89</td>\n",
       "    </tr>\n",
       "    <tr>\n",
       "      <th>196</th>\n",
       "      <td>4</td>\n",
       "      <td>2023-10-10 00:00:00</td>\n",
       "      <td>9.86</td>\n",
       "      <td>Rain</td>\n",
       "      <td>7.44</td>\n",
       "      <td>90</td>\n",
       "    </tr>\n",
       "    <tr>\n",
       "      <th>197</th>\n",
       "      <td>4</td>\n",
       "      <td>2023-10-10 03:00:00</td>\n",
       "      <td>12.07</td>\n",
       "      <td>Rain</td>\n",
       "      <td>11.71</td>\n",
       "      <td>91</td>\n",
       "    </tr>\n",
       "    <tr>\n",
       "      <th>198</th>\n",
       "      <td>4</td>\n",
       "      <td>2023-10-10 06:00:00</td>\n",
       "      <td>12.87</td>\n",
       "      <td>Rain</td>\n",
       "      <td>12.67</td>\n",
       "      <td>94</td>\n",
       "    </tr>\n",
       "    <tr>\n",
       "      <th>199</th>\n",
       "      <td>4</td>\n",
       "      <td>2023-10-10 09:00:00</td>\n",
       "      <td>13.95</td>\n",
       "      <td>Rain</td>\n",
       "      <td>13.83</td>\n",
       "      <td>93</td>\n",
       "    </tr>\n",
       "  </tbody>\n",
       "</table>\n",
       "<p>200 rows × 6 columns</p>\n",
       "</div>"
      ],
      "text/plain": [
       "     city_id                 time  current_temp forecast_temp  feels_like  \\\n",
       "0          0  2023-10-05 12:00:00         15.77          Rain       15.33   \n",
       "1          0  2023-10-05 15:00:00         15.78          Rain       15.37   \n",
       "2          0  2023-10-05 18:00:00         14.47          Rain       13.96   \n",
       "3          0  2023-10-05 21:00:00         13.06        Clouds       12.77   \n",
       "4          0  2023-10-06 00:00:00         12.83        Clouds       12.60   \n",
       "..       ...                  ...           ...           ...         ...   \n",
       "195        4  2023-10-09 21:00:00          8.69          Rain        5.92   \n",
       "196        4  2023-10-10 00:00:00          9.86          Rain        7.44   \n",
       "197        4  2023-10-10 03:00:00         12.07          Rain       11.71   \n",
       "198        4  2023-10-10 06:00:00         12.87          Rain       12.67   \n",
       "199        4  2023-10-10 09:00:00         13.95          Rain       13.83   \n",
       "\n",
       "     humidity_level  \n",
       "0                74  \n",
       "1                75  \n",
       "2                76  \n",
       "3                90  \n",
       "4                93  \n",
       "..              ...  \n",
       "195              89  \n",
       "196              90  \n",
       "197              91  \n",
       "198              94  \n",
       "199              93  \n",
       "\n",
       "[200 rows x 6 columns]"
      ]
     },
     "execution_count": 37,
     "metadata": {},
     "output_type": "execute_result"
    }
   ],
   "source": [
    "weather_final_all"
   ]
  },
  {
   "cell_type": "code",
   "execution_count": 35,
   "id": "45d3c65a-270c-459c-826a-ce8226152f82",
   "metadata": {
    "tags": []
   },
   "outputs": [],
   "source": [
    "weather_final_all.to_csv(\"weather_final_all.csv\", index=False)"
   ]
  },
  {
   "cell_type": "code",
   "execution_count": 1,
   "id": "f10de8b7-ecae-4fe4-b45c-d69484d24f6a",
   "metadata": {
    "tags": []
   },
   "outputs": [],
   "source": [
    "# Wheather forecast funtion"
   ]
  },
  {
   "cell_type": "code",
   "execution_count": null,
   "id": "3209ad0e-70d6-4ffd-8ba1-7406b567c4ff",
   "metadata": {},
   "outputs": [],
   "source": [
    "import requests\n",
    "\n",
    "def get_weather_forecast(cities_df, wkey):\n",
    "    weather_dict = {\n",
    "        'city_id': [],\n",
    "        'time': [],\n",
    "        'current_temp': [],\n",
    "        'forecast_temp': [],\n",
    "        'feels_like': [],\n",
    "        'humidity_level': []\n",
    "    }\n",
    "    \n",
    "    for i, city in enumerate(cities_df['city_id']):\n",
    "        url = f\"http://api.openweathermap.org/data/2.5/forecast?q={cities_df.iloc[i]['city_id']}&appid={wkey}&units=metric\"\n",
    "        response = requests.get(url)\n",
    "        weather_json = response.json()\n",
    "        \n",
    "        for time in weather_json['list']:  # Note: I changed 'weather_json_city' to 'weather_json' as it seemed like a mistake\n",
    "            weather_dict['city_id'].append(city)\n",
    "            weather_dict['time'].append(time['dt_txt'])\n",
    "            weather_dict['current_temp'].append(time['main']['temp'])\n",
    "            weather_dict['forecast_temp'].append(time['weather'][0]['main'])\n",
    "            weather_dict['feels_like'].append(time['main']['feels_like'])\n",
    "            weather_dict['humidity_level'].append(time['main']['humidity'])\n",
    "\n",
    "    return weather_dict\n",
    "\n",
    "# Usage example:\n",
    "#weather_data = get_weather_forecast(cities_df, wkey)\n"
   ]
  }
 ],
 "metadata": {
  "kernelspec": {
   "display_name": "Python 3 (ipykernel)",
   "language": "python",
   "name": "python3"
  },
  "language_info": {
   "codemirror_mode": {
    "name": "ipython",
    "version": 3
   },
   "file_extension": ".py",
   "mimetype": "text/x-python",
   "name": "python",
   "nbconvert_exporter": "python",
   "pygments_lexer": "ipython3",
   "version": "3.11.4"
  }
 },
 "nbformat": 4,
 "nbformat_minor": 5
}
