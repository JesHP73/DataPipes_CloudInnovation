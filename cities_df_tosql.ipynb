{
 "cells": [
  {
   "cell_type": "code",
   "execution_count": 1,
   "id": "b2cc2127-6129-4918-b8c6-68fab70fac48",
   "metadata": {
    "tags": []
   },
   "outputs": [],
   "source": [
    "import pandas as pd\n",
    "import requests\n",
    "import pymysql\n",
    "from bs4 import BeautifulSoup\n",
    "import time\n",
    "import requests\n",
    "import sqlalchemy\n",
    "from sqlalchemy import inspect\n",
    "from sqlalchemy import create_engine\n",
    "from sqlalchemy import create_engine, inspect"
   ]
  },
  {
   "cell_type": "code",
   "execution_count": null,
   "id": "698a2b71-6e7f-4717-a441-f02dc86741ec",
   "metadata": {
    "tags": []
   },
   "outputs": [],
   "source": [
    "print(\"SQLAlchemy version:\", sqlalchemy.__version__)\n",
    "print(\"PyMySQL version:\", pymysql.__version__)\n"
   ]
  },
  {
   "cell_type": "code",
   "execution_count": 3,
   "id": "af0a0bec-4d1a-4ddf-abfe-e481a78e71cb",
   "metadata": {
    "collapsed": true,
    "jupyter": {
     "outputs_hidden": true
    },
    "tags": []
   },
   "outputs": [
    {
     "data": {
      "text/plain": [
       "[{'name': 'Berlin',\n",
       "  'latitude': 52.5167,\n",
       "  'longitude': 13.3833,\n",
       "  'country': 'DE',\n",
       "  'population': 3644826,\n",
       "  'is_capital': True},\n",
       " {'name': 'Hamburg',\n",
       "  'latitude': 53.55,\n",
       "  'longitude': 10.0,\n",
       "  'country': 'DE',\n",
       "  'population': 1841179,\n",
       "  'is_capital': False},\n",
       " {'name': 'Munich',\n",
       "  'latitude': 48.1372,\n",
       "  'longitude': 11.5755,\n",
       "  'country': 'DE',\n",
       "  'population': 1471508,\n",
       "  'is_capital': False},\n",
       " {'name': 'Cologne',\n",
       "  'latitude': 50.9422,\n",
       "  'longitude': 6.9578,\n",
       "  'country': 'DE',\n",
       "  'population': 1085664,\n",
       "  'is_capital': False},\n",
       " {'name': 'Frankfurt',\n",
       "  'latitude': 50.1136,\n",
       "  'longitude': 8.6797,\n",
       "  'country': 'DE',\n",
       "  'population': 753056,\n",
       "  'is_capital': False}]"
      ]
     },
     "execution_count": 3,
     "metadata": {},
     "output_type": "execute_result"
    }
   ],
   "source": [
    "# Define the sections that will together form the url.\n",
    "url = \"https://api.api-ninjas.com/v1/city\"\n",
    "header={\"X-Api-Key\": \"qClItv2fg4hGDiVLf6zTNw==rLE3xLfQa0uwZFD0\"}\n",
    "querystring = {\"country\": \"DE\", \"min_population\": \"500000\", \"limit\": \"5\"}\n",
    "\n",
    "# Reference the sections in the request.\n",
    "cities = requests.request(\"GET\", url, headers=header, params=querystring)\n",
    "cities_json = cities.json()\n",
    "cities_json"
   ]
  },
  {
   "cell_type": "code",
   "execution_count": 4,
   "id": "42497655-3bf5-49e3-a56b-2c5ee57935fc",
   "metadata": {
    "tags": []
   },
   "outputs": [
    {
     "data": {
      "text/html": [
       "<div>\n",
       "<style scoped>\n",
       "    .dataframe tbody tr th:only-of-type {\n",
       "        vertical-align: middle;\n",
       "    }\n",
       "\n",
       "    .dataframe tbody tr th {\n",
       "        vertical-align: top;\n",
       "    }\n",
       "\n",
       "    .dataframe thead th {\n",
       "        text-align: right;\n",
       "    }\n",
       "</style>\n",
       "<table border=\"1\" class=\"dataframe\">\n",
       "  <thead>\n",
       "    <tr style=\"text-align: right;\">\n",
       "      <th></th>\n",
       "      <th>name</th>\n",
       "      <th>latitude</th>\n",
       "      <th>longitude</th>\n",
       "      <th>country</th>\n",
       "      <th>population</th>\n",
       "      <th>is_capital</th>\n",
       "    </tr>\n",
       "  </thead>\n",
       "  <tbody>\n",
       "    <tr>\n",
       "      <th>0</th>\n",
       "      <td>Berlin</td>\n",
       "      <td>52.5167</td>\n",
       "      <td>13.3833</td>\n",
       "      <td>DE</td>\n",
       "      <td>3644826</td>\n",
       "      <td>True</td>\n",
       "    </tr>\n",
       "    <tr>\n",
       "      <th>1</th>\n",
       "      <td>Hamburg</td>\n",
       "      <td>53.5500</td>\n",
       "      <td>10.0000</td>\n",
       "      <td>DE</td>\n",
       "      <td>1841179</td>\n",
       "      <td>False</td>\n",
       "    </tr>\n",
       "    <tr>\n",
       "      <th>2</th>\n",
       "      <td>Munich</td>\n",
       "      <td>48.1372</td>\n",
       "      <td>11.5755</td>\n",
       "      <td>DE</td>\n",
       "      <td>1471508</td>\n",
       "      <td>False</td>\n",
       "    </tr>\n",
       "    <tr>\n",
       "      <th>3</th>\n",
       "      <td>Cologne</td>\n",
       "      <td>50.9422</td>\n",
       "      <td>6.9578</td>\n",
       "      <td>DE</td>\n",
       "      <td>1085664</td>\n",
       "      <td>False</td>\n",
       "    </tr>\n",
       "    <tr>\n",
       "      <th>4</th>\n",
       "      <td>Frankfurt</td>\n",
       "      <td>50.1136</td>\n",
       "      <td>8.6797</td>\n",
       "      <td>DE</td>\n",
       "      <td>753056</td>\n",
       "      <td>False</td>\n",
       "    </tr>\n",
       "  </tbody>\n",
       "</table>\n",
       "</div>"
      ],
      "text/plain": [
       "        name  latitude  longitude country  population  is_capital\n",
       "0     Berlin   52.5167    13.3833      DE     3644826        True\n",
       "1    Hamburg   53.5500    10.0000      DE     1841179       False\n",
       "2     Munich   48.1372    11.5755      DE     1471508       False\n",
       "3    Cologne   50.9422     6.9578      DE     1085664       False\n",
       "4  Frankfurt   50.1136     8.6797      DE      753056       False"
      ]
     },
     "execution_count": 4,
     "metadata": {},
     "output_type": "execute_result"
    }
   ],
   "source": [
    "cities_df_tosql = pd.DataFrame(cities_json)\n",
    "cities_df_tosql"
   ]
  },
  {
   "cell_type": "code",
   "execution_count": 5,
   "id": "6c1ca851-366c-451d-ac00-d1b9db2ddcc3",
   "metadata": {
    "tags": []
   },
   "outputs": [
    {
     "data": {
      "text/html": [
       "<div>\n",
       "<style scoped>\n",
       "    .dataframe tbody tr th:only-of-type {\n",
       "        vertical-align: middle;\n",
       "    }\n",
       "\n",
       "    .dataframe tbody tr th {\n",
       "        vertical-align: top;\n",
       "    }\n",
       "\n",
       "    .dataframe thead th {\n",
       "        text-align: right;\n",
       "    }\n",
       "</style>\n",
       "<table border=\"1\" class=\"dataframe\">\n",
       "  <thead>\n",
       "    <tr style=\"text-align: right;\">\n",
       "      <th></th>\n",
       "      <th>name</th>\n",
       "      <th>latitude</th>\n",
       "      <th>longitude</th>\n",
       "      <th>country</th>\n",
       "      <th>population</th>\n",
       "    </tr>\n",
       "  </thead>\n",
       "  <tbody>\n",
       "    <tr>\n",
       "      <th>0</th>\n",
       "      <td>Berlin</td>\n",
       "      <td>52.5167</td>\n",
       "      <td>13.3833</td>\n",
       "      <td>DE</td>\n",
       "      <td>3644826</td>\n",
       "    </tr>\n",
       "    <tr>\n",
       "      <th>1</th>\n",
       "      <td>Hamburg</td>\n",
       "      <td>53.5500</td>\n",
       "      <td>10.0000</td>\n",
       "      <td>DE</td>\n",
       "      <td>1841179</td>\n",
       "    </tr>\n",
       "    <tr>\n",
       "      <th>2</th>\n",
       "      <td>Munich</td>\n",
       "      <td>48.1372</td>\n",
       "      <td>11.5755</td>\n",
       "      <td>DE</td>\n",
       "      <td>1471508</td>\n",
       "    </tr>\n",
       "    <tr>\n",
       "      <th>3</th>\n",
       "      <td>Cologne</td>\n",
       "      <td>50.9422</td>\n",
       "      <td>6.9578</td>\n",
       "      <td>DE</td>\n",
       "      <td>1085664</td>\n",
       "    </tr>\n",
       "    <tr>\n",
       "      <th>4</th>\n",
       "      <td>Frankfurt</td>\n",
       "      <td>50.1136</td>\n",
       "      <td>8.6797</td>\n",
       "      <td>DE</td>\n",
       "      <td>753056</td>\n",
       "    </tr>\n",
       "  </tbody>\n",
       "</table>\n",
       "</div>"
      ],
      "text/plain": [
       "        name  latitude  longitude country  population\n",
       "0     Berlin   52.5167    13.3833      DE     3644826\n",
       "1    Hamburg   53.5500    10.0000      DE     1841179\n",
       "2     Munich   48.1372    11.5755      DE     1471508\n",
       "3    Cologne   50.9422     6.9578      DE     1085664\n",
       "4  Frankfurt   50.1136     8.6797      DE      753056"
      ]
     },
     "execution_count": 5,
     "metadata": {},
     "output_type": "execute_result"
    }
   ],
   "source": [
    "cities_df_tosql = cities_df_tosql.drop([\"is_capital\"], axis=1)\n",
    "cities_df_tosql"
   ]
  },
  {
   "cell_type": "code",
   "execution_count": null,
   "id": "1d9c47fa-3124-4c9e-a94e-6e1d9d7214cd",
   "metadata": {
    "tags": []
   },
   "outputs": [],
   "source": [
    "cities_df_tosql.info()"
   ]
  },
  {
   "cell_type": "code",
   "execution_count": 6,
   "id": "c9b8da15-d520-4b8b-b8a8-bc1927da076f",
   "metadata": {
    "tags": []
   },
   "outputs": [
    {
     "data": {
      "text/html": [
       "<div>\n",
       "<style scoped>\n",
       "    .dataframe tbody tr th:only-of-type {\n",
       "        vertical-align: middle;\n",
       "    }\n",
       "\n",
       "    .dataframe tbody tr th {\n",
       "        vertical-align: top;\n",
       "    }\n",
       "\n",
       "    .dataframe thead th {\n",
       "        text-align: right;\n",
       "    }\n",
       "</style>\n",
       "<table border=\"1\" class=\"dataframe\">\n",
       "  <thead>\n",
       "    <tr style=\"text-align: right;\">\n",
       "      <th></th>\n",
       "      <th>city_name</th>\n",
       "      <th>latitude</th>\n",
       "      <th>longitude</th>\n",
       "      <th>population</th>\n",
       "      <th>country</th>\n",
       "    </tr>\n",
       "  </thead>\n",
       "  <tbody>\n",
       "    <tr>\n",
       "      <th>0</th>\n",
       "      <td>Berlin</td>\n",
       "      <td>52.5167</td>\n",
       "      <td>13.3833</td>\n",
       "      <td>3644826</td>\n",
       "      <td>DE</td>\n",
       "    </tr>\n",
       "    <tr>\n",
       "      <th>1</th>\n",
       "      <td>Hamburg</td>\n",
       "      <td>53.5500</td>\n",
       "      <td>10.0000</td>\n",
       "      <td>1841179</td>\n",
       "      <td>DE</td>\n",
       "    </tr>\n",
       "    <tr>\n",
       "      <th>2</th>\n",
       "      <td>Munich</td>\n",
       "      <td>48.1372</td>\n",
       "      <td>11.5755</td>\n",
       "      <td>1471508</td>\n",
       "      <td>DE</td>\n",
       "    </tr>\n",
       "    <tr>\n",
       "      <th>3</th>\n",
       "      <td>Cologne</td>\n",
       "      <td>50.9422</td>\n",
       "      <td>6.9578</td>\n",
       "      <td>1085664</td>\n",
       "      <td>DE</td>\n",
       "    </tr>\n",
       "    <tr>\n",
       "      <th>4</th>\n",
       "      <td>Frankfurt</td>\n",
       "      <td>50.1136</td>\n",
       "      <td>8.6797</td>\n",
       "      <td>753056</td>\n",
       "      <td>DE</td>\n",
       "    </tr>\n",
       "  </tbody>\n",
       "</table>\n",
       "</div>"
      ],
      "text/plain": [
       "   city_name  latitude  longitude  population country\n",
       "0     Berlin   52.5167    13.3833     3644826      DE\n",
       "1    Hamburg   53.5500    10.0000     1841179      DE\n",
       "2     Munich   48.1372    11.5755     1471508      DE\n",
       "3    Cologne   50.9422     6.9578     1085664      DE\n",
       "4  Frankfurt   50.1136     8.6797      753056      DE"
      ]
     },
     "execution_count": 6,
     "metadata": {},
     "output_type": "execute_result"
    }
   ],
   "source": [
    "cities_df_tosql = cities_df_tosql.rename(columns={\"name\": \"city_name\"})\n",
    "# Reorder the columns\n",
    "cities_df_tosql = cities_df_tosql[['city_name', 'latitude', 'longitude', 'population', 'country']]\n",
    "cities_df_tosql"
   ]
  },
  {
   "cell_type": "code",
   "execution_count": 7,
   "id": "98e17105-ac7b-4f6e-a89a-1e6b86f99fa2",
   "metadata": {
    "tags": []
   },
   "outputs": [],
   "source": [
    "# Use the to_csv method \n",
    "cities_df_tosql.to_csv(\"cities_df_tosql.csv\", index=False)"
   ]
  },
  {
   "cell_type": "code",
   "execution_count": 9,
   "id": "ee154453-2d98-4e1c-be0f-cf2da9ca4dd5",
   "metadata": {
    "tags": []
   },
   "outputs": [],
   "source": [
    "# Database connection\n",
    "host = 'wbs-gans-jh-project.cye0p6hkvuel.us-east-1.rds.amazonaws.com'\n",
    "schema = 'gans_aws_JH'\n",
    "user = 'admin'\n",
    "password = 'codta1-kabdoV-zutwew'\n",
    "port = 3306\n",
    "con = f'mysql+pymysql://{user}:{password}@{host}:{port}/{schema}'"
   ]
  },
  {
   "cell_type": "code",
   "execution_count": 11,
   "id": "ac8cf589-8036-4ca4-94ab-874dfc4f4e94",
   "metadata": {
    "tags": []
   },
   "outputs": [
    {
     "data": {
      "text/plain": [
       "5"
      ]
     },
     "execution_count": 11,
     "metadata": {},
     "output_type": "execute_result"
    }
   ],
   "source": [
    "#table cities to sql DONE!\n",
    "cities_df_tosql.to_sql('cities', con=con, if_exists='append', index=False)"
   ]
  }
 ],
 "metadata": {
  "kernelspec": {
   "display_name": "Python 3 (ipykernel)",
   "language": "python",
   "name": "python3"
  },
  "language_info": {
   "codemirror_mode": {
    "name": "ipython",
    "version": 3
   },
   "file_extension": ".py",
   "mimetype": "text/x-python",
   "name": "python",
   "nbconvert_exporter": "python",
   "pygments_lexer": "ipython3",
   "version": "3.11.4"
  }
 },
 "nbformat": 4,
 "nbformat_minor": 5
}
