{
 "cells": [
  {
   "cell_type": "code",
   "execution_count": 5,
   "id": "e7a51d23-44b1-4217-8b72-61fd427c8985",
   "metadata": {
    "tags": []
   },
   "outputs": [],
   "source": [
    "import pandas as pd\n",
    "import requests\n",
    "from IPython.display import JSON\n",
    "import json"
   ]
  },
  {
   "cell_type": "code",
   "execution_count": 6,
   "id": "55c5db3d-2ef1-4795-b79c-5c0a0c3a095e",
   "metadata": {
    "tags": []
   },
   "outputs": [
    {
     "data": {
      "text/html": [
       "<div>\n",
       "<style scoped>\n",
       "    .dataframe tbody tr th:only-of-type {\n",
       "        vertical-align: middle;\n",
       "    }\n",
       "\n",
       "    .dataframe tbody tr th {\n",
       "        vertical-align: top;\n",
       "    }\n",
       "\n",
       "    .dataframe thead th {\n",
       "        text-align: right;\n",
       "    }\n",
       "</style>\n",
       "<table border=\"1\" class=\"dataframe\">\n",
       "  <thead>\n",
       "    <tr style=\"text-align: right;\">\n",
       "      <th></th>\n",
       "      <th>name</th>\n",
       "      <th>latitude</th>\n",
       "      <th>longitude</th>\n",
       "      <th>country</th>\n",
       "      <th>population</th>\n",
       "    </tr>\n",
       "  </thead>\n",
       "  <tbody>\n",
       "    <tr>\n",
       "      <th>0</th>\n",
       "      <td>Berlin</td>\n",
       "      <td>52.5167</td>\n",
       "      <td>13.3833</td>\n",
       "      <td>DE</td>\n",
       "      <td>3644826</td>\n",
       "    </tr>\n",
       "    <tr>\n",
       "      <th>1</th>\n",
       "      <td>Hamburg</td>\n",
       "      <td>53.5500</td>\n",
       "      <td>10.0000</td>\n",
       "      <td>DE</td>\n",
       "      <td>1841179</td>\n",
       "    </tr>\n",
       "    <tr>\n",
       "      <th>2</th>\n",
       "      <td>Munich</td>\n",
       "      <td>48.1372</td>\n",
       "      <td>11.5755</td>\n",
       "      <td>DE</td>\n",
       "      <td>1471508</td>\n",
       "    </tr>\n",
       "    <tr>\n",
       "      <th>3</th>\n",
       "      <td>Cologne</td>\n",
       "      <td>50.9422</td>\n",
       "      <td>6.9578</td>\n",
       "      <td>DE</td>\n",
       "      <td>1085664</td>\n",
       "    </tr>\n",
       "    <tr>\n",
       "      <th>4</th>\n",
       "      <td>Frankfurt</td>\n",
       "      <td>50.1136</td>\n",
       "      <td>8.6797</td>\n",
       "      <td>DE</td>\n",
       "      <td>753056</td>\n",
       "    </tr>\n",
       "  </tbody>\n",
       "</table>\n",
       "</div>"
      ],
      "text/plain": [
       "        name  latitude  longitude country  population\n",
       "0     Berlin   52.5167    13.3833      DE     3644826\n",
       "1    Hamburg   53.5500    10.0000      DE     1841179\n",
       "2     Munich   48.1372    11.5755      DE     1471508\n",
       "3    Cologne   50.9422     6.9578      DE     1085664\n",
       "4  Frankfurt   50.1136     8.6797      DE      753056"
      ]
     },
     "execution_count": 6,
     "metadata": {},
     "output_type": "execute_result"
    }
   ],
   "source": [
    "cities_df = pd.read_csv('cities.csv')\n",
    "cities_df"
   ]
  },
  {
   "cell_type": "code",
   "execution_count": 3,
   "id": "5efc41f3-65c8-4f07-88c7-f533b442d109",
   "metadata": {
    "tags": []
   },
   "outputs": [],
   "source": [
    "# Airport icao's list funtion "
   ]
  },
  {
   "cell_type": "code",
   "execution_count": 13,
   "id": "6553dbb8-2858-4109-b131-c031c03d0575",
   "metadata": {
    "tags": []
   },
   "outputs": [],
   "source": [
    "def icao_airport_codes(cities_df):\n",
    "    \n",
    "    list_for_df = []\n",
    "    \n",
    "    for _, row in cities_df.iterrows():\n",
    "        lat = row['latitude']  \n",
    "        lon = row['longitude']  \n",
    "\n",
    "        url = f\"https://aerodatabox.p.rapidapi.com/airports/search/location/{lat}/{lon}/km/100/16\"\n",
    "        querystring = {\"withFlightInfoOnly\": \"true\"}\n",
    "        headers = {\n",
    "            \"X-RapidAPI-Host\": \"aerodatabox.p.rapidapi.com\",\n",
    "            \"X-RapidAPI-Key\": \"flights_key\" \n",
    "        }\n",
    "\n",
    "        response = requests.request(\"GET\", url, headers=headers, params=querystring)\n",
    "        list_for_df.append(pd.json_normalize(response.json()['items']))\n",
    "    \n",
    "    return pd.concat(list_for_df, ignore_index=True)\n"
   ]
  },
  {
   "cell_type": "code",
   "execution_count": 14,
   "id": "dad9d4b0-8b13-4c16-a891-fa8010b1a590",
   "metadata": {
    "collapsed": true,
    "jupyter": {
     "outputs_hidden": true
    },
    "tags": []
   },
   "outputs": [
    {
     "data": {
      "text/html": [
       "<div>\n",
       "<style scoped>\n",
       "    .dataframe tbody tr th:only-of-type {\n",
       "        vertical-align: middle;\n",
       "    }\n",
       "\n",
       "    .dataframe tbody tr th {\n",
       "        vertical-align: top;\n",
       "    }\n",
       "\n",
       "    .dataframe thead th {\n",
       "        text-align: right;\n",
       "    }\n",
       "</style>\n",
       "<table border=\"1\" class=\"dataframe\">\n",
       "  <thead>\n",
       "    <tr style=\"text-align: right;\">\n",
       "      <th></th>\n",
       "      <th>icao</th>\n",
       "      <th>iata</th>\n",
       "      <th>name</th>\n",
       "      <th>shortName</th>\n",
       "      <th>municipalityName</th>\n",
       "      <th>countryCode</th>\n",
       "      <th>location.lat</th>\n",
       "      <th>location.lon</th>\n",
       "      <th>localCode</th>\n",
       "    </tr>\n",
       "  </thead>\n",
       "  <tbody>\n",
       "    <tr>\n",
       "      <th>0</th>\n",
       "      <td>EDDB</td>\n",
       "      <td>BER</td>\n",
       "      <td>Berlin Brandenburg</td>\n",
       "      <td>Brandenburg</td>\n",
       "      <td>Berlin</td>\n",
       "      <td>DE</td>\n",
       "      <td>52.351390</td>\n",
       "      <td>13.493889</td>\n",
       "      <td>NaN</td>\n",
       "    </tr>\n",
       "    <tr>\n",
       "      <th>1</th>\n",
       "      <td>EDDH</td>\n",
       "      <td>HAM</td>\n",
       "      <td>Hamburg</td>\n",
       "      <td>Hamburg</td>\n",
       "      <td>Hamburg</td>\n",
       "      <td>DE</td>\n",
       "      <td>53.630400</td>\n",
       "      <td>9.988229</td>\n",
       "      <td>NaN</td>\n",
       "    </tr>\n",
       "    <tr>\n",
       "      <th>2</th>\n",
       "      <td>EDDW</td>\n",
       "      <td>BRE</td>\n",
       "      <td>Bremen</td>\n",
       "      <td>Bremen</td>\n",
       "      <td>Bremen</td>\n",
       "      <td>DE</td>\n",
       "      <td>53.047500</td>\n",
       "      <td>8.786669</td>\n",
       "      <td>NaN</td>\n",
       "    </tr>\n",
       "    <tr>\n",
       "      <th>3</th>\n",
       "      <td>EDDM</td>\n",
       "      <td>MUC</td>\n",
       "      <td>Munich</td>\n",
       "      <td>Munich</td>\n",
       "      <td>Munich</td>\n",
       "      <td>DE</td>\n",
       "      <td>48.353800</td>\n",
       "      <td>11.786100</td>\n",
       "      <td>NaN</td>\n",
       "    </tr>\n",
       "    <tr>\n",
       "      <th>4</th>\n",
       "      <td>LOWI</td>\n",
       "      <td>INN</td>\n",
       "      <td>Innsbruck</td>\n",
       "      <td>Innsbruck</td>\n",
       "      <td>Innsbruck</td>\n",
       "      <td>AT</td>\n",
       "      <td>47.260200</td>\n",
       "      <td>11.343999</td>\n",
       "      <td>NaN</td>\n",
       "    </tr>\n",
       "    <tr>\n",
       "      <th>5</th>\n",
       "      <td>EDDK</td>\n",
       "      <td>CGN</td>\n",
       "      <td>Cologne Bonn</td>\n",
       "      <td>Bonn</td>\n",
       "      <td>Cologne</td>\n",
       "      <td>DE</td>\n",
       "      <td>50.865900</td>\n",
       "      <td>7.142739</td>\n",
       "      <td>NaN</td>\n",
       "    </tr>\n",
       "    <tr>\n",
       "      <th>6</th>\n",
       "      <td>EDDL</td>\n",
       "      <td>DUS</td>\n",
       "      <td>Duesseldorf Düsseldorf</td>\n",
       "      <td>Düsseldorf</td>\n",
       "      <td>Duesseldorf</td>\n",
       "      <td>DE</td>\n",
       "      <td>51.289500</td>\n",
       "      <td>6.766779</td>\n",
       "      <td>NaN</td>\n",
       "    </tr>\n",
       "    <tr>\n",
       "      <th>7</th>\n",
       "      <td>ETUR</td>\n",
       "      <td>BGN</td>\n",
       "      <td></td>\n",
       "      <td>NaN</td>\n",
       "      <td>NaN</td>\n",
       "      <td>DE</td>\n",
       "      <td>51.199700</td>\n",
       "      <td>6.132080</td>\n",
       "      <td>БЯГ</td>\n",
       "    </tr>\n",
       "    <tr>\n",
       "      <th>8</th>\n",
       "      <td>EDLW</td>\n",
       "      <td>DTM</td>\n",
       "      <td>Dortmund</td>\n",
       "      <td>Dortmund</td>\n",
       "      <td>Dortmund</td>\n",
       "      <td>DE</td>\n",
       "      <td>51.518300</td>\n",
       "      <td>7.612239</td>\n",
       "      <td>NaN</td>\n",
       "    </tr>\n",
       "    <tr>\n",
       "      <th>9</th>\n",
       "      <td>EHBK</td>\n",
       "      <td>MST</td>\n",
       "      <td>Maastricht Aachen</td>\n",
       "      <td>Aachen</td>\n",
       "      <td>Maastricht</td>\n",
       "      <td>NL</td>\n",
       "      <td>50.911700</td>\n",
       "      <td>5.770140</td>\n",
       "      <td>NaN</td>\n",
       "    </tr>\n",
       "    <tr>\n",
       "      <th>10</th>\n",
       "      <td>EDLV</td>\n",
       "      <td>NRN</td>\n",
       "      <td>Weeze Niederrhein</td>\n",
       "      <td>Niederrhein</td>\n",
       "      <td>Weeze</td>\n",
       "      <td>DE</td>\n",
       "      <td>51.602400</td>\n",
       "      <td>6.142169</td>\n",
       "      <td>NaN</td>\n",
       "    </tr>\n",
       "    <tr>\n",
       "      <th>11</th>\n",
       "      <td>EDDF</td>\n",
       "      <td>FRA</td>\n",
       "      <td>Frankfurt-am-Main</td>\n",
       "      <td>Frankfurt-am-Main</td>\n",
       "      <td>Frankfurt-am-Main</td>\n",
       "      <td>DE</td>\n",
       "      <td>50.026400</td>\n",
       "      <td>8.543129</td>\n",
       "      <td>NaN</td>\n",
       "    </tr>\n",
       "    <tr>\n",
       "      <th>12</th>\n",
       "      <td>EDFM</td>\n",
       "      <td>MHG</td>\n",
       "      <td>Mannheim -City</td>\n",
       "      <td>-City</td>\n",
       "      <td>Mannheim</td>\n",
       "      <td>DE</td>\n",
       "      <td>49.473057</td>\n",
       "      <td>8.514166</td>\n",
       "      <td>NaN</td>\n",
       "    </tr>\n",
       "  </tbody>\n",
       "</table>\n",
       "</div>"
      ],
      "text/plain": [
       "    icao iata                    name          shortName   municipalityName  \\\n",
       "0   EDDB  BER      Berlin Brandenburg        Brandenburg             Berlin   \n",
       "1   EDDH  HAM                Hamburg             Hamburg            Hamburg   \n",
       "2   EDDW  BRE                 Bremen              Bremen             Bremen   \n",
       "3   EDDM  MUC                 Munich              Munich             Munich   \n",
       "4   LOWI  INN              Innsbruck           Innsbruck          Innsbruck   \n",
       "5   EDDK  CGN            Cologne Bonn               Bonn            Cologne   \n",
       "6   EDDL  DUS  Duesseldorf Düsseldorf         Düsseldorf        Duesseldorf   \n",
       "7   ETUR  BGN                                        NaN                NaN   \n",
       "8   EDLW  DTM               Dortmund            Dortmund           Dortmund   \n",
       "9   EHBK  MST       Maastricht Aachen             Aachen         Maastricht   \n",
       "10  EDLV  NRN       Weeze Niederrhein        Niederrhein              Weeze   \n",
       "11  EDDF  FRA      Frankfurt-am-Main   Frankfurt-am-Main  Frankfurt-am-Main   \n",
       "12  EDFM  MHG          Mannheim -City              -City           Mannheim   \n",
       "\n",
       "   countryCode  location.lat  location.lon localCode  \n",
       "0           DE     52.351390     13.493889       NaN  \n",
       "1           DE     53.630400      9.988229       NaN  \n",
       "2           DE     53.047500      8.786669       NaN  \n",
       "3           DE     48.353800     11.786100       NaN  \n",
       "4           AT     47.260200     11.343999       NaN  \n",
       "5           DE     50.865900      7.142739       NaN  \n",
       "6           DE     51.289500      6.766779       NaN  \n",
       "7           DE     51.199700      6.132080       БЯГ  \n",
       "8           DE     51.518300      7.612239       NaN  \n",
       "9           NL     50.911700      5.770140       NaN  \n",
       "10          DE     51.602400      6.142169       NaN  \n",
       "11          DE     50.026400      8.543129       NaN  \n",
       "12          DE     49.473057      8.514166       NaN  "
      ]
     },
     "execution_count": 14,
     "metadata": {},
     "output_type": "execute_result"
    }
   ],
   "source": [
    "result_df = icao_airport_codes(cities_df)\n",
    "result_df"
   ]
  },
  {
   "cell_type": "code",
   "execution_count": 15,
   "id": "32cee3a7-3be5-4ef8-9cbb-37cf665a7cc0",
   "metadata": {
    "tags": []
   },
   "outputs": [],
   "source": [
    "result_df = result_df.drop([\"localCode\"], axis=1)\n",
    "result_df = result_df.drop([\"location.lat\", \"location.lon\"], axis=1)"
   ]
  },
  {
   "cell_type": "code",
   "execution_count": 93,
   "id": "07197589-064c-4535-8651-766688807a8e",
   "metadata": {
    "tags": []
   },
   "outputs": [
    {
     "data": {
      "text/html": [
       "<div>\n",
       "<style scoped>\n",
       "    .dataframe tbody tr th:only-of-type {\n",
       "        vertical-align: middle;\n",
       "    }\n",
       "\n",
       "    .dataframe tbody tr th {\n",
       "        vertical-align: top;\n",
       "    }\n",
       "\n",
       "    .dataframe thead th {\n",
       "        text-align: right;\n",
       "    }\n",
       "</style>\n",
       "<table border=\"1\" class=\"dataframe\">\n",
       "  <thead>\n",
       "    <tr style=\"text-align: right;\">\n",
       "      <th></th>\n",
       "      <th>icao</th>\n",
       "      <th>iata</th>\n",
       "      <th>name</th>\n",
       "      <th>shortName</th>\n",
       "      <th>municipalityName</th>\n",
       "      <th>countryCode</th>\n",
       "    </tr>\n",
       "  </thead>\n",
       "  <tbody>\n",
       "    <tr>\n",
       "      <th>0</th>\n",
       "      <td>EDDB</td>\n",
       "      <td>BER</td>\n",
       "      <td>Berlin Brandenburg</td>\n",
       "      <td>Brandenburg</td>\n",
       "      <td>Berlin</td>\n",
       "      <td>DE</td>\n",
       "    </tr>\n",
       "    <tr>\n",
       "      <th>1</th>\n",
       "      <td>EDDH</td>\n",
       "      <td>HAM</td>\n",
       "      <td>Hamburg</td>\n",
       "      <td>Hamburg</td>\n",
       "      <td>Hamburg</td>\n",
       "      <td>DE</td>\n",
       "    </tr>\n",
       "    <tr>\n",
       "      <th>2</th>\n",
       "      <td>EDDW</td>\n",
       "      <td>BRE</td>\n",
       "      <td>Bremen</td>\n",
       "      <td>Bremen</td>\n",
       "      <td>Bremen</td>\n",
       "      <td>DE</td>\n",
       "    </tr>\n",
       "    <tr>\n",
       "      <th>3</th>\n",
       "      <td>EDDM</td>\n",
       "      <td>MUC</td>\n",
       "      <td>Munich</td>\n",
       "      <td>Munich</td>\n",
       "      <td>Munich</td>\n",
       "      <td>DE</td>\n",
       "    </tr>\n",
       "    <tr>\n",
       "      <th>5</th>\n",
       "      <td>EDDK</td>\n",
       "      <td>CGN</td>\n",
       "      <td>Cologne Bonn</td>\n",
       "      <td>Bonn</td>\n",
       "      <td>Cologne</td>\n",
       "      <td>DE</td>\n",
       "    </tr>\n",
       "    <tr>\n",
       "      <th>6</th>\n",
       "      <td>EDDL</td>\n",
       "      <td>DUS</td>\n",
       "      <td>Duesseldorf Düsseldorf</td>\n",
       "      <td>Düsseldorf</td>\n",
       "      <td>Duesseldorf</td>\n",
       "      <td>DE</td>\n",
       "    </tr>\n",
       "    <tr>\n",
       "      <th>7</th>\n",
       "      <td>ETUR</td>\n",
       "      <td>BGN</td>\n",
       "      <td></td>\n",
       "      <td>NaN</td>\n",
       "      <td>NaN</td>\n",
       "      <td>DE</td>\n",
       "    </tr>\n",
       "    <tr>\n",
       "      <th>8</th>\n",
       "      <td>EDLW</td>\n",
       "      <td>DTM</td>\n",
       "      <td>Dortmund</td>\n",
       "      <td>Dortmund</td>\n",
       "      <td>Dortmund</td>\n",
       "      <td>DE</td>\n",
       "    </tr>\n",
       "    <tr>\n",
       "      <th>10</th>\n",
       "      <td>EDLV</td>\n",
       "      <td>NRN</td>\n",
       "      <td>Weeze Niederrhein</td>\n",
       "      <td>Niederrhein</td>\n",
       "      <td>Weeze</td>\n",
       "      <td>DE</td>\n",
       "    </tr>\n",
       "    <tr>\n",
       "      <th>11</th>\n",
       "      <td>EDDF</td>\n",
       "      <td>FRA</td>\n",
       "      <td>Frankfurt-am-Main</td>\n",
       "      <td>Frankfurt-am-Main</td>\n",
       "      <td>Frankfurt-am-Main</td>\n",
       "      <td>DE</td>\n",
       "    </tr>\n",
       "    <tr>\n",
       "      <th>12</th>\n",
       "      <td>EDFM</td>\n",
       "      <td>MHG</td>\n",
       "      <td>Mannheim -City</td>\n",
       "      <td>-City</td>\n",
       "      <td>Mannheim</td>\n",
       "      <td>DE</td>\n",
       "    </tr>\n",
       "  </tbody>\n",
       "</table>\n",
       "</div>"
      ],
      "text/plain": [
       "    icao iata                    name          shortName   municipalityName  \\\n",
       "0   EDDB  BER      Berlin Brandenburg        Brandenburg             Berlin   \n",
       "1   EDDH  HAM                Hamburg             Hamburg            Hamburg   \n",
       "2   EDDW  BRE                 Bremen              Bremen             Bremen   \n",
       "3   EDDM  MUC                 Munich              Munich             Munich   \n",
       "5   EDDK  CGN            Cologne Bonn               Bonn            Cologne   \n",
       "6   EDDL  DUS  Duesseldorf Düsseldorf         Düsseldorf        Duesseldorf   \n",
       "7   ETUR  BGN                                        NaN                NaN   \n",
       "8   EDLW  DTM               Dortmund            Dortmund           Dortmund   \n",
       "10  EDLV  NRN       Weeze Niederrhein        Niederrhein              Weeze   \n",
       "11  EDDF  FRA      Frankfurt-am-Main   Frankfurt-am-Main  Frankfurt-am-Main   \n",
       "12  EDFM  MHG          Mannheim -City              -City           Mannheim   \n",
       "\n",
       "   countryCode  \n",
       "0           DE  \n",
       "1           DE  \n",
       "2           DE  \n",
       "3           DE  \n",
       "5           DE  \n",
       "6           DE  \n",
       "7           DE  \n",
       "8           DE  \n",
       "10          DE  \n",
       "11          DE  \n",
       "12          DE  "
      ]
     },
     "execution_count": 93,
     "metadata": {},
     "output_type": "execute_result"
    }
   ],
   "source": [
    "result_df"
   ]
  },
  {
   "cell_type": "code",
   "execution_count": 118,
   "id": "c16007ba-6fdd-4d38-b1ac-67e3a2160322",
   "metadata": {
    "tags": []
   },
   "outputs": [],
   "source": [
    "result_df = result_df.drop([12])"
   ]
  },
  {
   "cell_type": "code",
   "execution_count": 119,
   "id": "5d6021aa-6817-4bab-ab03-ca41437f167d",
   "metadata": {
    "tags": []
   },
   "outputs": [
    {
     "data": {
      "text/html": [
       "<div>\n",
       "<style scoped>\n",
       "    .dataframe tbody tr th:only-of-type {\n",
       "        vertical-align: middle;\n",
       "    }\n",
       "\n",
       "    .dataframe tbody tr th {\n",
       "        vertical-align: top;\n",
       "    }\n",
       "\n",
       "    .dataframe thead th {\n",
       "        text-align: right;\n",
       "    }\n",
       "</style>\n",
       "<table border=\"1\" class=\"dataframe\">\n",
       "  <thead>\n",
       "    <tr style=\"text-align: right;\">\n",
       "      <th></th>\n",
       "      <th>icao</th>\n",
       "      <th>iata</th>\n",
       "      <th>name</th>\n",
       "      <th>shortName</th>\n",
       "      <th>municipalityName</th>\n",
       "      <th>countryCode</th>\n",
       "    </tr>\n",
       "  </thead>\n",
       "  <tbody>\n",
       "    <tr>\n",
       "      <th>0</th>\n",
       "      <td>EDDB</td>\n",
       "      <td>BER</td>\n",
       "      <td>Berlin Brandenburg</td>\n",
       "      <td>Brandenburg</td>\n",
       "      <td>Berlin</td>\n",
       "      <td>DE</td>\n",
       "    </tr>\n",
       "    <tr>\n",
       "      <th>1</th>\n",
       "      <td>EDDH</td>\n",
       "      <td>HAM</td>\n",
       "      <td>Hamburg</td>\n",
       "      <td>Hamburg</td>\n",
       "      <td>Hamburg</td>\n",
       "      <td>DE</td>\n",
       "    </tr>\n",
       "    <tr>\n",
       "      <th>2</th>\n",
       "      <td>EDDW</td>\n",
       "      <td>BRE</td>\n",
       "      <td>Bremen</td>\n",
       "      <td>Bremen</td>\n",
       "      <td>Bremen</td>\n",
       "      <td>DE</td>\n",
       "    </tr>\n",
       "    <tr>\n",
       "      <th>3</th>\n",
       "      <td>EDDM</td>\n",
       "      <td>MUC</td>\n",
       "      <td>Munich</td>\n",
       "      <td>Munich</td>\n",
       "      <td>Munich</td>\n",
       "      <td>DE</td>\n",
       "    </tr>\n",
       "    <tr>\n",
       "      <th>5</th>\n",
       "      <td>EDDK</td>\n",
       "      <td>CGN</td>\n",
       "      <td>Cologne Bonn</td>\n",
       "      <td>Bonn</td>\n",
       "      <td>Cologne</td>\n",
       "      <td>DE</td>\n",
       "    </tr>\n",
       "    <tr>\n",
       "      <th>6</th>\n",
       "      <td>EDDL</td>\n",
       "      <td>DUS</td>\n",
       "      <td>Duesseldorf Düsseldorf</td>\n",
       "      <td>Düsseldorf</td>\n",
       "      <td>Duesseldorf</td>\n",
       "      <td>DE</td>\n",
       "    </tr>\n",
       "    <tr>\n",
       "      <th>8</th>\n",
       "      <td>EDLW</td>\n",
       "      <td>DTM</td>\n",
       "      <td>Dortmund</td>\n",
       "      <td>Dortmund</td>\n",
       "      <td>Dortmund</td>\n",
       "      <td>DE</td>\n",
       "    </tr>\n",
       "    <tr>\n",
       "      <th>10</th>\n",
       "      <td>EDLV</td>\n",
       "      <td>NRN</td>\n",
       "      <td>Weeze Niederrhein</td>\n",
       "      <td>Niederrhein</td>\n",
       "      <td>Weeze</td>\n",
       "      <td>DE</td>\n",
       "    </tr>\n",
       "    <tr>\n",
       "      <th>11</th>\n",
       "      <td>EDDF</td>\n",
       "      <td>FRA</td>\n",
       "      <td>Frankfurt-am-Main</td>\n",
       "      <td>Frankfurt-am-Main</td>\n",
       "      <td>Frankfurt-am-Main</td>\n",
       "      <td>DE</td>\n",
       "    </tr>\n",
       "  </tbody>\n",
       "</table>\n",
       "</div>"
      ],
      "text/plain": [
       "    icao iata                    name          shortName   municipalityName  \\\n",
       "0   EDDB  BER      Berlin Brandenburg        Brandenburg             Berlin   \n",
       "1   EDDH  HAM                Hamburg             Hamburg            Hamburg   \n",
       "2   EDDW  BRE                 Bremen              Bremen             Bremen   \n",
       "3   EDDM  MUC                 Munich              Munich             Munich   \n",
       "5   EDDK  CGN            Cologne Bonn               Bonn            Cologne   \n",
       "6   EDDL  DUS  Duesseldorf Düsseldorf         Düsseldorf        Duesseldorf   \n",
       "8   EDLW  DTM               Dortmund            Dortmund           Dortmund   \n",
       "10  EDLV  NRN       Weeze Niederrhein        Niederrhein              Weeze   \n",
       "11  EDDF  FRA      Frankfurt-am-Main   Frankfurt-am-Main  Frankfurt-am-Main   \n",
       "\n",
       "   countryCode  \n",
       "0           DE  \n",
       "1           DE  \n",
       "2           DE  \n",
       "3           DE  \n",
       "5           DE  \n",
       "6           DE  \n",
       "8           DE  \n",
       "10          DE  \n",
       "11          DE  "
      ]
     },
     "execution_count": 119,
     "metadata": {},
     "output_type": "execute_result"
    }
   ],
   "source": [
    "airport_list_df = result_df\n",
    "airport_list_df"
   ]
  },
  {
   "cell_type": "code",
   "execution_count": 120,
   "id": "f83b6244-9a0d-4bd4-b4ea-a2e38ea073d3",
   "metadata": {
    "tags": []
   },
   "outputs": [],
   "source": [
    "airport_list_df.to_csv(\"airport_list.csv\", index=False)"
   ]
  },
  {
   "cell_type": "code",
   "execution_count": null,
   "id": "0368ef29-5b22-4a4d-af48-29b095e0a4a2",
   "metadata": {
    "tags": []
   },
   "outputs": [],
   "source": [
    "import requests\n",
    "\n",
    "url = \"https://aerodatabox.p.rapidapi.com/flights/airports/icao/LGA/2023-10-04T20:00/2023-10-05T08:00\"\n",
    "\n",
    "querystring = {\"withLeg\":\"true\",\"direction\":\"Arrival\",\"withCodeshared\":\"true\",\"withLocation\":\"true\"}\n",
    "\n",
    "headers = {\n",
    "\t\"X-RapidAPI-Key\": \"flights_key\",\n",
    "\t\"X-RapidAPI-Host\": \"aerodatabox.p.rapidapi.com\"\n",
    "}\n",
    "\n",
    "response = requests.get(url, headers=headers, params=querystring)\n",
    "\n",
    "print(response.json())"
   ]
  },
  {
   "cell_type": "code",
   "execution_count": 19,
   "id": "39fe6004-63ca-4e51-80eb-037bb26277cd",
   "metadata": {
    "collapsed": true,
    "jupyter": {
     "outputs_hidden": true
    },
    "tags": []
   },
   "outputs": [
    {
     "ename": "NameError",
     "evalue": "name 'response' is not defined",
     "output_type": "error",
     "traceback": [
      "\u001b[0;31m---------------------------------------------------------------------------\u001b[0m",
      "\u001b[0;31mNameError\u001b[0m                                 Traceback (most recent call last)",
      "Cell \u001b[0;32mIn[19], line 1\u001b[0m\n\u001b[0;32m----> 1\u001b[0m \u001b[38;5;28mprint\u001b[39m(response\u001b[38;5;241m.\u001b[39mstatus_code)\n",
      "\u001b[0;31mNameError\u001b[0m: name 'response' is not defined"
     ]
    }
   ],
   "source": [
    "print(response.status_code)"
   ]
  },
  {
   "cell_type": "code",
   "execution_count": 121,
   "id": "cedf54e3-7207-40b3-99cf-bc73f19457cd",
   "metadata": {
    "tags": []
   },
   "outputs": [
    {
     "name": "stdout",
     "output_type": "stream",
     "text": [
      "200\n"
     ]
    }
   ],
   "source": [
    "fromLocalTime = '2023-10-05T06:00'\n",
    "toLocalTime =   '2023-10-05T18:00'\n",
    "icao = 'EDDB'\n",
    "\n",
    "url = f\"https://aerodatabox.p.rapidapi.com/flights/airports/icao/{icao}/{fromLocalTime}/{toLocalTime}\"\n",
    "querystring = {\"withLeg\":\"true\",\"direction\":\"Arrival\",\"withCancelled\":\"false\",\"withCodeshared\":\"false\",\"withCargo\":\"false\",\"withPrivate\":\"true\",\"withLocation\":\"false\"}\n",
    "headers = {\n",
    "    \"X-RapidAPI-Key\": \"flights_keys\",\n",
    "    \"X-RapidAPI-Host\": \"aerodatabox.p.rapidapi.com\"}\n",
    "\n",
    "airports_arrival_table = requests.request(\"GET\", url, headers=headers, params=querystring)\n",
    "print(airports_arrival_table.status_code)"
   ]
  },
  {
   "cell_type": "code",
   "execution_count": 105,
   "id": "6ea3f549-ed34-4957-b34b-7de54c968661",
   "metadata": {
    "tags": []
   },
   "outputs": [],
   "source": [
    "flight_test_json = airports_arrival_table.json()"
   ]
  },
  {
   "cell_type": "code",
   "execution_count": 106,
   "id": "6e130157-348d-4966-a9eb-baf594332c65",
   "metadata": {
    "tags": []
   },
   "outputs": [
    {
     "data": {
      "application/json": {
       "arrivals": [
        {
         "aircraft": {
          "modeS": "440118",
          "model": "Boeing 737-400",
          "reg": "OE-IBO"
         },
         "airline": {
          "iata": "3V",
          "icao": "TAY",
          "name": "ASL Airlines Belgium"
         },
         "arrival": {
          "quality": [
           "Basic",
           "Live"
          ],
          "revisedTime": {
           "local": "2023-10-05 06:06+02:00",
           "utc": "2023-10-05 04:06Z"
          },
          "runwayTime": {
           "local": "2023-10-05 05:59+02:00",
           "utc": "2023-10-05 03:59Z"
          },
          "scheduledTime": {
           "local": "2023-10-05 06:06+02:00",
           "utc": "2023-10-05 04:06Z"
          }
         },
         "callSign": "TAY8ER",
         "codeshareStatus": "IsOperator",
         "departure": {
          "airport": {
           "iata": "CDG",
           "icao": "LFPG",
           "name": "Paris"
          },
          "quality": [
           "Basic",
           "Live"
          ],
          "revisedTime": {
           "local": "2023-10-05 04:39+02:00",
           "utc": "2023-10-05 02:39Z"
          },
          "runwayTime": {
           "local": "2023-10-05 04:39+02:00",
           "utc": "2023-10-05 02:39Z"
          },
          "scheduledTime": {
           "local": "2023-10-05 04:39+02:00",
           "utc": "2023-10-05 02:39Z"
          }
         },
         "isCargo": false,
         "number": "3V 8ER",
         "status": "Arrived"
        },
        {
         "aircraft": {
          "modeS": "01022D",
          "model": "Airbus A320",
          "reg": "SU-BUL"
         },
         "airline": {
          "iata": "SM",
          "icao": "MSC",
          "name": "Air Cairo"
         },
         "arrival": {
          "baggageBelt": "A1",
          "gate": "X17",
          "quality": [
           "Basic",
           "Live"
          ],
          "revisedTime": {
           "local": "2023-10-05 06:02+02:00",
           "utc": "2023-10-05 04:02Z"
          },
          "runwayTime": {
           "local": "2023-10-05 06:01+02:00",
           "utc": "2023-10-05 04:01Z"
          },
          "scheduledTime": {
           "local": "2023-10-05 06:20+02:00",
           "utc": "2023-10-05 04:20Z"
          },
          "terminal": "1"
         },
         "callSign": "MSC2962",
         "codeshareStatus": "IsOperator",
         "departure": {
          "airport": {
           "iata": "RMF",
           "icao": "HEMA",
           "name": "Marsa Alam"
          },
          "quality": [
           "Basic"
          ],
          "scheduledTime": {
           "local": "2023-10-05 02:20+03:00",
           "utc": "2023-10-04 23:20Z"
          }
         },
         "isCargo": false,
         "number": "SM 2962",
         "status": "Arrived"
        },
        {
         "aircraft": {
          "modeS": "3C9689",
          "model": "FA5X",
          "reg": "D-BETI"
         },
         "airline": {
          "name": "Unknown/Private owner"
         },
         "arrival": {
          "quality": [
           "Basic",
           "Live"
          ],
          "revisedTime": {
           "local": "2023-10-05 07:53+02:00",
           "utc": "2023-10-05 05:53Z"
          },
          "runwayTime": {
           "local": "2023-10-05 07:52+02:00",
           "utc": "2023-10-05 05:52Z"
          },
          "scheduledTime": {
           "local": "2023-10-05 07:53+02:00",
           "utc": "2023-10-05 05:53Z"
          }
         },
         "callSign": "DBETI",
         "codeshareStatus": "IsOperator",
         "departure": {
          "airport": {
           "name": "Unknown"
          },
          "quality": []
         },
         "isCargo": false,
         "number": "DBETI",
         "status": "Arrived"
        },
        {
         "aircraft": {
          "modeS": "A0563B",
          "model": "Boeing 767-300",
          "reg": "N1201P"
         },
         "airline": {
          "iata": "DL",
          "icao": "DAL",
          "name": "Delta Air Lines"
         },
         "arrival": {
          "baggageBelt": "B3",
          "gate": "Y02",
          "quality": [
           "Basic",
           "Live"
          ],
          "revisedTime": {
           "local": "2023-10-05 06:58+02:00",
           "utc": "2023-10-05 04:58Z"
          },
          "scheduledTime": {
           "local": "2023-10-05 07:05+02:00",
           "utc": "2023-10-05 05:05Z"
          },
          "terminal": "1"
         },
         "callSign": "DAL92",
         "codeshareStatus": "IsOperator",
         "departure": {
          "airport": {
           "iata": "JFK",
           "icao": "KJFK",
           "name": "New York"
          },
          "quality": [
           "Basic",
           "Live"
          ],
          "revisedTime": {
           "local": "2023-10-04 17:42-04:00",
           "utc": "2023-10-04 21:42Z"
          },
          "runwayTime": {
           "local": "2023-10-04 17:42-04:00",
           "utc": "2023-10-04 21:42Z"
          },
          "scheduledTime": {
           "local": "2023-10-04 17:00-04:00",
           "utc": "2023-10-04 21:00Z"
          },
          "terminal": "4"
         },
         "isCargo": false,
         "number": "DL 92",
         "status": "Arrived"
        },
        {
         "aircraft": {
          "modeS": "47340B",
          "model": "Airbus A320",
          "reg": "HA-LPK"
         },
         "airline": {
          "name": "Wizz Air"
         },
         "arrival": {
          "baggageBelt": "C3",
          "gate": "Z38",
          "quality": [
           "Basic",
           "Live"
          ],
          "revisedTime": {
           "local": "2023-10-05 06:27+02:00",
           "utc": "2023-10-05 04:27Z"
          },
          "scheduledTime": {
           "local": "2023-10-05 06:40+02:00",
           "utc": "2023-10-05 04:40Z"
          },
          "terminal": "2"
         },
         "callSign": "WZZ965",
         "codeshareStatus": "IsOperator",
         "departure": {
          "airport": {
           "iata": "VAR",
           "icao": "LBWN",
           "name": "Varna"
          },
          "quality": [
           "Basic"
          ],
          "scheduledTime": {
           "local": "2023-10-05 05:10+03:00",
           "utc": "2023-10-05 02:10Z"
          }
         },
         "isCargo": false,
         "number": "W6 4515",
         "status": "Arrived"
        },
        {
         "aircraft": {
          "modeS": "3C4B49",
          "model": "Airbus A320",
          "reg": "D-ABZI"
         },
         "airline": {
          "iata": "EW",
          "icao": "EWG",
          "name": "Eurowings"
         },
         "arrival": {
          "baggageBelt": "A3",
          "gate": "A30",
          "quality": [
           "Basic",
           "Live"
          ],
          "revisedTime": {
           "local": "2023-10-05 07:58+02:00",
           "utc": "2023-10-05 05:58Z"
          },
          "scheduledTime": {
           "local": "2023-10-05 07:45+02:00",
           "utc": "2023-10-05 05:45Z"
          },
          "terminal": "1"
         },
         "callSign": "EWG5MK",
         "codeshareStatus": "IsOperator",
         "departure": {
          "airport": {
           "iata": "CGN",
           "icao": "EDDK",
           "name": "Cologne"
          },
          "quality": [
           "Basic",
           "Live"
          ],
          "revisedTime": {
           "local": "2023-10-05 07:11+02:00",
           "utc": "2023-10-05 05:11Z"
          },
          "runwayTime": {
           "local": "2023-10-05 07:11+02:00",
           "utc": "2023-10-05 05:11Z"
          },
          "scheduledTime": {
           "local": "2023-10-05 06:35+02:00",
           "utc": "2023-10-05 04:35Z"
          },
          "terminal": "1"
         },
         "isCargo": false,
         "number": "EW 12",
         "status": "Arrived"
        },
        {
         "aircraft": {
          "modeS": "3C5EFA",
          "model": "Airbus A319",
          "reg": "D-AGWZ"
         },
         "airline": {
          "iata": "EW",
          "icao": "EWG",
          "name": "Eurowings"
         },
         "arrival": {
          "baggageBelt": "A3",
          "gate": "A32",
          "quality": [
           "Basic",
           "Live"
          ],
          "revisedTime": {
           "local": "2023-10-05 07:23+02:00",
           "utc": "2023-10-05 05:23Z"
          },
          "runwayTime": {
           "local": "2023-10-05 07:22+02:00",
           "utc": "2023-10-05 05:22Z"
          },
          "scheduledTime": {
           "local": "2023-10-05 07:25+02:00",
           "utc": "2023-10-05 05:25Z"
          },
          "terminal": "1"
         },
         "callSign": "EWG2002",
         "codeshareStatus": "IsOperator",
         "departure": {
          "airport": {
           "iata": "STR",
           "icao": "EDDS",
           "name": "Stuttgart"
          },
          "gate": "322",
          "quality": [
           "Basic",
           "Live"
          ],
          "revisedTime": {
           "local": "2023-10-05 06:15+02:00",
           "utc": "2023-10-05 04:15Z"
          },
          "scheduledTime": {
           "local": "2023-10-05 06:15+02:00",
           "utc": "2023-10-05 04:15Z"
          },
          "terminal": "1"
         },
         "isCargo": false,
         "number": "EW 2002",
         "status": "Arrived"
        },
        {
         "aircraft": {
          "modeS": "4D240C",
          "model": "Airbus A320",
          "reg": "9H-EUU"
         },
         "airline": {
          "iata": "EW",
          "icao": "EWG",
          "name": "Eurowings"
         },
         "arrival": {
          "baggageBelt": "A3",
          "gate": "A31",
          "quality": [
           "Basic",
           "Live"
          ],
          "revisedTime": {
           "local": "2023-10-05 07:28+02:00",
           "utc": "2023-10-05 05:28Z"
          },
          "scheduledTime": {
           "local": "2023-10-05 07:30+02:00",
           "utc": "2023-10-05 05:30Z"
          },
          "terminal": "1"
         },
         "callSign": "EWG52FP",
         "codeshareStatus": "IsOperator",
         "departure": {
          "airport": {
           "iata": "DUS",
           "icao": "EDDL",
           "name": "Duesseldorf"
          },
          "checkInDesk": "143,150",
          "gate": "A56",
          "quality": [
           "Basic",
           "Live"
          ],
          "revisedTime": {
           "local": "2023-10-05 06:28+02:00",
           "utc": "2023-10-05 04:28Z"
          },
          "runwayTime": {
           "local": "2023-10-05 06:41+02:00",
           "utc": "2023-10-05 04:41Z"
          },
          "scheduledTime": {
           "local": "2023-10-05 06:20+02:00",
           "utc": "2023-10-05 04:20Z"
          },
          "terminal": "B"
         },
         "isCargo": false,
         "number": "EW 9048",
         "status": "Arrived"
        },
        {
         "aircraft": {
          "modeS": "3C658C",
          "model": "Airbus A319",
          "reg": "D-AILL"
         },
         "airline": {
          "iata": "LH",
          "icao": "DLH",
          "name": "Lufthansa"
         },
         "arrival": {
          "baggageBelt": "A3",
          "gate": "A03",
          "quality": [
           "Basic",
           "Live"
          ],
          "revisedTime": {
           "local": "2023-10-05 07:49+02:00",
           "utc": "2023-10-05 05:49Z"
          },
          "runwayTime": {
           "local": "2023-10-05 07:47+02:00",
           "utc": "2023-10-05 05:47Z"
          },
          "scheduledTime": {
           "local": "2023-10-05 07:55+02:00",
           "utc": "2023-10-05 05:55Z"
          },
          "terminal": "1"
         },
         "callSign": "DLH7CX",
         "codeshareStatus": "IsOperator",
         "departure": {
          "airport": {
           "iata": "FRA",
           "icao": "EDDF",
           "name": "Frankfurt-am-Main"
          },
          "checkInDesk": "259-488",
          "gate": "A18",
          "quality": [
           "Basic",
           "Live"
          ],
          "revisedTime": {
           "local": "2023-10-05 06:45+02:00",
           "utc": "2023-10-05 04:45Z"
          },
          "scheduledTime": {
           "local": "2023-10-05 06:45+02:00",
           "utc": "2023-10-05 04:45Z"
          },
          "terminal": "1"
         },
         "isCargo": false,
         "number": "LH 170",
         "status": "Arrived"
        },
        {
         "aircraft": {
          "modeS": "3C644A",
          "model": "Airbus A319",
          "reg": "D-AIBJ"
         },
         "airline": {
          "iata": "LH",
          "icao": "DLH",
          "name": "Lufthansa"
         },
         "arrival": {
          "baggageBelt": "B4",
          "gate": "B03",
          "quality": [
           "Basic",
           "Live"
          ],
          "revisedTime": {
           "local": "2023-10-05 07:26+02:00",
           "utc": "2023-10-05 05:26Z"
          },
          "scheduledTime": {
           "local": "2023-10-05 07:25+02:00",
           "utc": "2023-10-05 05:25Z"
          },
          "terminal": "1"
         },
         "callSign": "DLH3LY",
         "codeshareStatus": "IsOperator",
         "departure": {
          "airport": {
           "iata": "FRA",
           "icao": "EDDF",
           "name": "Frankfurt-am-Main"
          },
          "checkInDesk": "259-488",
          "gate": "A1",
          "quality": [
           "Basic",
           "Live"
          ],
          "revisedTime": {
           "local": "2023-10-05 06:30+02:00",
           "utc": "2023-10-05 04:30Z"
          },
          "runwayTime": {
           "local": "2023-10-05 06:40+02:00",
           "utc": "2023-10-05 04:40Z"
          },
          "scheduledTime": {
           "local": "2023-10-05 06:15+02:00",
           "utc": "2023-10-05 04:15Z"
          },
          "terminal": "1"
         },
         "isCargo": false,
         "number": "LH 172",
         "status": "Arrived"
        },
        {
         "aircraft": {
          "modeS": "06A10E",
          "model": "Airbus A350",
          "reg": "A7-ALZ"
         },
         "airline": {
          "iata": "QR",
          "icao": "QTR",
          "name": "Qatar Airways"
         },
         "arrival": {
          "baggageBelt": "A4",
          "gate": "X07",
          "quality": [
           "Basic",
           "Live"
          ],
          "revisedTime": {
           "local": "2023-10-05 07:32+02:00",
           "utc": "2023-10-05 05:32Z"
          },
          "scheduledTime": {
           "local": "2023-10-05 07:15+02:00",
           "utc": "2023-10-05 05:15Z"
          },
          "terminal": "1"
         },
         "callSign": "QTR8P",
         "codeshareStatus": "IsOperator",
         "departure": {
          "airport": {
           "iata": "DOH",
           "icao": "OTHH",
           "name": "Doha"
          },
          "quality": [
           "Basic"
          ],
          "scheduledTime": {
           "local": "2023-10-05 02:10+03:00",
           "utc": "2023-10-04 23:10Z"
          }
         },
         "isCargo": false,
         "number": "QR 79",
         "status": "Arrived"
        },
        {
         "aircraft": {
          "modeS": "4CABDB",
          "model": "Bombardier CRJ1000",
          "reg": "EI-HIB"
         },
         "airline": {
          "iata": "SN",
          "icao": "BEL",
          "name": "Brussels"
         },
         "arrival": {
          "baggageBelt": "B1",
          "gate": "S01",
          "quality": [
           "Basic",
           "Live"
          ],
          "revisedTime": {
           "local": "2023-10-05 07:34+02:00",
           "utc": "2023-10-05 05:34Z"
          },
          "scheduledTime": {
           "local": "2023-10-05 07:45+02:00",
           "utc": "2023-10-05 05:45Z"
          },
          "terminal": "1"
         },
         "callSign": "BEL4GT",
         "codeshareStatus": "IsOperator",
         "departure": {
          "airport": {
           "iata": "BRU",
           "icao": "EBBR",
           "name": "Brussels"
          },
          "checkInDesk": "05",
          "quality": [
           "Basic",
           "Live"
          ],
          "revisedTime": {
           "local": "2023-10-05 06:30+02:00",
           "utc": "2023-10-05 04:30Z"
          },
          "runwayTime": {
           "local": "2023-10-05 06:31+02:00",
           "utc": "2023-10-05 04:31Z"
          },
          "scheduledTime": {
           "local": "2023-10-05 06:20+02:00",
           "utc": "2023-10-05 04:20Z"
          }
         },
         "isCargo": false,
         "number": "SN 2579",
         "status": "Arrived"
        },
        {
         "aircraft": {
          "modeS": "440172",
          "model": "Airbus A319",
          "reg": "OE-LQX"
         },
         "airline": {
          "iata": "U2",
          "icao": "EZY",
          "name": "easyJet"
         },
         "arrival": {
          "baggageBelt": "A1",
          "gate": "A35",
          "quality": [
           "Basic",
           "Live"
          ],
          "revisedTime": {
           "local": "2023-10-05 07:39+02:00",
           "utc": "2023-10-05 05:39Z"
          },
          "scheduledTime": {
           "local": "2023-10-05 07:55+02:00",
           "utc": "2023-10-05 05:55Z"
          },
          "terminal": "1"
         },
         "callSign": "EJU51KC",
         "codeshareStatus": "IsOperator",
         "departure": {
          "airport": {
           "iata": "CDG",
           "icao": "LFPG",
           "name": "Paris"
          },
          "quality": [
           "Basic",
           "Live"
          ],
          "revisedTime": {
           "local": "2023-10-05 06:20+02:00",
           "utc": "2023-10-05 04:20Z"
          },
          "runwayTime": {
           "local": "2023-10-05 06:20+02:00",
           "utc": "2023-10-05 04:20Z"
          },
          "scheduledTime": {
           "local": "2023-10-05 06:05+02:00",
           "utc": "2023-10-05 04:05Z"
          },
          "terminal": "2B"
         },
         "isCargo": false,
         "number": "U2 4631",
         "status": "Arrived"
        },
        {
         "aircraft": {
          "modeS": "A8A110",
          "model": "Boeing 767",
          "reg": "N655UA"
         },
         "airline": {
          "iata": "UA",
          "icao": "UAL",
          "name": "United"
         },
         "arrival": {
          "baggageBelt": "B2",
          "gate": "Y17",
          "quality": [
           "Basic",
           "Live"
          ],
          "revisedTime": {
           "local": "2023-10-05 07:36+02:00",
           "utc": "2023-10-05 05:36Z"
          },
          "scheduledTime": {
           "local": "2023-10-05 07:50+02:00",
           "utc": "2023-10-05 05:50Z"
          },
          "terminal": "1"
         },
         "callSign": "UAL962",
         "codeshareStatus": "IsOperator",
         "departure": {
          "airport": {
           "iata": "EWR",
           "icao": "KEWR",
           "name": "Newark"
          },
          "quality": [
           "Basic",
           "Live"
          ],
          "revisedTime": {
           "local": "2023-10-04 18:22-04:00",
           "utc": "2023-10-04 22:22Z"
          },
          "runwayTime": {
           "local": "2023-10-04 18:22-04:00",
           "utc": "2023-10-04 22:22Z"
          },
          "scheduledTime": {
           "local": "2023-10-04 17:40-04:00",
           "utc": "2023-10-04 21:40Z"
          },
          "terminal": "C"
         },
         "isCargo": false,
         "number": "UA 962",
         "status": "Arrived"
        },
        {
         "aircraft": {
          "modeS": "461FA4",
          "model": "Airbus A321",
          "reg": "OH-LZO"
         },
         "airline": {
          "iata": "AY",
          "icao": "FIN",
          "name": "Finnair"
         },
         "arrival": {
          "baggageBelt": "A2",
          "gate": "A34",
          "quality": [
           "Basic",
           "Live"
          ],
          "revisedTime": {
           "local": "2023-10-05 07:42+02:00",
           "utc": "2023-10-05 05:42Z"
          },
          "scheduledTime": {
           "local": "2023-10-05 08:05+02:00",
           "utc": "2023-10-05 06:05Z"
          },
          "terminal": "1"
         },
         "callSign": "FIN3AW",
         "codeshareStatus": "IsOperator",
         "departure": {
          "airport": {
           "iata": "HEL",
           "icao": "EFHK",
           "name": "Helsinki"
          },
          "checkInDesk": "211",
          "gate": "30",
          "quality": [
           "Basic",
           "Live"
          ],
          "revisedTime": {
           "local": "2023-10-05 06:55+03:00",
           "utc": "2023-10-05 03:55Z"
          },
          "runwayTime": {
           "local": "2023-10-05 07:04+03:00",
           "utc": "2023-10-05 04:04Z"
          },
          "scheduledTime": {
           "local": "2023-10-05 07:05+03:00",
           "utc": "2023-10-05 04:05Z"
          },
          "terminal": "2"
         },
         "isCargo": false,
         "number": "AY 1431",
         "status": "Arrived"
        },
        {
         "aircraft": {
          "modeS": "45AA59",
          "model": "ATR 42-300",
          "reg": "OY-JRY"
         },
         "airline": {
          "name": "DMS"
         },
         "arrival": {
          "quality": [
           "Basic",
           "Live"
          ],
          "revisedTime": {
           "local": "2023-10-05 08:24+02:00",
           "utc": "2023-10-05 06:24Z"
          },
          "runwayTime": {
           "local": "2023-10-05 08:23+02:00",
           "utc": "2023-10-05 06:23Z"
          },
          "scheduledTime": {
           "local": "2023-10-05 08:24+02:00",
           "utc": "2023-10-05 06:24Z"
          }
         },
         "callSign": "DMS2PV",
         "codeshareStatus": "IsOperator",
         "departure": {
          "airport": {
           "iata": "SCN",
           "icao": "EDDR",
           "name": "Saarbrücken"
          },
          "quality": []
         },
         "isCargo": false,
         "number": "DMS 2PV",
         "status": "Arrived"
        },
        {
         "aircraft": {
          "modeS": "45AA59",
          "model": "ATR 42-300",
          "reg": "OY-JRY"
         },
         "airline": {
          "iata": "DX",
          "icao": "DTR",
          "name": "Danish Air"
         },
         "arrival": {
          "baggageBelt": "C3",
          "gate": "Z29",
          "quality": [
           "Basic",
           "Live"
          ],
          "revisedTime": {
           "local": "2023-10-05 08:25+02:00",
           "utc": "2023-10-05 06:25Z"
          },
          "scheduledTime": {
           "local": "2023-10-05 08:20+02:00",
           "utc": "2023-10-05 06:20Z"
          },
          "terminal": "2"
         },
         "codeshareStatus": "IsOperator",
         "departure": {
          "airport": {
           "iata": "SCN",
           "icao": "EDDR",
           "name": "Saarbrücken"
          },
          "quality": [
           "Basic"
          ],
          "scheduledTime": {
           "local": "2023-10-05 06:40+02:00",
           "utc": "2023-10-05 04:40Z"
          }
         },
         "isCargo": false,
         "number": "DX 121",
         "status": "Arrived"
        },
        {
         "aircraft": {
          "modeS": "4D2418",
          "model": "Airbus A320-200 (sharklets)",
          "reg": "9H-EWH"
         },
         "airline": {
          "iata": "EW",
          "icao": "EWG",
          "name": "Eurowings"
         },
         "arrival": {
          "baggageBelt": "A3",
          "gate": "A37",
          "quality": [
           "Basic",
           "Live"
          ],
          "revisedTime": {
           "local": "2023-10-05 08:07+02:00",
           "utc": "2023-10-05 06:07Z"
          },
          "scheduledTime": {
           "local": "2023-10-05 08:15+02:00",
           "utc": "2023-10-05 06:15Z"
          },
          "terminal": "1"
         },
         "callSign": "EWG4600",
         "codeshareStatus": "IsOperator",
         "departure": {
          "airport": {
           "iata": "ARN",
           "icao": "ESSA",
           "name": "Stockholm"
          },
          "checkInDesk": "29-31",
          "gate": "C41",
          "quality": [
           "Basic",
           "Live"
          ],
          "revisedTime": {
           "local": "2023-10-05 06:42+02:00",
           "utc": "2023-10-05 04:42Z"
          },
          "runwayTime": {
           "local": "2023-10-05 06:51+02:00",
           "utc": "2023-10-05 04:51Z"
          },
          "scheduledTime": {
           "local": "2023-10-05 06:40+02:00",
           "utc": "2023-10-05 04:40Z"
          },
          "terminal": "5"
         },
         "isCargo": false,
         "number": "EW 4600",
         "status": "Arrived"
        },
        {
         "aircraft": {
          "modeS": "4D227A",
          "model": "Boeing 737-800",
          "reg": "9H-QCE"
         },
         "airline": {
          "iata": "FR",
          "icao": "RYR",
          "name": "Ryanair"
         },
         "arrival": {
          "baggageBelt": "C1",
          "gate": "Z36",
          "quality": [
           "Basic",
           "Live"
          ],
          "revisedTime": {
           "local": "2023-10-05 08:05+02:00",
           "utc": "2023-10-05 06:05Z"
          },
          "scheduledTime": {
           "local": "2023-10-05 08:20+02:00",
           "utc": "2023-10-05 06:20Z"
          },
          "terminal": "2"
         },
         "callSign": "RYR27YJ",
         "codeshareStatus": "IsOperator",
         "departure": {
          "airport": {
           "iata": "MXP",
           "icao": "LIMC",
           "name": "Milan"
          },
          "quality": [
           "Basic",
           "Live"
          ],
          "revisedTime": {
           "local": "2023-10-05 06:41+02:00",
           "utc": "2023-10-05 04:41Z"
          },
          "runwayTime": {
           "local": "2023-10-05 06:41+02:00",
           "utc": "2023-10-05 04:41Z"
          },
          "scheduledTime": {
           "local": "2023-10-05 06:35+02:00",
           "utc": "2023-10-05 04:35Z"
          },
          "terminal": "1"
         },
         "isCargo": false,
         "number": "FR 9",
         "status": "Arrived"
        },
        {
         "aircraft": {
          "modeS": "484F7C",
          "model": "Embraer 190",
          "reg": "PH-EZT"
         },
         "airline": {
          "iata": "KL",
          "icao": "KLM",
          "name": "KLM"
         },
         "arrival": {
          "baggageBelt": "A4",
          "gate": "A36",
          "quality": [
           "Basic",
           "Live"
          ],
          "revisedTime": {
           "local": "2023-10-05 08:16+02:00",
           "utc": "2023-10-05 06:16Z"
          },
          "runwayTime": {
           "local": "2023-10-05 08:15+02:00",
           "utc": "2023-10-05 06:15Z"
          },
          "scheduledTime": {
           "local": "2023-10-05 08:20+02:00",
           "utc": "2023-10-05 06:20Z"
          },
          "terminal": "1"
         },
         "callSign": "KLM69H",
         "codeshareStatus": "IsOperator",
         "departure": {
          "airport": {
           "iata": "AMS",
           "icao": "EHAM",
           "name": "Amsterdam"
          },
          "checkInDesk": "6-8",
          "gate": "B28",
          "quality": [
           "Basic",
           "Live"
          ],
          "revisedTime": {
           "local": "2023-10-05 07:06+02:00",
           "utc": "2023-10-05 05:06Z"
          },
          "scheduledTime": {
           "local": "2023-10-05 07:00+02:00",
           "utc": "2023-10-05 05:00Z"
          },
          "terminal": "1"
         },
         "isCargo": false,
         "number": "KL 1821",
         "status": "Arrived"
        },
        {
         "aircraft": {
          "modeS": "4D00D9",
          "model": "De Havilland Canada DHC-8-400 Dash 8Q",
          "reg": "LX-LQI"
         },
         "airline": {
          "iata": "LG",
          "icao": "LGL",
          "name": "Luxair"
         },
         "arrival": {
          "baggageBelt": "B1",
          "gate": "S01",
          "quality": [
           "Basic",
           "Live"
          ],
          "revisedTime": {
           "local": "2023-10-05 08:18+02:00",
           "utc": "2023-10-05 06:18Z"
          },
          "scheduledTime": {
           "local": "2023-10-05 08:05+02:00",
           "utc": "2023-10-05 06:05Z"
          },
          "terminal": "1"
         },
         "callSign": "LGL91B",
         "codeshareStatus": "IsOperator",
         "departure": {
          "airport": {
           "iata": "LUX",
           "icao": "ELLX",
           "name": "Luxembourg"
          },
          "gate": "B01",
          "quality": [
           "Basic",
           "Live"
          ],
          "revisedTime": {
           "local": "2023-10-05 06:59+02:00",
           "utc": "2023-10-05 04:59Z"
          },
          "runwayTime": {
           "local": "2023-10-05 07:08+02:00",
           "utc": "2023-10-05 05:08Z"
          },
          "scheduledTime": {
           "local": "2023-10-05 06:35+02:00",
           "utc": "2023-10-05 04:35Z"
          },
          "terminal": "A"
         },
         "isCargo": false,
         "number": "LG 9471",
         "status": "Arrived"
        },
        {
         "aircraft": {
          "modeS": "3C66AC",
          "model": "Airbus A320",
          "reg": "D-AIUL"
         },
         "airline": {
          "iata": "LH",
          "icao": "DLH",
          "name": "Lufthansa"
         },
         "arrival": {
          "baggageBelt": "A3",
          "gate": "A01",
          "quality": [
           "Basic",
           "Live"
          ],
          "revisedTime": {
           "local": "2023-10-05 08:43+02:00",
           "utc": "2023-10-05 06:43Z"
          },
          "scheduledTime": {
           "local": "2023-10-05 08:55+02:00",
           "utc": "2023-10-05 06:55Z"
          },
          "terminal": "1"
         },
         "callSign": "DLH9LE",
         "codeshareStatus": "IsOperator",
         "departure": {
          "airport": {
           "iata": "FRA",
           "icao": "EDDF",
           "name": "Frankfurt-am-Main"
          },
          "checkInDesk": "259-488",
          "gate": "A1",
          "quality": [
           "Basic",
           "Live"
          ],
          "revisedTime": {
           "local": "2023-10-05 07:45+02:00",
           "utc": "2023-10-05 05:45Z"
          },
          "runwayTime": {
           "local": "2023-10-05 07:57+02:00",
           "utc": "2023-10-05 05:57Z"
          },
          "scheduledTime": {
           "local": "2023-10-05 07:45+02:00",
           "utc": "2023-10-05 05:45Z"
          },
          "terminal": "1"
         },
         "isCargo": false,
         "number": "LH 174",
         "status": "Arrived"
        },
        {
         "aircraft": {
          "modeS": "502D43",
          "model": "Airbus A220-300",
          "reg": "YL-ABB"
         },
         "airline": {
          "iata": "LX",
          "icao": "SWR",
          "name": "SWISS"
         },
         "arrival": {
          "baggageBelt": "B3",
          "gate": "B03",
          "quality": [
           "Basic",
           "Live"
          ],
          "revisedTime": {
           "local": "2023-10-05 09:04+02:00",
           "utc": "2023-10-05 07:04Z"
          },
          "runwayTime": {
           "local": "2023-10-05 09:03+02:00",
           "utc": "2023-10-05 07:03Z"
          },
          "scheduledTime": {
           "local": "2023-10-05 08:45+02:00",
           "utc": "2023-10-05 06:45Z"
          },
          "terminal": "1"
         },
         "callSign": "SWR97Y",
         "codeshareStatus": "IsOperator",
         "departure": {
          "airport": {
           "iata": "ZRH",
           "icao": "LSZH",
           "name": "Zurich"
          },
          "checkInDesk": "1",
          "gate": "A74",
          "quality": [
           "Basic",
           "Live"
          ],
          "revisedTime": {
           "local": "2023-10-05 07:35+02:00",
           "utc": "2023-10-05 05:35Z"
          },
          "runwayTime": {
           "local": "2023-10-05 07:56+02:00",
           "utc": "2023-10-05 05:56Z"
          },
          "scheduledTime": {
           "local": "2023-10-05 07:20+02:00",
           "utc": "2023-10-05 05:20Z"
          }
         },
         "isCargo": false,
         "number": "LX 974",
         "status": "Arrived"
        },
        {
         "aircraft": {
          "modeS": "4402A3",
          "model": "Airbus A320",
          "reg": "OE-LXE"
         },
         "airline": {
          "iata": "OS",
          "icao": "AUA",
          "name": "Austrian"
         },
         "arrival": {
          "baggageBelt": "B1",
          "gate": "S01",
          "quality": [
           "Basic",
           "Live"
          ],
          "revisedTime": {
           "local": "2023-10-05 08:01+02:00",
           "utc": "2023-10-05 06:01Z"
          },
          "scheduledTime": {
           "local": "2023-10-05 08:15+02:00",
           "utc": "2023-10-05 06:15Z"
          },
          "terminal": "1"
         },
         "callSign": "AUA223",
         "codeshareStatus": "IsOperator",
         "departure": {
          "airport": {
           "iata": "VIE",
           "icao": "LOWW",
           "name": "Vienna"
          },
          "checkInDesk": "351-372",
          "gate": "F06",
          "quality": [
           "Basic",
           "Live"
          ],
          "revisedTime": {
           "local": "2023-10-05 07:05+02:00",
           "utc": "2023-10-05 05:05Z"
          },
          "runwayTime": {
           "local": "2023-10-05 07:06+02:00",
           "utc": "2023-10-05 05:06Z"
          },
          "scheduledTime": {
           "local": "2023-10-05 07:00+02:00",
           "utc": "2023-10-05 05:00Z"
          },
          "terminal": "3"
         },
         "isCargo": false,
         "number": "OS 223",
         "status": "Arrived"
        },
        {
         "aircraft": {
          "modeS": "3C6750",
          "model": "Airbus A320 (Sharklets)",
          "reg": "D-AIZP"
         },
         "airline": {
          "iata": "LH",
          "icao": "DLH",
          "name": "Lufthansa"
         },
         "arrival": {
          "baggageBelt": "B3",
          "gate": "B20",
          "quality": [
           "Basic",
           "Live"
          ],
          "revisedTime": {
           "local": "2023-10-05 08:03+02:00",
           "utc": "2023-10-05 06:03Z"
          },
          "scheduledTime": {
           "local": "2023-10-05 08:05+02:00",
           "utc": "2023-10-05 06:05Z"
          },
          "terminal": "1"
         },
         "callSign": "DLH7N",
         "codeshareStatus": "IsOperator",
         "departure": {
          "airport": {
           "iata": "MUC",
           "icao": "EDDM",
           "name": "Munich"
          },
          "quality": [
           "Basic",
           "Live"
          ],
          "revisedTime": {
           "local": "2023-10-05 07:00+02:00",
           "utc": "2023-10-05 05:00Z"
          },
          "scheduledTime": {
           "local": "2023-10-05 07:00+02:00",
           "utc": "2023-10-05 05:00Z"
          },
          "terminal": "2"
         },
         "isCargo": false,
         "number": "LH 1928",
         "status": "Arrived"
        },
        {
         "aircraft": {
          "modeS": "503CFB",
          "model": "Airbus A320",
          "reg": "LY-NVN"
         },
         "airline": {
          "iata": "PC",
          "icao": "PGT",
          "name": "Pegasus"
         },
         "arrival": {
          "baggageBelt": "B4",
          "gate": "N01",
          "quality": [
           "Basic",
           "Live"
          ],
          "revisedTime": {
           "local": "2023-10-05 08:21+02:00",
           "utc": "2023-10-05 06:21Z"
          },
          "runwayTime": {
           "local": "2023-10-05 08:20+02:00",
           "utc": "2023-10-05 06:20Z"
          },
          "scheduledTime": {
           "local": "2023-10-05 08:35+02:00",
           "utc": "2023-10-05 06:35Z"
          },
          "terminal": "1"
         },
         "callSign": "PGT823K",
         "codeshareStatus": "IsOperator",
         "departure": {
          "airport": {
           "iata": "AYT",
           "icao": "LTAI",
           "name": "Antalya"
          },
          "checkInDesk": "101-103",
          "quality": [
           "Basic",
           "Live"
          ],
          "revisedTime": {
           "local": "2023-10-05 06:00+03:00",
           "utc": "2023-10-05 03:00Z"
          },
          "scheduledTime": {
           "local": "2023-10-05 06:00+03:00",
           "utc": "2023-10-05 03:00Z"
          },
          "terminal": "1"
         },
         "isCargo": false,
         "number": "PC 5067",
         "status": "Arrived"
        },
        {
         "aircraft": {
          "modeS": "4B906C",
          "model": "Airbus A320",
          "reg": "TC-DCL"
         },
         "airline": {
          "iata": "PC",
          "icao": "PGT",
          "name": "Pegasus"
         },
         "arrival": {
          "baggageBelt": "A3",
          "gate": "X17",
          "quality": [
           "Basic",
           "Live"
          ],
          "revisedTime": {
           "local": "2023-10-05 08:11+02:00",
           "utc": "2023-10-05 06:11Z"
          },
          "scheduledTime": {
           "local": "2023-10-05 08:25+02:00",
           "utc": "2023-10-05 06:25Z"
          },
          "terminal": "1"
         },
         "callSign": "PGT13UD",
         "codeshareStatus": "IsOperator",
         "departure": {
          "airport": {
           "iata": "ADB",
           "icao": "LTBJ",
           "name": "İzmir"
          },
          "checkInDesk": "05",
          "gate": "104",
          "quality": [
           "Basic",
           "Live"
          ],
          "revisedTime": {
           "local": "2023-10-05 06:31+03:00",
           "utc": "2023-10-05 03:31Z"
          },
          "runwayTime": {
           "local": "2023-10-05 06:31+03:00",
           "utc": "2023-10-05 03:31Z"
          },
          "scheduledTime": {
           "local": "2023-10-05 06:25+03:00",
           "utc": "2023-10-05 03:25Z"
          },
          "terminal": "D"
         },
         "isCargo": false,
         "number": "PC 5303",
         "status": "Arrived"
        },
        {
         "aircraft": {
          "modeS": "440057",
          "model": "Airbus A320",
          "reg": "OE-IVE"
         },
         "airline": {
          "iata": "U2",
          "icao": "EZY",
          "name": "easyJet"
         },
         "arrival": {
          "baggageBelt": "A1",
          "gate": "A33",
          "quality": [
           "Basic",
           "Live"
          ],
          "revisedTime": {
           "local": "2023-10-05 08:25+02:00",
           "utc": "2023-10-05 06:25Z"
          },
          "runwayTime": {
           "local": "2023-10-05 08:23+02:00",
           "utc": "2023-10-05 06:23Z"
          },
          "scheduledTime": {
           "local": "2023-10-05 08:45+02:00",
           "utc": "2023-10-05 06:45Z"
          },
          "terminal": "1"
         },
         "callSign": "EJU71EC",
         "codeshareStatus": "IsOperator",
         "departure": {
          "airport": {
           "iata": "LIN",
           "icao": "LIML",
           "name": "Milan"
          },
          "quality": [
           "Basic",
           "Live"
          ],
          "revisedTime": {
           "local": "2023-10-05 07:01+02:00",
           "utc": "2023-10-05 05:01Z"
          },
          "runwayTime": {
           "local": "2023-10-05 07:01+02:00",
           "utc": "2023-10-05 05:01Z"
          },
          "scheduledTime": {
           "local": "2023-10-05 06:55+02:00",
           "utc": "2023-10-05 04:55Z"
          }
         },
         "isCargo": false,
         "number": "U2 5068",
         "status": "Arrived"
        },
        {
         "aircraft": {
          "modeS": "AA44CF",
          "model": "Boeing 767",
          "reg": "N76064"
         },
         "airline": {
          "iata": "UA",
          "icao": "UAL",
          "name": "United"
         },
         "arrival": {
          "baggageBelt": "B3",
          "gate": "Y07",
          "quality": [
           "Basic",
           "Live"
          ],
          "revisedTime": {
           "local": "2023-10-05 07:54+02:00",
           "utc": "2023-10-05 05:54Z"
          },
          "runwayTime": {
           "local": "2023-10-05 07:54+02:00",
           "utc": "2023-10-05 05:54Z"
          },
          "scheduledTime": {
           "local": "2023-10-05 08:20+02:00",
           "utc": "2023-10-05 06:20Z"
          },
          "terminal": "1"
         },
         "callSign": "UAL234",
         "codeshareStatus": "IsOperator",
         "departure": {
          "airport": {
           "iata": "IAD",
           "icao": "KIAD",
           "name": "District of Columbia"
          },
          "quality": [
           "Basic",
           "Live"
          ],
          "revisedTime": {
           "local": "2023-10-04 18:09-04:00",
           "utc": "2023-10-04 22:09Z"
          },
          "runwayTime": {
           "local": "2023-10-04 18:09-04:00",
           "utc": "2023-10-04 22:09Z"
          },
          "scheduledTime": {
           "local": "2023-10-04 17:45-04:00",
           "utc": "2023-10-04 21:45Z"
          }
         },
         "isCargo": false,
         "number": "UA 234",
         "status": "Arrived"
        },
        {
         "aircraft": {
          "modeS": "394C13",
          "model": "Airbus A321",
          "reg": "F-GTAT"
         },
         "airline": {
          "iata": "AF",
          "icao": "AFR",
          "name": "Air France"
         },
         "arrival": {
          "baggageBelt": "A4",
          "gate": "A31",
          "quality": [
           "Basic",
           "Live"
          ],
          "revisedTime": {
           "local": "2023-10-05 09:35+02:00",
           "utc": "2023-10-05 07:35Z"
          },
          "runwayTime": {
           "local": "2023-10-05 09:35+02:00",
           "utc": "2023-10-05 07:35Z"
          },
          "scheduledTime": {
           "local": "2023-10-05 09:20+02:00",
           "utc": "2023-10-05 07:20Z"
          },
          "terminal": "1"
         },
         "callSign": "AFR16ER",
         "codeshareStatus": "IsOperator",
         "departure": {
          "airport": {
           "iata": "CDG",
           "icao": "LFPG",
           "name": "Paris"
          },
          "quality": [
           "Basic",
           "Live"
          ],
          "revisedTime": {
           "local": "2023-10-05 08:16+02:00",
           "utc": "2023-10-05 06:16Z"
          },
          "runwayTime": {
           "local": "2023-10-05 08:16+02:00",
           "utc": "2023-10-05 06:16Z"
          },
          "scheduledTime": {
           "local": "2023-10-05 07:40+02:00",
           "utc": "2023-10-05 05:40Z"
          },
          "terminal": "2F"
         },
         "isCargo": false,
         "number": "AF 1434",
         "status": "Arrived"
        },
        {
         "aircraft": {
          "modeS": "406231",
          "model": "Embraer 190",
          "reg": "G-LCYL"
         },
         "airline": {
          "iata": "BA",
          "icao": "BAW",
          "name": "British Airways"
         },
         "arrival": {
          "baggageBelt": "A3",
          "gate": "X17",
          "quality": [
           "Basic",
           "Live"
          ],
          "revisedTime": {
           "local": "2023-10-05 09:22+02:00",
           "utc": "2023-10-05 07:22Z"
          },
          "scheduledTime": {
           "local": "2023-10-05 09:40+02:00",
           "utc": "2023-10-05 07:40Z"
          },
          "terminal": "1"
         },
         "callSign": "BAW7029",
         "codeshareStatus": "IsOperator",
         "departure": {
          "airport": {
           "iata": "LCY",
           "icao": "EGLC",
           "name": "London"
          },
          "gate": "8",
          "quality": [
           "Basic",
           "Live"
          ],
          "revisedTime": {
           "local": "2023-10-05 07:00+01:00",
           "utc": "2023-10-05 06:00Z"
          },
          "runwayTime": {
           "local": "2023-10-05 07:04+01:00",
           "utc": "2023-10-05 06:04Z"
          },
          "scheduledTime": {
           "local": "2023-10-05 07:00+01:00",
           "utc": "2023-10-05 06:00Z"
          }
         },
         "isCargo": false,
         "number": "BA 7029",
         "status": "Arrived"
        },
        {
         "aircraft": {
          "modeS": "4792DB",
          "model": "Boeing 737-800",
          "reg": "LN-NIK"
         },
         "airline": {
          "iata": "DY",
          "icao": "NOZ",
          "name": "Norwegian Air Shuttle"
         },
         "arrival": {
          "baggageBelt": "C3",
          "gate": "Z32",
          "quality": [
           "Basic",
           "Live"
          ],
          "revisedTime": {
           "local": "2023-10-05 08:52+02:00",
           "utc": "2023-10-05 06:52Z"
          },
          "scheduledTime": {
           "local": "2023-10-05 09:05+02:00",
           "utc": "2023-10-05 07:05Z"
          },
          "terminal": "2"
         },
         "callSign": "NOZ2XM",
         "codeshareStatus": "IsOperator",
         "departure": {
          "airport": {
           "iata": "OSL",
           "icao": "ENGM",
           "name": "Oslo"
          },
          "checkInDesk": "123",
          "gate": "D4",
          "quality": [
           "Basic",
           "Live"
          ],
          "revisedTime": {
           "local": "2023-10-05 07:24+02:00",
           "utc": "2023-10-05 05:24Z"
          },
          "runwayTime": {
           "local": "2023-10-05 07:36+02:00",
           "utc": "2023-10-05 05:36Z"
          },
          "scheduledTime": {
           "local": "2023-10-05 07:30+02:00",
           "utc": "2023-10-05 05:30Z"
          }
         },
         "isCargo": false,
         "number": "DY 1102",
         "status": "Arrived"
        },
        {
         "aircraft": {
          "modeS": "3C4906",
          "model": "Airbus A320",
          "reg": "D-ABHF"
         },
         "airline": {
          "iata": "EW",
          "icao": "EWG",
          "name": "Eurowings"
         },
         "arrival": {
          "baggageBelt": "B3",
          "gate": "A34",
          "quality": [
           "Basic",
           "Live"
          ],
          "revisedTime": {
           "local": "2023-10-05 09:37+02:00",
           "utc": "2023-10-05 07:37Z"
          },
          "runwayTime": {
           "local": "2023-10-05 09:37+02:00",
           "utc": "2023-10-05 07:37Z"
          },
          "scheduledTime": {
           "local": "2023-10-05 09:35+02:00",
           "utc": "2023-10-05 07:35Z"
          },
          "terminal": "1"
         },
         "callSign": "EWG8001",
         "codeshareStatus": "IsOperator",
         "departure": {
          "airport": {
           "iata": "STR",
           "icao": "EDDS",
           "name": "Stuttgart"
          },
          "gate": "316",
          "quality": [
           "Basic",
           "Live"
          ],
          "revisedTime": {
           "local": "2023-10-05 08:25+02:00",
           "utc": "2023-10-05 06:25Z"
          },
          "runwayTime": {
           "local": "2023-10-05 08:40+02:00",
           "utc": "2023-10-05 06:40Z"
          },
          "scheduledTime": {
           "local": "2023-10-05 08:25+02:00",
           "utc": "2023-10-05 06:25Z"
          },
          "terminal": "1"
         },
         "isCargo": false,
         "number": "EW 8001",
         "status": "Arrived"
        },
        {
         "aircraft": {
          "modeS": "503E6A",
          "model": "Airbus A320",
          "reg": "LY-MLI"
         },
         "airline": {
          "iata": "XQ",
          "icao": "SXS",
          "name": "Sun Express"
         },
         "arrival": {
          "baggageBelt": "B4",
          "gate": "N01",
          "quality": [
           "Basic",
           "Live"
          ],
          "revisedTime": {
           "local": "2023-10-05 08:14+02:00",
           "utc": "2023-10-05 06:14Z"
          },
          "scheduledTime": {
           "local": "2023-10-05 08:25+02:00",
           "utc": "2023-10-05 06:25Z"
          },
          "terminal": "1"
         },
         "codeshareStatus": "IsOperator",
         "departure": {
          "airport": {
           "iata": "AYT",
           "icao": "LTAI",
           "name": "Antalya"
          },
          "checkInDesk": "120-130",
          "quality": [
           "Basic",
           "Live"
          ],
          "revisedTime": {
           "local": "2023-10-05 05:50+03:00",
           "utc": "2023-10-05 02:50Z"
          },
          "scheduledTime": {
           "local": "2023-10-05 05:50+03:00",
           "utc": "2023-10-05 02:50Z"
          },
          "terminal": "1"
         },
         "isCargo": false,
         "number": "XQ 664",
         "status": "Arrived"
        },
        {
         "aircraft": {
          "modeS": "4CAA61",
          "model": "Boeing 737-800",
          "reg": "EI-EXF"
         },
         "airline": {
          "iata": "FR",
          "icao": "RYR",
          "name": "Ryanair"
         },
         "arrival": {
          "baggageBelt": "C1",
          "gate": "Z34",
          "quality": [
           "Basic",
           "Live"
          ],
          "revisedTime": {
           "local": "2023-10-05 09:10+02:00",
           "utc": "2023-10-05 07:10Z"
          },
          "scheduledTime": {
           "local": "2023-10-05 09:05+02:00",
           "utc": "2023-10-05 07:05Z"
          },
          "terminal": "2"
         },
         "callSign": "RYR292N",
         "codeshareStatus": "IsOperator",
         "departure": {
          "airport": {
           "iata": "VLC",
           "icao": "LEVC",
           "name": "Valencia"
          },
          "checkInDesk": "13-14",
          "gate": "14,13",
          "quality": [
           "Basic",
           "Live"
          ],
          "revisedTime": {
           "local": "2023-10-05 06:20+02:00",
           "utc": "2023-10-05 04:20Z"
          },
          "runwayTime": {
           "local": "2023-10-05 06:30+02:00",
           "utc": "2023-10-05 04:30Z"
          },
          "scheduledTime": {
           "local": "2023-10-05 06:10+02:00",
           "utc": "2023-10-05 04:10Z"
          },
          "terminal": "1"
         },
         "isCargo": false,
         "number": "FR 139",
         "status": "Arrived"
        },
        {
         "aircraft": {
          "modeS": "4D2208",
          "model": "Boeing 737-800",
          "reg": "9H-QBZ"
         },
         "airline": {
          "iata": "FR",
          "icao": "RYR",
          "name": "Ryanair"
         },
         "arrival": {
          "baggageBelt": "C2",
          "gate": "Z38",
          "quality": [
           "Basic",
           "Live"
          ],
          "revisedTime": {
           "local": "2023-10-05 08:46+02:00",
           "utc": "2023-10-05 06:46Z"
          },
          "scheduledTime": {
           "local": "2023-10-05 09:05+02:00",
           "utc": "2023-10-05 07:05Z"
          },
          "terminal": "2"
         },
         "callSign": "RYR41HE",
         "codeshareStatus": "IsOperator",
         "departure": {
          "airport": {
           "iata": "STN",
           "icao": "EGSS",
           "name": "London"
          },
          "gate": "42",
          "quality": [
           "Basic",
           "Live"
          ],
          "revisedTime": {
           "local": "2023-10-05 06:30+01:00",
           "utc": "2023-10-05 05:30Z"
          },
          "runwayTime": {
           "local": "2023-10-05 06:32+01:00",
           "utc": "2023-10-05 05:32Z"
          },
          "scheduledTime": {
           "local": "2023-10-05 06:25+01:00",
           "utc": "2023-10-05 05:25Z"
          },
          "terminal": "1"
         },
         "isCargo": false,
         "number": "FR 145",
         "status": "Arrived"
        },
        {
         "aircraft": {
          "modeS": "4A5653",
          "model": "Airbus A319",
          "reg": "YR-URS"
         },
         "airline": {
          "iata": "JA",
          "icao": "JAT",
          "name": "JetSMART"
         },
         "arrival": {
          "baggageBelt": "B3",
          "gate": "N02",
          "quality": [
           "Basic",
           "Live"
          ],
          "revisedTime": {
           "local": "2023-10-05 09:06+02:00",
           "utc": "2023-10-05 07:06Z"
          },
          "scheduledTime": {
           "local": "2023-10-05 09:00+02:00",
           "utc": "2023-10-05 07:00Z"
          },
          "terminal": "1"
         },
         "codeshareStatus": "IsOperator",
         "departure": {
          "airport": {
           "iata": "BEG",
           "icao": "LYBE",
           "name": "Belgrade"
          },
          "quality": [
           "Basic"
          ],
          "scheduledTime": {
           "local": "2023-10-05 07:10+02:00",
           "utc": "2023-10-05 05:10Z"
          },
          "terminal": "2"
         },
         "isCargo": false,
         "number": "JA 350",
         "status": "Arrived"
        },
        {
         "aircraft": {
          "modeS": "4A5653",
          "model": "Airbus A319",
          "reg": "YR-URS"
         },
         "airline": {
          "iata": "JU",
          "icao": "ASL",
          "name": "Air Serbia"
         },
         "arrival": {
          "quality": [
           "Basic",
           "Live"
          ],
          "revisedTime": {
           "local": "2023-10-05 09:07+02:00",
           "utc": "2023-10-05 07:07Z"
          },
          "runwayTime": {
           "local": "2023-10-05 09:05+02:00",
           "utc": "2023-10-05 07:05Z"
          },
          "scheduledTime": {
           "local": "2023-10-05 09:05+02:00",
           "utc": "2023-10-05 07:05Z"
          }
         },
         "callSign": "ASL48J",
         "codeshareStatus": "IsOperator",
         "departure": {
          "airport": {
           "iata": "BEG",
           "icao": "LYBE",
           "name": "Belgrade"
          },
          "quality": []
         },
         "isCargo": false,
         "number": "JU 48J",
         "status": "Arrived"
        },
        {
         "aircraft": {
          "modeS": "4CA302",
          "model": "Boeing 737-800",
          "reg": "EI-DLW"
         },
         "airline": {
          "iata": "FR",
          "icao": "RYR",
          "name": "Ryanair"
         },
         "arrival": {
          "baggageBelt": "C3",
          "gate": "Z30",
          "quality": [
           "Basic",
           "Live"
          ],
          "revisedTime": {
           "local": "2023-10-05 09:43+02:00",
           "utc": "2023-10-05 07:43Z"
          },
          "scheduledTime": {
           "local": "2023-10-05 09:30+02:00",
           "utc": "2023-10-05 07:30Z"
          },
          "terminal": "2"
         },
         "callSign": "RYR6QH",
         "codeshareStatus": "IsOperator",
         "departure": {
          "airport": {
           "iata": "PMI",
           "icao": "LEPA",
           "name": "Palma De Mallorca"
          },
          "checkInDesk": "002-017",
          "gate": "C68",
          "quality": [
           "Basic",
           "Live"
          ],
          "revisedTime": {
           "local": "2023-10-05 06:55+02:00",
           "utc": "2023-10-05 04:55Z"
          },
          "runwayTime": {
           "local": "2023-10-05 07:11+02:00",
           "utc": "2023-10-05 05:11Z"
          },
          "scheduledTime": {
           "local": "2023-10-05 06:45+02:00",
           "utc": "2023-10-05 04:45Z"
          },
          "terminal": "N"
         },
         "isCargo": false,
         "number": "FR 217",
         "status": "Arrived"
        },
        {
         "aircraft": {
          "modeS": "4D2218",
          "model": "Boeing 737-800",
          "reg": "9H-QBN"
         },
         "airline": {
          "iata": "FR",
          "icao": "RYR",
          "name": "Ryanair"
         },
         "arrival": {
          "baggageBelt": "C1",
          "gate": "Z36",
          "quality": [
           "Basic",
           "Live"
          ],
          "revisedTime": {
           "local": "2023-10-05 09:39+02:00",
           "utc": "2023-10-05 07:39Z"
          },
          "runwayTime": {
           "local": "2023-10-05 09:38+02:00",
           "utc": "2023-10-05 07:38Z"
          },
          "scheduledTime": {
           "local": "2023-10-05 09:55+02:00",
           "utc": "2023-10-05 07:55Z"
          },
          "terminal": "2"
         },
         "callSign": "RYR6YQ",
         "codeshareStatus": "IsOperator",
         "departure": {
          "airport": {
           "iata": "RIX",
           "icao": "EVRA",
           "name": "Riga"
          },
          "gate": "B5",
          "quality": [
           "Basic",
           "Live"
          ],
          "revisedTime": {
           "local": "2023-10-05 09:10+03:00",
           "utc": "2023-10-05 06:10Z"
          },
          "scheduledTime": {
           "local": "2023-10-05 09:10+03:00",
           "utc": "2023-10-05 06:10Z"
          },
          "terminal": "B"
         },
         "isCargo": false,
         "number": "FR 2600",
         "status": "Arrived"
        },
        {
         "aircraft": {
          "modeS": "3C6652",
          "model": "Airbus A321",
          "reg": "D-AIRR"
         },
         "airline": {
          "iata": "LH",
          "icao": "DLH",
          "name": "Lufthansa"
         },
         "arrival": {
          "baggageBelt": "B2",
          "gate": "B03",
          "quality": [
           "Basic",
           "Live"
          ],
          "revisedTime": {
           "local": "2023-10-05 10:19+02:00",
           "utc": "2023-10-05 08:19Z"
          },
          "scheduledTime": {
           "local": "2023-10-05 09:55+02:00",
           "utc": "2023-10-05 07:55Z"
          },
          "terminal": "1"
         },
         "callSign": "DLH8PW",
         "codeshareStatus": "IsOperator",
         "departure": {
          "airport": {
           "iata": "FRA",
           "icao": "EDDF",
           "name": "Frankfurt-am-Main"
          },
          "checkInDesk": "259-488",
          "gate": "A24",
          "quality": [
           "Basic",
           "Live"
          ],
          "revisedTime": {
           "local": "2023-10-05 09:15+02:00",
           "utc": "2023-10-05 07:15Z"
          },
          "runwayTime": {
           "local": "2023-10-05 09:34+02:00",
           "utc": "2023-10-05 07:34Z"
          },
          "scheduledTime": {
           "local": "2023-10-05 08:45+02:00",
           "utc": "2023-10-05 06:45Z"
          },
          "terminal": "1"
         },
         "isCargo": false,
         "number": "LH 176",
         "status": "Arrived"
        },
        {
         "aircraft": {
          "modeS": "3C6441",
          "model": "Airbus A319",
          "reg": "D-AIBA"
         },
         "airline": {
          "iata": "LH",
          "icao": "DLH",
          "name": "Lufthansa"
         },
         "arrival": {
          "baggageBelt": "B2",
          "gate": "B20",
          "quality": [
           "Basic",
           "Live"
          ],
          "revisedTime": {
           "local": "2023-10-05 09:04+02:00",
           "utc": "2023-10-05 07:04Z"
          },
          "runwayTime": {
           "local": "2023-10-05 09:01+02:00",
           "utc": "2023-10-05 07:01Z"
          },
          "scheduledTime": {
           "local": "2023-10-05 09:05+02:00",
           "utc": "2023-10-05 07:05Z"
          },
          "terminal": "1"
         },
         "callSign": "DLH2X",
         "codeshareStatus": "IsOperator",
         "departure": {
          "airport": {
           "iata": "MUC",
           "icao": "EDDM",
           "name": "Munich"
          },
          "quality": [
           "Basic",
           "Live"
          ],
          "revisedTime": {
           "local": "2023-10-05 08:00+02:00",
           "utc": "2023-10-05 06:00Z"
          },
          "runwayTime": {
           "local": "2023-10-05 08:16+02:00",
           "utc": "2023-10-05 06:16Z"
          },
          "scheduledTime": {
           "local": "2023-10-05 08:00+02:00",
           "utc": "2023-10-05 06:00Z"
          },
          "terminal": "2"
         },
         "isCargo": false,
         "number": "LH 1930",
         "status": "Arrived"
        },
        {
         "aircraft": {
          "modeS": "738069",
          "model": "Boeing 737-800 (winglets)",
          "reg": "4X-EKO"
         },
         "airline": {
          "iata": "LY",
          "icao": "ELY",
          "name": "El Al"
         },
         "arrival": {
          "baggageBelt": "A4",
          "gate": "X19",
          "quality": [
           "Basic",
           "Live"
          ],
          "revisedTime": {
           "local": "2023-10-05 09:28+02:00",
           "utc": "2023-10-05 07:28Z"
          },
          "runwayTime": {
           "local": "2023-10-05 09:28+02:00",
           "utc": "2023-10-05 07:28Z"
          },
          "scheduledTime": {
           "local": "2023-10-05 09:40+02:00",
           "utc": "2023-10-05 07:40Z"
          },
          "terminal": "1"
         },
         "callSign": "ELY2371",
         "codeshareStatus": "IsOperator",
         "departure": {
          "airport": {
           "iata": "TLV",
           "icao": "LLBG",
           "name": "Tel Aviv Yafo"
          },
          "quality": [
           "Basic",
           "Live"
          ],
          "revisedTime": {
           "local": "2023-10-05 06:34+03:00",
           "utc": "2023-10-05 03:34Z"
          },
          "runwayTime": {
           "local": "2023-10-05 06:34+03:00",
           "utc": "2023-10-05 03:34Z"
          },
          "scheduledTime": {
           "local": "2023-10-05 06:20+03:00",
           "utc": "2023-10-05 03:20Z"
          },
          "terminal": "3"
         },
         "isCargo": false,
         "number": "LY 2371",
         "status": "Arrived"
        },
        {
         "aircraft": {
          "modeS": "4BB1E7",
          "model": "Airbus A330",
          "reg": "TC-LOG"
         },
         "airline": {
          "iata": "TK",
          "icao": "THY",
          "name": "Turkish"
         },
         "arrival": {
          "baggageBelt": "B1",
          "gate": "X03",
          "quality": [
           "Basic",
           "Live"
          ],
          "revisedTime": {
           "local": "2023-10-05 09:23+02:00",
           "utc": "2023-10-05 07:23Z"
          },
          "scheduledTime": {
           "local": "2023-10-05 09:15+02:00",
           "utc": "2023-10-05 07:15Z"
          },
          "terminal": "1"
         },
         "codeshareStatus": "IsOperator",
         "departure": {
          "airport": {
           "iata": "IST",
           "icao": "LTFM",
           "name": "Istanbul"
          },
          "checkInDesk": "E-F-G",
          "gate": "D15",
          "quality": [
           "Basic",
           "Live"
          ],
          "revisedTime": {
           "local": "2023-10-05 07:25+03:00",
           "utc": "2023-10-05 04:25Z"
          },
          "scheduledTime": {
           "local": "2023-10-05 07:25+03:00",
           "utc": "2023-10-05 04:25Z"
          }
         },
         "isCargo": false,
         "number": "TK 1721",
         "status": "Arrived"
        },
        {
         "aircraft": {
          "modeS": "44064A",
          "model": "Airbus A319",
          "reg": "OE-LQL"
         },
         "airline": {
          "iata": "U2",
          "icao": "EZY",
          "name": "easyJet"
         },
         "arrival": {
          "baggageBelt": "A1",
          "gate": "A37",
          "quality": [
           "Basic",
           "Live"
          ],
          "revisedTime": {
           "local": "2023-10-05 09:09+02:00",
           "utc": "2023-10-05 07:09Z"
          },
          "scheduledTime": {
           "local": "2023-10-05 09:20+02:00",
           "utc": "2023-10-05 07:20Z"
          },
          "terminal": "1"
         },
         "callSign": "EJU4075",
         "codeshareStatus": "IsOperator",
         "departure": {
          "airport": {
           "iata": "VCE",
           "icao": "LIPZ",
           "name": "Venice"
          },
          "quality": [
           "Basic",
           "Live"
          ],
          "revisedTime": {
           "local": "2023-10-05 07:48+02:00",
           "utc": "2023-10-05 05:48Z"
          },
          "runwayTime": {
           "local": "2023-10-05 07:48+02:00",
           "utc": "2023-10-05 05:48Z"
          },
          "scheduledTime": {
           "local": "2023-10-05 07:35+02:00",
           "utc": "2023-10-05 05:35Z"
          }
         },
         "isCargo": false,
         "number": "U2 4075",
         "status": "Arrived"
        },
        {
         "aircraft": {
          "modeS": "440DAF",
          "model": "Airbus A320",
          "reg": "OE-IDU"
         },
         "airline": {
          "iata": "U2",
          "icao": "EZY",
          "name": "easyJet"
         },
         "arrival": {
          "baggageBelt": "A3",
          "gate": "A36",
          "quality": [
           "Basic",
           "Live"
          ],
          "revisedTime": {
           "local": "2023-10-05 09:33+02:00",
           "utc": "2023-10-05 07:33Z"
          },
          "runwayTime": {
           "local": "2023-10-05 09:33+02:00",
           "utc": "2023-10-05 07:33Z"
          },
          "scheduledTime": {
           "local": "2023-10-05 09:45+02:00",
           "utc": "2023-10-05 07:45Z"
          },
          "terminal": "1"
         },
         "callSign": "EJU41UL",
         "codeshareStatus": "IsOperator",
         "departure": {
          "airport": {
           "iata": "CPH",
           "icao": "EKCH",
           "name": "Copenhagen"
          },
          "gate": "F8",
          "quality": [
           "Basic",
           "Live"
          ],
          "revisedTime": {
           "local": "2023-10-05 08:30+02:00",
           "utc": "2023-10-05 06:30Z"
          },
          "scheduledTime": {
           "local": "2023-10-05 08:40+02:00",
           "utc": "2023-10-05 06:40Z"
          },
          "terminal": "erminal2"
         },
         "isCargo": false,
         "number": "U2 5262",
         "status": "Arrived"
        },
        {
         "aircraft": {
          "modeS": "406A93",
          "model": "Airbus A320",
          "reg": "G-EZWS"
         },
         "airline": {
          "iata": "U2",
          "icao": "EZY",
          "name": "easyJet"
         },
         "arrival": {
          "baggageBelt": "A3",
          "gate": "N02",
          "quality": [
           "Basic",
           "Live"
          ],
          "revisedTime": {
           "local": "2023-10-05 09:26+02:00",
           "utc": "2023-10-05 07:26Z"
          },
          "scheduledTime": {
           "local": "2023-10-05 09:40+02:00",
           "utc": "2023-10-05 07:40Z"
          },
          "terminal": "1"
         },
         "callSign": "EZY94RE",
         "codeshareStatus": "IsOperator",
         "departure": {
          "airport": {
           "iata": "LGW",
           "icao": "EGKK",
           "name": "London"
          },
          "quality": [
           "Basic",
           "Live"
          ],
          "revisedTime": {
           "local": "2023-10-05 07:02+01:00",
           "utc": "2023-10-05 06:02Z"
          },
          "runwayTime": {
           "local": "2023-10-05 07:02+01:00",
           "utc": "2023-10-05 06:02Z"
          },
          "scheduledTime": {
           "local": "2023-10-05 06:40+01:00",
           "utc": "2023-10-05 05:40Z"
          },
          "terminal": "N"
         },
         "isCargo": false,
         "number": "U2 8629",
         "status": "Arrived"
        },
        {
         "aircraft": {
          "modeS": "440CB1",
          "model": "Airbus A320",
          "reg": "OE-IZF"
         },
         "airline": {
          "iata": "U2",
          "icao": "EZY",
          "name": "easyJet"
         },
         "arrival": {
          "baggageBelt": "A2",
          "gate": "A35",
          "quality": [
           "Basic",
           "Live"
          ],
          "revisedTime": {
           "local": "2023-10-05 09:12+02:00",
           "utc": "2023-10-05 07:12Z"
          },
          "scheduledTime": {
           "local": "2023-10-05 09:05+02:00",
           "utc": "2023-10-05 07:05Z"
          },
          "terminal": "1"
         },
         "callSign": "EJU4897",
         "codeshareStatus": "IsOperator",
         "departure": {
          "airport": {
           "iata": "ORY",
           "icao": "LFPO",
           "name": "Paris"
          },
          "quality": [
           "Basic",
           "Live"
          ],
          "revisedTime": {
           "local": "2023-10-05 07:52+02:00",
           "utc": "2023-10-05 05:52Z"
          },
          "runwayTime": {
           "local": "2023-10-05 07:52+02:00",
           "utc": "2023-10-05 05:52Z"
          },
          "scheduledTime": {
           "local": "2023-10-05 07:20+02:00",
           "utc": "2023-10-05 05:20Z"
          },
          "terminal": "1"
         },
         "isCargo": false,
         "number": "U2 4897",
         "status": "Arrived"
        },
        {
         "aircraft": {
          "modeS": "4BCCB0",
          "model": "Boeing 737-800",
          "reg": "TC-SEP"
         },
         "airline": {
          "iata": "XQ",
          "icao": "SXS",
          "name": "Sun Express"
         },
         "arrival": {
          "baggageBelt": "B4",
          "gate": "N01",
          "quality": [
           "Basic",
           "Live"
          ],
          "revisedTime": {
           "local": "2023-10-05 09:16+02:00",
           "utc": "2023-10-05 07:16Z"
          },
          "scheduledTime": {
           "local": "2023-10-05 09:20+02:00",
           "utc": "2023-10-05 07:20Z"
          },
          "terminal": "1"
         },
         "callSign": "SXS97D",
         "codeshareStatus": "IsOperator",
         "departure": {
          "airport": {
           "iata": "DLM",
           "icao": "LTBS",
           "name": "Dalaman"
          },
          "quality": [
           "Basic"
          ],
          "scheduledTime": {
           "local": "2023-10-05 07:00+03:00",
           "utc": "2023-10-05 04:00Z"
          },
          "terminal": "I"
         },
         "isCargo": false,
         "number": "XQ 694",
         "status": "Arrived"
        },
        {
         "aircraft": {
          "modeS": "46B8B0",
          "model": "Airbus A320 NEO",
          "reg": "SX-NEP"
         },
         "airline": {
          "iata": "A3",
          "icao": "AEE",
          "name": "Aegean"
         },
         "arrival": {
          "baggageBelt": "A2",
          "gate": "A35",
          "quality": [
           "Basic",
           "Live"
          ],
          "revisedTime": {
           "local": "2023-10-05 10:34+02:00",
           "utc": "2023-10-05 08:34Z"
          },
          "runwayTime": {
           "local": "2023-10-05 10:34+02:00",
           "utc": "2023-10-05 08:34Z"
          },
          "scheduledTime": {
           "local": "2023-10-05 10:25+02:00",
           "utc": "2023-10-05 08:25Z"
          },
          "terminal": "1"
         },
         "callSign": "AEE8RB",
         "codeshareStatus": "IsOperator",
         "departure": {
          "airport": {
           "iata": "ATH",
           "icao": "LGAV",
           "name": "Athens"
          },
          "checkInDesk": "151--155",
          "gate": "B24",
          "quality": [
           "Basic",
           "Live"
          ],
          "revisedTime": {
           "local": "2023-10-05 08:57+03:00",
           "utc": "2023-10-05 05:57Z"
          },
          "runwayTime": {
           "local": "2023-10-05 08:58+03:00",
           "utc": "2023-10-05 05:58Z"
          },
          "scheduledTime": {
           "local": "2023-10-05 08:30+03:00",
           "utc": "2023-10-05 05:30Z"
          },
          "terminal": "D"
         },
         "isCargo": false,
         "number": "A3 820",
         "status": "Arrived"
        },
        {
         "aircraft": {
          "modeS": "02A1B3",
          "model": "Airbus A320",
          "reg": "TS-INT"
         },
         "airline": {
          "iata": "BJ",
          "icao": "LBT",
          "name": "Nouvelair Tunisie"
         },
         "arrival": {
          "baggageBelt": "A4",
          "gate": "X07",
          "quality": [
           "Basic",
           "Live"
          ],
          "revisedTime": {
           "local": "2023-10-05 10:47+02:00",
           "utc": "2023-10-05 08:47Z"
          },
          "runwayTime": {
           "local": "2023-10-05 10:46+02:00",
           "utc": "2023-10-05 08:46Z"
          },
          "scheduledTime": {
           "local": "2023-10-05 10:50+02:00",
           "utc": "2023-10-05 08:50Z"
          },
          "terminal": "1"
         },
         "callSign": "LBT232",
         "codeshareStatus": "IsOperator",
         "departure": {
          "airport": {
           "iata": "TUN",
           "icao": "DTTA",
           "name": "Tunis"
          },
          "quality": [
           "Basic"
          ],
          "scheduledTime": {
           "local": "2023-10-05 06:45+01:00",
           "utc": "2023-10-05 05:45Z"
          },
          "terminal": "M"
         },
         "isCargo": false,
         "number": "BJ 232",
         "status": "Arrived"
        },
        {
         "aircraft": {
          "modeS": "4CA15C",
          "model": "Airbus A320",
          "reg": "EI-CVC"
         },
         "airline": {
          "iata": "EI",
          "icao": "EIN",
          "name": "Aer Lingus"
         },
         "arrival": {
          "baggageBelt": "A3",
          "gate": "X01",
          "quality": [
           "Basic",
           "Live"
          ],
          "revisedTime": {
           "local": "2023-10-05 10:01+02:00",
           "utc": "2023-10-05 08:01Z"
          },
          "runwayTime": {
           "local": "2023-10-05 10:00+02:00",
           "utc": "2023-10-05 08:00Z"
          },
          "scheduledTime": {
           "local": "2023-10-05 10:00+02:00",
           "utc": "2023-10-05 08:00Z"
          },
          "terminal": "1"
         },
         "callSign": "EIN3JE",
         "codeshareStatus": "IsOperator",
         "departure": {
          "airport": {
           "iata": "DUB",
           "icao": "EIDW",
           "name": "Dublin"
          },
          "checkInDesk": "29-56",
          "gate": "335B",
          "quality": [
           "Basic",
           "Live"
          ],
          "revisedTime": {
           "local": "2023-10-05 06:40+01:00",
           "utc": "2023-10-05 05:40Z"
          },
          "runwayTime": {
           "local": "2023-10-05 07:19+01:00",
           "utc": "2023-10-05 06:19Z"
          },
          "scheduledTime": {
           "local": "2023-10-05 06:40+01:00",
           "utc": "2023-10-05 05:40Z"
          },
          "terminal": "2"
         },
         "isCargo": false,
         "number": "EI 332",
         "status": "Arrived"
        },
        {
         "aircraft": {
          "modeS": "4B9E01",
          "model": "Airbus A321",
          "reg": "TC-GPA"
         },
         "airline": {
          "iata": "FH",
          "icao": "FHY",
          "name": "Freebird"
         },
         "arrival": {
          "baggageBelt": "B4",
          "gate": "N01",
          "quality": [
           "Basic",
           "Live"
          ],
          "revisedTime": {
           "local": "2023-10-05 10:29+02:00",
           "utc": "2023-10-05 08:29Z"
          },
          "runwayTime": {
           "local": "2023-10-05 10:29+02:00",
           "utc": "2023-10-05 08:29Z"
          },
          "scheduledTime": {
           "local": "2023-10-05 10:20+02:00",
           "utc": "2023-10-05 08:20Z"
          },
          "terminal": "1"
         },
         "callSign": "FHY1281",
         "codeshareStatus": "IsOperator",
         "departure": {
          "airport": {
           "iata": "AYT",
           "icao": "LTAI",
           "name": "Antalya"
          },
          "checkInDesk": "223-225",
          "quality": [
           "Basic",
           "Live"
          ],
          "revisedTime": {
           "local": "2023-10-05 08:00+03:00",
           "utc": "2023-10-05 05:00Z"
          },
          "scheduledTime": {
           "local": "2023-10-05 08:00+03:00",
           "utc": "2023-10-05 05:00Z"
          },
          "terminal": "2"
         },
         "isCargo": false,
         "number": "FH 1281",
         "status": "Arrived"
        },
        {
         "aircraft": {
          "modeS": "4D220B",
          "model": "Boeing 737-800",
          "reg": "9H-QCS"
         },
         "airline": {
          "iata": "FR",
          "icao": "RYR",
          "name": "Ryanair"
         },
         "arrival": {
          "baggageBelt": "C2",
          "gate": "Z44",
          "quality": [
           "Basic",
           "Live"
          ],
          "revisedTime": {
           "local": "2023-10-05 10:27+02:00",
           "utc": "2023-10-05 08:27Z"
          },
          "scheduledTime": {
           "local": "2023-10-05 10:35+02:00",
           "utc": "2023-10-05 08:35Z"
          },
          "terminal": "2"
         },
         "callSign": "RYR6FC",
         "codeshareStatus": "IsOperator",
         "departure": {
          "airport": {
           "iata": "STN",
           "icao": "EGSS",
           "name": "London"
          },
          "gate": "32",
          "quality": [
           "Basic",
           "Live"
          ],
          "revisedTime": {
           "local": "2023-10-05 08:11+01:00",
           "utc": "2023-10-05 07:11Z"
          },
          "runwayTime": {
           "local": "2023-10-05 08:12+01:00",
           "utc": "2023-10-05 07:12Z"
          },
          "scheduledTime": {
           "local": "2023-10-05 07:55+01:00",
           "utc": "2023-10-05 06:55Z"
          },
          "terminal": "1"
         },
         "isCargo": false,
         "number": "FR 147",
         "status": "Arrived"
        },
        {
         "aircraft": {
          "modeS": "4CA2C3",
          "model": "Boeing 737-800",
          "reg": "EI-DLF"
         },
         "airline": {
          "iata": "FR",
          "icao": "RYR",
          "name": "Ryanair"
         },
         "arrival": {
          "baggageBelt": "C1",
          "gate": "Z34",
          "quality": [
           "Basic",
           "Live"
          ],
          "revisedTime": {
           "local": "2023-10-05 10:37+02:00",
           "utc": "2023-10-05 08:37Z"
          },
          "scheduledTime": {
           "local": "2023-10-05 10:40+02:00",
           "utc": "2023-10-05 08:40Z"
          },
          "terminal": "2"
         },
         "callSign": "RYR39VQ",
         "codeshareStatus": "IsOperator",
         "departure": {
          "airport": {
           "iata": "ALC",
           "icao": "LEAL",
           "name": "Alicante"
          },
          "checkInDesk": "50-58",
          "gate": "C42",
          "quality": [
           "Basic",
           "Live"
          ],
          "revisedTime": {
           "local": "2023-10-05 07:38+02:00",
           "utc": "2023-10-05 05:38Z"
          },
          "runwayTime": {
           "local": "2023-10-05 07:47+02:00",
           "utc": "2023-10-05 05:47Z"
          },
          "scheduledTime": {
           "local": "2023-10-05 07:35+02:00",
           "utc": "2023-10-05 05:35Z"
          },
          "terminal": "N"
         },
         "isCargo": false,
         "number": "FR 258",
         "status": "Arrived"
        },
        {
         "aircraft": {
          "modeS": "34644D",
          "model": "Airbus A321 (Sharklets)",
          "reg": "EC-NIF"
         },
         "airline": {
          "iata": "I2",
          "icao": "IBS",
          "name": "Iberia Express"
         },
         "arrival": {
          "baggageBelt": "A3",
          "gate": "A32",
          "quality": [
           "Basic",
           "Live"
          ],
          "revisedTime": {
           "local": "2023-10-05 10:33+02:00",
           "utc": "2023-10-05 08:33Z"
          },
          "scheduledTime": {
           "local": "2023-10-05 10:50+02:00",
           "utc": "2023-10-05 08:50Z"
          },
          "terminal": "1"
         },
         "callSign": "IBS3676",
         "codeshareStatus": "IsOperator",
         "departure": {
          "airport": {
           "iata": "MAD",
           "icao": "LEMD",
           "name": "Madrid"
          },
          "checkInDesk": "850-859",
          "gate": "K82",
          "quality": [
           "Basic",
           "Live"
          ],
          "revisedTime": {
           "local": "2023-10-05 07:47+02:00",
           "utc": "2023-10-05 05:47Z"
          },
          "runwayTime": {
           "local": "2023-10-05 08:03+02:00",
           "utc": "2023-10-05 06:03Z"
          },
          "scheduledTime": {
           "local": "2023-10-05 07:45+02:00",
           "utc": "2023-10-05 05:45Z"
          },
          "terminal": "4"
         },
         "isCargo": false,
         "number": "I2 3676",
         "status": "Arrived"
        },
        {
         "aircraft": {
          "modeS": "4D240F",
          "model": "Airbus A320-200",
          "reg": "9H-EUX"
         },
         "airline": {
          "iata": "EW",
          "icao": "EWG",
          "name": "Eurowings"
         },
         "arrival": {
          "baggageBelt": "A1",
          "gate": "A36",
          "quality": [
           "Basic",
           "Live"
          ],
          "revisedTime": {
           "local": "2023-10-05 10:42+02:00",
           "utc": "2023-10-05 08:42Z"
          },
          "runwayTime": {
           "local": "2023-10-05 10:41+02:00",
           "utc": "2023-10-05 08:41Z"
          },
          "scheduledTime": {
           "local": "2023-10-05 10:40+02:00",
           "utc": "2023-10-05 08:40Z"
          },
          "terminal": "1"
         },
         "callSign": "EWG27ZJ",
         "codeshareStatus": "IsOperator",
         "departure": {
          "airport": {
           "iata": "PMI",
           "icao": "LEPA",
           "name": "Palma De Mallorca"
          },
          "checkInDesk": "154-169",
          "gate": "C62",
          "quality": [
           "Basic",
           "Live"
          ],
          "revisedTime": {
           "local": "2023-10-05 08:00+02:00",
           "utc": "2023-10-05 06:00Z"
          },
          "runwayTime": {
           "local": "2023-10-05 08:15+02:00",
           "utc": "2023-10-05 06:15Z"
          },
          "scheduledTime": {
           "local": "2023-10-05 07:55+02:00",
           "utc": "2023-10-05 05:55Z"
          },
          "terminal": "N"
         },
         "isCargo": false,
         "number": "EW 6892",
         "status": "Arrived"
        },
        {
         "aircraft": {
          "modeS": "485065",
          "model": "Embraer 190",
          "reg": "PH-EZZ"
         },
         "airline": {
          "iata": "KL",
          "icao": "KLM",
          "name": "KLM"
         },
         "arrival": {
          "baggageBelt": "A4",
          "gate": "A30",
          "quality": [
           "Basic",
           "Live"
          ],
          "revisedTime": {
           "local": "2023-10-05 09:52+02:00",
           "utc": "2023-10-05 07:52Z"
          },
          "scheduledTime": {
           "local": "2023-10-05 10:05+02:00",
           "utc": "2023-10-05 08:05Z"
          },
          "terminal": "1"
         },
         "callSign": "KLM1819",
         "codeshareStatus": "IsOperator",
         "departure": {
          "airport": {
           "iata": "AMS",
           "icao": "EHAM",
           "name": "Amsterdam"
          },
          "checkInDesk": "6-8",
          "gate": "B32",
          "quality": [
           "Basic",
           "Live"
          ],
          "revisedTime": {
           "local": "2023-10-05 08:45+02:00",
           "utc": "2023-10-05 06:45Z"
          },
          "runwayTime": {
           "local": "2023-10-05 08:59+02:00",
           "utc": "2023-10-05 06:59Z"
          },
          "scheduledTime": {
           "local": "2023-10-05 08:40+02:00",
           "utc": "2023-10-05 06:40Z"
          },
          "terminal": "1"
         },
         "isCargo": false,
         "number": "KL 1819",
         "status": "Arrived"
        },
        {
         "aircraft": {
          "modeS": "3C64AB",
          "model": "Airbus A321 NEO",
          "reg": "D-AIEK"
         },
         "airline": {
          "iata": "LH",
          "icao": "DLH",
          "name": "Lufthansa"
         },
         "arrival": {
          "baggageBelt": "B2",
          "gate": "B17",
          "quality": [
           "Basic",
           "Live"
          ],
          "revisedTime": {
           "local": "2023-10-05 10:50+02:00",
           "utc": "2023-10-05 08:50Z"
          },
          "runwayTime": {
           "local": "2023-10-05 10:49+02:00",
           "utc": "2023-10-05 08:49Z"
          },
          "scheduledTime": {
           "local": "2023-10-05 10:55+02:00",
           "utc": "2023-10-05 08:55Z"
          },
          "terminal": "1"
         },
         "callSign": "DLH178",
         "codeshareStatus": "IsOperator",
         "departure": {
          "airport": {
           "iata": "FRA",
           "icao": "EDDF",
           "name": "Frankfurt-am-Main"
          },
          "checkInDesk": "259-488",
          "gate": "A21",
          "quality": [
           "Basic",
           "Live"
          ],
          "revisedTime": {
           "local": "2023-10-05 09:45+02:00",
           "utc": "2023-10-05 07:45Z"
          },
          "runwayTime": {
           "local": "2023-10-05 10:02+02:00",
           "utc": "2023-10-05 08:02Z"
          },
          "scheduledTime": {
           "local": "2023-10-05 09:45+02:00",
           "utc": "2023-10-05 07:45Z"
          },
          "terminal": "1"
         },
         "isCargo": false,
         "number": "LH 178",
         "status": "Arrived"
        },
        {
         "aircraft": {
          "modeS": "3C4D68",
          "model": "Canadair CRJ 900NG",
          "reg": "D-ACKH"
         },
         "airline": {
          "iata": "LH",
          "icao": "DLH",
          "name": "Lufthansa"
         },
         "arrival": {
          "baggageBelt": "B3",
          "gate": "S01",
          "quality": [
           "Basic",
           "Live"
          ],
          "revisedTime": {
           "local": "2023-10-05 10:12+02:00",
           "utc": "2023-10-05 08:12Z"
          },
          "runwayTime": {
           "local": "2023-10-05 10:12+02:00",
           "utc": "2023-10-05 08:12Z"
          },
          "scheduledTime": {
           "local": "2023-10-05 10:05+02:00",
           "utc": "2023-10-05 08:05Z"
          },
          "terminal": "1"
         },
         "callSign": "DLH4X",
         "codeshareStatus": "IsOperator",
         "departure": {
          "airport": {
           "iata": "MUC",
           "icao": "EDDM",
           "name": "Munich"
          },
          "quality": [
           "Basic",
           "Live"
          ],
          "revisedTime": {
           "local": "2023-10-05 09:00+02:00",
           "utc": "2023-10-05 07:00Z"
          },
          "runwayTime": {
           "local": "2023-10-05 08:40+02:00",
           "utc": "2023-10-05 06:40Z"
          },
          "scheduledTime": {
           "local": "2023-10-05 09:00+02:00",
           "utc": "2023-10-05 07:00Z"
          },
          "terminal": "2"
         },
         "isCargo": false,
         "number": "LH 1934",
         "status": "Arrived"
        },
        {
         "aircraft": {
          "modeS": "489786",
          "model": "Embraer 170",
          "reg": "SP-LDF"
         },
         "airline": {
          "iata": "LO",
          "icao": "LOT",
          "name": "LOT - Polish"
         },
         "arrival": {
          "baggageBelt": "A1",
          "gate": "A34",
          "quality": [
           "Basic",
           "Live"
          ],
          "revisedTime": {
           "local": "2023-10-05 10:21+02:00",
           "utc": "2023-10-05 08:21Z"
          },
          "scheduledTime": {
           "local": "2023-10-05 10:40+02:00",
           "utc": "2023-10-05 08:40Z"
          },
          "terminal": "1"
         },
         "callSign": "LOT7AM",
         "codeshareStatus": "IsOperator",
         "departure": {
          "airport": {
           "iata": "WAW",
           "icao": "EPWA",
           "name": "Warsaw"
          },
          "quality": [
           "Basic",
           "Live"
          ],
          "revisedTime": {
           "local": "2023-10-05 09:26+02:00",
           "utc": "2023-10-05 07:26Z"
          },
          "runwayTime": {
           "local": "2023-10-05 09:26+02:00",
           "utc": "2023-10-05 07:26Z"
          },
          "scheduledTime": {
           "local": "2023-10-05 09:15+02:00",
           "utc": "2023-10-05 07:15Z"
          }
         },
         "isCargo": false,
         "number": "LO 387",
         "status": "Arrived"
        },
        {
         "aircraft": {
          "modeS": "4B194C",
          "model": "Airbus A321 NEO",
          "reg": "HB-JPC"
         },
         "airline": {
          "iata": "LX",
          "icao": "SWR",
          "name": "SWISS"
         },
         "arrival": {
          "baggageBelt": "B2",
          "gate": "B20",
          "quality": [
           "Basic",
           "Live"
          ],
          "revisedTime": {
           "local": "2023-10-05 09:59+02:00",
           "utc": "2023-10-05 07:59Z"
          },
          "scheduledTime": {
           "local": "2023-10-05 10:05+02:00",
           "utc": "2023-10-05 08:05Z"
          },
          "terminal": "1"
         },
         "callSign": "SWR2HD",
         "codeshareStatus": "IsOperator",
         "departure": {
          "airport": {
           "iata": "ZRH",
           "icao": "LSZH",
           "name": "Zurich"
          },
          "checkInDesk": "1",
          "gate": "A71",
          "quality": [
           "Basic",
           "Live"
          ],
          "revisedTime": {
           "local": "2023-10-05 08:40+02:00",
           "utc": "2023-10-05 06:40Z"
          },
          "runwayTime": {
           "local": "2023-10-05 08:50+02:00",
           "utc": "2023-10-05 06:50Z"
          },
          "scheduledTime": {
           "local": "2023-10-05 08:40+02:00",
           "utc": "2023-10-05 06:40Z"
          }
         },
         "isCargo": false,
         "number": "LX 976",
         "status": "Arrived"
        },
        {
         "aircraft": {
          "modeS": "44001A",
          "model": "Airbus A320",
          "reg": "OE-LBN"
         },
         "airline": {
          "iata": "OS",
          "icao": "AUA",
          "name": "Austrian"
         },
         "arrival": {
          "baggageBelt": "A1",
          "gate": "A37",
          "quality": [
           "Basic",
           "Live"
          ],
          "revisedTime": {
           "local": "2023-10-05 10:16+02:00",
           "utc": "2023-10-05 08:16Z"
          },
          "scheduledTime": {
           "local": "2023-10-05 10:30+02:00",
           "utc": "2023-10-05 08:30Z"
          },
          "terminal": "1"
         },
         "callSign": "AUA225S",
         "codeshareStatus": "IsOperator",
         "departure": {
          "airport": {
           "iata": "VIE",
           "icao": "LOWW",
           "name": "Vienna"
          },
          "checkInDesk": "351-372",
          "gate": "F06",
          "quality": [
           "Basic",
           "Live"
          ],
          "revisedTime": {
           "local": "2023-10-05 09:24+02:00",
           "utc": "2023-10-05 07:24Z"
          },
          "runwayTime": {
           "local": "2023-10-05 09:26+02:00",
           "utc": "2023-10-05 07:26Z"
          },
          "scheduledTime": {
           "local": "2023-10-05 09:15+02:00",
           "utc": "2023-10-05 07:15Z"
          },
          "terminal": "3"
         },
         "isCargo": false,
         "number": "OS 225",
         "status": "Arrived"
        },
        {
         "aircraft": {
          "modeS": "01024F",
          "model": "Airbus A320 NEO",
          "reg": "SU-BUQ"
         },
         "airline": {
          "iata": "SM",
          "icao": "MSC",
          "name": "Air Cairo"
         },
         "arrival": {
          "baggageBelt": "B4",
          "gate": "N01",
          "quality": [
           "Basic",
           "Live"
          ],
          "revisedTime": {
           "local": "2023-10-05 09:56+02:00",
           "utc": "2023-10-05 07:56Z"
          },
          "scheduledTime": {
           "local": "2023-10-05 10:00+02:00",
           "utc": "2023-10-05 08:00Z"
          },
          "terminal": "1"
         },
         "callSign": "MSC2960",
         "codeshareStatus": "IsOperator",
         "departure": {
          "airport": {
           "iata": "HRG",
           "icao": "HEGN",
           "name": "Hurghada"
          },
          "quality": [
           "Basic"
          ],
          "scheduledTime": {
           "local": "2023-10-05 06:15+03:00",
           "utc": "2023-10-05 03:15Z"
          },
          "terminal": "2"
         },
         "isCargo": false,
         "number": "SM 2960",
         "status": "Arrived"
        },
        {
         "aircraft": {
          "modeS": "44CE6E",
          "model": "Airbus A319",
          "reg": "OO-SSN"
         },
         "airline": {
          "iata": "SN",
          "icao": "BEL",
          "name": "Brussels"
         },
         "arrival": {
          "baggageBelt": "B1",
          "gate": "B02",
          "quality": [
           "Basic",
           "Live"
          ],
          "revisedTime": {
           "local": "2023-10-05 10:39+02:00",
           "utc": "2023-10-05 08:39Z"
          },
          "runwayTime": {
           "local": "2023-10-05 10:39+02:00",
           "utc": "2023-10-05 08:39Z"
          },
          "scheduledTime": {
           "local": "2023-10-05 10:50+02:00",
           "utc": "2023-10-05 08:50Z"
          },
          "terminal": "1"
         },
         "callSign": "BEL8CE",
         "codeshareStatus": "IsOperator",
         "departure": {
          "airport": {
           "iata": "BRU",
           "icao": "EBBR",
           "name": "Brussels"
          },
          "checkInDesk": "05",
          "quality": [
           "Basic",
           "Live"
          ],
          "revisedTime": {
           "local": "2023-10-05 09:37+02:00",
           "utc": "2023-10-05 07:37Z"
          },
          "runwayTime": {
           "local": "2023-10-05 09:38+02:00",
           "utc": "2023-10-05 07:38Z"
          },
          "scheduledTime": {
           "local": "2023-10-05 09:25+02:00",
           "utc": "2023-10-05 07:25Z"
          }
         },
         "isCargo": false,
         "number": "SN 2581",
         "status": "Arrived"
        },
        {
         "aircraft": {
          "modeS": "406666",
          "model": "Airbus A320",
          "reg": "G-EZUL"
         },
         "airline": {
          "iata": "U2",
          "icao": "EZY",
          "name": "easyJet"
         },
         "arrival": {
          "baggageBelt": "A3",
          "gate": "X17",
          "quality": [
           "Basic",
           "Live"
          ],
          "revisedTime": {
           "local": "2023-10-05 10:23+02:00",
           "utc": "2023-10-05 08:23Z"
          },
          "scheduledTime": {
           "local": "2023-10-05 10:35+02:00",
           "utc": "2023-10-05 08:35Z"
          },
          "terminal": "1"
         },
         "callSign": "EZY37EL",
         "codeshareStatus": "IsOperator",
         "departure": {
          "airport": {
           "iata": "BRS",
           "icao": "EGGD",
           "name": "Bristol"
          },
          "quality": [
           "Basic",
           "Live"
          ],
          "revisedTime": {
           "local": "2023-10-05 07:53+01:00",
           "utc": "2023-10-05 06:53Z"
          },
          "runwayTime": {
           "local": "2023-10-05 07:55+01:00",
           "utc": "2023-10-05 06:55Z"
          },
          "scheduledTime": {
           "local": "2023-10-05 07:35+01:00",
           "utc": "2023-10-05 06:35Z"
          }
         },
         "isCargo": false,
         "number": "U2 2933",
         "status": "Arrived"
        },
        {
         "aircraft": {
          "modeS": "440B1E",
          "model": "Airbus A320",
          "reg": "OE-IWW"
         },
         "airline": {
          "iata": "U2",
          "icao": "EZY",
          "name": "easyJet"
         },
         "arrival": {
          "baggageBelt": "A3",
          "gate": "S02",
          "quality": [
           "Basic",
           "Live"
          ],
          "revisedTime": {
           "local": "2023-10-05 10:06+02:00",
           "utc": "2023-10-05 08:06Z"
          },
          "runwayTime": {
           "local": "2023-10-05 10:05+02:00",
           "utc": "2023-10-05 08:05Z"
          },
          "scheduledTime": {
           "local": "2023-10-05 10:25+02:00",
           "utc": "2023-10-05 08:25Z"
          },
          "terminal": "1"
         },
         "callSign": "EJU42KR",
         "codeshareStatus": "IsOperator",
         "departure": {
          "airport": {
           "iata": "AMS",
           "icao": "EHAM",
           "name": "Amsterdam"
          },
          "checkInDesk": "28",
          "gate": "M3",
          "quality": [
           "Basic",
           "Live"
          ],
          "revisedTime": {
           "local": "2023-10-05 08:55+02:00",
           "utc": "2023-10-05 06:55Z"
          },
          "scheduledTime": {
           "local": "2023-10-05 09:00+02:00",
           "utc": "2023-10-05 07:00Z"
          },
          "terminal": "3"
         },
         "isCargo": false,
         "number": "U2 5282",
         "status": "Arrived"
        },
        {
         "aircraft": {
          "modeS": "440CA9",
          "model": "Airbus A320",
          "reg": "OE-IZN"
         },
         "airline": {
          "iata": "U2",
          "icao": "EZY",
          "name": "easyJet"
         },
         "arrival": {
          "baggageBelt": "A3",
          "gate": "A33",
          "quality": [
           "Basic",
           "Live"
          ],
          "revisedTime": {
           "local": "2023-10-05 10:04+02:00",
           "utc": "2023-10-05 08:04Z"
          },
          "runwayTime": {
           "local": "2023-10-05 10:02+02:00",
           "utc": "2023-10-05 08:02Z"
          },
          "scheduledTime": {
           "local": "2023-10-05 10:05+02:00",
           "utc": "2023-10-05 08:05Z"
          },
          "terminal": "1"
         },
         "callSign": "EJU96CL",
         "codeshareStatus": "IsOperator",
         "departure": {
          "airport": {
           "iata": "PMI",
           "icao": "LEPA",
           "name": "Palma De Mallorca"
          },
          "checkInDesk": "076-085",
          "gate": "C54",
          "quality": [
           "Basic",
           "Live"
          ],
          "revisedTime": {
           "local": "2023-10-05 07:16+02:00",
           "utc": "2023-10-05 05:16Z"
          },
          "runwayTime": {
           "local": "2023-10-05 07:33+02:00",
           "utc": "2023-10-05 05:33Z"
          },
          "scheduledTime": {
           "local": "2023-10-05 07:10+02:00",
           "utc": "2023-10-05 05:10Z"
          },
          "terminal": "N"
         },
         "isCargo": false,
         "number": "U2 7333",
         "status": "Arrived"
        },
        {
         "aircraft": {
          "modeS": "3444D0",
          "model": "Airbus A320",
          "reg": "EC-MBD"
         },
         "airline": {
          "iata": "VY",
          "icao": "VLG",
          "name": "Vueling"
         },
         "arrival": {
          "baggageBelt": "C2",
          "gate": "Z32",
          "quality": [
           "Basic",
           "Live"
          ],
          "revisedTime": {
           "local": "2023-10-05 09:49+02:00",
           "utc": "2023-10-05 07:49Z"
          },
          "scheduledTime": {
           "local": "2023-10-05 10:05+02:00",
           "utc": "2023-10-05 08:05Z"
          },
          "terminal": "2"
         },
         "callSign": "VLG1882",
         "codeshareStatus": "IsOperator",
         "departure": {
          "airport": {
           "iata": "BCN",
           "icao": "LEBL",
           "name": "Barcelona"
          },
          "checkInDesk": "501-514",
          "gate": "A12",
          "quality": [
           "Basic",
           "Live"
          ],
          "revisedTime": {
           "local": "2023-10-05 07:19+02:00",
           "utc": "2023-10-05 05:19Z"
          },
          "runwayTime": {
           "local": "2023-10-05 07:37+02:00",
           "utc": "2023-10-05 05:37Z"
          },
          "scheduledTime": {
           "local": "2023-10-05 07:20+02:00",
           "utc": "2023-10-05 05:20Z"
          },
          "terminal": "1"
         },
         "isCargo": false,
         "number": "VY 1882",
         "status": "Arrived"
        },
        {
         "aircraft": {
          "modeS": "4008B2",
          "model": "Airbus A319",
          "reg": "G-EUPR"
         },
         "airline": {
          "iata": "BA",
          "icao": "BAW",
          "name": "British Airways"
         },
         "arrival": {
          "baggageBelt": "A3",
          "gate": "X06",
          "quality": [
           "Basic",
           "Live"
          ],
          "revisedTime": {
           "local": "2023-10-05 11:14+02:00",
           "utc": "2023-10-05 09:14Z"
          },
          "runwayTime": {
           "local": "2023-10-05 11:13+02:00",
           "utc": "2023-10-05 09:13Z"
          },
          "scheduledTime": {
           "local": "2023-10-05 11:30+02:00",
           "utc": "2023-10-05 09:30Z"
          },
          "terminal": "1"
         },
         "callSign": "BAW982",
         "codeshareStatus": "IsOperator",
         "departure": {
          "airport": {
           "iata": "LHR",
           "icao": "EGLL",
           "name": "London"
          },
          "checkInDesk": "C",
          "quality": [
           "Basic",
           "Live"
          ],
          "revisedTime": {
           "local": "2023-10-05 08:52+01:00",
           "utc": "2023-10-05 07:52Z"
          },
          "runwayTime": {
           "local": "2023-10-05 08:20+01:00",
           "utc": "2023-10-05 07:20Z"
          },
          "scheduledTime": {
           "local": "2023-10-05 08:35+01:00",
           "utc": "2023-10-05 07:35Z"
          },
          "terminal": "5"
         },
         "isCargo": false,
         "number": "BA 982",
         "status": "Arrived"
        },
        {
         "aircraft": {
          "modeS": "392AF9",
          "model": "Airbus A320",
          "reg": "F-GKXZ"
         },
         "airline": {
          "iata": "AF",
          "icao": "AFR",
          "name": "Air France"
         },
         "arrival": {
          "baggageBelt": "A4",
          "gate": "A30",
          "quality": [
           "Basic",
           "Live"
          ],
          "revisedTime": {
           "local": "2023-10-05 12:17+02:00",
           "utc": "2023-10-05 10:17Z"
          },
          "scheduledTime": {
           "local": "2023-10-05 11:20+02:00",
           "utc": "2023-10-05 09:20Z"
          },
          "terminal": "1"
         },
         "callSign": "AFR23QF",
         "codeshareStatus": "IsOperator",
         "departure": {
          "airport": {
           "iata": "CDG",
           "icao": "LFPG",
           "name": "Paris"
          },
          "quality": [
           "Basic",
           "Live"
          ],
          "revisedTime": {
           "local": "2023-10-05 11:00+02:00",
           "utc": "2023-10-05 09:00Z"
          },
          "runwayTime": {
           "local": "2023-10-05 11:00+02:00",
           "utc": "2023-10-05 09:00Z"
          },
          "scheduledTime": {
           "local": "2023-10-05 09:35+02:00",
           "utc": "2023-10-05 07:35Z"
          },
          "terminal": "2F"
         },
         "isCargo": false,
         "number": "AF 1734",
         "status": "Arrived"
        },
        {
         "aircraft": {
          "modeS": "40650B",
          "model": "Embraer 190",
          "reg": "G-LCYO"
         },
         "airline": {
          "iata": "BA",
          "icao": "BAW",
          "name": "British Airways"
         },
         "arrival": {
          "baggageBelt": "A3",
          "gate": "N02",
          "quality": [
           "Basic",
           "Live"
          ],
          "revisedTime": {
           "local": "2023-10-05 10:52+02:00",
           "utc": "2023-10-05 08:52Z"
          },
          "scheduledTime": {
           "local": "2023-10-05 11:10+02:00",
           "utc": "2023-10-05 09:10Z"
          },
          "terminal": "1"
         },
         "callSign": "CFE76JZ",
         "codeshareStatus": "IsOperator",
         "departure": {
          "airport": {
           "iata": "LCY",
           "icao": "EGLC",
           "name": "London"
          },
          "gate": "3",
          "quality": [
           "Basic",
           "Live"
          ],
          "revisedTime": {
           "local": "2023-10-05 08:28+01:00",
           "utc": "2023-10-05 07:28Z"
          },
          "runwayTime": {
           "local": "2023-10-05 08:29+01:00",
           "utc": "2023-10-05 07:29Z"
          },
          "scheduledTime": {
           "local": "2023-10-05 08:25+01:00",
           "utc": "2023-10-05 07:25Z"
          }
         },
         "isCargo": false,
         "number": "BA 8491",
         "status": "Arrived"
        },
        {
         "aircraft": {
          "modeS": "4D2273",
          "model": "Boeing 737-800",
          "reg": "9H-QDQ"
         },
         "airline": {
          "iata": "FR",
          "icao": "RYR",
          "name": "Ryanair"
         },
         "arrival": {
          "baggageBelt": "C3",
          "gate": "Z33",
          "quality": [
           "Basic",
           "Live"
          ],
          "revisedTime": {
           "local": "2023-10-05 11:20+02:00",
           "utc": "2023-10-05 09:20Z"
          },
          "runwayTime": {
           "local": "2023-10-05 11:20+02:00",
           "utc": "2023-10-05 09:20Z"
          },
          "scheduledTime": {
           "local": "2023-10-05 11:05+02:00",
           "utc": "2023-10-05 09:05Z"
          },
          "terminal": "2"
         },
         "callSign": "RYR7NP",
         "codeshareStatus": "IsOperator",
         "departure": {
          "airport": {
           "iata": "FCO",
           "icao": "LIRF",
           "name": "Rome"
          },
          "quality": [
           "Basic",
           "Live"
          ],
          "revisedTime": {
           "local": "2023-10-05 08:55+02:00",
           "utc": "2023-10-05 06:55Z"
          },
          "runwayTime": {
           "local": "2023-10-05 09:25+02:00",
           "utc": "2023-10-05 07:25Z"
          },
          "scheduledTime": {
           "local": "2023-10-05 08:55+02:00",
           "utc": "2023-10-05 06:55Z"
          },
          "terminal": "1"
         },
         "isCargo": false,
         "number": "FR 135",
         "status": "Arrived"
        },
        {
         "aircraft": {
          "modeS": "4D2386",
          "model": "Boeing 737 MAX 8",
          "reg": "9H-VUY"
         },
         "airline": {
          "iata": "FR",
          "icao": "RYR",
          "name": "Ryanair"
         },
         "arrival": {
          "baggageBelt": "C2",
          "gate": "Z32",
          "quality": [
           "Basic",
           "Live"
          ],
          "revisedTime": {
           "local": "2023-10-05 11:34+02:00",
           "utc": "2023-10-05 09:34Z"
          },
          "scheduledTime": {
           "local": "2023-10-05 11:30+02:00",
           "utc": "2023-10-05 09:30Z"
          },
          "terminal": "2"
         },
         "callSign": "RYR52DC",
         "codeshareStatus": "IsOperator",
         "departure": {
          "airport": {
           "iata": "BLQ",
           "icao": "LIPE",
           "name": "Bologna"
          },
          "quality": [
           "Basic",
           "Live"
          ],
          "revisedTime": {
           "local": "2023-10-05 10:09+02:00",
           "utc": "2023-10-05 08:09Z"
          },
          "runwayTime": {
           "local": "2023-10-05 10:09+02:00",
           "utc": "2023-10-05 08:09Z"
          },
          "scheduledTime": {
           "local": "2023-10-05 09:45+02:00",
           "utc": "2023-10-05 07:45Z"
          }
         },
         "isCargo": false,
         "number": "FR 137",
         "status": "Arrived"
        },
        {
         "aircraft": {
          "modeS": "4D244C",
          "model": "Boeing 737 MAX 8",
          "reg": "9H-VVH"
         },
         "airline": {
          "iata": "FR",
          "icao": "RYR",
          "name": "Ryanair"
         },
         "arrival": {
          "baggageBelt": "C1",
          "gate": "Z38",
          "quality": [
           "Basic",
           "Live"
          ],
          "revisedTime": {
           "local": "2023-10-05 11:36+02:00",
           "utc": "2023-10-05 09:36Z"
          },
          "scheduledTime": {
           "local": "2023-10-05 11:35+02:00",
           "utc": "2023-10-05 09:35Z"
          },
          "terminal": "2"
         },
         "callSign": "RYR99SP",
         "codeshareStatus": "IsOperator",
         "departure": {
          "airport": {
           "iata": "EDI",
           "icao": "EGPH",
           "name": "Edinburgh"
          },
          "quality": [
           "Basic",
           "Live"
          ],
          "revisedTime": {
           "local": "2023-10-05 09:03+01:00",
           "utc": "2023-10-05 08:03Z"
          },
          "runwayTime": {
           "local": "2023-10-05 09:04+01:00",
           "utc": "2023-10-05 08:04Z"
          },
          "scheduledTime": {
           "local": "2023-10-05 08:30+01:00",
           "utc": "2023-10-05 07:30Z"
          }
         },
         "isCargo": false,
         "number": "FR 2376",
         "status": "Arrived"
        },
        {
         "aircraft": {
          "modeS": "4D2274",
          "model": "Boeing 737-800",
          "reg": "9H-QBC"
         },
         "airline": {
          "iata": "FR",
          "icao": "RYR",
          "name": "Ryanair"
         },
         "arrival": {
          "baggageBelt": "B4",
          "gate": "Y21",
          "quality": [
           "Basic",
           "Live"
          ],
          "revisedTime": {
           "local": "2023-10-05 11:39+02:00",
           "utc": "2023-10-05 09:39Z"
          },
          "scheduledTime": {
           "local": "2023-10-05 11:55+02:00",
           "utc": "2023-10-05 09:55Z"
          },
          "terminal": "1"
         },
         "callSign": "RYR1EJ",
         "codeshareStatus": "IsOperator",
         "departure": {
          "airport": {
           "iata": "DUB",
           "icao": "EIDW",
           "name": "Dublin"
          },
          "checkInDesk": "1204-1319",
          "gate": "109",
          "quality": [
           "Basic",
           "Live"
          ],
          "revisedTime": {
           "local": "2023-10-05 08:35+01:00",
           "utc": "2023-10-05 07:35Z"
          },
          "runwayTime": {
           "local": "2023-10-05 09:00+01:00",
           "utc": "2023-10-05 08:00Z"
          },
          "scheduledTime": {
           "local": "2023-10-05 08:35+01:00",
           "utc": "2023-10-05 07:35Z"
          },
          "terminal": "1"
         },
         "isCargo": false,
         "number": "FR 3669",
         "status": "Arrived"
        },
        {
         "aircraft": {
          "modeS": "484FDE",
          "model": "Boeing 737-800",
          "reg": "PH-BCD"
         },
         "airline": {
          "iata": "KL",
          "icao": "KLM",
          "name": "KLM"
         },
         "arrival": {
          "baggageBelt": "A4",
          "gate": "A33",
          "quality": [
           "Basic",
           "Live"
          ],
          "revisedTime": {
           "local": "2023-10-05 11:16+02:00",
           "utc": "2023-10-05 09:16Z"
          },
          "runwayTime": {
           "local": "2023-10-05 11:16+02:00",
           "utc": "2023-10-05 09:16Z"
          },
          "scheduledTime": {
           "local": "2023-10-05 11:30+02:00",
           "utc": "2023-10-05 09:30Z"
          },
          "terminal": "1"
         },
         "callSign": "KLM95E",
         "codeshareStatus": "IsOperator",
         "departure": {
          "airport": {
           "iata": "AMS",
           "icao": "EHAM",
           "name": "Amsterdam"
          },
          "checkInDesk": "6-8",
          "gate": "C8",
          "quality": [
           "Basic",
           "Live"
          ],
          "revisedTime": {
           "local": "2023-10-05 10:17+02:00",
           "utc": "2023-10-05 08:17Z"
          },
          "scheduledTime": {
           "local": "2023-10-05 10:15+02:00",
           "utc": "2023-10-05 08:15Z"
          },
          "terminal": "1"
         },
         "isCargo": false,
         "number": "KL 1823",
         "status": "Arrived"
        },
        {
         "aircraft": {
          "modeS": "3C666A",
          "model": "Airbus A321",
          "reg": "D-AISJ"
         },
         "airline": {
          "iata": "LH",
          "icao": "DLH",
          "name": "Lufthansa"
         },
         "arrival": {
          "baggageBelt": "B3",
          "gate": "B10",
          "quality": [
           "Basic",
           "Live"
          ],
          "revisedTime": {
           "local": "2023-10-05 12:01+02:00",
           "utc": "2023-10-05 10:01Z"
          },
          "scheduledTime": {
           "local": "2023-10-05 11:50+02:00",
           "utc": "2023-10-05 09:50Z"
          },
          "terminal": "1"
         },
         "callSign": "DLH9X",
         "codeshareStatus": "IsOperator",
         "departure": {
          "airport": {
           "iata": "MUC",
           "icao": "EDDM",
           "name": "Munich"
          },
          "quality": [
           "Basic",
           "Live"
          ],
          "revisedTime": {
           "local": "2023-10-05 11:00+02:00",
           "utc": "2023-10-05 09:00Z"
          },
          "runwayTime": {
           "local": "2023-10-05 11:14+02:00",
           "utc": "2023-10-05 09:14Z"
          },
          "scheduledTime": {
           "local": "2023-10-05 10:45+02:00",
           "utc": "2023-10-05 08:45Z"
          },
          "terminal": "2"
         },
         "isCargo": false,
         "number": "LH 1936",
         "status": "Arrived"
        },
        {
         "aircraft": {
          "modeS": "502D35",
          "model": "Airbus A320",
          "reg": "YL-LDF"
         },
         "airline": {
          "iata": "SK",
          "icao": "SAS",
          "name": "SAS"
         },
         "arrival": {
          "baggageBelt": "B3",
          "gate": "B07",
          "quality": [
           "Basic",
           "Live"
          ],
          "revisedTime": {
           "local": "2023-10-05 12:08+02:00",
           "utc": "2023-10-05 10:08Z"
          },
          "scheduledTime": {
           "local": "2023-10-05 11:35+02:00",
           "utc": "2023-10-05 09:35Z"
          },
          "terminal": "1"
         },
         "callSign": "SAS2677",
         "codeshareStatus": "IsOperator",
         "departure": {
          "airport": {
           "iata": "ARN",
           "icao": "ESSA",
           "name": "Stockholm"
          },
          "checkInDesk": "71-80",
          "gate": "E6",
          "quality": [
           "Basic",
           "Live"
          ],
          "revisedTime": {
           "local": "2023-10-05 10:45+02:00",
           "utc": "2023-10-05 08:45Z"
          },
          "runwayTime": {
           "local": "2023-10-05 10:55+02:00",
           "utc": "2023-10-05 08:55Z"
          },
          "scheduledTime": {
           "local": "2023-10-05 10:05+02:00",
           "utc": "2023-10-05 08:05Z"
          },
          "terminal": "5"
         },
         "isCargo": false,
         "number": "SK 2677",
         "status": "Arrived"
        },
        {
         "aircraft": {
          "modeS": "4BB2AF",
          "model": "Airbus A320 NEO",
          "reg": "TC-LUO"
         },
         "airline": {
          "name": "Turkish Airlines"
         },
         "arrival": {
          "baggageBelt": "A4",
          "gate": "X01",
          "quality": [
           "Basic",
           "Live"
          ],
          "revisedTime": {
           "local": "2023-10-05 12:11+02:00",
           "utc": "2023-10-05 10:11Z"
          },
          "scheduledTime": {
           "local": "2023-10-05 11:15+02:00",
           "utc": "2023-10-05 09:15Z"
          },
          "terminal": "1"
         },
         "callSign": "THY7FA",
         "codeshareStatus": "IsOperator",
         "departure": {
          "airport": {
           "iata": "SAW",
           "icao": "LTFJ",
           "name": "Istanbul"
          },
          "quality": [
           "Basic"
          ],
          "scheduledTime": {
           "local": "2023-10-05 09:20+03:00",
           "utc": "2023-10-05 06:20Z"
          }
         },
         "isCargo": false,
         "number": "TK 7728",
         "status": "Arrived"
        },
        {
         "aircraft": {
          "modeS": "440185",
          "model": "Airbus A320",
          "reg": "OE-IJI"
         },
         "airline": {
          "iata": "U2",
          "icao": "EZY",
          "name": "easyJet"
         },
         "arrival": {
          "baggageBelt": "A3",
          "gate": "A37",
          "quality": [
           "Basic",
           "Live"
          ],
          "revisedTime": {
           "local": "2023-10-05 12:13+02:00",
           "utc": "2023-10-05 10:13Z"
          },
          "scheduledTime": {
           "local": "2023-10-05 11:40+02:00",
           "utc": "2023-10-05 09:40Z"
          },
          "terminal": "1"
         },
         "callSign": "EJU64XR",
         "codeshareStatus": "IsOperator",
         "departure": {
          "airport": {
           "iata": "CDG",
           "icao": "LFPG",
           "name": "Paris"
          },
          "quality": [
           "Basic",
           "Live"
          ],
          "revisedTime": {
           "local": "2023-10-05 10:55+02:00",
           "utc": "2023-10-05 08:55Z"
          },
          "runwayTime": {
           "local": "2023-10-05 10:55+02:00",
           "utc": "2023-10-05 08:55Z"
          },
          "scheduledTime": {
           "local": "2023-10-05 09:50+02:00",
           "utc": "2023-10-05 07:50Z"
          },
          "terminal": "2B"
         },
         "isCargo": false,
         "number": "U2 5148",
         "status": "Arrived"
        },
        {
         "aircraft": {
          "modeS": "4BCDA4",
          "model": "Boeing 737-800",
          "reg": "TC-SMD"
         },
         "airline": {
          "iata": "XQ",
          "icao": "SXS",
          "name": "Sun Express"
         },
         "arrival": {
          "baggageBelt": "A1",
          "gate": "X17",
          "quality": [
           "Basic",
           "Live"
          ],
          "revisedTime": {
           "local": "2023-10-05 11:58+02:00",
           "utc": "2023-10-05 09:58Z"
          },
          "scheduledTime": {
           "local": "2023-10-05 11:35+02:00",
           "utc": "2023-10-05 09:35Z"
          },
          "terminal": "1"
         },
         "callSign": "SXS2SR",
         "codeshareStatus": "IsOperator",
         "departure": {
          "airport": {
           "iata": "AYT",
           "icao": "LTAI",
           "name": "Antalya"
          },
          "checkInDesk": "133-135",
          "quality": [
           "Basic",
           "Live"
          ],
          "revisedTime": {
           "local": "2023-10-05 09:00+03:00",
           "utc": "2023-10-05 06:00Z"
          },
          "scheduledTime": {
           "local": "2023-10-05 09:00+03:00",
           "utc": "2023-10-05 06:00Z"
          },
          "terminal": "1"
         },
         "isCargo": false,
         "number": "XQ 160",
         "status": "Arrived"
        },
        {
         "aircraft": {
          "modeS": "4D234D",
          "model": "Boeing 737-800",
          "reg": "9H-VUN"
         },
         "airline": {
          "iata": "FR",
          "icao": "RYR",
          "name": "Ryanair"
         },
         "arrival": {
          "baggageBelt": "C1",
          "gate": "Z33",
          "quality": [
           "Basic",
           "Live"
          ],
          "revisedTime": {
           "local": "2023-10-05 12:28+02:00",
           "utc": "2023-10-05 10:28Z"
          },
          "runwayTime": {
           "local": "2023-10-05 12:28+02:00",
           "utc": "2023-10-05 10:28Z"
          },
          "scheduledTime": {
           "local": "2023-10-05 12:05+02:00",
           "utc": "2023-10-05 10:05Z"
          },
          "terminal": "2"
         },
         "callSign": "RYR51QZ",
         "codeshareStatus": "IsOperator",
         "departure": {
          "airport": {
           "iata": "PMI",
           "icao": "LEPA",
           "name": "Palma De Mallorca"
          },
          "checkInDesk": "002-017",
          "gate": "C52",
          "quality": [
           "Basic",
           "Live"
          ],
          "revisedTime": {
           "local": "2023-10-05 09:35+02:00",
           "utc": "2023-10-05 07:35Z"
          },
          "runwayTime": {
           "local": "2023-10-05 09:52+02:00",
           "utc": "2023-10-05 07:52Z"
          },
          "scheduledTime": {
           "local": "2023-10-05 09:20+02:00",
           "utc": "2023-10-05 07:20Z"
          },
          "terminal": "N"
         },
         "isCargo": false,
         "number": "FR 111",
         "status": "Arrived"
        },
        {
         "aircraft": {
          "modeS": "48C223",
          "model": "Boeing 737-800",
          "reg": "SP-RSD"
         },
         "airline": {
          "iata": "FR",
          "icao": "RYR",
          "name": "Ryanair"
         },
         "arrival": {
          "baggageBelt": "C2",
          "gate": "Z32",
          "quality": [
           "Basic",
           "Live"
          ],
          "revisedTime": {
           "local": "2023-10-05 12:25+02:00",
           "utc": "2023-10-05 10:25Z"
          },
          "runwayTime": {
           "local": "2023-10-05 12:24+02:00",
           "utc": "2023-10-05 10:24Z"
          },
          "scheduledTime": {
           "local": "2023-10-05 12:40+02:00",
           "utc": "2023-10-05 10:40Z"
          },
          "terminal": "2"
         },
         "callSign": "RYR72NE",
         "codeshareStatus": "IsOperator",
         "departure": {
          "airport": {
           "iata": "VNO",
           "icao": "EYVI",
           "name": "Vilnius"
          },
          "quality": [
           "Basic"
          ],
          "scheduledTime": {
           "local": "2023-10-05 12:00+03:00",
           "utc": "2023-10-05 09:00Z"
          }
         },
         "isCargo": false,
         "number": "FR 1571",
         "status": "Arrived"
        },
        {
         "aircraft": {
          "modeS": "4D222E",
          "model": "Boeing 737-800",
          "reg": "9H-QAO"
         },
         "airline": {
          "iata": "FR",
          "icao": "RYR",
          "name": "Ryanair"
         },
         "arrival": {
          "baggageBelt": "C1",
          "gate": "Z34",
          "quality": [
           "Basic",
           "Live"
          ],
          "revisedTime": {
           "local": "2023-10-05 13:16+02:00",
           "utc": "2023-10-05 11:16Z"
          },
          "scheduledTime": {
           "local": "2023-10-05 12:55+02:00",
           "utc": "2023-10-05 10:55Z"
          },
          "terminal": "2"
         },
         "callSign": "RYR2LC",
         "codeshareStatus": "IsOperator",
         "departure": {
          "airport": {
           "iata": "CTA",
           "icao": "LICC",
           "name": "Catania"
          },
          "quality": [
           "Basic",
           "Live"
          ],
          "revisedTime": {
           "local": "2023-10-05 10:40+02:00",
           "utc": "2023-10-05 08:40Z"
          },
          "scheduledTime": {
           "local": "2023-10-05 10:10+02:00",
           "utc": "2023-10-05 08:10Z"
          },
          "terminal": "A"
         },
         "isCargo": false,
         "number": "FR 1577",
         "status": "Arrived"
        },
        {
         "aircraft": {
          "modeS": "4791AC",
          "model": "Boeing 737-800",
          "reg": "LN-NIQ"
         },
         "airline": {
          "iata": "DY",
          "icao": "NOZ",
          "name": "Norwegian Air Shuttle"
         },
         "arrival": {
          "baggageBelt": "C3",
          "gate": "Z29",
          "quality": [
           "Basic",
           "Live"
          ],
          "revisedTime": {
           "local": "2023-10-05 12:04+02:00",
           "utc": "2023-10-05 10:04Z"
          },
          "scheduledTime": {
           "local": "2023-10-05 12:25+02:00",
           "utc": "2023-10-05 10:25Z"
          },
          "terminal": "2"
         },
         "callSign": "NOZ112X",
         "codeshareStatus": "IsOperator",
         "departure": {
          "airport": {
           "iata": "TRD",
           "icao": "ENVA",
           "name": "Trondheim"
          },
          "gate": "46",
          "quality": [
           "Basic",
           "Live"
          ],
          "revisedTime": {
           "local": "2023-10-05 10:22+02:00",
           "utc": "2023-10-05 08:22Z"
          },
          "scheduledTime": {
           "local": "2023-10-05 10:25+02:00",
           "utc": "2023-10-05 08:25Z"
          }
         },
         "isCargo": false,
         "number": "DY 1120",
         "status": "Arrived"
        },
        {
         "aircraft": {
          "modeS": "479D40",
          "model": "Boeing 737-800",
          "reg": "LN-NHG"
         },
         "airline": {
          "iata": "DY",
          "icao": "NOZ",
          "name": "Norwegian Air Shuttle"
         },
         "arrival": {
          "baggageBelt": "C3",
          "gate": "Z30",
          "quality": [
           "Basic",
           "Live"
          ],
          "revisedTime": {
           "local": "2023-10-05 11:45+02:00",
           "utc": "2023-10-05 09:45Z"
          },
          "scheduledTime": {
           "local": "2023-10-05 12:05+02:00",
           "utc": "2023-10-05 10:05Z"
          },
          "terminal": "2"
         },
         "callSign": "NOZ8BE",
         "codeshareStatus": "IsOperator",
         "departure": {
          "airport": {
           "iata": "BGO",
           "icao": "ENBR",
           "name": "Bergen"
          },
          "gate": "E28",
          "quality": [
           "Basic",
           "Live"
          ],
          "revisedTime": {
           "local": "2023-10-05 10:14+02:00",
           "utc": "2023-10-05 08:14Z"
          },
          "runwayTime": {
           "local": "2023-10-05 10:24+02:00",
           "utc": "2023-10-05 08:24Z"
          },
          "scheduledTime": {
           "local": "2023-10-05 10:25+02:00",
           "utc": "2023-10-05 08:25Z"
          }
         },
         "isCargo": false,
         "number": "DY 1122",
         "status": "Arrived"
        },
        {
         "aircraft": {
          "modeS": "48C129",
          "model": "Boeing 737-800",
          "reg": "SP-RKK"
         },
         "airline": {
          "iata": "FR",
          "icao": "RYR",
          "name": "Ryanair"
         },
         "arrival": {
          "baggageBelt": "C1",
          "gate": "Z36",
          "quality": [
           "Basic",
           "Live"
          ],
          "revisedTime": {
           "local": "2023-10-05 12:06+02:00",
           "utc": "2023-10-05 10:06Z"
          },
          "scheduledTime": {
           "local": "2023-10-05 12:15+02:00",
           "utc": "2023-10-05 10:15Z"
          },
          "terminal": "2"
         },
         "callSign": "RYR1YR",
         "codeshareStatus": "IsOperator",
         "departure": {
          "airport": {
           "iata": "KRK",
           "icao": "EPKK",
           "name": "Kraków"
          },
          "quality": [
           "Basic",
           "Live"
          ],
          "revisedTime": {
           "local": "2023-10-05 11:00+02:00",
           "utc": "2023-10-05 09:00Z"
          },
          "runwayTime": {
           "local": "2023-10-05 11:10+02:00",
           "utc": "2023-10-05 09:10Z"
          },
          "scheduledTime": {
           "local": "2023-10-05 11:00+02:00",
           "utc": "2023-10-05 09:00Z"
          }
         },
         "isCargo": false,
         "number": "FR 2536",
         "status": "Arrived"
        },
        {
         "aircraft": {
          "modeS": "4CADBA",
          "model": "Boeing 737 MAX 8",
          "reg": "EI-IGH"
         },
         "airline": {
          "iata": "FR",
          "icao": "RYR",
          "name": "Ryanair"
         },
         "arrival": {
          "baggageBelt": "C2",
          "gate": "Z34",
          "quality": [
           "Basic",
           "Live"
          ],
          "revisedTime": {
           "local": "2023-10-05 11:47+02:00",
           "utc": "2023-10-05 09:47Z"
          },
          "scheduledTime": {
           "local": "2023-10-05 12:10+02:00",
           "utc": "2023-10-05 10:10Z"
          },
          "terminal": "2"
         },
         "callSign": "RYR40UR",
         "codeshareStatus": "IsOperator",
         "departure": {
          "airport": {
           "iata": "FAO",
           "icao": "LPFR",
           "name": "Faro"
          },
          "quality": [
           "Basic",
           "Live"
          ],
          "revisedTime": {
           "local": "2023-10-05 07:38+01:00",
           "utc": "2023-10-05 06:38Z"
          },
          "runwayTime": {
           "local": "2023-10-05 07:40+01:00",
           "utc": "2023-10-05 06:40Z"
          },
          "scheduledTime": {
           "local": "2023-10-05 07:35+01:00",
           "utc": "2023-10-05 06:35Z"
          },
          "terminal": "1"
         },
         "isCargo": false,
         "number": "FR 254",
         "status": "Arrived"
        },
        {
         "aircraft": {
          "modeS": "461FA5",
          "model": "Airbus A321",
          "reg": "OH-LZP"
         },
         "airline": {
          "iata": "AY",
          "icao": "FIN",
          "name": "Finnair"
         },
         "arrival": {
          "baggageBelt": "A1",
          "gate": "A34",
          "quality": [
           "Basic",
           "Live"
          ],
          "revisedTime": {
           "local": "2023-10-05 12:15+02:00",
           "utc": "2023-10-05 10:15Z"
          },
          "scheduledTime": {
           "local": "2023-10-05 12:25+02:00",
           "utc": "2023-10-05 10:25Z"
          },
          "terminal": "1"
         },
         "callSign": "FIN26C",
         "codeshareStatus": "IsOperator",
         "departure": {
          "airport": {
           "iata": "HEL",
           "icao": "EFHK",
           "name": "Helsinki"
          },
          "checkInDesk": "211",
          "gate": "25",
          "quality": [
           "Basic",
           "Live"
          ],
          "revisedTime": {
           "local": "2023-10-05 11:27+03:00",
           "utc": "2023-10-05 08:27Z"
          },
          "runwayTime": {
           "local": "2023-10-05 11:36+03:00",
           "utc": "2023-10-05 08:36Z"
          },
          "scheduledTime": {
           "local": "2023-10-05 11:25+03:00",
           "utc": "2023-10-05 08:25Z"
          },
          "terminal": "2"
         },
         "isCargo": false,
         "number": "AY 1433",
         "status": "Arrived"
        },
        {
         "aircraft": {
          "modeS": "440822",
          "model": "Embraer 195",
          "reg": "OE-LWF"
         },
         "airline": {
          "iata": "OS",
          "icao": "AUA",
          "name": "Austrian"
         },
         "arrival": {
          "baggageBelt": "B4",
          "gate": "B03",
          "quality": [
           "Basic",
           "Live"
          ],
          "revisedTime": {
           "local": "2023-10-05 12:21+02:00",
           "utc": "2023-10-05 10:21Z"
          },
          "runwayTime": {
           "local": "2023-10-05 12:19+02:00",
           "utc": "2023-10-05 10:19Z"
          },
          "scheduledTime": {
           "local": "2023-10-05 12:25+02:00",
           "utc": "2023-10-05 10:25Z"
          },
          "terminal": "1"
         },
         "callSign": "AUA227",
         "codeshareStatus": "IsOperator",
         "departure": {
          "airport": {
           "iata": "VIE",
           "icao": "LOWW",
           "name": "Vienna"
          },
          "checkInDesk": "351-372",
          "gate": "F08",
          "quality": [
           "Basic",
           "Live"
          ],
          "revisedTime": {
           "local": "2023-10-05 11:21+02:00",
           "utc": "2023-10-05 09:21Z"
          },
          "runwayTime": {
           "local": "2023-10-05 11:22+02:00",
           "utc": "2023-10-05 09:22Z"
          },
          "scheduledTime": {
           "local": "2023-10-05 11:10+02:00",
           "utc": "2023-10-05 09:10Z"
          },
          "terminal": "3"
         },
         "isCargo": false,
         "number": "OS 227",
         "status": "Arrived"
        },
        {
         "aircraft": {
          "modeS": "4BC847",
          "model": "Airbus A321 NEO",
          "reg": "TC-RBG"
         },
         "airline": {
          "iata": "PC",
          "icao": "PGT",
          "name": "Pegasus"
         },
         "arrival": {
          "baggageBelt": "B1",
          "gate": "Y02",
          "quality": [
           "Basic",
           "Live"
          ],
          "revisedTime": {
           "local": "2023-10-05 12:52+02:00",
           "utc": "2023-10-05 10:52Z"
          },
          "runwayTime": {
           "local": "2023-10-05 12:51+02:00",
           "utc": "2023-10-05 10:51Z"
          },
          "scheduledTime": {
           "local": "2023-10-05 12:10+02:00",
           "utc": "2023-10-05 10:10Z"
          },
          "terminal": "1"
         },
         "callSign": "PGT979",
         "codeshareStatus": "IsOperator",
         "departure": {
          "airport": {
           "iata": "SAW",
           "icao": "LTFJ",
           "name": "Istanbul"
          },
          "quality": [
           "Basic"
          ],
          "scheduledTime": {
           "local": "2023-10-05 10:15+03:00",
           "utc": "2023-10-05 07:15Z"
          }
         },
         "isCargo": false,
         "number": "PC 979",
         "status": "Arrived"
        },
        {
         "aircraft": {
          "modeS": "3C6674",
          "model": "Airbus A321",
          "reg": "D-AIST"
         },
         "airline": {
          "iata": "LH",
          "icao": "DLH",
          "name": "Lufthansa"
         },
         "arrival": {
          "baggageBelt": "B3",
          "gate": "B06",
          "quality": [
           "Basic",
           "Live"
          ],
          "revisedTime": {
           "local": "2023-10-05 13:08+02:00",
           "utc": "2023-10-05 11:08Z"
          },
          "runwayTime": {
           "local": "2023-10-05 13:07+02:00",
           "utc": "2023-10-05 11:07Z"
          },
          "scheduledTime": {
           "local": "2023-10-05 12:55+02:00",
           "utc": "2023-10-05 10:55Z"
          },
          "terminal": "1"
         },
         "callSign": "DLH8UA",
         "codeshareStatus": "IsOperator",
         "departure": {
          "airport": {
           "iata": "FRA",
           "icao": "EDDF",
           "name": "Frankfurt-am-Main"
          },
          "checkInDesk": "259-488",
          "gate": "A11",
          "quality": [
           "Basic",
           "Live"
          ],
          "revisedTime": {
           "local": "2023-10-05 12:00+02:00",
           "utc": "2023-10-05 10:00Z"
          },
          "runwayTime": {
           "local": "2023-10-05 12:20+02:00",
           "utc": "2023-10-05 10:20Z"
          },
          "scheduledTime": {
           "local": "2023-10-05 11:45+02:00",
           "utc": "2023-10-05 09:45Z"
          },
          "terminal": "1"
         },
         "isCargo": false,
         "number": "LH 182",
         "status": "Arrived"
        },
        {
         "aircraft": {
          "modeS": "3C79C1",
          "model": "Airbus A320-200",
          "reg": "D-ANNA"
         },
         "airline": {
          "iata": "SR",
          "icao": "SDR",
          "name": "SundAir"
         },
         "arrival": {
          "baggageBelt": "B1",
          "gate": "S01",
          "quality": [
           "Basic",
           "Live"
          ],
          "revisedTime": {
           "local": "2023-10-05 11:56+02:00",
           "utc": "2023-10-05 09:56Z"
          },
          "runwayTime": {
           "local": "2023-10-05 11:55+02:00",
           "utc": "2023-10-05 09:55Z"
          },
          "scheduledTime": {
           "local": "2023-10-05 12:20+02:00",
           "utc": "2023-10-05 10:20Z"
          },
          "terminal": "1"
         },
         "callSign": "SDR44PT",
         "codeshareStatus": "IsOperator",
         "departure": {
          "airport": {
           "iata": "HER",
           "icao": "LGIR",
           "name": "Heraklion"
          },
          "quality": [
           "Basic"
          ],
          "scheduledTime": {
           "local": "2023-10-05 09:45+03:00",
           "utc": "2023-10-05 06:45Z"
          }
         },
         "isCargo": false,
         "number": "SR 4549",
         "status": "Arrived"
        },
        {
         "aircraft": {
          "modeS": "440DB0",
          "model": "Airbus A320",
          "reg": "OE-IDX"
         },
         "airline": {
          "iata": "U2",
          "icao": "EZY",
          "name": "easyJet"
         },
         "arrival": {
          "baggageBelt": "A3",
          "gate": "X03",
          "quality": [
           "Basic",
           "Live"
          ],
          "revisedTime": {
           "local": "2023-10-05 12:35+02:00",
           "utc": "2023-10-05 10:35Z"
          },
          "scheduledTime": {
           "local": "2023-10-05 12:55+02:00",
           "utc": "2023-10-05 10:55Z"
          },
          "terminal": "1"
         },
         "callSign": "EJU39UE",
         "codeshareStatus": "IsOperator",
         "departure": {
          "airport": {
           "iata": "PRN",
           "icao": "BKPR",
           "name": "Prishtina"
          },
          "quality": [
           "Basic"
          ],
          "scheduledTime": {
           "local": "2023-10-05 10:35+02:00",
           "utc": "2023-10-05 08:35Z"
          }
         },
         "isCargo": false,
         "number": "U2 5366",
         "status": "Arrived"
        },
        {
         "aircraft": {
          "modeS": "440732",
          "model": "Airbus A319",
          "reg": "OE-LQE"
         },
         "airline": {
          "iata": "U2",
          "icao": "EZY",
          "name": "easyJet"
         },
         "arrival": {
          "baggageBelt": "A1",
          "gate": "A31",
          "quality": [
           "Basic",
           "Live"
          ],
          "revisedTime": {
           "local": "2023-10-05 12:33+02:00",
           "utc": "2023-10-05 10:33Z"
          },
          "runwayTime": {
           "local": "2023-10-05 12:30+02:00",
           "utc": "2023-10-05 10:30Z"
          },
          "scheduledTime": {
           "local": "2023-10-05 12:50+02:00",
           "utc": "2023-10-05 10:50Z"
          },
          "terminal": "1"
         },
         "callSign": "EJU45PB",
         "codeshareStatus": "IsOperator",
         "departure": {
          "airport": {
           "iata": "LIN",
           "icao": "LIML",
           "name": "Milan"
          },
          "quality": [
           "Basic",
           "Live"
          ],
          "revisedTime": {
           "local": "2023-10-05 10:46+02:00",
           "utc": "2023-10-05 08:46Z"
          },
          "runwayTime": {
           "local": "2023-10-05 10:46+02:00",
           "utc": "2023-10-05 08:46Z"
          },
          "scheduledTime": {
           "local": "2023-10-05 11:00+02:00",
           "utc": "2023-10-05 09:00Z"
          }
         },
         "isCargo": false,
         "number": "U2 5064",
         "status": "Arrived"
        },
        {
         "aircraft": {
          "modeS": "440D10",
          "model": "Airbus A320",
          "reg": "OE-IBS"
         },
         "airline": {
          "iata": "U2",
          "icao": "EZY",
          "name": "easyJet"
         },
         "arrival": {
          "baggageBelt": "A3",
          "gate": "S02",
          "quality": [
           "Basic",
           "Live"
          ],
          "revisedTime": {
           "local": "2023-10-05 12:58+02:00",
           "utc": "2023-10-05 10:58Z"
          },
          "runwayTime": {
           "local": "2023-10-05 12:57+02:00",
           "utc": "2023-10-05 10:57Z"
          },
          "scheduledTime": {
           "local": "2023-10-05 12:50+02:00",
           "utc": "2023-10-05 10:50Z"
          },
          "terminal": "1"
         },
         "callSign": "EJU48JG",
         "codeshareStatus": "IsOperator",
         "departure": {
          "airport": {
           "iata": "CTA",
           "icao": "LICC",
           "name": "Catania"
          },
          "quality": [
           "Basic",
           "Live"
          ],
          "revisedTime": {
           "local": "2023-10-05 10:27+02:00",
           "utc": "2023-10-05 08:27Z"
          },
          "scheduledTime": {
           "local": "2023-10-05 09:55+02:00",
           "utc": "2023-10-05 07:55Z"
          },
          "terminal": "A"
         },
         "isCargo": false,
         "number": "U2 5078",
         "status": "Arrived"
        },
        {
         "aircraft": {
          "modeS": "47A7A8",
          "model": "Boeing 737-800",
          "reg": "LN-NGK"
         },
         "airline": {
          "iata": "DY",
          "icao": "NOZ",
          "name": "Norwegian Air Shuttle"
         },
         "arrival": {
          "baggageBelt": "C3",
          "gate": "Z36",
          "quality": [
           "Basic",
           "Live"
          ],
          "revisedTime": {
           "local": "2023-10-05 13:10+02:00",
           "utc": "2023-10-05 11:10Z"
          },
          "scheduledTime": {
           "local": "2023-10-05 13:30+02:00",
           "utc": "2023-10-05 11:30Z"
          },
          "terminal": "2"
         },
         "callSign": "NOZ1104",
         "codeshareStatus": "IsOperator",
         "departure": {
          "airport": {
           "iata": "OSL",
           "icao": "ENGM",
           "name": "Oslo"
          },
          "checkInDesk": "123",
          "gate": "D2",
          "quality": [
           "Basic",
           "Live"
          ],
          "revisedTime": {
           "local": "2023-10-05 11:47+02:00",
           "utc": "2023-10-05 09:47Z"
          },
          "runwayTime": {
           "local": "2023-10-05 11:56+02:00",
           "utc": "2023-10-05 09:56Z"
          },
          "scheduledTime": {
           "local": "2023-10-05 11:55+02:00",
           "utc": "2023-10-05 09:55Z"
          }
         },
         "isCargo": false,
         "number": "DY 1104",
         "status": "Arrived"
        },
        {
         "aircraft": {
          "modeS": "4891B9",
          "model": "Boeing 737-800",
          "reg": "SP-ENQ"
         },
         "airline": {
          "iata": "E4",
          "icao": "ENT",
          "name": "Enter Air"
         },
         "arrival": {
          "quality": [
           "Basic",
           "Live"
          ],
          "revisedTime": {
           "local": "2023-10-05 13:11+02:00",
           "utc": "2023-10-05 11:11Z"
          },
          "runwayTime": {
           "local": "2023-10-05 13:03+02:00",
           "utc": "2023-10-05 11:03Z"
          },
          "scheduledTime": {
           "local": "2023-10-05 13:03+02:00",
           "utc": "2023-10-05 11:03Z"
          }
         },
         "callSign": "ENT56LE",
         "codeshareStatus": "IsOperator",
         "departure": {
          "airport": {
           "name": "Unknown"
          },
          "quality": []
         },
         "isCargo": false,
         "number": "E4 56LE",
         "status": "Arrived"
        },
        {
         "aircraft": {
          "modeS": "3C4906",
          "model": "Airbus A320",
          "reg": "D-ABHF"
         },
         "airline": {
          "iata": "EW",
          "icao": "EWG",
          "name": "Eurowings"
         },
         "arrival": {
          "baggageBelt": "A4",
          "gate": "A35",
          "quality": [
           "Basic",
           "Live"
          ],
          "revisedTime": {
           "local": "2023-10-05 13:19+02:00",
           "utc": "2023-10-05 11:19Z"
          },
          "scheduledTime": {
           "local": "2023-10-05 13:20+02:00",
           "utc": "2023-10-05 11:20Z"
          },
          "terminal": "1"
         },
         "callSign": "EWG44K",
         "codeshareStatus": "IsOperator",
         "departure": {
          "airport": {
           "iata": "STR",
           "icao": "EDDS",
           "name": "Stuttgart"
          },
          "gate": "173",
          "quality": [
           "Basic",
           "Live"
          ],
          "revisedTime": {
           "local": "2023-10-05 12:10+02:00",
           "utc": "2023-10-05 10:10Z"
          },
          "runwayTime": {
           "local": "2023-10-05 12:26+02:00",
           "utc": "2023-10-05 10:26Z"
          },
          "scheduledTime": {
           "local": "2023-10-05 12:10+02:00",
           "utc": "2023-10-05 10:10Z"
          },
          "terminal": "1"
         },
         "isCargo": false,
         "number": "EW 8003",
         "status": "Arrived"
        },
        {
         "aircraft": {
          "modeS": "4D2336",
          "model": "Airbus A320",
          "reg": "9H-AML"
         },
         "airline": {
          "iata": "EW",
          "icao": "EWG",
          "name": "Eurowings"
         },
         "arrival": {
          "baggageBelt": "B1",
          "gate": "A32",
          "quality": [
           "Basic",
           "Live"
          ],
          "revisedTime": {
           "local": "2023-10-05 13:22+02:00",
           "utc": "2023-10-05 11:22Z"
          },
          "scheduledTime": {
           "local": "2023-10-05 13:10+02:00",
           "utc": "2023-10-05 11:10Z"
          },
          "terminal": "1"
         },
         "callSign": "EWG8593",
         "codeshareStatus": "IsOperator",
         "departure": {
          "airport": {
           "iata": "PMI",
           "icao": "LEPA",
           "name": "Palma De Mallorca"
          },
          "checkInDesk": "154-169",
          "gate": "C44",
          "quality": [
           "Basic",
           "Live"
          ],
          "revisedTime": {
           "local": "2023-10-05 10:39+02:00",
           "utc": "2023-10-05 08:39Z"
          },
          "runwayTime": {
           "local": "2023-10-05 10:52+02:00",
           "utc": "2023-10-05 08:52Z"
          },
          "scheduledTime": {
           "local": "2023-10-05 10:25+02:00",
           "utc": "2023-10-05 08:25Z"
          },
          "terminal": "N"
         },
         "isCargo": false,
         "number": "EW 8593",
         "status": "Arrived"
        },
        {
         "aircraft": {
          "modeS": "4D247D",
          "model": "Airbus A320",
          "reg": "9H-SWB"
         },
         "airline": {
          "iata": "EW",
          "icao": "EWG",
          "name": "Eurowings"
         },
         "arrival": {
          "baggageBelt": "A4",
          "gate": "A38",
          "quality": [
           "Basic",
           "Live"
          ],
          "revisedTime": {
           "local": "2023-10-05 12:54+02:00",
           "utc": "2023-10-05 10:54Z"
          },
          "runwayTime": {
           "local": "2023-10-05 12:53+02:00",
           "utc": "2023-10-05 10:53Z"
          },
          "scheduledTime": {
           "local": "2023-10-05 13:00+02:00",
           "utc": "2023-10-05 11:00Z"
          },
          "terminal": "1"
         },
         "callSign": "EWG8GN",
         "codeshareStatus": "IsOperator",
         "departure": {
          "airport": {
           "iata": "HER",
           "icao": "LGIR",
           "name": "Heraklion"
          },
          "quality": [
           "Basic"
          ],
          "scheduledTime": {
           "local": "2023-10-05 10:55+03:00",
           "utc": "2023-10-05 07:55Z"
          }
         },
         "isCargo": false,
         "number": "EW 8679",
         "status": "Arrived"
        },
        {
         "aircraft": {
          "modeS": "4CC547",
          "model": "Boeing 737-800",
          "reg": "TF-ICR"
         },
         "airline": {
          "iata": "FI",
          "icao": "ICE",
          "name": "Icelandair"
         },
         "arrival": {
          "baggageBelt": "A2",
          "gate": "A36",
          "quality": [
           "Basic",
           "Live"
          ],
          "revisedTime": {
           "local": "2023-10-05 12:46+02:00",
           "utc": "2023-10-05 10:46Z"
          },
          "scheduledTime": {
           "local": "2023-10-05 13:10+02:00",
           "utc": "2023-10-05 11:10Z"
          },
          "terminal": "1"
         },
         "codeshareStatus": "IsOperator",
         "departure": {
          "airport": {
           "iata": "KEF",
           "icao": "BIKF",
           "name": "Reykjavik"
          },
          "gate": "C26",
          "quality": [
           "Basic",
           "Live"
          ],
          "revisedTime": {
           "local": "2023-10-05 07:46+00:00",
           "utc": "2023-10-05 07:46Z"
          },
          "runwayTime": {
           "local": "2023-10-05 07:55+00:00",
           "utc": "2023-10-05 07:55Z"
          },
          "scheduledTime": {
           "local": "2023-10-05 07:35+00:00",
           "utc": "2023-10-05 07:35Z"
          }
         },
         "isCargo": false,
         "number": "FI 528",
         "status": "Arrived"
        },
        {
         "aircraft": {
          "modeS": "4CACDF",
          "model": "Boeing 737-800",
          "reg": "EI-GJS"
         },
         "airline": {
          "iata": "FR",
          "icao": "RYR",
          "name": "Ryanair"
         },
         "arrival": {
          "baggageBelt": "C2",
          "gate": "Z36",
          "quality": [
           "Basic",
           "Live"
          ],
          "revisedTime": {
           "local": "2023-10-05 13:01+02:00",
           "utc": "2023-10-05 11:01Z"
          },
          "runwayTime": {
           "local": "2023-10-05 13:00+02:00",
           "utc": "2023-10-05 11:00Z"
          },
          "scheduledTime": {
           "local": "2023-10-05 13:10+02:00",
           "utc": "2023-10-05 11:10Z"
          },
          "terminal": "2"
         },
         "callSign": "RYR4DL",
         "codeshareStatus": "IsOperator",
         "departure": {
          "airport": {
           "iata": "LIS",
           "icao": "LPPT",
           "name": "Lisbon"
          },
          "quality": [
           "Basic",
           "Live"
          ],
          "revisedTime": {
           "local": "2023-10-05 08:57+01:00",
           "utc": "2023-10-05 07:57Z"
          },
          "runwayTime": {
           "local": "2023-10-05 08:58+01:00",
           "utc": "2023-10-05 07:58Z"
          },
          "scheduledTime": {
           "local": "2023-10-05 08:45+01:00",
           "utc": "2023-10-05 07:45Z"
          },
          "terminal": "2"
         },
         "isCargo": false,
         "number": "FR 1143",
         "status": "Arrived"
        },
        {
         "aircraft": {
          "modeS": "4D2218",
          "model": "Boeing 737-800",
          "reg": "9H-QBN"
         },
         "airline": {
          "iata": "FR",
          "icao": "RYR",
          "name": "Ryanair"
         },
         "arrival": {
          "baggageBelt": "C2",
          "gate": "Z32",
          "quality": [
           "Basic",
           "Live"
          ],
          "revisedTime": {
           "local": "2023-10-05 13:20+02:00",
           "utc": "2023-10-05 11:20Z"
          },
          "scheduledTime": {
           "local": "2023-10-05 13:35+02:00",
           "utc": "2023-10-05 11:35Z"
          },
          "terminal": "2"
         },
         "callSign": "RYR8YB",
         "codeshareStatus": "IsOperator",
         "departure": {
          "airport": {
           "iata": "BRU",
           "icao": "EBBR",
           "name": "Brussels"
          },
          "checkInDesk": "08",
          "quality": [
           "Basic",
           "Live"
          ],
          "revisedTime": {
           "local": "2023-10-05 12:21+02:00",
           "utc": "2023-10-05 10:21Z"
          },
          "runwayTime": {
           "local": "2023-10-05 12:22+02:00",
           "utc": "2023-10-05 10:22Z"
          },
          "scheduledTime": {
           "local": "2023-10-05 12:10+02:00",
           "utc": "2023-10-05 10:10Z"
          }
         },
         "isCargo": false,
         "number": "FR 163",
         "status": "Arrived"
        },
        {
         "aircraft": {
          "modeS": "4D21F2",
          "model": "Boeing 737-800",
          "reg": "9H-QAJ"
         },
         "airline": {
          "iata": "FR",
          "icao": "RYR",
          "name": "Ryanair"
         },
         "arrival": {
          "baggageBelt": "C1",
          "gate": "Z30",
          "quality": [
           "Basic",
           "Live"
          ],
          "revisedTime": {
           "local": "2023-10-05 13:06+02:00",
           "utc": "2023-10-05 11:06Z"
          },
          "runwayTime": {
           "local": "2023-10-05 13:05+02:00",
           "utc": "2023-10-05 11:05Z"
          },
          "scheduledTime": {
           "local": "2023-10-05 13:15+02:00",
           "utc": "2023-10-05 11:15Z"
          },
          "terminal": "2"
         },
         "callSign": "RYR87XM",
         "codeshareStatus": "IsOperator",
         "departure": {
          "airport": {
           "iata": "VCE",
           "icao": "LIPZ",
           "name": "Venice"
          },
          "quality": [
           "Basic",
           "Live"
          ],
          "revisedTime": {
           "local": "2023-10-05 11:43+02:00",
           "utc": "2023-10-05 09:43Z"
          },
          "runwayTime": {
           "local": "2023-10-05 11:43+02:00",
           "utc": "2023-10-05 09:43Z"
          },
          "scheduledTime": {
           "local": "2023-10-05 11:25+02:00",
           "utc": "2023-10-05 09:25Z"
          }
         },
         "isCargo": false,
         "number": "FR 402",
         "status": "Arrived"
        },
        {
         "aircraft": {
          "modeS": "484557",
          "model": "Boeing 737",
          "reg": "PH-BXZ"
         },
         "airline": {
          "iata": "KL",
          "icao": "KLM",
          "name": "KLM"
         },
         "arrival": {
          "baggageBelt": "A3",
          "gate": "A30",
          "quality": [
           "Basic",
           "Live"
          ],
          "revisedTime": {
           "local": "2023-10-05 14:29+02:00",
           "utc": "2023-10-05 12:29Z"
          },
          "scheduledTime": {
           "local": "2023-10-05 13:45+02:00",
           "utc": "2023-10-05 11:45Z"
          },
          "terminal": "1"
         },
         "callSign": "KLM25B",
         "codeshareStatus": "IsOperator",
         "departure": {
          "airport": {
           "iata": "AMS",
           "icao": "EHAM",
           "name": "Amsterdam"
          },
          "checkInDesk": "6-8",
          "gate": "D74",
          "quality": [
           "Basic",
           "Live"
          ],
          "revisedTime": {
           "local": "2023-10-05 13:29+02:00",
           "utc": "2023-10-05 11:29Z"
          },
          "runwayTime": {
           "local": "2023-10-05 13:40+02:00",
           "utc": "2023-10-05 11:40Z"
          },
          "scheduledTime": {
           "local": "2023-10-05 12:30+02:00",
           "utc": "2023-10-05 10:30Z"
          },
          "terminal": "1"
         },
         "isCargo": false,
         "number": "KL 1825",
         "status": "Delayed"
        },
        {
         "aircraft": {
          "modeS": "3C6678",
          "model": "Airbus A321",
          "reg": "D-AISX"
         },
         "airline": {
          "iata": "LH",
          "icao": "DLH",
          "name": "Lufthansa"
         },
         "arrival": {
          "baggageBelt": "B4",
          "gate": "B17",
          "quality": [
           "Basic",
           "Live"
          ],
          "revisedTime": {
           "local": "2023-10-05 14:08+02:00",
           "utc": "2023-10-05 12:08Z"
          },
          "scheduledTime": {
           "local": "2023-10-05 13:55+02:00",
           "utc": "2023-10-05 11:55Z"
          },
          "terminal": "1"
         },
         "callSign": "DLH1AH",
         "codeshareStatus": "IsOperator",
         "departure": {
          "airport": {
           "iata": "FRA",
           "icao": "EDDF",
           "name": "Frankfurt-am-Main"
          },
          "checkInDesk": "259-488",
          "gate": "A56",
          "quality": [
           "Basic",
           "Live"
          ],
          "revisedTime": {
           "local": "2023-10-05 13:05+02:00",
           "utc": "2023-10-05 11:05Z"
          },
          "runwayTime": {
           "local": "2023-10-05 13:23+02:00",
           "utc": "2023-10-05 11:23Z"
          },
          "scheduledTime": {
           "local": "2023-10-05 12:45+02:00",
           "utc": "2023-10-05 10:45Z"
          },
          "terminal": "1"
         },
         "isCargo": false,
         "number": "LH 184",
         "status": "Arrived"
        },
        {
         "aircraft": {
          "modeS": "4D23BC",
          "model": "Boeing 737",
          "reg": "9H-ORN"
         },
         "airline": {
          "name": "MYX"
         },
         "arrival": {
          "quality": [
           "Basic",
           "Live"
          ],
          "revisedTime": {
           "local": "2023-10-05 13:11+02:00",
           "utc": "2023-10-05 11:11Z"
          },
          "runwayTime": {
           "local": "2023-10-05 13:02+02:00",
           "utc": "2023-10-05 11:02Z"
          },
          "scheduledTime": {
           "local": "2023-10-05 13:02+02:00",
           "utc": "2023-10-05 11:02Z"
          }
         },
         "callSign": "MYX8103",
         "codeshareStatus": "IsOperator",
         "departure": {
          "airport": {
           "name": "Unknown"
          },
          "quality": []
         },
         "isCargo": false,
         "number": "MYX 8103",
         "status": "Arrived"
        },
        {
         "aircraft": {
          "modeS": "3C66A4",
          "model": "Airbus A320 (Sharklets)",
          "reg": "D-AIUD"
         },
         "airline": {
          "iata": "LH",
          "icao": "DLH",
          "name": "Lufthansa"
         },
         "arrival": {
          "baggageBelt": "B4",
          "gate": "B17",
          "quality": [
           "Basic",
           "Live"
          ],
          "revisedTime": {
           "local": "2023-10-05 12:58+02:00",
           "utc": "2023-10-05 10:58Z"
          },
          "runwayTime": {
           "local": "2023-10-05 12:56+02:00",
           "utc": "2023-10-05 10:56Z"
          },
          "scheduledTime": {
           "local": "2023-10-05 13:05+02:00",
           "utc": "2023-10-05 11:05Z"
          },
          "terminal": "1"
         },
         "callSign": "DLH8N",
         "codeshareStatus": "IsOperator",
         "departure": {
          "airport": {
           "iata": "MUC",
           "icao": "EDDM",
           "name": "Munich"
          },
          "quality": [
           "Basic",
           "Live"
          ],
          "revisedTime": {
           "local": "2023-10-05 12:00+02:00",
           "utc": "2023-10-05 10:00Z"
          },
          "runwayTime": {
           "local": "2023-10-05 12:09+02:00",
           "utc": "2023-10-05 10:09Z"
          },
          "scheduledTime": {
           "local": "2023-10-05 12:00+02:00",
           "utc": "2023-10-05 10:00Z"
          },
          "terminal": "2"
         },
         "isCargo": false,
         "number": "LH 1938",
         "status": "Arrived"
        },
        {
         "aircraft": {
          "modeS": "06A0F8",
          "model": "Airbus A350-900",
          "reg": "A7-ALD"
         },
         "airline": {
          "iata": "QR",
          "icao": "QTR",
          "name": "Qatar Airways"
         },
         "arrival": {
          "baggageBelt": "B3",
          "gate": "X07",
          "quality": [
           "Basic",
           "Live"
          ],
          "revisedTime": {
           "local": "2023-10-05 13:53+02:00",
           "utc": "2023-10-05 11:53Z"
          },
          "scheduledTime": {
           "local": "2023-10-05 13:45+02:00",
           "utc": "2023-10-05 11:45Z"
          },
          "terminal": "1"
         },
         "callSign": "QTR79W",
         "codeshareStatus": "IsOperator",
         "departure": {
          "airport": {
           "iata": "DOH",
           "icao": "OTHH",
           "name": "Doha"
          },
          "quality": [
           "Basic"
          ],
          "scheduledTime": {
           "local": "2023-10-05 08:45+03:00",
           "utc": "2023-10-05 05:45Z"
          }
         },
         "isCargo": false,
         "number": "QR 81",
         "status": "Arrived"
        },
        {
         "aircraft": {
          "modeS": "4AC9E5",
          "model": "Airbus A320 (Sharklets)",
          "reg": "SE-ROE"
         },
         "airline": {
          "iata": "SK",
          "icao": "SAS",
          "name": "SAS"
         },
         "arrival": {
          "baggageBelt": "B2",
          "gate": "B07",
          "quality": [
           "Basic",
           "Live"
          ],
          "revisedTime": {
           "local": "2023-10-05 13:36+02:00",
           "utc": "2023-10-05 11:36Z"
          },
          "runwayTime": {
           "local": "2023-10-05 13:34+02:00",
           "utc": "2023-10-05 11:34Z"
          },
          "scheduledTime": {
           "local": "2023-10-05 13:45+02:00",
           "utc": "2023-10-05 11:45Z"
          },
          "terminal": "1"
         },
         "callSign": "SAS1673",
         "codeshareStatus": "IsOperator",
         "departure": {
          "airport": {
           "iata": "CPH",
           "icao": "EKCH",
           "name": "Copenhagen"
          },
          "gate": "B4",
          "quality": [
           "Basic",
           "Live"
          ],
          "revisedTime": {
           "local": "2023-10-05 12:50+02:00",
           "utc": "2023-10-05 10:50Z"
          },
          "scheduledTime": {
           "local": "2023-10-05 12:50+02:00",
           "utc": "2023-10-05 10:50Z"
          },
          "terminal": "erminal3"
         },
         "isCargo": false,
         "number": "SK 1673",
         "status": "Arrived"
        },
        {
         "aircraft": {
          "modeS": "4BCE15",
          "model": "Boeing 737-800",
          "reg": "TC-SPU"
         },
         "airline": {
          "iata": "XQ",
          "icao": "SXS",
          "name": "Sun Express"
         },
         "arrival": {
          "baggageBelt": "A3",
          "gate": "X17",
          "quality": [
           "Basic",
           "Live"
          ],
          "revisedTime": {
           "local": "2023-10-05 13:57+02:00",
           "utc": "2023-10-05 11:57Z"
          },
          "scheduledTime": {
           "local": "2023-10-05 13:40+02:00",
           "utc": "2023-10-05 11:40Z"
          },
          "terminal": "1"
         },
         "callSign": "SXS2YJ",
         "codeshareStatus": "IsOperator",
         "departure": {
          "airport": {
           "iata": "ADB",
           "icao": "LTBJ",
           "name": "İzmir"
          },
          "checkInDesk": "21",
          "gate": "30",
          "quality": [
           "Basic",
           "Live"
          ],
          "revisedTime": {
           "local": "2023-10-05 12:10+03:00",
           "utc": "2023-10-05 09:10Z"
          },
          "runwayTime": {
           "local": "2023-10-05 12:14+03:00",
           "utc": "2023-10-05 09:14Z"
          },
          "scheduledTime": {
           "local": "2023-10-05 11:35+03:00",
           "utc": "2023-10-05 08:35Z"
          },
          "terminal": "I"
         },
         "isCargo": false,
         "number": "XQ 946",
         "status": "Arrived"
        },
        {
         "aircraft": {
          "modeS": "742834",
          "model": "Airbus A320",
          "reg": "JY-JAT"
         },
         "airline": {
          "iata": "5F",
          "icao": "FIA",
          "name": "Fly One"
         },
         "arrival": {
          "baggageBelt": "B3",
          "gate": "X03",
          "quality": [
           "Basic",
           "Live"
          ],
          "revisedTime": {
           "local": "2023-10-05 14:21+02:00",
           "utc": "2023-10-05 12:21Z"
          },
          "scheduledTime": {
           "local": "2023-10-05 14:30+02:00",
           "utc": "2023-10-05 12:30Z"
          },
          "terminal": "1"
         },
         "callSign": "FIA611",
         "codeshareStatus": "IsOperator",
         "departure": {
          "airport": {
           "iata": "KIV",
           "icao": "LUKK",
           "name": "Chişinău"
          },
          "quality": [
           "Basic"
          ],
          "scheduledTime": {
           "local": "2023-10-05 13:00+03:00",
           "utc": "2023-10-05 10:00Z"
          }
         },
         "isCargo": false,
         "number": "5F 611",
         "status": "Approaching"
        },
        {
         "aircraft": {
          "modeS": "39BDA1",
          "model": "Airbus A220-300",
          "reg": "F-HPNB"
         },
         "airline": {
          "iata": "AF",
          "icao": "AFR",
          "name": "Air France"
         },
         "arrival": {
          "baggageBelt": "A3",
          "gate": "A01",
          "quality": [
           "Basic",
           "Live"
          ],
          "revisedTime": {
           "local": "2023-10-05 14:30+02:00",
           "utc": "2023-10-05 12:30Z"
          },
          "scheduledTime": {
           "local": "2023-10-05 14:30+02:00",
           "utc": "2023-10-05 12:30Z"
          },
          "terminal": "1"
         },
         "callSign": "AFR18CJ",
         "codeshareStatus": "IsOperator",
         "departure": {
          "airport": {
           "iata": "CDG",
           "icao": "LFPG",
           "name": "Paris"
          },
          "quality": [
           "Basic",
           "Live"
          ],
          "revisedTime": {
           "local": "2023-10-05 13:09+02:00",
           "utc": "2023-10-05 11:09Z"
          },
          "runwayTime": {
           "local": "2023-10-05 13:09+02:00",
           "utc": "2023-10-05 11:09Z"
          },
          "scheduledTime": {
           "local": "2023-10-05 12:50+02:00",
           "utc": "2023-10-05 10:50Z"
          },
          "terminal": "2F"
         },
         "isCargo": false,
         "number": "AF 1234",
         "status": "Approaching"
        },
        {
         "aircraft": {
          "modeS": "406B6D",
          "model": "Embraer 190",
          "reg": "G-LCYT"
         },
         "airline": {
          "iata": "BA",
          "icao": "BAW",
          "name": "British Airways"
         },
         "arrival": {
          "baggageBelt": "A4",
          "gate": "Y03",
          "quality": [
           "Basic",
           "Live"
          ],
          "revisedTime": {
           "local": "2023-10-05 14:27+02:00",
           "utc": "2023-10-05 12:27Z"
          },
          "scheduledTime": {
           "local": "2023-10-05 14:45+02:00",
           "utc": "2023-10-05 12:45Z"
          },
          "terminal": "1"
         },
         "callSign": "BAW7027",
         "codeshareStatus": "IsOperator",
         "departure": {
          "airport": {
           "iata": "LCY",
           "icao": "EGLC",
           "name": "London"
          },
          "gate": "10",
          "quality": [
           "Basic",
           "Live"
          ],
          "revisedTime": {
           "local": "2023-10-05 12:15+01:00",
           "utc": "2023-10-05 11:15Z"
          },
          "runwayTime": {
           "local": "2023-10-05 12:16+01:00",
           "utc": "2023-10-05 11:16Z"
          },
          "scheduledTime": {
           "local": "2023-10-05 12:05+01:00",
           "utc": "2023-10-05 11:05Z"
          }
         },
         "isCargo": false,
         "number": "BA 7027",
         "status": "Expected"
        },
        {
         "aircraft": {
          "modeS": "407536",
          "model": "Airbus A321 (Sharklets)",
          "reg": "G-TTNF"
         },
         "airline": {
          "iata": "BA",
          "icao": "BAW",
          "name": "British Airways"
         },
         "arrival": {
          "baggageBelt": "A3",
          "gate": "X06",
          "quality": [
           "Basic",
           "Live"
          ],
          "revisedTime": {
           "local": "2023-10-05 13:56+02:00",
           "utc": "2023-10-05 11:56Z"
          },
          "scheduledTime": {
           "local": "2023-10-05 14:00+02:00",
           "utc": "2023-10-05 12:00Z"
          },
          "terminal": "1"
         },
         "callSign": "BAW992G",
         "codeshareStatus": "IsOperator",
         "departure": {
          "airport": {
           "iata": "LHR",
           "icao": "EGLL",
           "name": "London"
          },
          "checkInDesk": "C",
          "quality": [
           "Basic",
           "Live"
          ],
          "revisedTime": {
           "local": "2023-10-05 11:35+01:00",
           "utc": "2023-10-05 10:35Z"
          },
          "runwayTime": {
           "local": "2023-10-05 11:36+01:00",
           "utc": "2023-10-05 10:36Z"
          },
          "scheduledTime": {
           "local": "2023-10-05 11:05+01:00",
           "utc": "2023-10-05 10:05Z"
          },
          "terminal": "5"
         },
         "isCargo": false,
         "number": "BA 992",
         "status": "Arrived"
        },
        {
         "aircraft": {
          "modeS": "4D240A",
          "model": "Airbus A319",
          "reg": "9H-EXR"
         },
         "airline": {
          "iata": "EW",
          "icao": "EWG",
          "name": "Eurowings"
         },
         "arrival": {
          "baggageBelt": "B4",
          "gate": "A33",
          "quality": [
           "Basic",
           "Live"
          ],
          "revisedTime": {
           "local": "2023-10-05 14:21+02:00",
           "utc": "2023-10-05 12:21Z"
          },
          "scheduledTime": {
           "local": "2023-10-05 14:25+02:00",
           "utc": "2023-10-05 12:25Z"
          },
          "terminal": "1"
         },
         "callSign": "EWG8WT",
         "codeshareStatus": "IsOperator",
         "departure": {
          "airport": {
           "iata": "SZG",
           "icao": "LOWS",
           "name": "Salzburg"
          },
          "quality": [
           "Basic",
           "Live"
          ],
          "revisedTime": {
           "local": "2023-10-05 13:24+02:00",
           "utc": "2023-10-05 11:24Z"
          },
          "runwayTime": {
           "local": "2023-10-05 13:24+02:00",
           "utc": "2023-10-05 11:24Z"
          },
          "scheduledTime": {
           "local": "2023-10-05 13:20+02:00",
           "utc": "2023-10-05 11:20Z"
          }
         },
         "isCargo": false,
         "number": "EW 4342",
         "status": "Arrived"
        },
        {
         "aircraft": {
          "modeS": "3C49CB",
          "model": "Airbus A320",
          "reg": "D-ABNK"
         },
         "airline": {
          "iata": "EW",
          "icao": "EWG",
          "name": "Eurowings"
         },
         "arrival": {
          "baggageBelt": "B3",
          "gate": "A36",
          "quality": [
           "Basic",
           "Live"
          ],
          "revisedTime": {
           "local": "2023-10-05 14:37+02:00",
           "utc": "2023-10-05 12:37Z"
          },
          "scheduledTime": {
           "local": "2023-10-05 14:00+02:00",
           "utc": "2023-10-05 12:00Z"
          },
          "terminal": "1"
         },
         "callSign": "EWG4NB",
         "codeshareStatus": "IsOperator",
         "departure": {
          "airport": {
           "iata": "AGP",
           "icao": "LEMG",
           "name": "Málaga"
          },
          "checkInDesk": "359-361",
          "gate": "D52",
          "quality": [
           "Basic",
           "Live"
          ],
          "revisedTime": {
           "local": "2023-10-05 11:08+02:00",
           "utc": "2023-10-05 09:08Z"
          },
          "runwayTime": {
           "local": "2023-10-05 11:20+02:00",
           "utc": "2023-10-05 09:20Z"
          },
          "scheduledTime": {
           "local": "2023-10-05 10:35+02:00",
           "utc": "2023-10-05 08:35Z"
          },
          "terminal": "PAX"
         },
         "isCargo": false,
         "number": "EW 8537",
         "status": "Approaching"
        },
        {
         "aircraft": {
          "modeS": "4D2208",
          "model": "Boeing 737-800",
          "reg": "9H-QBZ"
         },
         "airline": {
          "iata": "FR",
          "icao": "RYR",
          "name": "Ryanair"
         },
         "arrival": {
          "baggageBelt": "C2",
          "gate": "Z29",
          "quality": [
           "Basic",
           "Live"
          ],
          "revisedTime": {
           "local": "2023-10-05 14:24+02:00",
           "utc": "2023-10-05 12:24Z"
          },
          "scheduledTime": {
           "local": "2023-10-05 14:05+02:00",
           "utc": "2023-10-05 12:05Z"
          },
          "terminal": "2"
         },
         "codeshareStatus": "IsOperator",
         "departure": {
          "airport": {
           "iata": "BRI",
           "icao": "LIBD",
           "name": "Bari"
          },
          "quality": [
           "Basic"
          ],
          "scheduledTime": {
           "local": "2023-10-05 11:55+02:00",
           "utc": "2023-10-05 09:55Z"
          }
         },
         "isCargo": false,
         "number": "FR 3310",
         "status": "Approaching"
        },
        {
         "aircraft": {
          "modeS": "4B0290",
          "model": "Embraer 190",
          "reg": "HB-AZG"
         },
         "airline": {
          "iata": "LX",
          "icao": "SWR",
          "name": "SWISS"
         },
         "arrival": {
          "baggageBelt": "B1",
          "gate": "B07",
          "quality": [
           "Basic",
           "Live"
          ],
          "revisedTime": {
           "local": "2023-10-05 14:58+02:00",
           "utc": "2023-10-05 12:58Z"
          },
          "scheduledTime": {
           "local": "2023-10-05 14:50+02:00",
           "utc": "2023-10-05 12:50Z"
          },
          "terminal": "1"
         },
         "callSign": "SWR968",
         "codeshareStatus": "IsOperator",
         "departure": {
          "airport": {
           "iata": "ZRH",
           "icao": "LSZH",
           "name": "Zurich"
          },
          "checkInDesk": "1",
          "gate": "A66",
          "quality": [
           "Basic",
           "Live"
          ],
          "revisedTime": {
           "local": "2023-10-05 13:25+02:00",
           "utc": "2023-10-05 11:25Z"
          },
          "runwayTime": {
           "local": "2023-10-05 13:56+02:00",
           "utc": "2023-10-05 11:56Z"
          },
          "scheduledTime": {
           "local": "2023-10-05 13:25+02:00",
           "utc": "2023-10-05 11:25Z"
          }
         },
         "isCargo": false,
         "number": "LX 968",
         "status": "Expected"
        },
        {
         "aircraft": {
          "modeS": "010206",
          "model": "Airbus A320 NEO",
          "reg": "SU-GFL"
         },
         "airline": {
          "iata": "MS",
          "icao": "MSR",
          "name": "EgyptAir"
         },
         "arrival": {
          "baggageBelt": "A2",
          "gate": "X19",
          "quality": [
           "Basic",
           "Live"
          ],
          "revisedTime": {
           "local": "2023-10-05 14:47+02:00",
           "utc": "2023-10-05 12:47Z"
          },
          "scheduledTime": {
           "local": "2023-10-05 14:45+02:00",
           "utc": "2023-10-05 12:45Z"
          },
          "terminal": "1"
         },
         "callSign": "MSR731",
         "codeshareStatus": "IsOperator",
         "departure": {
          "airport": {
           "iata": "CAI",
           "icao": "HECA",
           "name": "Cairo"
          },
          "quality": [
           "Basic"
          ],
          "scheduledTime": {
           "local": "2023-10-05 11:35+03:00",
           "utc": "2023-10-05 08:35Z"
          },
          "terminal": "3"
         },
         "isCargo": false,
         "number": "MS 731",
         "status": "Expected"
        },
        {
         "aircraft": {
          "modeS": "440CAB",
          "model": "Airbus A320 NEO",
          "reg": "OE-LZN"
         },
         "airline": {
          "iata": "OS",
          "icao": "AUA",
          "name": "Austrian"
         },
         "arrival": {
          "baggageBelt": "B1",
          "gate": "B06",
          "quality": [
           "Basic",
           "Live"
          ],
          "revisedTime": {
           "local": "2023-10-05 14:24+02:00",
           "utc": "2023-10-05 12:24Z"
          },
          "scheduledTime": {
           "local": "2023-10-05 14:25+02:00",
           "utc": "2023-10-05 12:25Z"
          },
          "terminal": "1"
         },
         "callSign": "AUA2GZ",
         "codeshareStatus": "IsOperator",
         "departure": {
          "airport": {
           "iata": "VIE",
           "icao": "LOWW",
           "name": "Vienna"
          },
          "checkInDesk": "351-372",
          "gate": "F36",
          "quality": [
           "Basic",
           "Live"
          ],
          "revisedTime": {
           "local": "2023-10-05 13:31+02:00",
           "utc": "2023-10-05 11:31Z"
          },
          "runwayTime": {
           "local": "2023-10-05 13:32+02:00",
           "utc": "2023-10-05 11:32Z"
          },
          "scheduledTime": {
           "local": "2023-10-05 13:10+02:00",
           "utc": "2023-10-05 11:10Z"
          },
          "terminal": "3"
         },
         "isCargo": false,
         "number": "OS 229",
         "status": "Approaching"
        },
        {
         "aircraft": {
          "modeS": "4B194D",
          "model": "Airbus A321 NEO",
          "reg": "HB-JPD"
         },
         "airline": {
          "iata": "LX",
          "icao": "SWR",
          "name": "SWISS"
         },
         "arrival": {
          "baggageBelt": "B2",
          "gate": "B20",
          "quality": [
           "Basic",
           "Live"
          ],
          "revisedTime": {
           "local": "2023-10-05 14:26+02:00",
           "utc": "2023-10-05 12:26Z"
          },
          "scheduledTime": {
           "local": "2023-10-05 14:05+02:00",
           "utc": "2023-10-05 12:05Z"
          },
          "terminal": "1"
         },
         "callSign": "SWR9DA",
         "codeshareStatus": "IsOperator",
         "departure": {
          "airport": {
           "iata": "ZRH",
           "icao": "LSZH",
           "name": "Zurich"
          },
          "checkInDesk": "1",
          "gate": "A74",
          "quality": [
           "Basic",
           "Live"
          ],
          "revisedTime": {
           "local": "2023-10-05 12:55+02:00",
           "utc": "2023-10-05 10:55Z"
          },
          "runwayTime": {
           "local": "2023-10-05 13:26+02:00",
           "utc": "2023-10-05 11:26Z"
          },
          "scheduledTime": {
           "local": "2023-10-05 12:40+02:00",
           "utc": "2023-10-05 10:40Z"
          }
         },
         "isCargo": false,
         "number": "LX 966",
         "status": "Delayed"
        },
        {
         "aircraft": {
          "modeS": "471E16",
          "model": "Boeing 737-800",
          "reg": "HA-LKG"
         },
         "airline": {
          "iata": "QS",
          "icao": "TVS",
          "name": "SmartWings"
         },
         "arrival": {
          "baggageBelt": "B1",
          "gate": "B10",
          "quality": [
           "Basic",
           "Live"
          ],
          "revisedTime": {
           "local": "2023-10-05 13:47+02:00",
           "utc": "2023-10-05 11:47Z"
          },
          "scheduledTime": {
           "local": "2023-10-05 14:00+02:00",
           "utc": "2023-10-05 12:00Z"
          },
          "terminal": "1"
         },
         "callSign": "TVS4317",
         "codeshareStatus": "IsOperator",
         "departure": {
          "airport": {
           "iata": "DBV",
           "icao": "LDDU",
           "name": "Dubrovnik"
          },
          "quality": []
         },
         "isCargo": false,
         "number": "QS 4317",
         "status": "Arrived"
        },
        {
         "aircraft": {
          "modeS": "4BAA6C",
          "model": "Airbus A321 (Sharklets)",
          "reg": "TC-JSL"
         },
         "airline": {
          "iata": "TK",
          "icao": "THY",
          "name": "Turkish"
         },
         "arrival": {
          "baggageBelt": "B1",
          "gate": "Y02",
          "quality": [
           "Basic",
           "Live"
          ],
          "revisedTime": {
           "local": "2023-10-05 15:03+02:00",
           "utc": "2023-10-05 13:03Z"
          },
          "scheduledTime": {
           "local": "2023-10-05 14:10+02:00",
           "utc": "2023-10-05 12:10Z"
          },
          "terminal": "1"
         },
         "codeshareStatus": "IsOperator",
         "departure": {
          "airport": {
           "iata": "IST",
           "icao": "LTFM",
           "name": "Istanbul"
          },
          "checkInDesk": "E-F-G",
          "gate": "C1",
          "quality": [
           "Basic",
           "Live"
          ],
          "revisedTime": {
           "local": "2023-10-05 12:50+03:00",
           "utc": "2023-10-05 09:50Z"
          },
          "scheduledTime": {
           "local": "2023-10-05 12:15+03:00",
           "utc": "2023-10-05 09:15Z"
          }
         },
         "isCargo": false,
         "number": "TK 1725",
         "status": "Delayed"
        },
        {
         "aircraft": {
          "modeS": "440031",
          "model": "Airbus A320",
          "reg": "OE-IVC"
         },
         "airline": {
          "iata": "U2",
          "icao": "EZY",
          "name": "easyJet"
         },
         "arrival": {
          "baggageBelt": "A1",
          "gate": "A34",
          "quality": [
           "Basic",
           "Live"
          ],
          "revisedTime": {
           "local": "2023-10-05 14:09+02:00",
           "utc": "2023-10-05 12:09Z"
          },
          "scheduledTime": {
           "local": "2023-10-05 14:25+02:00",
           "utc": "2023-10-05 12:25Z"
          },
          "terminal": "1"
         },
         "callSign": "EJU79NT",
         "codeshareStatus": "IsOperator",
         "departure": {
          "airport": {
           "iata": "VLC",
           "icao": "LEVC",
           "name": "Valencia"
          },
          "checkInDesk": "61-62",
          "gate": "17",
          "quality": [
           "Basic",
           "Live"
          ],
          "revisedTime": {
           "local": "2023-10-05 11:15+02:00",
           "utc": "2023-10-05 09:15Z"
          },
          "runwayTime": {
           "local": "2023-10-05 11:29+02:00",
           "utc": "2023-10-05 09:29Z"
          },
          "scheduledTime": {
           "local": "2023-10-05 11:15+02:00",
           "utc": "2023-10-05 09:15Z"
          },
          "terminal": "1"
         },
         "isCargo": false,
         "number": "U2 5104",
         "status": "Arrived"
        },
        {
         "aircraft": {
          "modeS": "4400E3",
          "model": "Airbus A320",
          "reg": "OE-IVS"
         },
         "airline": {
          "iata": "U2",
          "icao": "EZY",
          "name": "easyJet"
         },
         "arrival": {
          "baggageBelt": "A3",
          "gate": "A31",
          "quality": [
           "Basic",
           "Live"
          ],
          "revisedTime": {
           "local": "2023-10-05 14:46+02:00",
           "utc": "2023-10-05 12:46Z"
          },
          "scheduledTime": {
           "local": "2023-10-05 14:25+02:00",
           "utc": "2023-10-05 12:25Z"
          },
          "terminal": "1"
         },
         "callSign": "EJU75HR",
         "codeshareStatus": "IsOperator",
         "departure": {
          "airport": {
           "iata": "AGP",
           "icao": "LEMG",
           "name": "Málaga"
          },
          "checkInDesk": "255-261",
          "gate": "D47",
          "quality": [
           "Basic",
           "Live"
          ],
          "revisedTime": {
           "local": "2023-10-05 11:27+02:00",
           "utc": "2023-10-05 09:27Z"
          },
          "runwayTime": {
           "local": "2023-10-05 11:35+02:00",
           "utc": "2023-10-05 09:35Z"
          },
          "scheduledTime": {
           "local": "2023-10-05 10:45+02:00",
           "utc": "2023-10-05 08:45Z"
          },
          "terminal": "PAX"
         },
         "isCargo": false,
         "number": "U2 5106",
         "status": "Delayed"
        },
        {
         "aircraft": {
          "modeS": "440057",
          "model": "Airbus A320",
          "reg": "OE-IVE"
         },
         "airline": {
          "iata": "U2",
          "icao": "EZY",
          "name": "easyJet"
         },
         "arrival": {
          "baggageBelt": "A4",
          "gate": "A37",
          "quality": [
           "Basic",
           "Live"
          ],
          "revisedTime": {
           "local": "2023-10-05 14:05+02:00",
           "utc": "2023-10-05 12:05Z"
          },
          "scheduledTime": {
           "local": "2023-10-05 14:15+02:00",
           "utc": "2023-10-05 12:15Z"
          },
          "terminal": "1"
         },
         "callSign": "EJU58KL",
         "codeshareStatus": "IsOperator",
         "departure": {
          "airport": {
           "iata": "NCE",
           "icao": "LFMN",
           "name": "Nice"
          },
          "quality": [
           "Basic",
           "Live"
          ],
          "revisedTime": {
           "local": "2023-10-05 12:20+02:00",
           "utc": "2023-10-05 10:20Z"
          },
          "runwayTime": {
           "local": "2023-10-05 12:20+02:00",
           "utc": "2023-10-05 10:20Z"
          },
          "scheduledTime": {
           "local": "2023-10-05 12:10+02:00",
           "utc": "2023-10-05 10:10Z"
          },
          "terminal": "2"
         },
         "isCargo": false,
         "number": "U2 5146",
         "status": "Arrived"
        },
        {
         "aircraft": {
          "modeS": "44009E",
          "model": "Airbus A319",
          "reg": "OE-LKO"
         },
         "airline": {
          "iata": "U2",
          "icao": "EZY",
          "name": "easyJet"
         },
         "arrival": {
          "baggageBelt": "A2",
          "gate": "A38",
          "quality": [
           "Basic",
           "Live"
          ],
          "revisedTime": {
           "local": "2023-10-05 14:53+02:00",
           "utc": "2023-10-05 12:53Z"
          },
          "scheduledTime": {
           "local": "2023-10-05 14:55+02:00",
           "utc": "2023-10-05 12:55Z"
          },
          "terminal": "1"
         },
         "callSign": "EZY16XM",
         "codeshareStatus": "IsOperator",
         "departure": {
          "airport": {
           "iata": "BCN",
           "icao": "LEBL",
           "name": "Barcelona"
          },
          "checkInDesk": "C29-C33",
          "gate": "R12",
          "quality": [
           "Basic",
           "Live"
          ],
          "revisedTime": {
           "local": "2023-10-05 12:13+02:00",
           "utc": "2023-10-05 10:13Z"
          },
          "runwayTime": {
           "local": "2023-10-05 12:32+02:00",
           "utc": "2023-10-05 10:32Z"
          },
          "scheduledTime": {
           "local": "2023-10-05 12:05+02:00",
           "utc": "2023-10-05 10:05Z"
          },
          "terminal": "2"
         },
         "isCargo": false,
         "number": "U2 7174",
         "status": "Expected"
        },
        {
         "aircraft": {
          "modeS": "4ACA0B",
          "model": "Boeing 737-800",
          "reg": "SE-RPK"
         },
         "airline": {
          "iata": "D8",
          "icao": "NSZ",
          "name": "Norwegian Air Sweden"
         },
         "arrival": {
          "baggageBelt": "C3",
          "gate": "Z30",
          "quality": [
           "Basic",
           "Live"
          ],
          "revisedTime": {
           "local": "2023-10-05 14:51+02:00",
           "utc": "2023-10-05 12:51Z"
          },
          "scheduledTime": {
           "local": "2023-10-05 15:15+02:00",
           "utc": "2023-10-05 13:15Z"
          },
          "terminal": "2"
         },
         "callSign": "NSZ4505",
         "codeshareStatus": "IsOperator",
         "departure": {
          "airport": {
           "iata": "ARN",
           "icao": "ESSA",
           "name": "Stockholm"
          },
          "checkInDesk": "18-0",
          "gate": "D16",
          "quality": [
           "Basic",
           "Live"
          ],
          "revisedTime": {
           "local": "2023-10-05 13:32+02:00",
           "utc": "2023-10-05 11:32Z"
          },
          "runwayTime": {
           "local": "2023-10-05 13:40+02:00",
           "utc": "2023-10-05 11:40Z"
          },
          "scheduledTime": {
           "local": "2023-10-05 13:40+02:00",
           "utc": "2023-10-05 11:40Z"
          },
          "terminal": "5"
         },
         "isCargo": false,
         "number": "D8 4505",
         "status": "Expected"
        },
        {
         "aircraft": {
          "modeS": "3C5EEE",
          "model": "Airbus A319",
          "reg": "D-AGWN"
         },
         "airline": {
          "iata": "EW",
          "icao": "EWG",
          "name": "Eurowings"
         },
         "arrival": {
          "baggageBelt": "A1",
          "gate": "A33",
          "quality": [
           "Basic",
           "Live"
          ],
          "revisedTime": {
           "local": "2023-10-05 15:30+02:00",
           "utc": "2023-10-05 13:30Z"
          },
          "scheduledTime": {
           "local": "2023-10-05 15:30+02:00",
           "utc": "2023-10-05 13:30Z"
          },
          "terminal": "1"
         },
         "codeshareStatus": "IsOperator",
         "departure": {
          "airport": {
           "iata": "STR",
           "icao": "EDDS",
           "name": "Stuttgart"
          },
          "gate": "322",
          "quality": [
           "Basic",
           "Live"
          ],
          "revisedTime": {
           "local": "2023-10-05 14:20+02:00",
           "utc": "2023-10-05 12:20Z"
          },
          "scheduledTime": {
           "local": "2023-10-05 14:20+02:00",
           "utc": "2023-10-05 12:20Z"
          },
          "terminal": "1"
         },
         "isCargo": false,
         "number": "EW 2018",
         "status": "Expected"
        },
        {
         "aircraft": {
          "modeS": "4D220B",
          "model": "Boeing 737-800",
          "reg": "9H-QCS"
         },
         "airline": {
          "iata": "FR",
          "icao": "RYR",
          "name": "Ryanair"
         },
         "arrival": {
          "baggageBelt": "C3",
          "gate": "Z38",
          "quality": [
           "Basic",
           "Live"
          ],
          "revisedTime": {
           "local": "2023-10-05 15:30+02:00",
           "utc": "2023-10-05 13:30Z"
          },
          "scheduledTime": {
           "local": "2023-10-05 15:45+02:00",
           "utc": "2023-10-05 13:45Z"
          },
          "terminal": "2"
         },
         "callSign": "RYR47HA",
         "codeshareStatus": "IsOperator",
         "departure": {
          "airport": {
           "iata": "MAN",
           "icao": "EGCC",
           "name": "Manchester"
          },
          "gate": "48",
          "quality": [
           "Basic",
           "Live"
          ],
          "revisedTime": {
           "local": "2023-10-05 13:09+01:00",
           "utc": "2023-10-05 12:09Z"
          },
          "runwayTime": {
           "local": "2023-10-05 13:10+01:00",
           "utc": "2023-10-05 12:10Z"
          },
          "scheduledTime": {
           "local": "2023-10-05 12:50+01:00",
           "utc": "2023-10-05 11:50Z"
          },
          "terminal": "3"
         },
         "isCargo": false,
         "number": "FR 1145",
         "status": "Expected"
        },
        {
         "aircraft": {
          "modeS": "4D2273",
          "model": "Boeing 737-800",
          "reg": "9H-QDQ"
         },
         "airline": {
          "iata": "FR",
          "icao": "RYR",
          "name": "Ryanair"
         },
         "arrival": {
          "baggageBelt": "B4",
          "gate": "N01",
          "quality": [
           "Basic",
           "Live"
          ],
          "revisedTime": {
           "local": "2023-10-05 15:55+02:00",
           "utc": "2023-10-05 13:55Z"
          },
          "scheduledTime": {
           "local": "2023-10-05 15:55+02:00",
           "utc": "2023-10-05 13:55Z"
          },
          "terminal": "1"
         },
         "codeshareStatus": "IsOperator",
         "departure": {
          "airport": {
           "iata": "TGD",
           "icao": "LYPG",
           "name": "Podgorica"
          },
          "checkInDesk": "C1B",
          "gate": "G3,G4",
          "quality": [
           "Basic",
           "Live"
          ],
          "revisedTime": {
           "local": "2023-10-05 14:05+02:00",
           "utc": "2023-10-05 12:05Z"
          },
          "scheduledTime": {
           "local": "2023-10-05 13:55+02:00",
           "utc": "2023-10-05 11:55Z"
          }
         },
         "isCargo": false,
         "number": "FR 1579",
         "status": "Expected"
        },
        {
         "aircraft": {
          "modeS": "4D2384",
          "model": "Boeing 737-800",
          "reg": "9H-VUW"
         },
         "airline": {
          "iata": "FR",
          "icao": "RYR",
          "name": "Ryanair"
         },
         "arrival": {
          "baggageBelt": "C1",
          "gate": "Z34",
          "quality": [
           "Basic",
           "Live"
          ],
          "revisedTime": {
           "local": "2023-10-05 15:17+02:00",
           "utc": "2023-10-05 13:17Z"
          },
          "scheduledTime": {
           "local": "2023-10-05 15:10+02:00",
           "utc": "2023-10-05 13:10Z"
          },
          "terminal": "2"
         },
         "codeshareStatus": "IsOperator",
         "departure": {
          "airport": {
           "iata": "HER",
           "icao": "LGIR",
           "name": "Heraklion"
          },
          "quality": [
           "Basic"
          ],
          "scheduledTime": {
           "local": "2023-10-05 12:55+03:00",
           "utc": "2023-10-05 09:55Z"
          }
         },
         "isCargo": false,
         "number": "FR 31",
         "status": "Expected"
        },
        {
         "aircraft": {
          "modeS": "3C6498",
          "model": "Airbus A321",
          "reg": "D-AIDX"
         },
         "airline": {
          "iata": "LH",
          "icao": "DLH",
          "name": "Lufthansa"
         },
         "arrival": {
          "baggageBelt": "B3",
          "gate": "B17",
          "quality": [
           "Basic",
           "Live"
          ],
          "revisedTime": {
           "local": "2023-10-05 15:55+02:00",
           "utc": "2023-10-05 13:55Z"
          },
          "scheduledTime": {
           "local": "2023-10-05 15:55+02:00",
           "utc": "2023-10-05 13:55Z"
          },
          "terminal": "1"
         },
         "codeshareStatus": "IsOperator",
         "departure": {
          "airport": {
           "iata": "FRA",
           "icao": "EDDF",
           "name": "Frankfurt-am-Main"
          },
          "checkInDesk": "259-488",
          "gate": "A18",
          "quality": [
           "Basic",
           "Live"
          ],
          "revisedTime": {
           "local": "2023-10-05 14:45+02:00",
           "utc": "2023-10-05 12:45Z"
          },
          "scheduledTime": {
           "local": "2023-10-05 14:45+02:00",
           "utc": "2023-10-05 12:45Z"
          },
          "terminal": "1"
         },
         "isCargo": false,
         "number": "LH 188",
         "status": "Expected"
        },
        {
         "aircraft": {
          "modeS": "3C66A2",
          "model": "Airbus A320 (Sharklets)",
          "reg": "D-AIUB"
         },
         "airline": {
          "iata": "LH",
          "icao": "DLH",
          "name": "Lufthansa"
         },
         "arrival": {
          "baggageBelt": "B3",
          "gate": "B10",
          "quality": [
           "Basic",
           "Live"
          ],
          "revisedTime": {
           "local": "2023-10-05 15:03+02:00",
           "utc": "2023-10-05 13:03Z"
          },
          "scheduledTime": {
           "local": "2023-10-05 15:05+02:00",
           "utc": "2023-10-05 13:05Z"
          },
          "terminal": "1"
         },
         "codeshareStatus": "IsOperator",
         "departure": {
          "airport": {
           "iata": "MUC",
           "icao": "EDDM",
           "name": "Munich"
          },
          "quality": [
           "Basic",
           "Live"
          ],
          "revisedTime": {
           "local": "2023-10-05 14:00+02:00",
           "utc": "2023-10-05 12:00Z"
          },
          "scheduledTime": {
           "local": "2023-10-05 14:00+02:00",
           "utc": "2023-10-05 12:00Z"
          },
          "terminal": "2"
         },
         "isCargo": false,
         "number": "LH 1942",
         "status": "Expected"
        },
        {
         "aircraft": {
          "modeS": "3C56EC",
          "model": "Airbus A320",
          "reg": "D-AEWL"
         },
         "airline": {
          "iata": "EW",
          "icao": "EWG",
          "name": "Eurowings"
         },
         "arrival": {
          "baggageBelt": "A1",
          "gate": "A35",
          "quality": [
           "Basic",
           "Live"
          ],
          "revisedTime": {
           "local": "2023-10-05 15:03+02:00",
           "utc": "2023-10-05 13:03Z"
          },
          "scheduledTime": {
           "local": "2023-10-05 15:00+02:00",
           "utc": "2023-10-05 13:00Z"
          },
          "terminal": "1"
         },
         "codeshareStatus": "IsOperator",
         "departure": {
          "airport": {
           "iata": "CGN",
           "icao": "EDDK",
           "name": "Cologne"
          },
          "quality": [
           "Basic"
          ],
          "scheduledTime": {
           "local": "2023-10-05 13:50+02:00",
           "utc": "2023-10-05 11:50Z"
          },
          "terminal": "1"
         },
         "isCargo": false,
         "number": "EW 50",
         "status": "Expected"
        },
        {
         "aircraft": {
          "modeS": "4B8E41",
          "model": "Boeing 737-800",
          "reg": "TC-CRA"
         },
         "airline": {
          "iata": "PC",
          "icao": "PGT",
          "name": "Pegasus"
         },
         "arrival": {
          "baggageBelt": "A1",
          "gate": "X06",
          "quality": [
           "Basic",
           "Live"
          ],
          "revisedTime": {
           "local": "2023-10-05 15:54+02:00",
           "utc": "2023-10-05 13:54Z"
          },
          "scheduledTime": {
           "local": "2023-10-05 15:25+02:00",
           "utc": "2023-10-05 13:25Z"
          },
          "terminal": "1"
         },
         "callSign": "PGT977",
         "codeshareStatus": "IsOperator",
         "departure": {
          "airport": {
           "iata": "SAW",
           "icao": "LTFJ",
           "name": "Istanbul"
          },
          "quality": [
           "Basic"
          ],
          "scheduledTime": {
           "local": "2023-10-05 13:30+03:00",
           "utc": "2023-10-05 10:30Z"
          }
         },
         "isCargo": false,
         "number": "PC 977",
         "status": "Delayed"
        },
        {
         "aircraft": {
          "modeS": "49D26C",
          "model": "Boeing 737-800",
          "reg": "OK-TVR"
         },
         "airline": {
          "iata": "QS",
          "icao": "TVS",
          "name": "SmartWings"
         },
         "arrival": {
          "baggageBelt": "B2",
          "gate": "A32",
          "quality": [
           "Basic",
           "Live"
          ],
          "revisedTime": {
           "local": "2023-10-05 14:48+02:00",
           "utc": "2023-10-05 12:48Z"
          },
          "scheduledTime": {
           "local": "2023-10-05 15:00+02:00",
           "utc": "2023-10-05 13:00Z"
          },
          "terminal": "1"
         },
         "callSign": "TVS4424",
         "codeshareStatus": "IsOperator",
         "departure": {
          "airport": {
           "iata": "TFS",
           "icao": "GCTS",
           "name": "Tenerife Island"
          },
          "checkInDesk": "83-84",
          "gate": "B14",
          "quality": [
           "Basic",
           "Live"
          ],
          "revisedTime": {
           "local": "2023-10-05 09:04+01:00",
           "utc": "2023-10-05 08:04Z"
          },
          "scheduledTime": {
           "local": "2023-10-05 09:00+01:00",
           "utc": "2023-10-05 08:00Z"
          },
          "terminal": "B"
         },
         "isCargo": false,
         "number": "QS 4424",
         "status": "Expected"
        },
        {
         "aircraft": {
          "modeS": "4D24AD",
          "model": "Airbus A321 NEO",
          "reg": "9H-WDP"
         },
         "airline": {
          "iata": "W6",
          "icao": "WZZ",
          "name": "Wizz Air"
         },
         "arrival": {
          "baggageBelt": "C1",
          "gate": "Z32",
          "quality": [
           "Basic",
           "Live"
          ],
          "revisedTime": {
           "local": "2023-10-05 15:50+02:00",
           "utc": "2023-10-05 13:50Z"
          },
          "scheduledTime": {
           "local": "2023-10-05 15:50+02:00",
           "utc": "2023-10-05 13:50Z"
          },
          "terminal": "2"
         },
         "codeshareStatus": "IsOperator",
         "departure": {
          "airport": {
           "iata": "BUD",
           "icao": "LHBP",
           "name": "Budapest"
          },
          "quality": [
           "Basic",
           "Live"
          ],
          "revisedTime": {
           "local": "2023-10-05 14:20+02:00",
           "utc": "2023-10-05 12:20Z"
          },
          "scheduledTime": {
           "local": "2023-10-05 14:15+02:00",
           "utc": "2023-10-05 12:15Z"
          },
          "terminal": "2B"
         },
         "isCargo": false,
         "number": "W6 2315",
         "status": "Expected"
        },
        {
         "aircraft": {
          "modeS": "46B824",
          "model": "Airbus A321 NEO",
          "reg": "SX-NAD"
         },
         "airline": {
          "iata": "A3",
          "icao": "AEE",
          "name": "Aegean"
         },
         "arrival": {
          "baggageBelt": "B3",
          "gate": "A35",
          "quality": [
           "Basic",
           "Live"
          ],
          "revisedTime": {
           "local": "2023-10-05 16:17+02:00",
           "utc": "2023-10-05 14:17Z"
          },
          "scheduledTime": {
           "local": "2023-10-05 16:20+02:00",
           "utc": "2023-10-05 14:20Z"
          },
          "terminal": "1"
         },
         "callSign": "AEE8DT",
         "codeshareStatus": "IsOperator",
         "departure": {
          "airport": {
           "iata": "ATH",
           "icao": "LGAV",
           "name": "Athens"
          },
          "checkInDesk": "151--155",
          "gate": "B31",
          "quality": [
           "Basic",
           "Live"
          ],
          "revisedTime": {
           "local": "2023-10-05 14:25+03:00",
           "utc": "2023-10-05 11:25Z"
          },
          "runwayTime": {
           "local": "2023-10-05 14:41+03:00",
           "utc": "2023-10-05 11:41Z"
          },
          "scheduledTime": {
           "local": "2023-10-05 14:25+03:00",
           "utc": "2023-10-05 11:25Z"
          },
          "terminal": "D"
         },
         "isCargo": false,
         "number": "A3 822",
         "status": "Expected"
        },
        {
         "aircraft": {
          "model": "Embraer 190"
         },
         "airline": {
          "iata": "BA",
          "icao": "BAW",
          "name": "British Airways"
         },
         "arrival": {
          "baggageBelt": "B4",
          "gate": "X19",
          "quality": [
           "Basic",
           "Live"
          ],
          "revisedTime": {
           "local": "2023-10-05 16:05+02:00",
           "utc": "2023-10-05 14:05Z"
          },
          "scheduledTime": {
           "local": "2023-10-05 16:05+02:00",
           "utc": "2023-10-05 14:05Z"
          },
          "terminal": "1"
         },
         "codeshareStatus": "IsOperator",
         "departure": {
          "airport": {
           "iata": "LCY",
           "icao": "EGLC",
           "name": "London"
          },
          "gate": "5",
          "quality": [
           "Basic",
           "Live"
          ],
          "revisedTime": {
           "local": "2023-10-05 13:25+01:00",
           "utc": "2023-10-05 12:25Z"
          },
          "scheduledTime": {
           "local": "2023-10-05 13:25+01:00",
           "utc": "2023-10-05 12:25Z"
          }
         },
         "isCargo": false,
         "number": "BA 8493",
         "status": "Expected"
        },
        {
         "aircraft": {
          "modeS": "4D24B0",
          "model": "Airbus A321 NEO",
          "reg": "9H-WDE"
         },
         "airline": {
          "iata": "W4",
          "icao": "WMT",
          "name": "Aero Services Executive"
         },
         "arrival": {
          "baggageBelt": "C2",
          "gate": "Z40",
          "quality": [
           "Basic",
           "Live"
          ],
          "revisedTime": {
           "local": "2023-10-05 15:05+02:00",
           "utc": "2023-10-05 13:05Z"
          },
          "scheduledTime": {
           "local": "2023-10-05 15:10+02:00",
           "utc": "2023-10-05 13:10Z"
          },
          "terminal": "2"
         },
         "codeshareStatus": "IsOperator",
         "departure": {
          "airport": {
           "iata": "TIA",
           "icao": "LATI",
           "name": "Tirana"
          },
          "quality": [
           "Basic"
          ],
          "scheduledTime": {
           "local": "2023-10-05 12:45+02:00",
           "utc": "2023-10-05 10:45Z"
          }
         },
         "isCargo": false,
         "number": "W4 6611",
         "status": "Expected"
        },
        {
         "aircraft": {
          "model": "Airbus A321-100"
         },
         "airline": {
          "iata": "BA",
          "icao": "BAW",
          "name": "British Airways"
         },
         "arrival": {
          "baggageBelt": "B3",
          "gate": "Y03",
          "quality": [
           "Basic",
           "Live"
          ],
          "revisedTime": {
           "local": "2023-10-05 16:35+02:00",
           "utc": "2023-10-05 14:35Z"
          },
          "scheduledTime": {
           "local": "2023-10-05 16:35+02:00",
           "utc": "2023-10-05 14:35Z"
          },
          "terminal": "1"
         },
         "codeshareStatus": "IsOperator",
         "departure": {
          "airport": {
           "iata": "LHR",
           "icao": "EGLL",
           "name": "London"
          },
          "checkInDesk": "C",
          "quality": [
           "Basic",
           "Live"
          ],
          "revisedTime": {
           "local": "2023-10-05 13:40+01:00",
           "utc": "2023-10-05 12:40Z"
          },
          "scheduledTime": {
           "local": "2023-10-05 13:40+01:00",
           "utc": "2023-10-05 12:40Z"
          },
          "terminal": "5"
         },
         "isCargo": false,
         "number": "BA 984",
         "status": "Expected"
        },
        {
         "aircraft": {
          "model": "Boeing 737 MAX 8 "
         },
         "airline": {
          "iata": "D8",
          "icao": "NSZ",
          "name": "Norwegian Air Sweden"
         },
         "arrival": {
          "baggageBelt": "C3",
          "gate": "Z30",
          "quality": [
           "Basic",
           "Live"
          ],
          "revisedTime": {
           "local": "2023-10-05 16:45+02:00",
           "utc": "2023-10-05 14:45Z"
          },
          "scheduledTime": {
           "local": "2023-10-05 16:45+02:00",
           "utc": "2023-10-05 14:45Z"
          },
          "terminal": "2"
         },
         "codeshareStatus": "IsOperator",
         "departure": {
          "airport": {
           "iata": "CPH",
           "icao": "EKCH",
           "name": "Copenhagen"
          },
          "gate": "A21",
          "quality": [
           "Basic",
           "Live"
          ],
          "revisedTime": {
           "local": "2023-10-05 15:45+02:00",
           "utc": "2023-10-05 13:45Z"
          },
          "scheduledTime": {
           "local": "2023-10-05 15:45+02:00",
           "utc": "2023-10-05 13:45Z"
          },
          "terminal": "erminal2"
         },
         "isCargo": false,
         "number": "D8 3302",
         "status": "Expected"
        },
        {
         "aircraft": {
          "modeS": "3C4895",
          "model": "Airbus A320",
          "reg": "D-ABDU"
         },
         "airline": {
          "iata": "EW",
          "icao": "EWG",
          "name": "Eurowings"
         },
         "arrival": {
          "baggageBelt": "A4",
          "gate": "A03",
          "quality": [
           "Basic",
           "Live"
          ],
          "revisedTime": {
           "local": "2023-10-05 16:25+02:00",
           "utc": "2023-10-05 14:25Z"
          },
          "scheduledTime": {
           "local": "2023-10-05 16:25+02:00",
           "utc": "2023-10-05 14:25Z"
          },
          "terminal": "1"
         },
         "callSign": "EWG3G",
         "codeshareStatus": "IsOperator",
         "departure": {
          "airport": {
           "iata": "PMI",
           "icao": "LEPA",
           "name": "Palma De Mallorca"
          },
          "checkInDesk": "154-169",
          "gate": "C48",
          "quality": [
           "Basic",
           "Live"
          ],
          "revisedTime": {
           "local": "2023-10-05 13:53+02:00",
           "utc": "2023-10-05 11:53Z"
          },
          "runwayTime": {
           "local": "2023-10-05 14:04+02:00",
           "utc": "2023-10-05 12:04Z"
          },
          "scheduledTime": {
           "local": "2023-10-05 13:40+02:00",
           "utc": "2023-10-05 11:40Z"
          },
          "terminal": "N"
         },
         "isCargo": false,
         "number": "EW 8591",
         "status": "Expected"
        },
        {
         "aircraft": {
          "modeS": "3C5EE6",
          "model": "Airbus A319",
          "reg": "D-AGWF"
         },
         "airline": {
          "iata": "EW",
          "icao": "EWG",
          "name": "Eurowings"
         },
         "arrival": {
          "baggageBelt": "A1",
          "gate": "A36",
          "quality": [
           "Basic",
           "Live"
          ],
          "revisedTime": {
           "local": "2023-10-05 16:15+02:00",
           "utc": "2023-10-05 14:15Z"
          },
          "scheduledTime": {
           "local": "2023-10-05 16:00+02:00",
           "utc": "2023-10-05 14:00Z"
          },
          "terminal": "1"
         },
         "callSign": "EWG4ZU",
         "codeshareStatus": "IsOperator",
         "departure": {
          "airport": {
           "iata": "DUS",
           "icao": "EDDL",
           "name": "Duesseldorf"
          },
          "checkInDesk": "153,170",
          "gate": "A49",
          "quality": [
           "Basic",
           "Live"
          ],
          "revisedTime": {
           "local": "2023-10-05 15:05+02:00",
           "utc": "2023-10-05 13:05Z"
          },
          "scheduledTime": {
           "local": "2023-10-05 14:50+02:00",
           "utc": "2023-10-05 12:50Z"
          },
          "terminal": "B"
         },
         "isCargo": false,
         "number": "EW 9042",
         "status": "Delayed"
        },
        {
         "aircraft": {
          "modeS": "4CA9C2",
          "model": "Boeing 737",
          "reg": "EI-EVB"
         },
         "airline": {
          "iata": "FR",
          "icao": "RYR",
          "name": "Ryanair"
         },
         "arrival": {
          "baggageBelt": "C1",
          "gate": "Z36",
          "quality": [
           "Basic",
           "Live"
          ],
          "revisedTime": {
           "local": "2023-10-05 16:50+02:00",
           "utc": "2023-10-05 14:50Z"
          },
          "scheduledTime": {
           "local": "2023-10-05 16:50+02:00",
           "utc": "2023-10-05 14:50Z"
          },
          "terminal": "2"
         },
         "codeshareStatus": "IsOperator",
         "departure": {
          "airport": {
           "iata": "BCN",
           "icao": "LEBL",
           "name": "Barcelona"
          },
          "checkInDesk": "B65-B71",
          "gate": "R13",
          "quality": [
           "Basic",
           "Live"
          ],
          "revisedTime": {
           "local": "2023-10-05 14:05+02:00",
           "utc": "2023-10-05 12:05Z"
          },
          "scheduledTime": {
           "local": "2023-10-05 14:05+02:00",
           "utc": "2023-10-05 12:05Z"
          },
          "terminal": "2"
         },
         "isCargo": false,
         "number": "FR 133",
         "status": "Expected"
        },
        {
         "aircraft": {
          "modeS": "4CA808",
          "model": "Boeing 737-800",
          "reg": "EI-EKI"
         },
         "airline": {
          "iata": "FR",
          "icao": "RYR",
          "name": "Ryanair"
         },
         "arrival": {
          "baggageBelt": "C3",
          "gate": "Z36",
          "quality": [
           "Basic",
           "Live"
          ],
          "revisedTime": {
           "local": "2023-10-05 16:27+02:00",
           "utc": "2023-10-05 14:27Z"
          },
          "scheduledTime": {
           "local": "2023-10-05 16:00+02:00",
           "utc": "2023-10-05 14:00Z"
          },
          "terminal": "2"
         },
         "callSign": "RYR7EK",
         "codeshareStatus": "IsOperator",
         "departure": {
          "airport": {
           "iata": "PMI",
           "icao": "LEPA",
           "name": "Palma De Mallorca"
          },
          "checkInDesk": "002-017",
          "gate": "C62",
          "quality": [
           "Basic",
           "Live"
          ],
          "revisedTime": {
           "local": "2023-10-05 13:40+02:00",
           "utc": "2023-10-05 11:40Z"
          },
          "runwayTime": {
           "local": "2023-10-05 13:57+02:00",
           "utc": "2023-10-05 11:57Z"
          },
          "scheduledTime": {
           "local": "2023-10-05 13:15+02:00",
           "utc": "2023-10-05 11:15Z"
          },
          "terminal": "N"
         },
         "isCargo": false,
         "number": "FR 263",
         "status": "Delayed"
        },
        {
         "aircraft": {
          "model": "Embraer 190"
         },
         "airline": {
          "iata": "KL",
          "icao": "KLM",
          "name": "KLM"
         },
         "arrival": {
          "quality": [
           "Basic"
          ],
          "scheduledTime": {
           "local": "2023-10-05 16:40+02:00",
           "utc": "2023-10-05 14:40Z"
          },
          "terminal": "1"
         },
         "codeshareStatus": "Unknown",
         "departure": {
          "airport": {
           "name": "Amsterdam"
          },
          "quality": []
         },
         "isCargo": false,
         "number": "KL 1779",
         "status": "Unknown"
        },
        {
         "aircraft": {
          "modeS": "48415E",
          "model": "Boeing 737-700 (winglets)",
          "reg": "PH-BXE"
         },
         "airline": {
          "iata": "KL",
          "icao": "KLM",
          "name": "KLM"
         },
         "arrival": {
          "baggageBelt": "A2",
          "gate": "A06",
          "quality": [
           "Basic",
           "Live"
          ],
          "revisedTime": {
           "local": "2023-10-05 16:40+02:00",
           "utc": "2023-10-05 14:40Z"
          },
          "scheduledTime": {
           "local": "2023-10-05 16:40+02:00",
           "utc": "2023-10-05 14:40Z"
          },
          "terminal": "1"
         },
         "codeshareStatus": "IsOperator",
         "departure": {
          "airport": {
           "iata": "AMS",
           "icao": "EHAM",
           "name": "Amsterdam"
          },
          "checkInDesk": "6-8",
          "gate": "D78",
          "quality": [
           "Basic",
           "Live"
          ],
          "revisedTime": {
           "local": "2023-10-05 15:20+02:00",
           "utc": "2023-10-05 13:20Z"
          },
          "scheduledTime": {
           "local": "2023-10-05 15:20+02:00",
           "utc": "2023-10-05 13:20Z"
          },
          "terminal": "1"
         },
         "isCargo": false,
         "number": "KL 1829",
         "status": "Expected"
        },
        {
         "aircraft": {
          "modeS": "3C66A3",
          "model": "Airbus A320 (Sharklets)",
          "reg": "D-AIUC"
         },
         "airline": {
          "iata": "LH",
          "icao": "DLH",
          "name": "Lufthansa"
         },
         "arrival": {
          "baggageBelt": "B3",
          "gate": "B20",
          "quality": [
           "Basic",
           "Live"
          ],
          "revisedTime": {
           "local": "2023-10-05 16:05+02:00",
           "utc": "2023-10-05 14:05Z"
          },
          "scheduledTime": {
           "local": "2023-10-05 16:05+02:00",
           "utc": "2023-10-05 14:05Z"
          },
          "terminal": "1"
         },
         "codeshareStatus": "IsOperator",
         "departure": {
          "airport": {
           "iata": "MUC",
           "icao": "EDDM",
           "name": "Munich"
          },
          "quality": [
           "Basic",
           "Live"
          ],
          "revisedTime": {
           "local": "2023-10-05 15:00+02:00",
           "utc": "2023-10-05 13:00Z"
          },
          "scheduledTime": {
           "local": "2023-10-05 15:00+02:00",
           "utc": "2023-10-05 13:00Z"
          },
          "terminal": "2"
         },
         "isCargo": false,
         "number": "LH 1944",
         "status": "Expected"
        },
        {
         "aircraft": {
          "modeS": "407F0D",
          "model": "Boeing 737-800",
          "reg": "G-RUKK"
         },
         "airline": {
          "iata": "RK",
          "icao": "RUK",
          "name": "Ryanair UK"
         },
         "arrival": {
          "baggageBelt": "C1",
          "gate": "Z40",
          "quality": [
           "Basic",
           "Live"
          ],
          "revisedTime": {
           "local": "2023-10-05 16:20+02:00",
           "utc": "2023-10-05 14:20Z"
          },
          "scheduledTime": {
           "local": "2023-10-05 16:20+02:00",
           "utc": "2023-10-05 14:20Z"
          },
          "terminal": "2"
         },
         "codeshareStatus": "IsOperator",
         "departure": {
          "airport": {
           "iata": "STN",
           "icao": "EGSS",
           "name": "London"
          },
          "gate": "57",
          "quality": [
           "Basic",
           "Live"
          ],
          "revisedTime": {
           "local": "2023-10-05 13:40+01:00",
           "utc": "2023-10-05 12:40Z"
          },
          "scheduledTime": {
           "local": "2023-10-05 13:40+01:00",
           "utc": "2023-10-05 12:40Z"
          },
          "terminal": "1"
         },
         "isCargo": false,
         "number": "RK 2788",
         "status": "Expected"
        },
        {
         "aircraft": {
          "modeS": "49528F",
          "model": "Airbus A319",
          "reg": "CS-TTO"
         },
         "airline": {
          "iata": "TP",
          "icao": "TAP",
          "name": "TAP Air Portugal"
         },
         "arrival": {
          "baggageBelt": "A3",
          "gate": "A36",
          "quality": [
           "Basic",
           "Live"
          ],
          "revisedTime": {
           "local": "2023-10-05 16:30+02:00",
           "utc": "2023-10-05 14:30Z"
          },
          "scheduledTime": {
           "local": "2023-10-05 16:30+02:00",
           "utc": "2023-10-05 14:30Z"
          },
          "terminal": "1"
         },
         "callSign": "TAP530",
         "codeshareStatus": "IsOperator",
         "departure": {
          "airport": {
           "iata": "LIS",
           "icao": "LPPT",
           "name": "Lisbon"
          },
          "quality": [
           "Basic",
           "Live"
          ],
          "revisedTime": {
           "local": "2023-10-05 12:36+01:00",
           "utc": "2023-10-05 11:36Z"
          },
          "runwayTime": {
           "local": "2023-10-05 12:37+01:00",
           "utc": "2023-10-05 11:37Z"
          },
          "scheduledTime": {
           "local": "2023-10-05 12:05+01:00",
           "utc": "2023-10-05 11:05Z"
          },
          "terminal": "1"
         },
         "isCargo": false,
         "number": "TP 530",
         "status": "Expected"
        },
        {
         "aircraft": {
          "modeS": "440DAF",
          "model": "Airbus A320",
          "reg": "OE-IDU"
         },
         "airline": {
          "iata": "U2",
          "icao": "EZY",
          "name": "easyJet"
         },
         "arrival": {
          "baggageBelt": "A3",
          "gate": "A37",
          "quality": [
           "Basic",
           "Live"
          ],
          "revisedTime": {
           "local": "2023-10-05 16:12+02:00",
           "utc": "2023-10-05 14:12Z"
          },
          "scheduledTime": {
           "local": "2023-10-05 16:00+02:00",
           "utc": "2023-10-05 14:00Z"
          },
          "terminal": "1"
         },
         "codeshareStatus": "IsOperator",
         "departure": {
          "airport": {
           "iata": "SKG",
           "icao": "LGTS",
           "name": "Thessaloniki"
          },
          "quality": [
           "Basic"
          ],
          "scheduledTime": {
           "local": "2023-10-05 14:30+03:00",
           "utc": "2023-10-05 11:30Z"
          }
         },
         "isCargo": false,
         "number": "U2 5030",
         "status": "Expected"
        },
        {
         "aircraft": {
          "modeS": "440B1E",
          "model": "Airbus A320",
          "reg": "OE-IWW"
         },
         "airline": {
          "iata": "U2",
          "icao": "EZY",
          "name": "easyJet"
         },
         "arrival": {
          "baggageBelt": "A3",
          "gate": "A32",
          "quality": [
           "Basic",
           "Live"
          ],
          "revisedTime": {
           "local": "2023-10-05 16:17+02:00",
           "utc": "2023-10-05 14:17Z"
          },
          "scheduledTime": {
           "local": "2023-10-05 16:15+02:00",
           "utc": "2023-10-05 14:15Z"
          },
          "terminal": "1"
         },
         "codeshareStatus": "IsOperator",
         "departure": {
          "airport": {
           "iata": "SPU",
           "icao": "LDSP",
           "name": "Split"
          },
          "quality": [
           "Basic"
          ],
          "scheduledTime": {
           "local": "2023-10-05 14:35+02:00",
           "utc": "2023-10-05 12:35Z"
          }
         },
         "isCargo": false,
         "number": "U2 5216",
         "status": "Expected"
        },
        {
         "aircraft": {
          "modeS": "440DB0",
          "model": "Airbus A320",
          "reg": "OE-IDX"
         },
         "airline": {
          "iata": "U2",
          "icao": "EZY",
          "name": "easyJet"
         },
         "arrival": {
          "baggageBelt": "A3",
          "gate": "A33",
          "quality": [
           "Basic",
           "Live"
          ],
          "revisedTime": {
           "local": "2023-10-05 16:20+02:00",
           "utc": "2023-10-05 14:20Z"
          },
          "scheduledTime": {
           "local": "2023-10-05 16:25+02:00",
           "utc": "2023-10-05 14:25Z"
          },
          "terminal": "1"
         },
         "codeshareStatus": "IsOperator",
         "departure": {
          "airport": {
           "iata": "CPH",
           "icao": "EKCH",
           "name": "Copenhagen"
          },
          "gate": "F8",
          "quality": [
           "Basic",
           "Live"
          ],
          "revisedTime": {
           "local": "2023-10-05 15:20+02:00",
           "utc": "2023-10-05 13:20Z"
          },
          "scheduledTime": {
           "local": "2023-10-05 15:20+02:00",
           "utc": "2023-10-05 13:20Z"
          },
          "terminal": "erminal2"
         },
         "isCargo": false,
         "number": "U2 5266",
         "status": "Expected"
        },
        {
         "aircraft": {
          "modeS": "4400B7",
          "model": "Airbus A320",
          "reg": "OE-IZL"
         },
         "airline": {
          "iata": "U2",
          "icao": "EZY",
          "name": "easyJet"
         },
         "arrival": {
          "baggageBelt": "A3",
          "gate": "X17",
          "quality": [
           "Basic",
           "Live"
          ],
          "revisedTime": {
           "local": "2023-10-05 16:05+02:00",
           "utc": "2023-10-05 14:05Z"
          },
          "scheduledTime": {
           "local": "2023-10-05 16:15+02:00",
           "utc": "2023-10-05 14:15Z"
          },
          "terminal": "1"
         },
         "codeshareStatus": "IsOperator",
         "departure": {
          "airport": {
           "iata": "LCA",
           "icao": "LCLK",
           "name": "Larnarca"
          },
          "quality": [
           "Basic"
          ],
          "scheduledTime": {
           "local": "2023-10-05 13:10+03:00",
           "utc": "2023-10-05 10:10Z"
          }
         },
         "isCargo": false,
         "number": "U2 5368",
         "status": "Expected"
        },
        {
         "aircraft": {
          "modeS": "471F55",
          "model": "Airbus A320",
          "reg": "HA-LWN"
         },
         "airline": {
          "name": "Wizz Air"
         },
         "arrival": {
          "baggageBelt": "C2",
          "gate": "Z44",
          "quality": [
           "Basic",
           "Live"
          ],
          "revisedTime": {
           "local": "2023-10-05 15:54+02:00",
           "utc": "2023-10-05 13:54Z"
          },
          "scheduledTime": {
           "local": "2023-10-05 16:05+02:00",
           "utc": "2023-10-05 14:05Z"
          },
          "terminal": "2"
         },
         "codeshareStatus": "IsOperator",
         "departure": {
          "airport": {
           "iata": "SKP",
           "icao": "LWSK",
           "name": "Skopje"
          },
          "checkInDesk": "20",
          "gate": "202",
          "quality": [
           "Basic",
           "Live"
          ],
          "revisedTime": {
           "local": "2023-10-05 13:51+02:00",
           "utc": "2023-10-05 11:51Z"
          },
          "scheduledTime": {
           "local": "2023-10-05 13:45+02:00",
           "utc": "2023-10-05 11:45Z"
          }
         },
         "isCargo": false,
         "number": "W6 7739",
         "status": "Expected"
        },
        {
         "aircraft": {
          "model": "Boeing 737-700 (winglets)"
         },
         "airline": {
          "iata": "XQ",
          "icao": "SXS",
          "name": "Sun Express"
         },
         "arrival": {
          "baggageBelt": "A3",
          "gate": "X01",
          "quality": [
           "Basic",
           "Live"
          ],
          "revisedTime": {
           "local": "2023-10-05 16:35+02:00",
           "utc": "2023-10-05 14:35Z"
          },
          "scheduledTime": {
           "local": "2023-10-05 16:35+02:00",
           "utc": "2023-10-05 14:35Z"
          },
          "terminal": "1"
         },
         "codeshareStatus": "IsOperator",
         "departure": {
          "airport": {
           "iata": "AYT",
           "icao": "LTAI",
           "name": "Antalya"
          },
          "checkInDesk": "120-122",
          "quality": [
           "Basic",
           "Live"
          ],
          "revisedTime": {
           "local": "2023-10-05 14:00+03:00",
           "utc": "2023-10-05 11:00Z"
          },
          "scheduledTime": {
           "local": "2023-10-05 14:00+03:00",
           "utc": "2023-10-05 11:00Z"
          },
          "terminal": "1"
         },
         "isCargo": false,
         "number": "XQ 660",
         "status": "Expected"
        },
        {
         "aircraft": {
          "model": "Airbus A321-100"
         },
         "airline": {
          "iata": "AF",
          "icao": "AFR",
          "name": "Air France"
         },
         "arrival": {
          "baggageBelt": "A2",
          "gate": "A07",
          "quality": [
           "Basic",
           "Live"
          ],
          "revisedTime": {
           "local": "2023-10-05 17:15+02:00",
           "utc": "2023-10-05 15:15Z"
          },
          "scheduledTime": {
           "local": "2023-10-05 17:15+02:00",
           "utc": "2023-10-05 15:15Z"
          },
          "terminal": "1"
         },
         "codeshareStatus": "IsOperator",
         "departure": {
          "airport": {
           "iata": "CDG",
           "icao": "LFPG",
           "name": "Paris"
          },
          "quality": [
           "Basic"
          ],
          "scheduledTime": {
           "local": "2023-10-05 15:35+02:00",
           "utc": "2023-10-05 13:35Z"
          },
          "terminal": "2F"
         },
         "isCargo": false,
         "number": "AF 1834",
         "status": "Expected"
        },
        {
         "aircraft": {
          "model": "Airbus A321-200 (sharklets)"
         },
         "airline": {
          "iata": "AY",
          "icao": "FIN",
          "name": "Finnair"
         },
         "arrival": {
          "baggageBelt": "A3",
          "gate": "A34",
          "quality": [
           "Basic",
           "Live"
          ],
          "revisedTime": {
           "local": "2023-10-05 17:20+02:00",
           "utc": "2023-10-05 15:20Z"
          },
          "scheduledTime": {
           "local": "2023-10-05 17:20+02:00",
           "utc": "2023-10-05 15:20Z"
          },
          "terminal": "1"
         },
         "codeshareStatus": "IsOperator",
         "departure": {
          "airport": {
           "iata": "HEL",
           "icao": "EFHK",
           "name": "Helsinki"
          },
          "checkInDesk": "211",
          "gate": "21",
          "quality": [
           "Basic",
           "Live"
          ],
          "revisedTime": {
           "local": "2023-10-05 16:15+03:00",
           "utc": "2023-10-05 13:15Z"
          },
          "scheduledTime": {
           "local": "2023-10-05 16:15+03:00",
           "utc": "2023-10-05 13:15Z"
          },
          "terminal": "2"
         },
         "isCargo": false,
         "number": "AY 1437",
         "status": "Expected"
        },
        {
         "aircraft": {
          "modeS": "3C48EB",
          "model": "Airbus A319",
          "reg": "D-ABGK"
         },
         "airline": {
          "iata": "EW",
          "icao": "EWG",
          "name": "Eurowings"
         },
         "arrival": {
          "baggageBelt": "B3",
          "gate": "B06",
          "quality": [
           "Basic",
           "Live"
          ],
          "revisedTime": {
           "local": "2023-10-05 17:00+02:00",
           "utc": "2023-10-05 15:00Z"
          },
          "scheduledTime": {
           "local": "2023-10-05 17:00+02:00",
           "utc": "2023-10-05 15:00Z"
          },
          "terminal": "1"
         },
         "codeshareStatus": "IsOperator",
         "departure": {
          "airport": {
           "iata": "STR",
           "icao": "EDDS",
           "name": "Stuttgart"
          },
          "quality": [
           "Basic",
           "Live"
          ],
          "revisedTime": {
           "local": "2023-10-05 16:30+02:00",
           "utc": "2023-10-05 14:30Z"
          },
          "scheduledTime": {
           "local": "2023-10-05 15:50+02:00",
           "utc": "2023-10-05 13:50Z"
          },
          "terminal": "1"
         },
         "isCargo": false,
         "number": "EW 2008",
         "status": "Expected"
        },
        {
         "aircraft": {
          "modeS": "3C4906",
          "model": "Airbus A320",
          "reg": "D-ABHF"
         },
         "airline": {
          "iata": "EW",
          "icao": "EWG",
          "name": "Eurowings"
         },
         "arrival": {
          "baggageBelt": "A1",
          "gate": "A33",
          "quality": [
           "Basic",
           "Live"
          ],
          "revisedTime": {
           "local": "2023-10-05 17:50+02:00",
           "utc": "2023-10-05 15:50Z"
          },
          "scheduledTime": {
           "local": "2023-10-05 17:50+02:00",
           "utc": "2023-10-05 15:50Z"
          },
          "terminal": "1"
         },
         "codeshareStatus": "IsOperator",
         "departure": {
          "airport": {
           "iata": "CGN",
           "icao": "EDDK",
           "name": "Cologne"
          },
          "quality": [
           "Basic"
          ],
          "scheduledTime": {
           "local": "2023-10-05 16:40+02:00",
           "utc": "2023-10-05 14:40Z"
          },
          "terminal": "1"
         },
         "isCargo": false,
         "number": "EW 8071",
         "status": "Expected"
        },
        {
         "aircraft": {
          "modeS": "4D247D",
          "model": "Airbus A320",
          "reg": "9H-SWB"
         },
         "airline": {
          "iata": "EW",
          "icao": "EWG",
          "name": "Eurowings"
         },
         "arrival": {
          "baggageBelt": "A1",
          "gate": "A36",
          "quality": [
           "Basic",
           "Live"
          ],
          "revisedTime": {
           "local": "2023-10-05 17:35+02:00",
           "utc": "2023-10-05 15:35Z"
          },
          "scheduledTime": {
           "local": "2023-10-05 17:35+02:00",
           "utc": "2023-10-05 15:35Z"
          },
          "terminal": "1"
         },
         "callSign": "EWG4FU",
         "codeshareStatus": "IsOperator",
         "departure": {
          "airport": {
           "iata": "GOT",
           "icao": "ESGG",
           "name": "Goteborg"
          },
          "checkInDesk": "45-46",
          "gate": "15",
          "quality": [
           "Basic",
           "Live"
          ],
          "revisedTime": {
           "local": "2023-10-05 16:20+02:00",
           "utc": "2023-10-05 14:20Z"
          },
          "scheduledTime": {
           "local": "2023-10-05 16:20+02:00",
           "utc": "2023-10-05 14:20Z"
          },
          "terminal": "1"
         },
         "isCargo": false,
         "number": "EW 8221",
         "status": "Expected"
        },
        {
         "aircraft": {
          "modeS": "3C6497",
          "model": "Airbus A321",
          "reg": "D-AIDW"
         },
         "airline": {
          "iata": "LH",
          "icao": "DLH",
          "name": "Lufthansa"
         },
         "arrival": {
          "baggageBelt": "B3",
          "gate": "S01",
          "quality": [
           "Basic",
           "Live"
          ],
          "revisedTime": {
           "local": "2023-10-05 17:55+02:00",
           "utc": "2023-10-05 15:55Z"
          },
          "scheduledTime": {
           "local": "2023-10-05 17:55+02:00",
           "utc": "2023-10-05 15:55Z"
          },
          "terminal": "1"
         },
         "codeshareStatus": "IsOperator",
         "departure": {
          "airport": {
           "iata": "FRA",
           "icao": "EDDF",
           "name": "Frankfurt-am-Main"
          },
          "checkInDesk": "259-488",
          "gate": "A22",
          "quality": [
           "Basic",
           "Live"
          ],
          "revisedTime": {
           "local": "2023-10-05 16:45+02:00",
           "utc": "2023-10-05 14:45Z"
          },
          "scheduledTime": {
           "local": "2023-10-05 16:45+02:00",
           "utc": "2023-10-05 14:45Z"
          },
          "terminal": "1"
         },
         "isCargo": false,
         "number": "LH 192",
         "status": "Expected"
        },
        {
         "aircraft": {
          "model": "Airbus A319",
          "reg": "D-AIBM"
         },
         "airline": {
          "iata": "LH",
          "icao": "DLH",
          "name": "Lufthansa"
         },
         "arrival": {
          "baggageBelt": "B2",
          "gate": "B17",
          "quality": [
           "Basic",
           "Live"
          ],
          "revisedTime": {
           "local": "2023-10-05 17:20+02:00",
           "utc": "2023-10-05 15:20Z"
          },
          "scheduledTime": {
           "local": "2023-10-05 17:20+02:00",
           "utc": "2023-10-05 15:20Z"
          },
          "terminal": "1"
         },
         "codeshareStatus": "IsOperator",
         "departure": {
          "airport": {
           "iata": "MUC",
           "icao": "EDDM",
           "name": "Munich"
          },
          "quality": [
           "Basic",
           "Live"
          ],
          "revisedTime": {
           "local": "2023-10-05 16:15+02:00",
           "utc": "2023-10-05 14:15Z"
          },
          "scheduledTime": {
           "local": "2023-10-05 16:15+02:00",
           "utc": "2023-10-05 14:15Z"
          },
          "terminal": "2"
         },
         "isCargo": false,
         "number": "LH 1946",
         "status": "Expected"
        },
        {
         "aircraft": {
          "modeS": "4B028F",
          "model": "Embraer 190",
          "reg": "HB-AZF"
         },
         "airline": {
          "iata": "LX",
          "icao": "SWR",
          "name": "SWISS"
         },
         "arrival": {
          "baggageBelt": "B1",
          "gate": "B10",
          "quality": [
           "Basic",
           "Live"
          ],
          "revisedTime": {
           "local": "2023-10-05 17:55+02:00",
           "utc": "2023-10-05 15:55Z"
          },
          "scheduledTime": {
           "local": "2023-10-05 17:55+02:00",
           "utc": "2023-10-05 15:55Z"
          },
          "terminal": "1"
         },
         "codeshareStatus": "IsOperator",
         "departure": {
          "airport": {
           "iata": "ZRH",
           "icao": "LSZH",
           "name": "Zurich"
          },
          "checkInDesk": "1",
          "quality": [
           "Basic",
           "Live"
          ],
          "revisedTime": {
           "local": "2023-10-05 16:30+02:00",
           "utc": "2023-10-05 14:30Z"
          },
          "scheduledTime": {
           "local": "2023-10-05 16:30+02:00",
           "utc": "2023-10-05 14:30Z"
          }
         },
         "isCargo": false,
         "number": "LX 970",
         "status": "Expected"
        },
        {
         "aircraft": {
          "modeS": "440606",
          "model": "Airbus A320",
          "reg": "OE-LZC"
         },
         "airline": {
          "iata": "OS",
          "icao": "AUA",
          "name": "Austrian"
         },
         "arrival": {
          "baggageBelt": "B4",
          "gate": "B07",
          "quality": [
           "Basic",
           "Live"
          ],
          "revisedTime": {
           "local": "2023-10-05 17:05+02:00",
           "utc": "2023-10-05 15:05Z"
          },
          "scheduledTime": {
           "local": "2023-10-05 17:05+02:00",
           "utc": "2023-10-05 15:05Z"
          },
          "terminal": "1"
         },
         "codeshareStatus": "IsOperator",
         "departure": {
          "airport": {
           "iata": "VIE",
           "icao": "LOWW",
           "name": "Vienna"
          },
          "checkInDesk": "351-372",
          "quality": [
           "Basic",
           "Live"
          ],
          "revisedTime": {
           "local": "2023-10-05 15:50+02:00",
           "utc": "2023-10-05 13:50Z"
          },
          "scheduledTime": {
           "local": "2023-10-05 15:50+02:00",
           "utc": "2023-10-05 13:50Z"
          },
          "terminal": "3"
         },
         "isCargo": false,
         "number": "OS 231",
         "status": "Expected"
        },
        {
         "aircraft": {
          "modeS": "3C4891",
          "model": "Airbus A320",
          "reg": "D-ABDQ"
         },
         "airline": {
          "iata": "EW",
          "icao": "EWG",
          "name": "Eurowings"
         },
         "arrival": {
          "baggageBelt": "A3",
          "gate": "A37",
          "quality": [
           "Basic",
           "Live"
          ],
          "revisedTime": {
           "local": "2023-10-05 17:50+02:00",
           "utc": "2023-10-05 15:50Z"
          },
          "scheduledTime": {
           "local": "2023-10-05 17:50+02:00",
           "utc": "2023-10-05 15:50Z"
          },
          "terminal": "1"
         },
         "codeshareStatus": "IsOperator",
         "departure": {
          "airport": {
           "iata": "STR",
           "icao": "EDDS",
           "name": "Stuttgart"
          },
          "quality": [
           "Basic",
           "Live"
          ],
          "revisedTime": {
           "local": "2023-10-05 16:40+02:00",
           "utc": "2023-10-05 14:40Z"
          },
          "scheduledTime": {
           "local": "2023-10-05 16:40+02:00",
           "utc": "2023-10-05 14:40Z"
          },
          "terminal": "1"
         },
         "isCargo": false,
         "number": "EW 8005",
         "status": "Expected"
        },
        {
         "aircraft": {
          "modeS": "3C56EE",
          "model": "Airbus A320",
          "reg": "D-AEWN"
         },
         "airline": {
          "iata": "EW",
          "icao": "EWG",
          "name": "Eurowings"
         },
         "arrival": {
          "baggageBelt": "A3",
          "gate": "A32",
          "quality": [
           "Basic",
           "Live"
          ],
          "revisedTime": {
           "local": "2023-10-05 17:45+02:00",
           "utc": "2023-10-05 15:45Z"
          },
          "scheduledTime": {
           "local": "2023-10-05 17:45+02:00",
           "utc": "2023-10-05 15:45Z"
          },
          "terminal": "1"
         },
         "callSign": "EWG8043",
         "codeshareStatus": "IsOperator",
         "departure": {
          "airport": {
           "iata": "DUS",
           "icao": "EDDL",
           "name": "Duesseldorf"
          },
          "checkInDesk": "153,170",
          "gate": "B77",
          "quality": [
           "Basic",
           "Live"
          ],
          "revisedTime": {
           "local": "2023-10-05 16:35+02:00",
           "utc": "2023-10-05 14:35Z"
          },
          "scheduledTime": {
           "local": "2023-10-05 16:35+02:00",
           "utc": "2023-10-05 14:35Z"
          },
          "terminal": "B"
         },
         "isCargo": false,
         "number": "EW 8043",
         "status": "Expected"
        },
        {
         "aircraft": {
          "modeS": "4D234D",
          "model": "Boeing 737-800",
          "reg": "9H-VUN"
         },
         "airline": {
          "iata": "FR",
          "icao": "RYR",
          "name": "Ryanair"
         },
         "arrival": {
          "baggageBelt": "C3",
          "gate": "Z42",
          "quality": [
           "Basic",
           "Live"
          ],
          "revisedTime": {
           "local": "2023-10-05 17:40+02:00",
           "utc": "2023-10-05 15:40Z"
          },
          "scheduledTime": {
           "local": "2023-10-05 17:40+02:00",
           "utc": "2023-10-05 15:40Z"
          },
          "terminal": "2"
         },
         "codeshareStatus": "IsOperator",
         "departure": {
          "airport": {
           "iata": "OTP",
           "icao": "LROP",
           "name": "Bucharest"
          },
          "quality": [
           "Basic",
           "Live"
          ],
          "revisedTime": {
           "local": "2023-10-05 17:06+03:00",
           "utc": "2023-10-05 14:06Z"
          },
          "scheduledTime": {
           "local": "2023-10-05 16:25+03:00",
           "utc": "2023-10-05 13:25Z"
          }
         },
         "isCargo": false,
         "number": "FR 315",
         "status": "Expected"
        },
        {
         "aircraft": {
          "modeS": "44CE72",
          "model": "Airbus A319",
          "reg": "OO-SSR"
         },
         "airline": {
          "iata": "SN",
          "icao": "BEL",
          "name": "Brussels"
         },
         "arrival": {
          "baggageBelt": "B1",
          "gate": "S01",
          "quality": [
           "Basic",
           "Live"
          ],
          "revisedTime": {
           "local": "2023-10-05 17:55+02:00",
           "utc": "2023-10-05 15:55Z"
          },
          "scheduledTime": {
           "local": "2023-10-05 17:55+02:00",
           "utc": "2023-10-05 15:55Z"
          },
          "terminal": "1"
         },
         "codeshareStatus": "IsOperator",
         "departure": {
          "airport": {
           "iata": "BRU",
           "icao": "EBBR",
           "name": "Brussels"
          },
          "checkInDesk": "05",
          "quality": [
           "Basic",
           "Live"
          ],
          "revisedTime": {
           "local": "2023-10-05 16:30+02:00",
           "utc": "2023-10-05 14:30Z"
          },
          "scheduledTime": {
           "local": "2023-10-05 16:30+02:00",
           "utc": "2023-10-05 14:30Z"
          }
         },
         "isCargo": false,
         "number": "SN 2587",
         "status": "Expected"
        },
        {
         "aircraft": {
          "model": "Boeing 737 MAX 8 "
         },
         "airline": {
          "iata": "TK",
          "icao": "THY",
          "name": "Turkish Airlines"
         },
         "arrival": {
          "baggageBelt": "A3",
          "gate": "X01",
          "quality": [
           "Basic",
           "Live"
          ],
          "revisedTime": {
           "local": "2023-10-05 17:55+02:00",
           "utc": "2023-10-05 15:55Z"
          },
          "scheduledTime": {
           "local": "2023-10-05 17:55+02:00",
           "utc": "2023-10-05 15:55Z"
          },
          "terminal": "1"
         },
         "codeshareStatus": "IsOperator",
         "departure": {
          "airport": {
           "iata": "ESB",
           "icao": "LTAC",
           "name": "Ankara"
          },
          "checkInDesk": "B31",
          "gate": "404",
          "quality": [
           "Basic",
           "Live"
          ],
          "revisedTime": {
           "local": "2023-10-05 15:40+03:00",
           "utc": "2023-10-05 12:40Z"
          },
          "scheduledTime": {
           "local": "2023-10-05 15:40+03:00",
           "utc": "2023-10-05 12:40Z"
          }
         },
         "isCargo": false,
         "number": "TK 7732",
         "status": "Expected"
        },
        {
         "aircraft": {
          "model": "Boeing 737-800 (winglets)"
         },
         "airline": {
          "iata": "TO",
          "icao": "TVF",
          "name": "Transavia France"
         },
         "arrival": {
          "baggageBelt": "C1",
          "gate": "Z34",
          "quality": [
           "Basic",
           "Live"
          ],
          "revisedTime": {
           "local": "2023-10-05 17:45+02:00",
           "utc": "2023-10-05 15:45Z"
          },
          "scheduledTime": {
           "local": "2023-10-05 17:45+02:00",
           "utc": "2023-10-05 15:45Z"
          },
          "terminal": "2"
         },
         "codeshareStatus": "IsOperator",
         "departure": {
          "airport": {
           "iata": "ORY",
           "icao": "LFPO",
           "name": "Paris"
          },
          "quality": [
           "Basic"
          ],
          "scheduledTime": {
           "local": "2023-10-05 16:00+02:00",
           "utc": "2023-10-05 14:00Z"
          },
          "terminal": "3"
         },
         "isCargo": false,
         "number": "TO 3400",
         "status": "Expected"
        },
        {
         "aircraft": {
          "modeS": "4D236A",
          "model": "Boeing 737-800",
          "reg": "9H-VUT"
         },
         "airline": {
          "iata": "FR",
          "icao": "RYR",
          "name": "Ryanair"
         },
         "arrival": {
          "baggageBelt": "C2",
          "gate": "Z32",
          "quality": [
           "Basic",
           "Live"
          ],
          "revisedTime": {
           "local": "2023-10-05 17:25+02:00",
           "utc": "2023-10-05 15:25Z"
          },
          "scheduledTime": {
           "local": "2023-10-05 17:25+02:00",
           "utc": "2023-10-05 15:25Z"
          },
          "terminal": "2"
         },
         "codeshareStatus": "IsOperator",
         "departure": {
          "airport": {
           "iata": "BGY",
           "icao": "LIME",
           "name": "Bergamo"
          },
          "quality": [
           "Basic"
          ],
          "scheduledTime": {
           "local": "2023-10-05 15:45+02:00",
           "utc": "2023-10-05 13:45Z"
          }
         },
         "isCargo": false,
         "number": "FR 3312",
         "status": "Expected"
        },
        {
         "aircraft": {
          "modeS": "44064A",
          "model": "Airbus A319",
          "reg": "OE-LQL"
         },
         "airline": {
          "iata": "U2",
          "icao": "EZY",
          "name": "easyJet"
         },
         "arrival": {
          "baggageBelt": "A3",
          "gate": "A31",
          "quality": [
           "Basic",
           "Live"
          ],
          "revisedTime": {
           "local": "2023-10-05 17:55+02:00",
           "utc": "2023-10-05 15:55Z"
          },
          "scheduledTime": {
           "local": "2023-10-05 17:55+02:00",
           "utc": "2023-10-05 15:55Z"
          },
          "terminal": "1"
         },
         "codeshareStatus": "IsOperator",
         "departure": {
          "airport": {
           "iata": "OLB",
           "icao": "LIEO",
           "name": "Olbia"
          },
          "quality": [
           "Basic"
          ],
          "scheduledTime": {
           "local": "2023-10-05 15:35+02:00",
           "utc": "2023-10-05 13:35Z"
          }
         },
         "isCargo": false,
         "number": "U2 5056",
         "status": "Expected"
        },
        {
         "aircraft": {
          "modeS": "4409C0",
          "model": "Airbus A320",
          "reg": "OE-IVA"
         },
         "airline": {
          "iata": "U2",
          "icao": "EZY",
          "name": "easyJet"
         },
         "arrival": {
          "baggageBelt": "A3",
          "gate": "A17",
          "quality": [
           "Basic",
           "Live"
          ],
          "revisedTime": {
           "local": "2023-10-05 17:35+02:00",
           "utc": "2023-10-05 15:35Z"
          },
          "scheduledTime": {
           "local": "2023-10-05 17:35+02:00",
           "utc": "2023-10-05 15:35Z"
          },
          "terminal": "1"
         },
         "codeshareStatus": "IsOperator",
         "departure": {
          "airport": {
           "iata": "FAO",
           "icao": "LPFR",
           "name": "Faro"
          },
          "quality": [
           "Basic",
           "Live"
          ],
          "revisedTime": {
           "local": "2023-10-05 13:09+01:00",
           "utc": "2023-10-05 12:09Z"
          },
          "scheduledTime": {
           "local": "2023-10-05 12:50+01:00",
           "utc": "2023-10-05 11:50Z"
          },
          "terminal": "1"
         },
         "isCargo": false,
         "number": "U2 7543",
         "status": "Expected"
        },
        {
         "aircraft": {
          "modeS": "440185",
          "model": "Airbus A320",
          "reg": "OE-IJI"
         },
         "airline": {
          "iata": "U2",
          "icao": "EZY",
          "name": "easyJet"
         },
         "arrival": {
          "baggageBelt": "B1",
          "gate": "B02",
          "quality": [
           "Basic",
           "Live"
          ],
          "revisedTime": {
           "local": "2023-10-05 17:30+02:00",
           "utc": "2023-10-05 15:30Z"
          },
          "scheduledTime": {
           "local": "2023-10-05 17:30+02:00",
           "utc": "2023-10-05 15:30Z"
          },
          "terminal": "1"
         },
         "codeshareStatus": "IsOperator",
         "departure": {
          "airport": {
           "iata": "ZRH",
           "icao": "LSZH",
           "name": "Zurich"
          },
          "checkInDesk": "3",
          "quality": [
           "Basic",
           "Live"
          ],
          "revisedTime": {
           "local": "2023-10-05 15:55+02:00",
           "utc": "2023-10-05 13:55Z"
          },
          "scheduledTime": {
           "local": "2023-10-05 15:55+02:00",
           "utc": "2023-10-05 13:55Z"
          }
         },
         "isCargo": false,
         "number": "U2 5188",
         "status": "Expected"
        }
       ]
      },
      "text/plain": [
       "<IPython.core.display.JSON object>"
      ]
     },
     "execution_count": 106,
     "metadata": {
      "application/json": {
       "expanded": false,
       "root": "root"
      }
     },
     "output_type": "execute_result"
    }
   ],
   "source": [
    "JSON(flight_test_json)"
   ]
  },
  {
   "cell_type": "code",
   "execution_count": 109,
   "id": "b622dbd4-0706-4320-b354-cb0400574f38",
   "metadata": {
    "tags": []
   },
   "outputs": [
    {
     "data": {
      "text/plain": [
       "'Paris'"
      ]
     },
     "execution_count": 109,
     "metadata": {},
     "output_type": "execute_result"
    }
   ],
   "source": [
    "flight_test_json['arrivals'][0]['departure']['airport']['name']"
   ]
  },
  {
   "cell_type": "code",
   "execution_count": 1,
   "id": "3658cddd-52c3-4612-9c07-b4f3a4622048",
   "metadata": {
    "tags": []
   },
   "outputs": [],
   "source": [
    "# Flights funtion"
   ]
  },
  {
   "cell_type": "code",
   "execution_count": 122,
   "id": "7659ec7f-03af-4470-a4f8-81a0a13f015a",
   "metadata": {
    "tags": []
   },
   "outputs": [],
   "source": [
    "from datetime import datetime, timedelta\n",
    "from pytz import timezone\n",
    "import requests\n",
    "from IPython.display import JSON\n",
    "import json\n",
    "\n",
    "# Settings\n",
    "\n",
    "today = datetime.now().astimezone(timezone('Europe/Berlin')).date()\n",
    "tomorrow = today + timedelta(days=1)\n",
    "times = [[\"00:00\", \"11:59\"], [\"12:00\", \"23:59\"]]\n",
    "\n",
    "\n",
    "# my empty flights table\n",
    "\n",
    "flights_df = {\n",
    "    'icao_id': [],\n",
    "    'arrival_terminal': [],\n",
    "    'arrival_local_time': [],\n",
    "    'arrival_from_where': [],\n",
    "    'flight_number': [],\n",
    "    'flight_status': [],\n",
    "    'airplane_model': [],\n",
    "    'airline_name': [],\n",
    "    'depart_icao': []\n",
    "}\n",
    "\n",
    "# api call settings\n",
    "\n",
    "headers = {\n",
    "    #\"X-RapidAPI-Key\": \" the key \",\n",
    "    \"X-RapidAPI-Host\": \"aerodatabox.p.rapidapi.com\"\n",
    "}\n",
    "querystring = {\n",
    "    \"withLeg\": True,\n",
    "    \"direction\": \"Arrival\",\n",
    "    \"withCancelled\": False,\n",
    "    \"withCodeshared\": False,\n",
    "    \"withCargo\": False,\n",
    "    \"withPrivate\": True,\n",
    "    \"withLocation\": False\n",
    "}\n",
    "\n",
    "# Funtions to call the flights from the list of airporst \"icaos's\"\n",
    "\n",
    "# (1) search in the api\n",
    "\n",
    "def fetch_flights(icao, time_range):\n",
    "    url = f\"https://aerodatabox.p.rapidapi.com/flights/airports/icao/{icao}/{tomorrow}T{time_range[0]}/{tomorrow}T{time_range[1]}\"\n",
    "    try:\n",
    "        response = requests.request(\"GET\", url, headers=headers, params=querystring)\n",
    "        response.raise_for_status()\n",
    "        return response.json()\n",
    "    except requests.RequestException as e:\n",
    "        print(f\"Error fetching data for ICAO: {icao} at time range: {time_range}. Error: {e}\")\n",
    "        return None\n",
    "\n",
    "# (2) to .append and include the infor in my empty table \n",
    "\n",
    "def extract_flight_data(flights, icao):\n",
    "    for flight in flights.get('arrivals', []):\n",
    "        flights_df['icao_id'].append(icao)\n",
    "        flights_df['arrival_terminal'].append(flight['arrival'].get('terminal'))\n",
    "        scheduled_time = flight['arrival']['scheduledTime'].get('local', None)\n",
    "        revised_time = flight['arrival'].get('revisedTime', {}).get('local', scheduled_time)\n",
    "        flights_df['arrival_local_time'].append(revised_time)\n",
    "        flights_df['arrival_from_where'].append(flight['departure']['airport'].get('name', None))\n",
    "        flights_df[\"flight_number\"].append(flight.get(\"number\", None))\n",
    "        flights_df[\"flight_status\"].append(flight.get(\"status\", None))\n",
    "        aircraft_model = flight.get('aircraft', {}).get('model', None)\n",
    "        flights_df[\"airplane_model\"].append(aircraft_model)\n",
    "        flights_df[\"airline_name\"].append(flight['airline'].get(\"name\", None))\n",
    "        depart_icao = flight['departure']['airport'].get('icao', None)\n",
    "        flights_df[\"depart_icao\"].append(depart_icao)\n",
    "\n",
    "# Main loop to call the ICAO codes from the airport list\n",
    "\n",
    "for icao in airport_list_df[\"icao\"]:\n",
    "    for time_range in times:\n",
    "        flights = fetch_flights(icao, time_range)\n",
    "        if flights:\n",
    "            extract_flight_data(flights, icao)\n",
    "\n",
    "# the dataframe with all the info\n",
    "            \n",
    "flights_df = pd.DataFrame(flights_df)\n",
    "flights_df           "
   ]
  },
  {
   "cell_type": "code",
   "execution_count": 125,
   "id": "5d8095a8-e21d-4964-9439-2a19487ed080",
   "metadata": {
    "tags": []
   },
   "outputs": [
    {
     "data": {
      "text/html": [
       "<div>\n",
       "<style scoped>\n",
       "    .dataframe tbody tr th:only-of-type {\n",
       "        vertical-align: middle;\n",
       "    }\n",
       "\n",
       "    .dataframe tbody tr th {\n",
       "        vertical-align: top;\n",
       "    }\n",
       "\n",
       "    .dataframe thead th {\n",
       "        text-align: right;\n",
       "    }\n",
       "</style>\n",
       "<table border=\"1\" class=\"dataframe\">\n",
       "  <thead>\n",
       "    <tr style=\"text-align: right;\">\n",
       "      <th></th>\n",
       "      <th>icao_id</th>\n",
       "      <th>arrival_terminal</th>\n",
       "      <th>arrival_local_time</th>\n",
       "      <th>arrival_from_where</th>\n",
       "      <th>flight_number</th>\n",
       "      <th>flight_status</th>\n",
       "      <th>airplane_model</th>\n",
       "      <th>airline_name</th>\n",
       "      <th>depart_icao</th>\n",
       "    </tr>\n",
       "  </thead>\n",
       "  <tbody>\n",
       "    <tr>\n",
       "      <th>0</th>\n",
       "      <td>EDDB</td>\n",
       "      <td>1</td>\n",
       "      <td>2023-10-06 05:45+02:00</td>\n",
       "      <td>İzmir</td>\n",
       "      <td>XQ 966</td>\n",
       "      <td>Expected</td>\n",
       "      <td>Boeing 737-700 (winglets)</td>\n",
       "      <td>Sun Express</td>\n",
       "      <td>LTBJ</td>\n",
       "    </tr>\n",
       "    <tr>\n",
       "      <th>1</th>\n",
       "      <td>EDDB</td>\n",
       "      <td>1</td>\n",
       "      <td>2023-10-06 06:45+02:00</td>\n",
       "      <td>Beijing</td>\n",
       "      <td>HU 489</td>\n",
       "      <td>Expected</td>\n",
       "      <td>Airbus A330-300</td>\n",
       "      <td>Hainan</td>\n",
       "      <td>ZBAA</td>\n",
       "    </tr>\n",
       "    <tr>\n",
       "      <th>2</th>\n",
       "      <td>EDDB</td>\n",
       "      <td>2</td>\n",
       "      <td>2023-10-06 06:40+02:00</td>\n",
       "      <td>Varna</td>\n",
       "      <td>W6 4515</td>\n",
       "      <td>Expected</td>\n",
       "      <td>Airbus A320-200</td>\n",
       "      <td>Wizz Air</td>\n",
       "      <td>LBWN</td>\n",
       "    </tr>\n",
       "    <tr>\n",
       "      <th>3</th>\n",
       "      <td>EDDB</td>\n",
       "      <td>1</td>\n",
       "      <td>2023-10-06 07:40+02:00</td>\n",
       "      <td>Riga</td>\n",
       "      <td>BT 211</td>\n",
       "      <td>Expected</td>\n",
       "      <td>Airbus A220-300</td>\n",
       "      <td>airBaltic</td>\n",
       "      <td>EVRA</td>\n",
       "    </tr>\n",
       "    <tr>\n",
       "      <th>4</th>\n",
       "      <td>EDDB</td>\n",
       "      <td>1</td>\n",
       "      <td>2023-10-06 07:05+02:00</td>\n",
       "      <td>New York</td>\n",
       "      <td>DL 92</td>\n",
       "      <td>Expected</td>\n",
       "      <td>Boeing 767-300 (winglets)</td>\n",
       "      <td>Delta Air Lines</td>\n",
       "      <td>KJFK</td>\n",
       "    </tr>\n",
       "    <tr>\n",
       "      <th>...</th>\n",
       "      <td>...</td>\n",
       "      <td>...</td>\n",
       "      <td>...</td>\n",
       "      <td>...</td>\n",
       "      <td>...</td>\n",
       "      <td>...</td>\n",
       "      <td>...</td>\n",
       "      <td>...</td>\n",
       "      <td>...</td>\n",
       "    </tr>\n",
       "    <tr>\n",
       "      <th>2045</th>\n",
       "      <td>EDDF</td>\n",
       "      <td>1</td>\n",
       "      <td>2023-10-06 22:05+02:00</td>\n",
       "      <td>London</td>\n",
       "      <td>LH 919</td>\n",
       "      <td>Expected</td>\n",
       "      <td>Airbus A321 (Sharklets)</td>\n",
       "      <td>Lufthansa</td>\n",
       "      <td>EGLL</td>\n",
       "    </tr>\n",
       "    <tr>\n",
       "      <th>2046</th>\n",
       "      <td>EDDF</td>\n",
       "      <td>1</td>\n",
       "      <td>2023-10-06 22:40+02:00</td>\n",
       "      <td>Warsaw</td>\n",
       "      <td>LO 383</td>\n",
       "      <td>Expected</td>\n",
       "      <td>Embraer 175</td>\n",
       "      <td>LOT - Polish</td>\n",
       "      <td>EPWA</td>\n",
       "    </tr>\n",
       "    <tr>\n",
       "      <th>2047</th>\n",
       "      <td>EDDF</td>\n",
       "      <td>1</td>\n",
       "      <td>2023-10-06 22:20+02:00</td>\n",
       "      <td>Lisbon</td>\n",
       "      <td>TP 572</td>\n",
       "      <td>Expected</td>\n",
       "      <td>Airbus A321</td>\n",
       "      <td>TAP Air Portugal</td>\n",
       "      <td>LPPT</td>\n",
       "    </tr>\n",
       "    <tr>\n",
       "      <th>2048</th>\n",
       "      <td>EDDF</td>\n",
       "      <td>2</td>\n",
       "      <td>2023-10-06 22:35+02:00</td>\n",
       "      <td>Fuerteventura Island</td>\n",
       "      <td>X3 2139</td>\n",
       "      <td>Expected</td>\n",
       "      <td>Boeing 737-800</td>\n",
       "      <td>TUIfly</td>\n",
       "      <td>GCFV</td>\n",
       "    </tr>\n",
       "    <tr>\n",
       "      <th>2049</th>\n",
       "      <td>EDDF</td>\n",
       "      <td>2</td>\n",
       "      <td>2023-10-06 22:30+02:00</td>\n",
       "      <td>Gran Canaria Island</td>\n",
       "      <td>X3 2259</td>\n",
       "      <td>Expected</td>\n",
       "      <td>Boeing 737 MAX 8</td>\n",
       "      <td>TUIfly</td>\n",
       "      <td>GCLP</td>\n",
       "    </tr>\n",
       "  </tbody>\n",
       "</table>\n",
       "<p>2050 rows × 9 columns</p>\n",
       "</div>"
      ],
      "text/plain": [
       "     icao_id arrival_terminal      arrival_local_time    arrival_from_where  \\\n",
       "0       EDDB                1  2023-10-06 05:45+02:00                 İzmir   \n",
       "1       EDDB                1  2023-10-06 06:45+02:00               Beijing   \n",
       "2       EDDB                2  2023-10-06 06:40+02:00                 Varna   \n",
       "3       EDDB                1  2023-10-06 07:40+02:00                  Riga   \n",
       "4       EDDB                1  2023-10-06 07:05+02:00              New York   \n",
       "...      ...              ...                     ...                   ...   \n",
       "2045    EDDF                1  2023-10-06 22:05+02:00                London   \n",
       "2046    EDDF                1  2023-10-06 22:40+02:00                Warsaw   \n",
       "2047    EDDF                1  2023-10-06 22:20+02:00                Lisbon   \n",
       "2048    EDDF                2  2023-10-06 22:35+02:00  Fuerteventura Island   \n",
       "2049    EDDF                2  2023-10-06 22:30+02:00   Gran Canaria Island   \n",
       "\n",
       "     flight_number flight_status             airplane_model      airline_name  \\\n",
       "0           XQ 966      Expected  Boeing 737-700 (winglets)       Sun Express   \n",
       "1           HU 489      Expected            Airbus A330-300            Hainan   \n",
       "2          W6 4515      Expected            Airbus A320-200          Wizz Air   \n",
       "3           BT 211      Expected            Airbus A220-300         airBaltic   \n",
       "4            DL 92      Expected  Boeing 767-300 (winglets)   Delta Air Lines   \n",
       "...            ...           ...                        ...               ...   \n",
       "2045        LH 919      Expected    Airbus A321 (Sharklets)         Lufthansa   \n",
       "2046        LO 383      Expected                Embraer 175      LOT - Polish   \n",
       "2047        TP 572      Expected                Airbus A321  TAP Air Portugal   \n",
       "2048       X3 2139      Expected             Boeing 737-800            TUIfly   \n",
       "2049       X3 2259      Expected           Boeing 737 MAX 8            TUIfly   \n",
       "\n",
       "     depart_icao  \n",
       "0           LTBJ  \n",
       "1           ZBAA  \n",
       "2           LBWN  \n",
       "3           EVRA  \n",
       "4           KJFK  \n",
       "...          ...  \n",
       "2045        EGLL  \n",
       "2046        EPWA  \n",
       "2047        LPPT  \n",
       "2048        GCFV  \n",
       "2049        GCLP  \n",
       "\n",
       "[2050 rows x 9 columns]"
      ]
     },
     "execution_count": 125,
     "metadata": {},
     "output_type": "execute_result"
    }
   ],
   "source": [
    "flights_df = pd.DataFrame(flights_df)\n",
    "flights_df"
   ]
  },
  {
   "cell_type": "code",
   "execution_count": 150,
   "id": "4f3ef680-e8e8-4138-897d-06b558cbe682",
   "metadata": {
    "tags": []
   },
   "outputs": [],
   "source": [
    "flights_df.to_csv(\"flights_df.csv\", index=False)"
   ]
  },
  {
   "cell_type": "code",
   "execution_count": null,
   "id": "b926d6a5-7fe6-412c-8ffd-5f5cd0f80baf",
   "metadata": {},
   "outputs": [],
   "source": [
    "from datetime import datetime, timedelta\n",
    "from pytz import timezone\n",
    "import requests\n",
    "from IPython.display import JSON\n",
    "import json\n",
    "\n",
    "# Setting up the thingis for the url (from monika's notebook)\n",
    "\n",
    "# current date in Berlin's timezone (from monika's notebook)\n",
    "today = datetime.now().astimezone(timezone('Europe/Berlin')).date()\n",
    "# Calculate tomorrow's date (from monika's notebook)\n",
    "tomorrow = today + timedelta(days=1)\n",
    "# Define the time intervals for fetching flight details (from monika's notebook)\n",
    "times = [[\"00:00\", \"11:59\"], [\"12:00\", \"23:59\"]]\n",
    "\n",
    "# empty table to store the flights info\n",
    "flights_df = {\n",
    "    'icao_id': [],\n",
    "    'arrival_terminal': [],\n",
    "    'arrival_local_time': [],\n",
    "    'arrival_from_where': [],\n",
    "    'flight_number': [],\n",
    "    'flight_status': [],\n",
    "    'airplane_model': [],\n",
    "    'airline_name': [],\n",
    "    'depart_icao': []\n",
    "}\n",
    "\n",
    "# API headers and parameters\n",
    "\n",
    "headers = {\n",
    "    #\"X-RapidAPI-Key\": \" the key \",\n",
    "    \"X-RapidAPI-Host\": \"aerodatabox.p.rapidapi.com\"\n",
    "}\n",
    "querystring = {\n",
    "    \"withLeg\": True,\n",
    "    \"direction\": \"Arrival\",\n",
    "    \"withCancelled\": False,\n",
    "    \"withCodeshared\": False,\n",
    "    \"withCargo\": False,\n",
    "    \"withPrivate\": True,\n",
    "    \"withLocation\": False\n",
    "}\n",
    "\n",
    "# Function to fetch/search flight details from the API based on ICAO's and time range\n",
    "def fetch_flights(icao, time_range):\n",
    "    \n",
    "    #url = f\"https://aerodatabox.p.rapidapi.com/flights/airports/icao/{icao}/{tomorrow}T{time_range[0]}/{tomorrow}T{time_range[1]}\"\n",
    "    try:\n",
    "        # the .GET request to the API\n",
    "        response = requests.request(\"GET\", url, headers=headers, params=querystring)\n",
    "        # \"calling\" a description of the error (if any) for HTTP errors if not <200>\n",
    "        response.raise_for_status()\n",
    "        # convert to JSON the response from the API \n",
    "        return response.json()\n",
    "    except requests.RequestException as e:\n",
    "        # Print error details if any (here I pray)\n",
    "        print(f\"Error fetching data for ICAO: {icao} at time range: {time_range}. Error: {e}\")\n",
    "        return None\n",
    "\n",
    "# Function to extract the details I want from the flights data from the api\n",
    "\n",
    "def extract_flight_data(flights, icao):\n",
    "    for flight in flights.get('arrivals', []):\n",
    "        flights_df['icao_id'].append(icao)\n",
    "        flights_df['arrival_terminal'].append(flight['arrival'].get('terminal'))\n",
    "        scheduled_time = flight['arrival']['scheduledTime'].get('local', None)\n",
    "        revised_time = flight['arrival'].get('revisedTime', {}).get('local', scheduled_time)\n",
    "        flights_df['arrival_local_time'].append(revised_time)\n",
    "        flights_df['arrival_from_where'].append(flight['departure']['airport'].get('name', None))\n",
    "        flights_df[\"flight_number\"].append(flight.get(\"number\", None))\n",
    "        flights_df[\"flight_status\"].append(flight.get(\"status\", None))\n",
    "        aircraft_model = flight.get('aircraft', {}).get('model', None)\n",
    "        flights_df[\"airplane_model\"].append(aircraft_model)\n",
    "        flights_df[\"airline_name\"].append(flight['airline'].get(\"name\", None))\n",
    "        depart_icao = flight['departure']['airport'].get('icao', None)\n",
    "        flights_df[\"depart_icao\"].append(depart_icao)\n",
    "\n",
    "# Loop over each ICAO code in my airport list and look for the flight details for each time range\n",
    "\n",
    "for icao in airport_list_df[\"icao\"]:\n",
    "    for time_range in times:\n",
    "        flights = fetch_flights(icao, time_range)\n",
    "        if flights:\n",
    "            extract_flight_data(flights, icao)\n",
    "\n",
    "# Convert the flight details structure into DataFrame (here I pray too)\n",
    "\n",
    "flights_df = pd.DataFrame(flights_df)\n",
    "flights_df\n"
   ]
  },
  {
   "cell_type": "code",
   "execution_count": 138,
   "id": "ab7442f6-000c-4978-97cf-f6b27e4e8aca",
   "metadata": {
    "tags": []
   },
   "outputs": [
    {
     "name": "stdout",
     "output_type": "stream",
     "text": [
      "<class 'pandas.core.frame.DataFrame'>\n",
      "RangeIndex: 2050 entries, 0 to 2049\n",
      "Data columns (total 9 columns):\n",
      " #   Column              Non-Null Count  Dtype                                \n",
      "---  ------              --------------  -----                                \n",
      " 0   icao_id             2050 non-null   object                               \n",
      " 1   arrival_terminal    1982 non-null   object                               \n",
      " 2   arrival_local_time  2050 non-null   datetime64[ns, pytz.FixedOffset(120)]\n",
      " 3   arrival_from_where  2050 non-null   object                               \n",
      " 4   flight_number       2050 non-null   object                               \n",
      " 5   flight_status       2050 non-null   object                               \n",
      " 6   airplane_model      2039 non-null   object                               \n",
      " 7   airline_name        2050 non-null   object                               \n",
      " 8   depart_icao         2041 non-null   object                               \n",
      "dtypes: datetime64[ns, pytz.FixedOffset(120)](1), object(8)\n",
      "memory usage: 144.3+ KB\n"
     ]
    }
   ],
   "source": [
    "flights_df.info()"
   ]
  },
  {
   "cell_type": "code",
   "execution_count": 134,
   "id": "bcdbe3f0-5074-47c1-9809-ec362261d702",
   "metadata": {
    "tags": []
   },
   "outputs": [],
   "source": [
    "flights_df['arrival_local_time'] = pd.to_datetime(flights_df['arrival_local_time'])"
   ]
  },
  {
   "cell_type": "code",
   "execution_count": 139,
   "id": "7daf2cc6-151f-4fbd-b802-509b4f13ebfa",
   "metadata": {
    "tags": []
   },
   "outputs": [],
   "source": [
    "flights_df = flights_df.replace(' ', pd.NA)"
   ]
  },
  {
   "cell_type": "code",
   "execution_count": 141,
   "id": "96d2647c-1e61-49ca-9583-5fe0c29c628f",
   "metadata": {
    "tags": []
   },
   "outputs": [
    {
     "data": {
      "text/plain": [
       "2050"
      ]
     },
     "execution_count": 141,
     "metadata": {},
     "output_type": "execute_result"
    }
   ],
   "source": [
    "len(flights_df)"
   ]
  },
  {
   "cell_type": "code",
   "execution_count": 145,
   "id": "9b7f91f9-774a-49dd-bd14-22d9b9aadfd4",
   "metadata": {
    "tags": []
   },
   "outputs": [],
   "source": [
    "filtered_df = flights_df[flights_df['depart_icao'].isna()]"
   ]
  },
  {
   "cell_type": "code",
   "execution_count": 143,
   "id": "41681a66-2577-4756-949f-0078baa3e8a8",
   "metadata": {
    "tags": []
   },
   "outputs": [
    {
     "data": {
      "text/html": [
       "<div>\n",
       "<style scoped>\n",
       "    .dataframe tbody tr th:only-of-type {\n",
       "        vertical-align: middle;\n",
       "    }\n",
       "\n",
       "    .dataframe tbody tr th {\n",
       "        vertical-align: top;\n",
       "    }\n",
       "\n",
       "    .dataframe thead th {\n",
       "        text-align: right;\n",
       "    }\n",
       "</style>\n",
       "<table border=\"1\" class=\"dataframe\">\n",
       "  <thead>\n",
       "    <tr style=\"text-align: right;\">\n",
       "      <th></th>\n",
       "      <th>icao_id</th>\n",
       "      <th>arrival_terminal</th>\n",
       "      <th>arrival_local_time</th>\n",
       "      <th>arrival_from_where</th>\n",
       "      <th>flight_number</th>\n",
       "      <th>flight_status</th>\n",
       "      <th>airplane_model</th>\n",
       "      <th>airline_name</th>\n",
       "      <th>depart_icao</th>\n",
       "    </tr>\n",
       "  </thead>\n",
       "  <tbody>\n",
       "    <tr>\n",
       "      <th>332</th>\n",
       "      <td>EDDH</td>\n",
       "      <td>None</td>\n",
       "      <td>2023-10-06 11:40:00+02:00</td>\n",
       "      <td>Tabriz</td>\n",
       "      <td>QB 2103</td>\n",
       "      <td>Unknown</td>\n",
       "      <td>Airbus A319</td>\n",
       "      <td>Qeshm Air</td>\n",
       "      <td>OITT</td>\n",
       "    </tr>\n",
       "    <tr>\n",
       "      <th>468</th>\n",
       "      <td>EDDW</td>\n",
       "      <td>None</td>\n",
       "      <td>2023-10-06 09:40:00+02:00</td>\n",
       "      <td>Amsterdam</td>\n",
       "      <td>KL 1753</td>\n",
       "      <td>Expected</td>\n",
       "      <td>Embraer 175</td>\n",
       "      <td>KLM</td>\n",
       "      <td>EHAM</td>\n",
       "    </tr>\n",
       "    <tr>\n",
       "      <th>469</th>\n",
       "      <td>EDDW</td>\n",
       "      <td>None</td>\n",
       "      <td>2023-10-06 09:35:00+02:00</td>\n",
       "      <td>Istanbul</td>\n",
       "      <td>TK 1331</td>\n",
       "      <td>Expected</td>\n",
       "      <td>Airbus A321</td>\n",
       "      <td>Turkish</td>\n",
       "      <td>LTFM</td>\n",
       "    </tr>\n",
       "    <tr>\n",
       "      <th>470</th>\n",
       "      <td>EDDW</td>\n",
       "      <td>None</td>\n",
       "      <td>2023-10-06 07:45:00+02:00</td>\n",
       "      <td>Frankfurt-am-Main</td>\n",
       "      <td>LH 350</td>\n",
       "      <td>Expected</td>\n",
       "      <td>Bombardier CRJ900</td>\n",
       "      <td>Lufthansa</td>\n",
       "      <td>EDDF</td>\n",
       "    </tr>\n",
       "    <tr>\n",
       "      <th>471</th>\n",
       "      <td>EDDW</td>\n",
       "      <td>None</td>\n",
       "      <td>2023-10-06 10:10:00+02:00</td>\n",
       "      <td>Antalya</td>\n",
       "      <td>XQ 218</td>\n",
       "      <td>Unknown</td>\n",
       "      <td>Boeing 737-800</td>\n",
       "      <td>Sun Express</td>\n",
       "      <td>LTAI</td>\n",
       "    </tr>\n",
       "    <tr>\n",
       "      <th>...</th>\n",
       "      <td>...</td>\n",
       "      <td>...</td>\n",
       "      <td>...</td>\n",
       "      <td>...</td>\n",
       "      <td>...</td>\n",
       "      <td>...</td>\n",
       "      <td>...</td>\n",
       "      <td>...</td>\n",
       "      <td>...</td>\n",
       "    </tr>\n",
       "    <tr>\n",
       "      <th>1404</th>\n",
       "      <td>EDLV</td>\n",
       "      <td>None</td>\n",
       "      <td>2023-10-06 20:10:00+02:00</td>\n",
       "      <td>Ibiza Town</td>\n",
       "      <td>FR 6419</td>\n",
       "      <td>Expected</td>\n",
       "      <td>Boeing 737-800</td>\n",
       "      <td>Ryanair</td>\n",
       "      <td>LEIB</td>\n",
       "    </tr>\n",
       "    <tr>\n",
       "      <th>1405</th>\n",
       "      <td>EDLV</td>\n",
       "      <td>None</td>\n",
       "      <td>2023-10-06 20:55:00+02:00</td>\n",
       "      <td>Palma De Mallorca</td>\n",
       "      <td>FR 9496</td>\n",
       "      <td>Expected</td>\n",
       "      <td>Boeing 737</td>\n",
       "      <td>Ryanair</td>\n",
       "      <td>LEPA</td>\n",
       "    </tr>\n",
       "    <tr>\n",
       "      <th>1406</th>\n",
       "      <td>EDLV</td>\n",
       "      <td>None</td>\n",
       "      <td>2023-10-06 22:50:00+02:00</td>\n",
       "      <td>Bari</td>\n",
       "      <td>FR 7525</td>\n",
       "      <td>Unknown</td>\n",
       "      <td>Boeing 737-800</td>\n",
       "      <td>Ryanair</td>\n",
       "      <td>LIBD</td>\n",
       "    </tr>\n",
       "    <tr>\n",
       "      <th>1407</th>\n",
       "      <td>EDLV</td>\n",
       "      <td>None</td>\n",
       "      <td>2023-10-06 22:40:00+02:00</td>\n",
       "      <td>Girona</td>\n",
       "      <td>FR 8474</td>\n",
       "      <td>Expected</td>\n",
       "      <td>Boeing 737-800</td>\n",
       "      <td>Ryanair</td>\n",
       "      <td>LEGE</td>\n",
       "    </tr>\n",
       "    <tr>\n",
       "      <th>1408</th>\n",
       "      <td>EDLV</td>\n",
       "      <td>None</td>\n",
       "      <td>2023-10-06 22:05:00+02:00</td>\n",
       "      <td>Málaga</td>\n",
       "      <td>FR 8613</td>\n",
       "      <td>Expected</td>\n",
       "      <td>Boeing 737</td>\n",
       "      <td>Ryanair</td>\n",
       "      <td>LEMG</td>\n",
       "    </tr>\n",
       "  </tbody>\n",
       "</table>\n",
       "<p>68 rows × 9 columns</p>\n",
       "</div>"
      ],
      "text/plain": [
       "     icao_id arrival_terminal        arrival_local_time arrival_from_where  \\\n",
       "332     EDDH             None 2023-10-06 11:40:00+02:00             Tabriz   \n",
       "468     EDDW             None 2023-10-06 09:40:00+02:00          Amsterdam   \n",
       "469     EDDW             None 2023-10-06 09:35:00+02:00           Istanbul   \n",
       "470     EDDW             None 2023-10-06 07:45:00+02:00  Frankfurt-am-Main   \n",
       "471     EDDW             None 2023-10-06 10:10:00+02:00            Antalya   \n",
       "...      ...              ...                       ...                ...   \n",
       "1404    EDLV             None 2023-10-06 20:10:00+02:00         Ibiza Town   \n",
       "1405    EDLV             None 2023-10-06 20:55:00+02:00  Palma De Mallorca   \n",
       "1406    EDLV             None 2023-10-06 22:50:00+02:00               Bari   \n",
       "1407    EDLV             None 2023-10-06 22:40:00+02:00             Girona   \n",
       "1408    EDLV             None 2023-10-06 22:05:00+02:00             Málaga   \n",
       "\n",
       "     flight_number flight_status     airplane_model airline_name depart_icao  \n",
       "332        QB 2103       Unknown        Airbus A319    Qeshm Air        OITT  \n",
       "468        KL 1753      Expected        Embraer 175          KLM        EHAM  \n",
       "469        TK 1331      Expected        Airbus A321      Turkish        LTFM  \n",
       "470         LH 350      Expected  Bombardier CRJ900    Lufthansa        EDDF  \n",
       "471         XQ 218       Unknown     Boeing 737-800  Sun Express        LTAI  \n",
       "...            ...           ...                ...          ...         ...  \n",
       "1404       FR 6419      Expected     Boeing 737-800      Ryanair        LEIB  \n",
       "1405       FR 9496      Expected         Boeing 737      Ryanair        LEPA  \n",
       "1406       FR 7525       Unknown     Boeing 737-800      Ryanair        LIBD  \n",
       "1407       FR 8474      Expected     Boeing 737-800      Ryanair        LEGE  \n",
       "1408       FR 8613      Expected         Boeing 737      Ryanair        LEMG  \n",
       "\n",
       "[68 rows x 9 columns]"
      ]
     },
     "execution_count": 143,
     "metadata": {},
     "output_type": "execute_result"
    }
   ],
   "source": [
    "#there are flights with \"none\" in arrival_terminal because the status is yet to be known, so no terminal has been assigned 68 rows"
   ]
  },
  {
   "cell_type": "code",
   "execution_count": 147,
   "id": "8e4bcb48-1c20-4674-a6dd-8de8b95fd0f3",
   "metadata": {
    "tags": []
   },
   "outputs": [
    {
     "data": {
      "text/plain": [
       "9"
      ]
     },
     "execution_count": 147,
     "metadata": {},
     "output_type": "execute_result"
    }
   ],
   "source": [
    "len(filtered_df) #depart airport info non available fo this 9 flights - search for them jess"
   ]
  }
 ],
 "metadata": {
  "kernelspec": {
   "display_name": "Python 3 (ipykernel)",
   "language": "python",
   "name": "python3"
  },
  "language_info": {
   "codemirror_mode": {
    "name": "ipython",
    "version": 3
   },
   "file_extension": ".py",
   "mimetype": "text/x-python",
   "name": "python",
   "nbconvert_exporter": "python",
   "pygments_lexer": "ipython3",
   "version": "3.11.4"
  }
 },
 "nbformat": 4,
 "nbformat_minor": 5
}
